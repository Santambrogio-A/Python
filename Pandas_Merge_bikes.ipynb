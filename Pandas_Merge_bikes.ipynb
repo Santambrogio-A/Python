{
  "nbformat": 4,
  "nbformat_minor": 0,
  "metadata": {
    "colab": {
      "name": "Pandas/ Merge bikes.ipynb",
      "provenance": []
    },
    "kernelspec": {
      "name": "python3",
      "display_name": "Python 3"
    },
    "language_info": {
      "name": "python"
    }
  },
  "cells": [
    {
      "cell_type": "code",
      "execution_count": 1,
      "metadata": {
        "colab": {
          "base_uri": "https://localhost:8080/"
        },
        "id": "SLYYmVxEvH4T",
        "outputId": "0efc19ee-b02c-4e11-e988-291dea649211"
      },
      "outputs": [
        {
          "output_type": "stream",
          "name": "stdout",
          "text": [
            "Requirement already satisfied: xlrd in /usr/local/lib/python3.7/dist-packages (1.1.0)\n"
          ]
        }
      ],
      "source": [
        "pip install xlrd"
      ]
    },
    {
      "cell_type": "code",
      "source": [
        "import pandas as pd\n",
        "import matplotlib.pyplot as plt\n",
        "import numpy as np"
      ],
      "metadata": {
        "id": "i_F-uB1OvPIA"
      },
      "execution_count": 2,
      "outputs": []
    },
    {
      "cell_type": "code",
      "source": [
        "dfCategories = pd.read_excel(\"https://github.com/wtitze/4E/blob/main/BikeStores.xls?raw=true\", sheet_name=\"categories\")\n",
        "dfCategories"
      ],
      "metadata": {
        "colab": {
          "base_uri": "https://localhost:8080/",
          "height": 269
        },
        "id": "f1lx73S6vSJH",
        "outputId": "962a092d-44c7-44bd-edd3-512e64f8d7b4"
      },
      "execution_count": 3,
      "outputs": [
        {
          "output_type": "execute_result",
          "data": {
            "text/html": [
              "<div>\n",
              "<style scoped>\n",
              "    .dataframe tbody tr th:only-of-type {\n",
              "        vertical-align: middle;\n",
              "    }\n",
              "\n",
              "    .dataframe tbody tr th {\n",
              "        vertical-align: top;\n",
              "    }\n",
              "\n",
              "    .dataframe thead th {\n",
              "        text-align: right;\n",
              "    }\n",
              "</style>\n",
              "<table border=\"1\" class=\"dataframe\">\n",
              "  <thead>\n",
              "    <tr style=\"text-align: right;\">\n",
              "      <th></th>\n",
              "      <th>category_id</th>\n",
              "      <th>category_name</th>\n",
              "    </tr>\n",
              "  </thead>\n",
              "  <tbody>\n",
              "    <tr>\n",
              "      <th>0</th>\n",
              "      <td>1</td>\n",
              "      <td>Children Bicycles</td>\n",
              "    </tr>\n",
              "    <tr>\n",
              "      <th>1</th>\n",
              "      <td>2</td>\n",
              "      <td>Comfort Bicycles</td>\n",
              "    </tr>\n",
              "    <tr>\n",
              "      <th>2</th>\n",
              "      <td>3</td>\n",
              "      <td>Cruisers Bicycles</td>\n",
              "    </tr>\n",
              "    <tr>\n",
              "      <th>3</th>\n",
              "      <td>4</td>\n",
              "      <td>Cyclocross Bicycles</td>\n",
              "    </tr>\n",
              "    <tr>\n",
              "      <th>4</th>\n",
              "      <td>5</td>\n",
              "      <td>Electric Bikes</td>\n",
              "    </tr>\n",
              "    <tr>\n",
              "      <th>5</th>\n",
              "      <td>6</td>\n",
              "      <td>Mountain Bikes</td>\n",
              "    </tr>\n",
              "    <tr>\n",
              "      <th>6</th>\n",
              "      <td>7</td>\n",
              "      <td>Road Bikes</td>\n",
              "    </tr>\n",
              "  </tbody>\n",
              "</table>\n",
              "</div>"
            ],
            "text/plain": [
              "   category_id        category_name\n",
              "0            1    Children Bicycles\n",
              "1            2     Comfort Bicycles\n",
              "2            3    Cruisers Bicycles\n",
              "3            4  Cyclocross Bicycles\n",
              "4            5       Electric Bikes\n",
              "5            6       Mountain Bikes\n",
              "6            7           Road Bikes"
            ]
          },
          "metadata": {},
          "execution_count": 3
        }
      ]
    },
    {
      "cell_type": "code",
      "source": [
        "dfBrands = pd.read_excel(\"https://github.com/wtitze/4E/blob/main/BikeStores.xls?raw=true\", sheet_name=\"brands\")\n",
        "dfBrands"
      ],
      "metadata": {
        "colab": {
          "base_uri": "https://localhost:8080/",
          "height": 332
        },
        "id": "RhQRGqnMvV8A",
        "outputId": "55897907-110c-42fb-bd35-c995520c7cf3"
      },
      "execution_count": 4,
      "outputs": [
        {
          "output_type": "execute_result",
          "data": {
            "text/html": [
              "<div>\n",
              "<style scoped>\n",
              "    .dataframe tbody tr th:only-of-type {\n",
              "        vertical-align: middle;\n",
              "    }\n",
              "\n",
              "    .dataframe tbody tr th {\n",
              "        vertical-align: top;\n",
              "    }\n",
              "\n",
              "    .dataframe thead th {\n",
              "        text-align: right;\n",
              "    }\n",
              "</style>\n",
              "<table border=\"1\" class=\"dataframe\">\n",
              "  <thead>\n",
              "    <tr style=\"text-align: right;\">\n",
              "      <th></th>\n",
              "      <th>brand_id</th>\n",
              "      <th>brand_name</th>\n",
              "    </tr>\n",
              "  </thead>\n",
              "  <tbody>\n",
              "    <tr>\n",
              "      <th>0</th>\n",
              "      <td>1</td>\n",
              "      <td>Electra</td>\n",
              "    </tr>\n",
              "    <tr>\n",
              "      <th>1</th>\n",
              "      <td>2</td>\n",
              "      <td>Haro</td>\n",
              "    </tr>\n",
              "    <tr>\n",
              "      <th>2</th>\n",
              "      <td>3</td>\n",
              "      <td>Heller</td>\n",
              "    </tr>\n",
              "    <tr>\n",
              "      <th>3</th>\n",
              "      <td>4</td>\n",
              "      <td>Pure Cycles</td>\n",
              "    </tr>\n",
              "    <tr>\n",
              "      <th>4</th>\n",
              "      <td>5</td>\n",
              "      <td>Ritchey</td>\n",
              "    </tr>\n",
              "    <tr>\n",
              "      <th>5</th>\n",
              "      <td>6</td>\n",
              "      <td>Strider</td>\n",
              "    </tr>\n",
              "    <tr>\n",
              "      <th>6</th>\n",
              "      <td>7</td>\n",
              "      <td>Sun Bicycles</td>\n",
              "    </tr>\n",
              "    <tr>\n",
              "      <th>7</th>\n",
              "      <td>8</td>\n",
              "      <td>Surly</td>\n",
              "    </tr>\n",
              "    <tr>\n",
              "      <th>8</th>\n",
              "      <td>9</td>\n",
              "      <td>Trek</td>\n",
              "    </tr>\n",
              "  </tbody>\n",
              "</table>\n",
              "</div>"
            ],
            "text/plain": [
              "   brand_id    brand_name\n",
              "0         1       Electra\n",
              "1         2          Haro\n",
              "2         3        Heller\n",
              "3         4   Pure Cycles\n",
              "4         5       Ritchey\n",
              "5         6       Strider\n",
              "6         7  Sun Bicycles\n",
              "7         8         Surly\n",
              "8         9          Trek"
            ]
          },
          "metadata": {},
          "execution_count": 4
        }
      ]
    },
    {
      "cell_type": "code",
      "source": [
        "dfProducts = pd.read_excel(\"https://github.com/wtitze/4E/blob/main/BikeStores.xls?raw=true\", sheet_name=\"products\")\n",
        "dfProducts"
      ],
      "metadata": {
        "colab": {
          "base_uri": "https://localhost:8080/",
          "height": 424
        },
        "id": "kLBdWkTCvZxX",
        "outputId": "272f9b50-134a-4cf6-f1e6-8dd61b80395c"
      },
      "execution_count": 5,
      "outputs": [
        {
          "output_type": "execute_result",
          "data": {
            "text/html": [
              "<div>\n",
              "<style scoped>\n",
              "    .dataframe tbody tr th:only-of-type {\n",
              "        vertical-align: middle;\n",
              "    }\n",
              "\n",
              "    .dataframe tbody tr th {\n",
              "        vertical-align: top;\n",
              "    }\n",
              "\n",
              "    .dataframe thead th {\n",
              "        text-align: right;\n",
              "    }\n",
              "</style>\n",
              "<table border=\"1\" class=\"dataframe\">\n",
              "  <thead>\n",
              "    <tr style=\"text-align: right;\">\n",
              "      <th></th>\n",
              "      <th>product_id</th>\n",
              "      <th>product_name</th>\n",
              "      <th>brand_id</th>\n",
              "      <th>category_id</th>\n",
              "      <th>model_year</th>\n",
              "      <th>list_price</th>\n",
              "    </tr>\n",
              "  </thead>\n",
              "  <tbody>\n",
              "    <tr>\n",
              "      <th>0</th>\n",
              "      <td>1</td>\n",
              "      <td>Trek 820 - 2016</td>\n",
              "      <td>9</td>\n",
              "      <td>6</td>\n",
              "      <td>2016</td>\n",
              "      <td>379.99</td>\n",
              "    </tr>\n",
              "    <tr>\n",
              "      <th>1</th>\n",
              "      <td>2</td>\n",
              "      <td>Ritchey Timberwolf Frameset - 2016</td>\n",
              "      <td>5</td>\n",
              "      <td>6</td>\n",
              "      <td>2016</td>\n",
              "      <td>749.99</td>\n",
              "    </tr>\n",
              "    <tr>\n",
              "      <th>2</th>\n",
              "      <td>3</td>\n",
              "      <td>Surly Wednesday Frameset - 2016</td>\n",
              "      <td>8</td>\n",
              "      <td>6</td>\n",
              "      <td>2016</td>\n",
              "      <td>999.99</td>\n",
              "    </tr>\n",
              "    <tr>\n",
              "      <th>3</th>\n",
              "      <td>4</td>\n",
              "      <td>Trek Fuel EX 8 29 - 2016</td>\n",
              "      <td>9</td>\n",
              "      <td>6</td>\n",
              "      <td>2016</td>\n",
              "      <td>2899.99</td>\n",
              "    </tr>\n",
              "    <tr>\n",
              "      <th>4</th>\n",
              "      <td>5</td>\n",
              "      <td>Heller Shagamaw Frame - 2016</td>\n",
              "      <td>3</td>\n",
              "      <td>6</td>\n",
              "      <td>2016</td>\n",
              "      <td>1320.99</td>\n",
              "    </tr>\n",
              "    <tr>\n",
              "      <th>...</th>\n",
              "      <td>...</td>\n",
              "      <td>...</td>\n",
              "      <td>...</td>\n",
              "      <td>...</td>\n",
              "      <td>...</td>\n",
              "      <td>...</td>\n",
              "    </tr>\n",
              "    <tr>\n",
              "      <th>316</th>\n",
              "      <td>317</td>\n",
              "      <td>Trek Checkpoint ALR 5 - 2019</td>\n",
              "      <td>9</td>\n",
              "      <td>7</td>\n",
              "      <td>2019</td>\n",
              "      <td>1999.99</td>\n",
              "    </tr>\n",
              "    <tr>\n",
              "      <th>317</th>\n",
              "      <td>318</td>\n",
              "      <td>Trek Checkpoint ALR 5 Women's - 2019</td>\n",
              "      <td>9</td>\n",
              "      <td>7</td>\n",
              "      <td>2019</td>\n",
              "      <td>1999.99</td>\n",
              "    </tr>\n",
              "    <tr>\n",
              "      <th>318</th>\n",
              "      <td>319</td>\n",
              "      <td>Trek Checkpoint SL 5 Women's - 2019</td>\n",
              "      <td>9</td>\n",
              "      <td>7</td>\n",
              "      <td>2019</td>\n",
              "      <td>2799.99</td>\n",
              "    </tr>\n",
              "    <tr>\n",
              "      <th>319</th>\n",
              "      <td>320</td>\n",
              "      <td>Trek Checkpoint SL 6 - 2019</td>\n",
              "      <td>9</td>\n",
              "      <td>7</td>\n",
              "      <td>2019</td>\n",
              "      <td>3799.99</td>\n",
              "    </tr>\n",
              "    <tr>\n",
              "      <th>320</th>\n",
              "      <td>321</td>\n",
              "      <td>Trek Checkpoint ALR Frameset - 2019</td>\n",
              "      <td>9</td>\n",
              "      <td>7</td>\n",
              "      <td>2019</td>\n",
              "      <td>3199.99</td>\n",
              "    </tr>\n",
              "  </tbody>\n",
              "</table>\n",
              "<p>321 rows × 6 columns</p>\n",
              "</div>"
            ],
            "text/plain": [
              "     product_id                          product_name  ...  model_year  list_price\n",
              "0             1                       Trek 820 - 2016  ...        2016      379.99\n",
              "1             2    Ritchey Timberwolf Frameset - 2016  ...        2016      749.99\n",
              "2             3       Surly Wednesday Frameset - 2016  ...        2016      999.99\n",
              "3             4              Trek Fuel EX 8 29 - 2016  ...        2016     2899.99\n",
              "4             5          Heller Shagamaw Frame - 2016  ...        2016     1320.99\n",
              "..          ...                                   ...  ...         ...         ...\n",
              "316         317          Trek Checkpoint ALR 5 - 2019  ...        2019     1999.99\n",
              "317         318  Trek Checkpoint ALR 5 Women's - 2019  ...        2019     1999.99\n",
              "318         319   Trek Checkpoint SL 5 Women's - 2019  ...        2019     2799.99\n",
              "319         320           Trek Checkpoint SL 6 - 2019  ...        2019     3799.99\n",
              "320         321   Trek Checkpoint ALR Frameset - 2019  ...        2019     3199.99\n",
              "\n",
              "[321 rows x 6 columns]"
            ]
          },
          "metadata": {},
          "execution_count": 5
        }
      ]
    },
    {
      "cell_type": "markdown",
      "source": [
        "1. il catalogo complessivo dei prodotti. Visualizzare il nome del prodotto, il nome della marca e la categoria"
      ],
      "metadata": {
        "id": "1k07YcWvvgYN"
      }
    },
    {
      "cell_type": "code",
      "source": [
        "dfCategories_complessivo =  pd.merge(dfBrands, dfProducts, how=\"inner\", on=[\"brand_id\"])\n",
        "#dfCategories_complessivo\n",
        "dfCategories_complessivo1 = pd.merge(dfCategories_complessivo, dfCategories, how=\"inner\", on=[\"category_id\"])\n",
        "dfCategories_complessivo1[['product_name','brand_name','category_name']]"
      ],
      "metadata": {
        "colab": {
          "base_uri": "https://localhost:8080/",
          "height": 424
        },
        "id": "J2cUouTzveTY",
        "outputId": "5a0df54e-125b-4b95-df5b-ac17c78fc9e6"
      },
      "execution_count": 6,
      "outputs": [
        {
          "output_type": "execute_result",
          "data": {
            "text/html": [
              "<div>\n",
              "<style scoped>\n",
              "    .dataframe tbody tr th:only-of-type {\n",
              "        vertical-align: middle;\n",
              "    }\n",
              "\n",
              "    .dataframe tbody tr th {\n",
              "        vertical-align: top;\n",
              "    }\n",
              "\n",
              "    .dataframe thead th {\n",
              "        text-align: right;\n",
              "    }\n",
              "</style>\n",
              "<table border=\"1\" class=\"dataframe\">\n",
              "  <thead>\n",
              "    <tr style=\"text-align: right;\">\n",
              "      <th></th>\n",
              "      <th>product_name</th>\n",
              "      <th>brand_name</th>\n",
              "      <th>category_name</th>\n",
              "    </tr>\n",
              "  </thead>\n",
              "  <tbody>\n",
              "    <tr>\n",
              "      <th>0</th>\n",
              "      <td>Electra Townie Original 21D - 2016</td>\n",
              "      <td>Electra</td>\n",
              "      <td>Cruisers Bicycles</td>\n",
              "    </tr>\n",
              "    <tr>\n",
              "      <th>1</th>\n",
              "      <td>Electra Cruiser 1 (24-Inch) - 2016</td>\n",
              "      <td>Electra</td>\n",
              "      <td>Cruisers Bicycles</td>\n",
              "    </tr>\n",
              "    <tr>\n",
              "      <th>2</th>\n",
              "      <td>Electra Girl's Hawaii 1 (16-inch) - 2015/2016</td>\n",
              "      <td>Electra</td>\n",
              "      <td>Cruisers Bicycles</td>\n",
              "    </tr>\n",
              "    <tr>\n",
              "      <th>3</th>\n",
              "      <td>Electra Moto 1 - 2016</td>\n",
              "      <td>Electra</td>\n",
              "      <td>Cruisers Bicycles</td>\n",
              "    </tr>\n",
              "    <tr>\n",
              "      <th>4</th>\n",
              "      <td>Electra Townie Original 7D EQ - 2016</td>\n",
              "      <td>Electra</td>\n",
              "      <td>Cruisers Bicycles</td>\n",
              "    </tr>\n",
              "    <tr>\n",
              "      <th>...</th>\n",
              "      <td>...</td>\n",
              "      <td>...</td>\n",
              "      <td>...</td>\n",
              "    </tr>\n",
              "    <tr>\n",
              "      <th>316</th>\n",
              "      <td>Trek Checkpoint ALR 5 - 2019</td>\n",
              "      <td>Trek</td>\n",
              "      <td>Road Bikes</td>\n",
              "    </tr>\n",
              "    <tr>\n",
              "      <th>317</th>\n",
              "      <td>Trek Checkpoint ALR 5 Women's - 2019</td>\n",
              "      <td>Trek</td>\n",
              "      <td>Road Bikes</td>\n",
              "    </tr>\n",
              "    <tr>\n",
              "      <th>318</th>\n",
              "      <td>Trek Checkpoint SL 5 Women's - 2019</td>\n",
              "      <td>Trek</td>\n",
              "      <td>Road Bikes</td>\n",
              "    </tr>\n",
              "    <tr>\n",
              "      <th>319</th>\n",
              "      <td>Trek Checkpoint SL 6 - 2019</td>\n",
              "      <td>Trek</td>\n",
              "      <td>Road Bikes</td>\n",
              "    </tr>\n",
              "    <tr>\n",
              "      <th>320</th>\n",
              "      <td>Trek Checkpoint ALR Frameset - 2019</td>\n",
              "      <td>Trek</td>\n",
              "      <td>Road Bikes</td>\n",
              "    </tr>\n",
              "  </tbody>\n",
              "</table>\n",
              "<p>321 rows × 3 columns</p>\n",
              "</div>"
            ],
            "text/plain": [
              "                                      product_name  ...      category_name\n",
              "0               Electra Townie Original 21D - 2016  ...  Cruisers Bicycles\n",
              "1               Electra Cruiser 1 (24-Inch) - 2016  ...  Cruisers Bicycles\n",
              "2    Electra Girl's Hawaii 1 (16-inch) - 2015/2016  ...  Cruisers Bicycles\n",
              "3                            Electra Moto 1 - 2016  ...  Cruisers Bicycles\n",
              "4             Electra Townie Original 7D EQ - 2016  ...  Cruisers Bicycles\n",
              "..                                             ...  ...                ...\n",
              "316                   Trek Checkpoint ALR 5 - 2019  ...         Road Bikes\n",
              "317           Trek Checkpoint ALR 5 Women's - 2019  ...         Road Bikes\n",
              "318            Trek Checkpoint SL 5 Women's - 2019  ...         Road Bikes\n",
              "319                    Trek Checkpoint SL 6 - 2019  ...         Road Bikes\n",
              "320            Trek Checkpoint ALR Frameset - 2019  ...         Road Bikes\n",
              "\n",
              "[321 rows x 3 columns]"
            ]
          },
          "metadata": {},
          "execution_count": 6
        }
      ]
    },
    {
      "cell_type": "code",
      "source": [
        "dfCategories_complessivo1"
      ],
      "metadata": {
        "colab": {
          "base_uri": "https://localhost:8080/",
          "height": 424
        },
        "id": "YL2thenuvxtY",
        "outputId": "c3600410-a1a3-4a15-c00e-f6bd61223069"
      },
      "execution_count": 7,
      "outputs": [
        {
          "output_type": "execute_result",
          "data": {
            "text/html": [
              "<div>\n",
              "<style scoped>\n",
              "    .dataframe tbody tr th:only-of-type {\n",
              "        vertical-align: middle;\n",
              "    }\n",
              "\n",
              "    .dataframe tbody tr th {\n",
              "        vertical-align: top;\n",
              "    }\n",
              "\n",
              "    .dataframe thead th {\n",
              "        text-align: right;\n",
              "    }\n",
              "</style>\n",
              "<table border=\"1\" class=\"dataframe\">\n",
              "  <thead>\n",
              "    <tr style=\"text-align: right;\">\n",
              "      <th></th>\n",
              "      <th>brand_id</th>\n",
              "      <th>brand_name</th>\n",
              "      <th>product_id</th>\n",
              "      <th>product_name</th>\n",
              "      <th>category_id</th>\n",
              "      <th>model_year</th>\n",
              "      <th>list_price</th>\n",
              "      <th>category_name</th>\n",
              "    </tr>\n",
              "  </thead>\n",
              "  <tbody>\n",
              "    <tr>\n",
              "      <th>0</th>\n",
              "      <td>1</td>\n",
              "      <td>Electra</td>\n",
              "      <td>12</td>\n",
              "      <td>Electra Townie Original 21D - 2016</td>\n",
              "      <td>3</td>\n",
              "      <td>2016</td>\n",
              "      <td>549.99</td>\n",
              "      <td>Cruisers Bicycles</td>\n",
              "    </tr>\n",
              "    <tr>\n",
              "      <th>1</th>\n",
              "      <td>1</td>\n",
              "      <td>Electra</td>\n",
              "      <td>13</td>\n",
              "      <td>Electra Cruiser 1 (24-Inch) - 2016</td>\n",
              "      <td>3</td>\n",
              "      <td>2016</td>\n",
              "      <td>269.99</td>\n",
              "      <td>Cruisers Bicycles</td>\n",
              "    </tr>\n",
              "    <tr>\n",
              "      <th>2</th>\n",
              "      <td>1</td>\n",
              "      <td>Electra</td>\n",
              "      <td>14</td>\n",
              "      <td>Electra Girl's Hawaii 1 (16-inch) - 2015/2016</td>\n",
              "      <td>3</td>\n",
              "      <td>2016</td>\n",
              "      <td>269.99</td>\n",
              "      <td>Cruisers Bicycles</td>\n",
              "    </tr>\n",
              "    <tr>\n",
              "      <th>3</th>\n",
              "      <td>1</td>\n",
              "      <td>Electra</td>\n",
              "      <td>15</td>\n",
              "      <td>Electra Moto 1 - 2016</td>\n",
              "      <td>3</td>\n",
              "      <td>2016</td>\n",
              "      <td>529.99</td>\n",
              "      <td>Cruisers Bicycles</td>\n",
              "    </tr>\n",
              "    <tr>\n",
              "      <th>4</th>\n",
              "      <td>1</td>\n",
              "      <td>Electra</td>\n",
              "      <td>16</td>\n",
              "      <td>Electra Townie Original 7D EQ - 2016</td>\n",
              "      <td>3</td>\n",
              "      <td>2016</td>\n",
              "      <td>599.99</td>\n",
              "      <td>Cruisers Bicycles</td>\n",
              "    </tr>\n",
              "    <tr>\n",
              "      <th>...</th>\n",
              "      <td>...</td>\n",
              "      <td>...</td>\n",
              "      <td>...</td>\n",
              "      <td>...</td>\n",
              "      <td>...</td>\n",
              "      <td>...</td>\n",
              "      <td>...</td>\n",
              "      <td>...</td>\n",
              "    </tr>\n",
              "    <tr>\n",
              "      <th>316</th>\n",
              "      <td>9</td>\n",
              "      <td>Trek</td>\n",
              "      <td>317</td>\n",
              "      <td>Trek Checkpoint ALR 5 - 2019</td>\n",
              "      <td>7</td>\n",
              "      <td>2019</td>\n",
              "      <td>1999.99</td>\n",
              "      <td>Road Bikes</td>\n",
              "    </tr>\n",
              "    <tr>\n",
              "      <th>317</th>\n",
              "      <td>9</td>\n",
              "      <td>Trek</td>\n",
              "      <td>318</td>\n",
              "      <td>Trek Checkpoint ALR 5 Women's - 2019</td>\n",
              "      <td>7</td>\n",
              "      <td>2019</td>\n",
              "      <td>1999.99</td>\n",
              "      <td>Road Bikes</td>\n",
              "    </tr>\n",
              "    <tr>\n",
              "      <th>318</th>\n",
              "      <td>9</td>\n",
              "      <td>Trek</td>\n",
              "      <td>319</td>\n",
              "      <td>Trek Checkpoint SL 5 Women's - 2019</td>\n",
              "      <td>7</td>\n",
              "      <td>2019</td>\n",
              "      <td>2799.99</td>\n",
              "      <td>Road Bikes</td>\n",
              "    </tr>\n",
              "    <tr>\n",
              "      <th>319</th>\n",
              "      <td>9</td>\n",
              "      <td>Trek</td>\n",
              "      <td>320</td>\n",
              "      <td>Trek Checkpoint SL 6 - 2019</td>\n",
              "      <td>7</td>\n",
              "      <td>2019</td>\n",
              "      <td>3799.99</td>\n",
              "      <td>Road Bikes</td>\n",
              "    </tr>\n",
              "    <tr>\n",
              "      <th>320</th>\n",
              "      <td>9</td>\n",
              "      <td>Trek</td>\n",
              "      <td>321</td>\n",
              "      <td>Trek Checkpoint ALR Frameset - 2019</td>\n",
              "      <td>7</td>\n",
              "      <td>2019</td>\n",
              "      <td>3199.99</td>\n",
              "      <td>Road Bikes</td>\n",
              "    </tr>\n",
              "  </tbody>\n",
              "</table>\n",
              "<p>321 rows × 8 columns</p>\n",
              "</div>"
            ],
            "text/plain": [
              "     brand_id brand_name  product_id  ... model_year  list_price      category_name\n",
              "0           1    Electra          12  ...       2016      549.99  Cruisers Bicycles\n",
              "1           1    Electra          13  ...       2016      269.99  Cruisers Bicycles\n",
              "2           1    Electra          14  ...       2016      269.99  Cruisers Bicycles\n",
              "3           1    Electra          15  ...       2016      529.99  Cruisers Bicycles\n",
              "4           1    Electra          16  ...       2016      599.99  Cruisers Bicycles\n",
              "..        ...        ...         ...  ...        ...         ...                ...\n",
              "316         9       Trek         317  ...       2019     1999.99         Road Bikes\n",
              "317         9       Trek         318  ...       2019     1999.99         Road Bikes\n",
              "318         9       Trek         319  ...       2019     2799.99         Road Bikes\n",
              "319         9       Trek         320  ...       2019     3799.99         Road Bikes\n",
              "320         9       Trek         321  ...       2019     3199.99         Road Bikes\n",
              "\n",
              "[321 rows x 8 columns]"
            ]
          },
          "metadata": {},
          "execution_count": 7
        }
      ]
    },
    {
      "cell_type": "markdown",
      "source": [
        "2. il numero di prodotti per ogni categoria. Visualizzare i nomi delle categorie e il numero dei prodotti."
      ],
      "metadata": {
        "id": "GgXYdsDiv0gY"
      }
    },
    {
      "cell_type": "code",
      "source": [
        "dfNumPro = dfCategories_complessivo1.groupby('category_name').count()[['brand_id']].rename(columns={\"brand_id\":\"NProdotti\"}).reset_index()\n",
        "dfNumPro"
      ],
      "metadata": {
        "colab": {
          "base_uri": "https://localhost:8080/",
          "height": 269
        },
        "id": "neLbbQbXvy8H",
        "outputId": "b3a2d3cc-bad5-43c0-a76d-5a9424ada36f"
      },
      "execution_count": 8,
      "outputs": [
        {
          "output_type": "execute_result",
          "data": {
            "text/html": [
              "<div>\n",
              "<style scoped>\n",
              "    .dataframe tbody tr th:only-of-type {\n",
              "        vertical-align: middle;\n",
              "    }\n",
              "\n",
              "    .dataframe tbody tr th {\n",
              "        vertical-align: top;\n",
              "    }\n",
              "\n",
              "    .dataframe thead th {\n",
              "        text-align: right;\n",
              "    }\n",
              "</style>\n",
              "<table border=\"1\" class=\"dataframe\">\n",
              "  <thead>\n",
              "    <tr style=\"text-align: right;\">\n",
              "      <th></th>\n",
              "      <th>category_name</th>\n",
              "      <th>NProdotti</th>\n",
              "    </tr>\n",
              "  </thead>\n",
              "  <tbody>\n",
              "    <tr>\n",
              "      <th>0</th>\n",
              "      <td>Children Bicycles</td>\n",
              "      <td>59</td>\n",
              "    </tr>\n",
              "    <tr>\n",
              "      <th>1</th>\n",
              "      <td>Comfort Bicycles</td>\n",
              "      <td>30</td>\n",
              "    </tr>\n",
              "    <tr>\n",
              "      <th>2</th>\n",
              "      <td>Cruisers Bicycles</td>\n",
              "      <td>78</td>\n",
              "    </tr>\n",
              "    <tr>\n",
              "      <th>3</th>\n",
              "      <td>Cyclocross Bicycles</td>\n",
              "      <td>10</td>\n",
              "    </tr>\n",
              "    <tr>\n",
              "      <th>4</th>\n",
              "      <td>Electric Bikes</td>\n",
              "      <td>24</td>\n",
              "    </tr>\n",
              "    <tr>\n",
              "      <th>5</th>\n",
              "      <td>Mountain Bikes</td>\n",
              "      <td>60</td>\n",
              "    </tr>\n",
              "    <tr>\n",
              "      <th>6</th>\n",
              "      <td>Road Bikes</td>\n",
              "      <td>60</td>\n",
              "    </tr>\n",
              "  </tbody>\n",
              "</table>\n",
              "</div>"
            ],
            "text/plain": [
              "         category_name  NProdotti\n",
              "0    Children Bicycles         59\n",
              "1     Comfort Bicycles         30\n",
              "2    Cruisers Bicycles         78\n",
              "3  Cyclocross Bicycles         10\n",
              "4       Electric Bikes         24\n",
              "5       Mountain Bikes         60\n",
              "6           Road Bikes         60"
            ]
          },
          "metadata": {},
          "execution_count": 8
        }
      ]
    },
    {
      "cell_type": "markdown",
      "source": [
        "3. il numero di prodotti per ogni marca (brand). Visualizzare i nomi dei brand e il numero di prodotti"
      ],
      "metadata": {
        "id": "2EmSoAtLv4eI"
      }
    },
    {
      "cell_type": "code",
      "source": [
        "dfNumbrand = dfCategories_complessivo1.groupby('brand_name').count()[['brand_id']].rename(columns={\"brand_id\":\"NProdotti\"}).reset_index()\n",
        "dfNumbrand"
      ],
      "metadata": {
        "colab": {
          "base_uri": "https://localhost:8080/",
          "height": 332
        },
        "id": "wD7Rl3dNv2Wg",
        "outputId": "08145f55-5e39-454a-9ee8-dc264932e389"
      },
      "execution_count": 9,
      "outputs": [
        {
          "output_type": "execute_result",
          "data": {
            "text/html": [
              "<div>\n",
              "<style scoped>\n",
              "    .dataframe tbody tr th:only-of-type {\n",
              "        vertical-align: middle;\n",
              "    }\n",
              "\n",
              "    .dataframe tbody tr th {\n",
              "        vertical-align: top;\n",
              "    }\n",
              "\n",
              "    .dataframe thead th {\n",
              "        text-align: right;\n",
              "    }\n",
              "</style>\n",
              "<table border=\"1\" class=\"dataframe\">\n",
              "  <thead>\n",
              "    <tr style=\"text-align: right;\">\n",
              "      <th></th>\n",
              "      <th>brand_name</th>\n",
              "      <th>NProdotti</th>\n",
              "    </tr>\n",
              "  </thead>\n",
              "  <tbody>\n",
              "    <tr>\n",
              "      <th>0</th>\n",
              "      <td>Electra</td>\n",
              "      <td>118</td>\n",
              "    </tr>\n",
              "    <tr>\n",
              "      <th>1</th>\n",
              "      <td>Haro</td>\n",
              "      <td>10</td>\n",
              "    </tr>\n",
              "    <tr>\n",
              "      <th>2</th>\n",
              "      <td>Heller</td>\n",
              "      <td>3</td>\n",
              "    </tr>\n",
              "    <tr>\n",
              "      <th>3</th>\n",
              "      <td>Pure Cycles</td>\n",
              "      <td>3</td>\n",
              "    </tr>\n",
              "    <tr>\n",
              "      <th>4</th>\n",
              "      <td>Ritchey</td>\n",
              "      <td>1</td>\n",
              "    </tr>\n",
              "    <tr>\n",
              "      <th>5</th>\n",
              "      <td>Strider</td>\n",
              "      <td>3</td>\n",
              "    </tr>\n",
              "    <tr>\n",
              "      <th>6</th>\n",
              "      <td>Sun Bicycles</td>\n",
              "      <td>23</td>\n",
              "    </tr>\n",
              "    <tr>\n",
              "      <th>7</th>\n",
              "      <td>Surly</td>\n",
              "      <td>25</td>\n",
              "    </tr>\n",
              "    <tr>\n",
              "      <th>8</th>\n",
              "      <td>Trek</td>\n",
              "      <td>135</td>\n",
              "    </tr>\n",
              "  </tbody>\n",
              "</table>\n",
              "</div>"
            ],
            "text/plain": [
              "     brand_name  NProdotti\n",
              "0       Electra        118\n",
              "1          Haro         10\n",
              "2        Heller          3\n",
              "3   Pure Cycles          3\n",
              "4       Ritchey          1\n",
              "5       Strider          3\n",
              "6  Sun Bicycles         23\n",
              "7         Surly         25\n",
              "8          Trek        135"
            ]
          },
          "metadata": {},
          "execution_count": 9
        }
      ]
    },
    {
      "cell_type": "markdown",
      "source": [
        "4. i nomi dei prodotti della marca Trek"
      ],
      "metadata": {
        "id": "NySWWpyYv8DX"
      }
    },
    {
      "cell_type": "code",
      "source": [
        "dfCategories_complessivo1[dfCategories_complessivo1['brand_name'] == \"Trek\"][[\"product_name\"]]"
      ],
      "metadata": {
        "colab": {
          "base_uri": "https://localhost:8080/",
          "height": 424
        },
        "id": "8ZjW6K4Hv8Wf",
        "outputId": "02c0a109-c362-4d6a-8cfe-15ccc2ea6211"
      },
      "execution_count": 10,
      "outputs": [
        {
          "output_type": "execute_result",
          "data": {
            "text/html": [
              "<div>\n",
              "<style scoped>\n",
              "    .dataframe tbody tr th:only-of-type {\n",
              "        vertical-align: middle;\n",
              "    }\n",
              "\n",
              "    .dataframe tbody tr th {\n",
              "        vertical-align: top;\n",
              "    }\n",
              "\n",
              "    .dataframe thead th {\n",
              "        text-align: right;\n",
              "    }\n",
              "</style>\n",
              "<table border=\"1\" class=\"dataframe\">\n",
              "  <thead>\n",
              "    <tr style=\"text-align: right;\">\n",
              "      <th></th>\n",
              "      <th>product_name</th>\n",
              "    </tr>\n",
              "  </thead>\n",
              "  <tbody>\n",
              "    <tr>\n",
              "      <th>114</th>\n",
              "      <td>Trek Boy's Kickster - 2015/2017</td>\n",
              "    </tr>\n",
              "    <tr>\n",
              "      <th>115</th>\n",
              "      <td>Trek Girl's Kickster - 2017</td>\n",
              "    </tr>\n",
              "    <tr>\n",
              "      <th>116</th>\n",
              "      <td>Trek Precaliber 12 Boys - 2017</td>\n",
              "    </tr>\n",
              "    <tr>\n",
              "      <th>117</th>\n",
              "      <td>Trek Precaliber 12 Girls - 2017</td>\n",
              "    </tr>\n",
              "    <tr>\n",
              "      <th>118</th>\n",
              "      <td>Trek Precaliber 16 Boys - 2017</td>\n",
              "    </tr>\n",
              "    <tr>\n",
              "      <th>...</th>\n",
              "      <td>...</td>\n",
              "    </tr>\n",
              "    <tr>\n",
              "      <th>316</th>\n",
              "      <td>Trek Checkpoint ALR 5 - 2019</td>\n",
              "    </tr>\n",
              "    <tr>\n",
              "      <th>317</th>\n",
              "      <td>Trek Checkpoint ALR 5 Women's - 2019</td>\n",
              "    </tr>\n",
              "    <tr>\n",
              "      <th>318</th>\n",
              "      <td>Trek Checkpoint SL 5 Women's - 2019</td>\n",
              "    </tr>\n",
              "    <tr>\n",
              "      <th>319</th>\n",
              "      <td>Trek Checkpoint SL 6 - 2019</td>\n",
              "    </tr>\n",
              "    <tr>\n",
              "      <th>320</th>\n",
              "      <td>Trek Checkpoint ALR Frameset - 2019</td>\n",
              "    </tr>\n",
              "  </tbody>\n",
              "</table>\n",
              "<p>135 rows × 1 columns</p>\n",
              "</div>"
            ],
            "text/plain": [
              "                             product_name\n",
              "114       Trek Boy's Kickster - 2015/2017\n",
              "115           Trek Girl's Kickster - 2017\n",
              "116        Trek Precaliber 12 Boys - 2017\n",
              "117       Trek Precaliber 12 Girls - 2017\n",
              "118        Trek Precaliber 16 Boys - 2017\n",
              "..                                    ...\n",
              "316          Trek Checkpoint ALR 5 - 2019\n",
              "317  Trek Checkpoint ALR 5 Women's - 2019\n",
              "318   Trek Checkpoint SL 5 Women's - 2019\n",
              "319           Trek Checkpoint SL 6 - 2019\n",
              "320   Trek Checkpoint ALR Frameset - 2019\n",
              "\n",
              "[135 rows x 1 columns]"
            ]
          },
          "metadata": {},
          "execution_count": 10
        }
      ]
    },
    {
      "cell_type": "markdown",
      "source": [
        "5. i prodotti delle categorie che hanno la parola 'Bikes' nel nome"
      ],
      "metadata": {
        "id": "vNJPMnntwBbg"
      }
    },
    {
      "cell_type": "code",
      "source": [
        "dfCategories_complessivo1[dfCategories_complessivo1['category_name'].str.contains(\"Bikes\")][[\"product_name\"]]"
      ],
      "metadata": {
        "colab": {
          "base_uri": "https://localhost:8080/",
          "height": 424
        },
        "id": "m-IyDd8lwBpg",
        "outputId": "6eb476a4-cbee-4125-b1a0-9063fa2e6bfb"
      },
      "execution_count": 11,
      "outputs": [
        {
          "output_type": "execute_result",
          "data": {
            "text/html": [
              "<div>\n",
              "<style scoped>\n",
              "    .dataframe tbody tr th:only-of-type {\n",
              "        vertical-align: middle;\n",
              "    }\n",
              "\n",
              "    .dataframe tbody tr th {\n",
              "        vertical-align: top;\n",
              "    }\n",
              "\n",
              "    .dataframe thead th {\n",
              "        text-align: right;\n",
              "    }\n",
              "</style>\n",
              "<table border=\"1\" class=\"dataframe\">\n",
              "  <thead>\n",
              "    <tr style=\"text-align: right;\">\n",
              "      <th></th>\n",
              "      <th>product_name</th>\n",
              "    </tr>\n",
              "  </thead>\n",
              "  <tbody>\n",
              "    <tr>\n",
              "      <th>167</th>\n",
              "      <td>Electra Loft Go! 8i - 2018</td>\n",
              "    </tr>\n",
              "    <tr>\n",
              "      <th>168</th>\n",
              "      <td>Electra Townie Go! 8i - 2017/2018</td>\n",
              "    </tr>\n",
              "    <tr>\n",
              "      <th>169</th>\n",
              "      <td>Electra Townie Go! 8i Ladies' - 2018</td>\n",
              "    </tr>\n",
              "    <tr>\n",
              "      <th>170</th>\n",
              "      <td>Electra Townie Commute Go! - 2018</td>\n",
              "    </tr>\n",
              "    <tr>\n",
              "      <th>171</th>\n",
              "      <td>Electra Townie Commute Go! Ladies' - 2018</td>\n",
              "    </tr>\n",
              "    <tr>\n",
              "      <th>...</th>\n",
              "      <td>...</td>\n",
              "    </tr>\n",
              "    <tr>\n",
              "      <th>316</th>\n",
              "      <td>Trek Checkpoint ALR 5 - 2019</td>\n",
              "    </tr>\n",
              "    <tr>\n",
              "      <th>317</th>\n",
              "      <td>Trek Checkpoint ALR 5 Women's - 2019</td>\n",
              "    </tr>\n",
              "    <tr>\n",
              "      <th>318</th>\n",
              "      <td>Trek Checkpoint SL 5 Women's - 2019</td>\n",
              "    </tr>\n",
              "    <tr>\n",
              "      <th>319</th>\n",
              "      <td>Trek Checkpoint SL 6 - 2019</td>\n",
              "    </tr>\n",
              "    <tr>\n",
              "      <th>320</th>\n",
              "      <td>Trek Checkpoint ALR Frameset - 2019</td>\n",
              "    </tr>\n",
              "  </tbody>\n",
              "</table>\n",
              "<p>144 rows × 1 columns</p>\n",
              "</div>"
            ],
            "text/plain": [
              "                                  product_name\n",
              "167                 Electra Loft Go! 8i - 2018\n",
              "168          Electra Townie Go! 8i - 2017/2018\n",
              "169       Electra Townie Go! 8i Ladies' - 2018\n",
              "170          Electra Townie Commute Go! - 2018\n",
              "171  Electra Townie Commute Go! Ladies' - 2018\n",
              "..                                         ...\n",
              "316               Trek Checkpoint ALR 5 - 2019\n",
              "317       Trek Checkpoint ALR 5 Women's - 2019\n",
              "318        Trek Checkpoint SL 5 Women's - 2019\n",
              "319                Trek Checkpoint SL 6 - 2019\n",
              "320        Trek Checkpoint ALR Frameset - 2019\n",
              "\n",
              "[144 rows x 1 columns]"
            ]
          },
          "metadata": {},
          "execution_count": 11
        }
      ]
    },
    {
      "cell_type": "markdown",
      "source": [
        "6. la categoria che ha il prodotto che costa di più"
      ],
      "metadata": {
        "id": "_2W8qvxTwB3H"
      }
    },
    {
      "cell_type": "code",
      "source": [
        "x = dfCategories_complessivo1[\"list_price\"].max()\n",
        "dfCategories_complessivo1[dfCategories_complessivo1['list_price'] == x][[\"category_name\"]]\n",
        "#dfCategories_complessivo1.category_name.value_counts()"
      ],
      "metadata": {
        "colab": {
          "base_uri": "https://localhost:8080/",
          "height": 81
        },
        "id": "gLCVPGz_wCKn",
        "outputId": "ceaf6e82-3541-4cff-971d-7b44002c4954"
      },
      "execution_count": 12,
      "outputs": [
        {
          "output_type": "execute_result",
          "data": {
            "text/html": [
              "<div>\n",
              "<style scoped>\n",
              "    .dataframe tbody tr th:only-of-type {\n",
              "        vertical-align: middle;\n",
              "    }\n",
              "\n",
              "    .dataframe tbody tr th {\n",
              "        vertical-align: top;\n",
              "    }\n",
              "\n",
              "    .dataframe thead th {\n",
              "        text-align: right;\n",
              "    }\n",
              "</style>\n",
              "<table border=\"1\" class=\"dataframe\">\n",
              "  <thead>\n",
              "    <tr style=\"text-align: right;\">\n",
              "      <th></th>\n",
              "      <th>category_name</th>\n",
              "    </tr>\n",
              "  </thead>\n",
              "  <tbody>\n",
              "    <tr>\n",
              "      <th>290</th>\n",
              "      <td>Road Bikes</td>\n",
              "    </tr>\n",
              "  </tbody>\n",
              "</table>\n",
              "</div>"
            ],
            "text/plain": [
              "    category_name\n",
              "290    Road Bikes"
            ]
          },
          "metadata": {},
          "execution_count": 12
        }
      ]
    },
    {
      "cell_type": "markdown",
      "source": [
        "7. i brand con almeno 100 prodotti. Viaulizzare il nome del brand e il numero di prodotti"
      ],
      "metadata": {
        "id": "6YZ-4S_ZwGdf"
      }
    },
    {
      "cell_type": "code",
      "source": [
        "dfCategories_complessivo1['brand_name'].value_counts()[dfCategories_complessivo1['brand_name'].value_counts() >= 100]"
      ],
      "metadata": {
        "colab": {
          "base_uri": "https://localhost:8080/"
        },
        "id": "XSZMESzUwILH",
        "outputId": "08e42dc4-824f-4fe3-feec-252d29aee1f3"
      },
      "execution_count": 13,
      "outputs": [
        {
          "output_type": "execute_result",
          "data": {
            "text/plain": [
              "Trek       135\n",
              "Electra    118\n",
              "Name: brand_name, dtype: int64"
            ]
          },
          "metadata": {},
          "execution_count": 13
        }
      ]
    },
    {
      "cell_type": "code",
      "source": [
        "# DATAFRAME <dfNumbrand> DA ESERCIZIO 3\n",
        "dfNumbrand[dfNumbrand['NProdotti']>=100][[\"brand_name\"]]"
      ],
      "metadata": {
        "colab": {
          "base_uri": "https://localhost:8080/",
          "height": 112
        },
        "id": "-1nU0imrwlno",
        "outputId": "fc29d58e-e2dc-4af4-8043-b1ea561c4c52"
      },
      "execution_count": 14,
      "outputs": [
        {
          "output_type": "execute_result",
          "data": {
            "text/html": [
              "<div>\n",
              "<style scoped>\n",
              "    .dataframe tbody tr th:only-of-type {\n",
              "        vertical-align: middle;\n",
              "    }\n",
              "\n",
              "    .dataframe tbody tr th {\n",
              "        vertical-align: top;\n",
              "    }\n",
              "\n",
              "    .dataframe thead th {\n",
              "        text-align: right;\n",
              "    }\n",
              "</style>\n",
              "<table border=\"1\" class=\"dataframe\">\n",
              "  <thead>\n",
              "    <tr style=\"text-align: right;\">\n",
              "      <th></th>\n",
              "      <th>brand_name</th>\n",
              "    </tr>\n",
              "  </thead>\n",
              "  <tbody>\n",
              "    <tr>\n",
              "      <th>0</th>\n",
              "      <td>Electra</td>\n",
              "    </tr>\n",
              "    <tr>\n",
              "      <th>8</th>\n",
              "      <td>Trek</td>\n",
              "    </tr>\n",
              "  </tbody>\n",
              "</table>\n",
              "</div>"
            ],
            "text/plain": [
              "  brand_name\n",
              "0    Electra\n",
              "8       Trek"
            ]
          },
          "metadata": {},
          "execution_count": 14
        }
      ]
    },
    {
      "cell_type": "markdown",
      "source": [
        "8. la marca del prodotto 'Electra Townie Original 21D - 2016'"
      ],
      "metadata": {
        "id": "xSK8IWVUwIc_"
      }
    },
    {
      "cell_type": "code",
      "source": [
        "dfCategories_complessivo1[dfCategories_complessivo1['product_name'] == 'Electra Townie Original 21D - 2016'][['brand_name','product_id']]"
      ],
      "metadata": {
        "colab": {
          "base_uri": "https://localhost:8080/",
          "height": 112
        },
        "id": "z7JbsLxJwKZA",
        "outputId": "8a54c52b-5f56-48d2-f486-c347d78f82c4"
      },
      "execution_count": 15,
      "outputs": [
        {
          "output_type": "execute_result",
          "data": {
            "text/html": [
              "<div>\n",
              "<style scoped>\n",
              "    .dataframe tbody tr th:only-of-type {\n",
              "        vertical-align: middle;\n",
              "    }\n",
              "\n",
              "    .dataframe tbody tr th {\n",
              "        vertical-align: top;\n",
              "    }\n",
              "\n",
              "    .dataframe thead th {\n",
              "        text-align: right;\n",
              "    }\n",
              "</style>\n",
              "<table border=\"1\" class=\"dataframe\">\n",
              "  <thead>\n",
              "    <tr style=\"text-align: right;\">\n",
              "      <th></th>\n",
              "      <th>brand_name</th>\n",
              "      <th>product_id</th>\n",
              "    </tr>\n",
              "  </thead>\n",
              "  <tbody>\n",
              "    <tr>\n",
              "      <th>0</th>\n",
              "      <td>Electra</td>\n",
              "      <td>12</td>\n",
              "    </tr>\n",
              "    <tr>\n",
              "      <th>137</th>\n",
              "      <td>Electra</td>\n",
              "      <td>24</td>\n",
              "    </tr>\n",
              "  </tbody>\n",
              "</table>\n",
              "</div>"
            ],
            "text/plain": [
              "    brand_name  product_id\n",
              "0      Electra          12\n",
              "137    Electra          24"
            ]
          },
          "metadata": {},
          "execution_count": 15
        }
      ]
    },
    {
      "cell_type": "markdown",
      "source": [
        "9. il numero di prodotti per ogni anno. Visualizzare l'anno e il numero di prodotti"
      ],
      "metadata": {
        "id": "oNX_nJtNwKtH"
      }
    },
    {
      "cell_type": "code",
      "source": [
        "dfCategories_complessivo1.groupby('model_year').count()[['brand_id']].rename(columns={\"brand_id\":\"NProdotti\"}).reset_index()"
      ],
      "metadata": {
        "colab": {
          "base_uri": "https://localhost:8080/",
          "height": 175
        },
        "id": "FPPRm3NMwMhv",
        "outputId": "2e294a79-5df9-4844-cb0d-6e47c6eaa2f5"
      },
      "execution_count": 16,
      "outputs": [
        {
          "output_type": "execute_result",
          "data": {
            "text/html": [
              "<div>\n",
              "<style scoped>\n",
              "    .dataframe tbody tr th:only-of-type {\n",
              "        vertical-align: middle;\n",
              "    }\n",
              "\n",
              "    .dataframe tbody tr th {\n",
              "        vertical-align: top;\n",
              "    }\n",
              "\n",
              "    .dataframe thead th {\n",
              "        text-align: right;\n",
              "    }\n",
              "</style>\n",
              "<table border=\"1\" class=\"dataframe\">\n",
              "  <thead>\n",
              "    <tr style=\"text-align: right;\">\n",
              "      <th></th>\n",
              "      <th>model_year</th>\n",
              "      <th>NProdotti</th>\n",
              "    </tr>\n",
              "  </thead>\n",
              "  <tbody>\n",
              "    <tr>\n",
              "      <th>0</th>\n",
              "      <td>2016</td>\n",
              "      <td>26</td>\n",
              "    </tr>\n",
              "    <tr>\n",
              "      <th>1</th>\n",
              "      <td>2017</td>\n",
              "      <td>85</td>\n",
              "    </tr>\n",
              "    <tr>\n",
              "      <th>2</th>\n",
              "      <td>2018</td>\n",
              "      <td>204</td>\n",
              "    </tr>\n",
              "    <tr>\n",
              "      <th>3</th>\n",
              "      <td>2019</td>\n",
              "      <td>6</td>\n",
              "    </tr>\n",
              "  </tbody>\n",
              "</table>\n",
              "</div>"
            ],
            "text/plain": [
              "   model_year  NProdotti\n",
              "0        2016         26\n",
              "1        2017         85\n",
              "2        2018        204\n",
              "3        2019          6"
            ]
          },
          "metadata": {},
          "execution_count": 16
        }
      ]
    },
    {
      "cell_type": "markdown",
      "source": [
        "Visualizzare i grafici più adatti per le richieste 2, 3, 7 e 9"
      ],
      "metadata": {
        "id": "OEh6k-PWwMzH"
      }
    },
    {
      "cell_type": "markdown",
      "source": [
        "Esercizio 2"
      ],
      "metadata": {
        "id": "-shqb2pUwRVo"
      }
    },
    {
      "cell_type": "code",
      "source": [
        "dfNumProG = dfCategories_complessivo1.groupby('category_name').count()[['brand_id']].rename(columns={\"brand_id\":\"NProdotti\"})\n",
        "dfNumProG\n",
        "x = list(dfNumProG.index)\n",
        "y = list(dfNumProG[\"NProdotti\"])\n",
        "fig,ax=plt.subplots(figsize=(10, 8))\n",
        "ax.set_title(\"Il numero di prodotti per ogni categoria\", fontsize=20)\n",
        "ax.set_xlabel(\"categoria\", fontsize=20)\n",
        "ax.set_ylabel(\"NProdotti\", fontsize=20)\n",
        "fig.autofmt_xdate(rotation=60)\n",
        "ax.bar(x,y)"
      ],
      "metadata": {
        "colab": {
          "base_uri": "https://localhost:8080/",
          "height": 580
        },
        "id": "OK6AF0S0wTQY",
        "outputId": "4a4f34d7-ab7a-49ee-939a-3dc10b5e9a43"
      },
      "execution_count": 17,
      "outputs": [
        {
          "output_type": "execute_result",
          "data": {
            "text/plain": [
              "<BarContainer object of 7 artists>"
            ]
          },
          "metadata": {},
          "execution_count": 17
        },
        {
          "output_type": "display_data",
          "data": {
            "image/png": "[encoded data removed]",
            "text/plain": [
              "<Figure size 720x576 with 1 Axes>"
            ]
          },
          "metadata": {
            "needs_background": "light"
          }
        }
      ]
    },
    {
      "cell_type": "markdown",
      "source": [
        "Esercizio 3"
      ],
      "metadata": {
        "id": "vhaSB-XZwTyv"
      }
    },
    {
      "cell_type": "code",
      "source": [
        "dfNumbrandG = dfCategories_complessivo1.groupby('brand_name').count()[['brand_id']].rename(columns={\"brand_id\":\"NProdotti\"})\n",
        "dfNumbrandG\n",
        "\n",
        "x1 = list(dfNumbrandG.index)\n",
        "y1 = list(dfNumbrandG['NProdotti'])\n",
        "fig, ax = plt.subplots()\n",
        "fig.set_figwidth(15)\n",
        "fig.set_figheight(10)\n",
        "ax.set_title('Il numero di prodotti per ogni marca', fontsize=20)\n",
        "ax.set_xlabel('', fontsize=15)\n",
        "ax.set_ylabel('NProdotti', fontsize=15)\n",
        "ax.barh(x1,y1)"
      ],
      "metadata": {
        "colab": {
          "base_uri": "https://localhost:8080/",
          "height": 629
        },
        "id": "eDpheaBbwV0n",
        "outputId": "7b47be0c-3915-40d0-a4c2-f3f9a89b36df"
      },
      "execution_count": 18,
      "outputs": [
        {
          "output_type": "execute_result",
          "data": {
            "text/plain": [
              "<BarContainer object of 9 artists>"
            ]
          },
          "metadata": {},
          "execution_count": 18
        },
        {
          "output_type": "display_data",
          "data": {
            "image/png": "[encoded data removed]",
            "text/plain": [
              "<Figure size 1080x720 with 1 Axes>"
            ]
          },
          "metadata": {
            "needs_background": "light"
          }
        }
      ]
    },
    {
      "cell_type": "markdown",
      "source": [
        "Esercizio 7"
      ],
      "metadata": {
        "id": "W60Mhe5kwV_4"
      }
    },
    {
      "cell_type": "code",
      "source": [
        ""
      ],
      "metadata": {
        "id": "JnReU1J5wXbA"
      },
      "execution_count": null,
      "outputs": []
    },
    {
      "cell_type": "markdown",
      "source": [
        "Esercizio 9"
      ],
      "metadata": {
        "id": "zk48PdFMwXv3"
      }
    },
    {
      "cell_type": "code",
      "source": [
        "df2 = dfCategories_complessivo1.groupby('model_year').count()[['brand_id']].rename(columns={\"brand_id\":\"NProdotti\"})\n",
        "df2\n",
        "\n",
        "labelspie = list(df2.index)\n",
        "sizes = list(df2['NProdotti'])\n",
        "fig1, ax1 = plt.subplots(figsize=(10, 10))\n",
        "ax1.pie(sizes, labels=labelspie, autopct='%1.1f%%',textprops={'fontsize': 14}, startangle= 90)\n",
        "plt.legend(labelspie)\n",
        "plt.show()"
      ],
      "metadata": {
        "colab": {
          "base_uri": "https://localhost:8080/",
          "height": 575
        },
        "id": "g37CjinkwaDn",
        "outputId": "0cec02f2-81a8-46d8-8ae8-a3590af95d85"
      },
      "execution_count": 19,
      "outputs": [
        {
          "output_type": "display_data",
          "data": {
            "image/png": "[encoded data removed]",
            "text/plain": [
              "<Figure size 720x720 with 1 Axes>"
            ]
          },
          "metadata": {}
        }
      ]
    }
  ]
}