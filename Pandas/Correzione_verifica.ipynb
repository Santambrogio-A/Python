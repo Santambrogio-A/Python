{
  "nbformat": 4,
  "nbformat_minor": 0,
  "metadata": {
    "colab": {
      "name": "Correzione verifica.ipynb",
      "provenance": [],
      "collapsed_sections": []
    },
    "kernelspec": {
      "name": "python3",
      "display_name": "Python 3"
    },
    "language_info": {
      "name": "python"
    }
  },
  "cells": [
    {
      "cell_type": "markdown",
      "metadata": {
        "id": "069AllfJ6wer"
      },
      "source": [
        "Dati 3 numeri calcolare la media e visualizzarla"
      ]
    },
    {
      "cell_type": "code",
      "metadata": {
        "colab": {
          "base_uri": "https://localhost:8080/"
        },
        "id": "Skz4-01v7J79",
        "outputId": "84790911-6a04-4410-a851-34b2a5cc11ff"
      },
      "source": [
        "n1 = int(input(\"Inserisci il primo valore :\"))\n",
        "n2 = int(input(\"Inserisci il secondo valore :\"))\n",
        "n3 = int(input(\"Inserisci il terzo valore :\"))\n",
        "\n",
        "media = (n1+n2+n3)/3\n",
        "print(media)"
      ],
      "execution_count": null,
      "outputs": [
        {
          "output_type": "stream",
          "name": "stdout",
          "text": [
            "Inserisci il primo valore :5\n",
            "Inserisci il secondo valore :6\n",
            "Inserisci il terzo valore :7\n",
            "6.0\n"
          ]
        }
      ]
    },
    {
      "cell_type": "markdown",
      "metadata": {
        "id": "ID7SD7Mn_buZ"
      },
      "source": [
        "Dato il raggio di un cerchio calcolare l'area con 2 cifre decimali"
      ]
    },
    {
      "cell_type": "code",
      "metadata": {
        "colab": {
          "base_uri": "https://localhost:8080/"
        },
        "id": "hBkZoMAcAsGD",
        "outputId": "d1606d42-a9b8-47e1-ff22-20be0249aa17"
      },
      "source": [
        "import math \n",
        "r = int(input(\"inserisci il raggio :\"))\n",
        "area = r**2*math.pi\n",
        "print(round(area,2))"
      ],
      "execution_count": null,
      "outputs": [
        {
          "output_type": "stream",
          "name": "stdout",
          "text": [
            "inserisci il raggio :5\n",
            "78.54\n"
          ]
        }
      ]
    },
    {
      "cell_type": "markdown",
      "metadata": {
        "id": "fBj5dUh-DNTK"
      },
      "source": [
        "Dato nome e cognome visualizzare le iniziale del nome e cognome maiuscolo"
      ]
    },
    {
      "cell_type": "code",
      "metadata": {
        "colab": {
          "base_uri": "https://localhost:8080/"
        },
        "id": "gjruF64gDrVa",
        "outputId": "342b4187-1495-46a8-e801-fa5b4e88a85b"
      },
      "source": [
        "nomeCognome = input(\"Inserire nome cognome\")\n",
        "print(nomeCognome.title())\n",
        "print(nomeCognome.capitalize())\n",
        "print(nomeCognome.split())"
      ],
      "execution_count": null,
      "outputs": [
        {
          "output_type": "stream",
          "name": "stdout",
          "text": [
            "Inserire nome cognomeandre santo \n",
            "Andre Santo \n"
          ]
        }
      ]
    },
    {
      "cell_type": "code",
      "metadata": {
        "colab": {
          "base_uri": "https://localhost:8080/"
        },
        "id": "0OXBPAKFEJ0r",
        "outputId": "7f0f327d-a077-4eb6-9910-8f1f13583999"
      },
      "source": [
        "nome = input(\"Inserisci nome \")\n",
        "cognome = input(\"Inserisci cognome \")\n",
        "print(nome.title() + \" \" + cognome.title())"
      ],
      "execution_count": null,
      "outputs": [
        {
          "output_type": "stream",
          "name": "stdout",
          "text": [
            "Inserisci nomeandre\n",
            "Inserisci cognomesanta\n",
            "Andre Santa\n"
          ]
        }
      ]
    },
    {
      "cell_type": "markdown",
      "metadata": {
        "id": "t8TNCrJNEn6a"
      },
      "source": [
        "data una frase ottenere il conto delle parole presenti"
      ]
    },
    {
      "cell_type": "code",
      "metadata": {
        "colab": {
          "base_uri": "https://localhost:8080/"
        },
        "id": "lduHAlgHFO8B",
        "outputId": "4b3d584a-3102-4867-9496-f55bff9fb645"
      },
      "source": [
        "s = input(\"inserisci la frase \")\n",
        "listaParole = s.split()\n",
        "print(len(listaParole))\n",
        "print(len(s.split()))\n"
      ],
      "execution_count": null,
      "outputs": [
        {
          "output_type": "stream",
          "name": "stdout",
          "text": [
            "inserisci la frase la mamma è bella\n",
            "4\n",
            "4\n"
          ]
        }
      ]
    },
    {
      "cell_type": "code",
      "metadata": {
        "colab": {
          "base_uri": "https://localhost:8080/"
        },
        "id": "JvXEVJGIGYg6",
        "outputId": "af9af93e-07a0-462d-8978-b4ae66117b03"
      },
      "source": [
        "print(len(input(\"inserisci la frase :\").split()))"
      ],
      "execution_count": null,
      "outputs": [
        {
          "output_type": "stream",
          "name": "stdout",
          "text": [
            "inserisci la frase :sono molto bello \n",
            "3\n"
          ]
        }
      ]
    },
    {
      "cell_type": "markdown",
      "metadata": {
        "id": "04jPVUapGXt6"
      },
      "source": [
        "data una frase visualizzala in ordine alfabetico"
      ]
    },
    {
      "cell_type": "code",
      "metadata": {
        "colab": {
          "base_uri": "https://localhost:8080/"
        },
        "id": "P7gLsnaKG0E7",
        "outputId": "d404e489-2720-4aa9-b6ee-4934aeecfbfb"
      },
      "source": [
        "s = input(\"Inserisci la frase :\")\n",
        "lP = s.split()\n",
        "lP.sort()\n",
        "print(lP)"
      ],
      "execution_count": null,
      "outputs": [
        {
          "output_type": "stream",
          "name": "stdout",
          "text": [
            "Inserisci la frase :la mamma è bella\n",
            "['bella', 'la', 'mamma', 'è']\n"
          ]
        }
      ]
    },
    {
      "cell_type": "markdown",
      "metadata": {
        "id": "hcn8965XIN0d"
      },
      "source": [
        "Data una frase visualizzare le ultime tre parole"
      ]
    },
    {
      "cell_type": "code",
      "metadata": {
        "colab": {
          "base_uri": "https://localhost:8080/"
        },
        "id": "zJBjAVxCIInN",
        "outputId": "88c45aca-2c7f-4bd5-d0e0-a8eb2a36a3b5"
      },
      "source": [
        "s = \"Data una frase visualizzare le ultime tre parole\"\n",
        "lP = s.split()\n",
        "print(lP)\n",
        "print(lP[0:5])"
      ],
      "execution_count": null,
      "outputs": [
        {
          "output_type": "stream",
          "name": "stdout",
          "text": [
            "['Data', 'una', 'frase', 'visualizzare', 'le', 'ultime', 'tre', 'parole']\n",
            "['Data', 'una', 'frase', 'visualizzare', 'le']\n"
          ]
        }
      ]
    },
    {
      "cell_type": "markdown",
      "metadata": {
        "id": "XK0lhqI-Kh_Q"
      },
      "source": [
        "Data una frase dire se troppo lunga o troppo corta"
      ]
    },
    {
      "cell_type": "code",
      "metadata": {
        "colab": {
          "base_uri": "https://localhost:8080/"
        },
        "id": "j0z1-1tUKmHP",
        "outputId": "d1f9cf3a-e802-4b2e-d70f-03dbb7690ace"
      },
      "source": [
        "s = input(\"Inserisci la frase :\")\n",
        "lP = s.split()\n",
        "if len(lP)<=5:\n",
        "    print(\"troppo corta\")\n",
        "elif len(lP)>=10: \n",
        "      print(\"troppo lunga\")\n",
        "else:\n",
        "    print(\"ok\")"
      ],
      "execution_count": null,
      "outputs": [
        {
          "output_type": "stream",
          "name": "stdout",
          "text": [
            "Inserisci la frase :molto molto molto molto molto molto molto molto molto molto molto \n",
            "troppo lunga\n"
          ]
        }
      ]
    },
    {
      "cell_type": "markdown",
      "metadata": {
        "id": "Gy_TDXR9LiJw"
      },
      "source": [
        "10 numeri interi e media"
      ]
    },
    {
      "cell_type": "code",
      "metadata": {
        "id": "R_BtZn2FLiko",
        "colab": {
          "base_uri": "https://localhost:8080/"
        },
        "outputId": "6309cb12-790e-42a5-f7c7-0bc4c56e6d91"
      },
      "source": [
        "from numpy import mean\n",
        "x = input(\"inserici i 10 numeri\").split()\n",
        "y = [int(z)for z in x]\n",
        "mean(y)"
      ],
      "execution_count": null,
      "outputs": [
        {
          "name": "stdout",
          "output_type": "stream",
          "text": [
            "inserici i 10 numeri1 2 3 4 5 6 7 8 9 10\n"
          ]
        },
        {
          "output_type": "execute_result",
          "data": {
            "text/plain": [
              "5.5"
            ]
          },
          "metadata": {},
          "execution_count": 3
        }
      ]
    },
    {
      "cell_type": "markdown",
      "metadata": {
        "id": "BvnU0nKLLi6I"
      },
      "source": [
        "Numero pari o dispari"
      ]
    },
    {
      "cell_type": "code",
      "metadata": {
        "colab": {
          "base_uri": "https://localhost:8080/"
        },
        "id": "oa_AwG5aLjYo",
        "outputId": "3e83781a-0fec-4cd2-db11-11b97bbe33e7"
      },
      "source": [
        "s = int(input(\"Scrivi il numero: \"))\n",
        "if s % 2==0:\n",
        "    print(\"pari\")\n",
        "else :\n",
        "    print(\"dispari\")"
      ],
      "execution_count": null,
      "outputs": [
        {
          "output_type": "stream",
          "name": "stdout",
          "text": [
            "Scrivi il numero: 1\n",
            "dispari\n"
          ]
        }
      ]
    }
  ]
}