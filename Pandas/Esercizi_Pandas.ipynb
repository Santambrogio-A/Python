{
  "nbformat": 4,
  "nbformat_minor": 0,
  "metadata": {
    "colab": {
      "name": "Esercizi Pandas.ipynb",
      "provenance": [],
      "collapsed_sections": []
    },
    "kernelspec": {
      "name": "python3",
      "display_name": "Python 3"
    },
    "language_info": {
      "name": "python"
    }
  },
  "cells": [
    {
      "cell_type": "markdown",
      "metadata": {
        "id": "AB5WuXswc3DT"
      },
      "source": [
        ""
      ]
    },
    {
      "cell_type": "code",
      "metadata": {
        "id": "T7ANXA3_cunm"
      },
      "source": [
        "import pandas as pd"
      ],
      "execution_count": 1,
      "outputs": []
    },
    {
      "cell_type": "markdown",
      "metadata": {
        "id": "ZMWrRUhndPmy"
      },
      "source": [
        "1. caricare i dati in un dataframe e studiare le informazioni inserite per capire di che cosa si tratta"
      ]
    },
    {
      "cell_type": "code",
      "metadata": {
        "colab": {
          "base_uri": "https://localhost:8080/",
          "height": 419
        },
        "id": "002_wKHwdBVi",
        "outputId": "e1e3ac4e-e5d8-4c3c-e184-20f6522c9af9"
      },
      "source": [
        "df = pd.read_csv(\"https://raw.githubusercontent.com/CappuCitti/Python-appunti-ed-esercizi/main/Pandas/Data/uffici_postali_milano.csv\")\n",
        "df"
      ],
      "execution_count": 2,
      "outputs": [
        {
          "output_type": "execute_result",
          "data": {
            "text/html": [
              "<div>\n",
              "<style scoped>\n",
              "    .dataframe tbody tr th:only-of-type {\n",
              "        vertical-align: middle;\n",
              "    }\n",
              "\n",
              "    .dataframe tbody tr th {\n",
              "        vertical-align: top;\n",
              "    }\n",
              "\n",
              "    .dataframe thead th {\n",
              "        text-align: right;\n",
              "    }\n",
              "</style>\n",
              "<table border=\"1\" class=\"dataframe\">\n",
              "  <thead>\n",
              "    <tr style=\"text-align: right;\">\n",
              "      <th></th>\n",
              "      <th>Indirizzo</th>\n",
              "      <th>Telefono</th>\n",
              "      <th>Fax</th>\n",
              "      <th>CAP</th>\n",
              "      <th>MUNICIPIO</th>\n",
              "      <th>ID_NIL</th>\n",
              "      <th>NIL</th>\n",
              "      <th>LONG_X_4326</th>\n",
              "      <th>LAT_Y_4326</th>\n",
              "      <th>Location</th>\n",
              "    </tr>\n",
              "  </thead>\n",
              "  <tbody>\n",
              "    <tr>\n",
              "      <th>0</th>\n",
              "      <td>BASTIONI DI PORTA VOLTA 7</td>\n",
              "      <td>02-6572655</td>\n",
              "      <td>02-29002004</td>\n",
              "      <td>20121</td>\n",
              "      <td>1</td>\n",
              "      <td>2</td>\n",
              "      <td>BRERA</td>\n",
              "      <td>9.182151</td>\n",
              "      <td>45.479601</td>\n",
              "      <td>(45.47960100000006;9.182151000000033)</td>\n",
              "    </tr>\n",
              "    <tr>\n",
              "      <th>1</th>\n",
              "      <td>CORSO DI PORTA VIGENTINA 35</td>\n",
              "      <td>02-58320771</td>\n",
              "      <td>02-58319779</td>\n",
              "      <td>20122</td>\n",
              "      <td>1</td>\n",
              "      <td>5</td>\n",
              "      <td>PORTA VIGENTINA - PORTA LODOVICA</td>\n",
              "      <td>9.196520</td>\n",
              "      <td>45.452538</td>\n",
              "      <td>(45.45253800000006;9.196519500000022)</td>\n",
              "    </tr>\n",
              "    <tr>\n",
              "      <th>2</th>\n",
              "      <td>CORSO ITALI 16</td>\n",
              "      <td>02-804336</td>\n",
              "      <td>02-86454450</td>\n",
              "      <td>20122</td>\n",
              "      <td>1</td>\n",
              "      <td>1</td>\n",
              "      <td>DUOMO</td>\n",
              "      <td>9.187470</td>\n",
              "      <td>45.457893</td>\n",
              "      <td>(45.45789300000007;9.187470000000076)</td>\n",
              "    </tr>\n",
              "    <tr>\n",
              "      <th>3</th>\n",
              "      <td>CORSO SEMPIONE 94</td>\n",
              "      <td>NaN</td>\n",
              "      <td>NaN</td>\n",
              "      <td>20154</td>\n",
              "      <td>8</td>\n",
              "      <td>69</td>\n",
              "      <td>SARPI</td>\n",
              "      <td>9.158508</td>\n",
              "      <td>45.486540</td>\n",
              "      <td>(45.48654000000005;9.15850800000004)</td>\n",
              "    </tr>\n",
              "    <tr>\n",
              "      <th>4</th>\n",
              "      <td>CORSO VENEZIA 42</td>\n",
              "      <td>02-76023056</td>\n",
              "      <td>02-7837251</td>\n",
              "      <td>20121</td>\n",
              "      <td>1</td>\n",
              "      <td>4</td>\n",
              "      <td>GUASTALLA</td>\n",
              "      <td>9.202703</td>\n",
              "      <td>45.471861</td>\n",
              "      <td>(45.47186100000005;9.202702500000044)</td>\n",
              "    </tr>\n",
              "    <tr>\n",
              "      <th>...</th>\n",
              "      <td>...</td>\n",
              "      <td>...</td>\n",
              "      <td>...</td>\n",
              "      <td>...</td>\n",
              "      <td>...</td>\n",
              "      <td>...</td>\n",
              "      <td>...</td>\n",
              "      <td>...</td>\n",
              "      <td>...</td>\n",
              "      <td>...</td>\n",
              "    </tr>\n",
              "    <tr>\n",
              "      <th>77</th>\n",
              "      <td>VIALE GORIZIA 6</td>\n",
              "      <td>02-8358241</td>\n",
              "      <td>02-8373830</td>\n",
              "      <td>20144</td>\n",
              "      <td>6</td>\n",
              "      <td>44</td>\n",
              "      <td>PORTA TICINESE - CONCHETTA</td>\n",
              "      <td>9.173156</td>\n",
              "      <td>45.454518</td>\n",
              "      <td>(45.454518000000064;9.173155500000064)</td>\n",
              "    </tr>\n",
              "    <tr>\n",
              "      <th>78</th>\n",
              "      <td>VIALE MONTE CENERI SNC</td>\n",
              "      <td>02-32671911</td>\n",
              "      <td>02-32671947</td>\n",
              "      <td>20155</td>\n",
              "      <td>8</td>\n",
              "      <td>71</td>\n",
              "      <td>VILLAPIZZONE - CAGNOLA - BOLDINASCO</td>\n",
              "      <td>9.153592</td>\n",
              "      <td>45.491568</td>\n",
              "      <td>(45.49156751800007;9.153591732000052)</td>\n",
              "    </tr>\n",
              "    <tr>\n",
              "      <th>79</th>\n",
              "      <td>VIALE SABOTINO 21/A</td>\n",
              "      <td>02-58457911</td>\n",
              "      <td>02-58457947</td>\n",
              "      <td>20135</td>\n",
              "      <td>5</td>\n",
              "      <td>27</td>\n",
              "      <td>PTA ROMANA</td>\n",
              "      <td>9.200174</td>\n",
              "      <td>45.451017</td>\n",
              "      <td>(45.451017000000036;9.200173500000062)</td>\n",
              "    </tr>\n",
              "    <tr>\n",
              "      <th>80</th>\n",
              "      <td>VIALE SAN GIMIGNANO 10</td>\n",
              "      <td>02-41411311</td>\n",
              "      <td>02-41411347</td>\n",
              "      <td>20146</td>\n",
              "      <td>6</td>\n",
              "      <td>52</td>\n",
              "      <td>BANDE NERE</td>\n",
              "      <td>9.136526</td>\n",
              "      <td>45.455868</td>\n",
              "      <td>(45.455868000000066;9.136525500000062)</td>\n",
              "    </tr>\n",
              "    <tr>\n",
              "      <th>81</th>\n",
              "      <td>VIALE ZARA 131</td>\n",
              "      <td>02-69911111</td>\n",
              "      <td>02-69911147</td>\n",
              "      <td>20159</td>\n",
              "      <td>9</td>\n",
              "      <td>12</td>\n",
              "      <td>MACIACHINI - MAGGIOLINA</td>\n",
              "      <td>9.196686</td>\n",
              "      <td>45.500193</td>\n",
              "      <td>(45.50019300000008;9.196686000000057)</td>\n",
              "    </tr>\n",
              "  </tbody>\n",
              "</table>\n",
              "<p>82 rows × 10 columns</p>\n",
              "</div>"
            ],
            "text/plain": [
              "                      Indirizzo  ...                                Location\n",
              "0     BASTIONI DI PORTA VOLTA 7  ...   (45.47960100000006;9.182151000000033)\n",
              "1   CORSO DI PORTA VIGENTINA 35  ...   (45.45253800000006;9.196519500000022)\n",
              "2                CORSO ITALI 16  ...   (45.45789300000007;9.187470000000076)\n",
              "3             CORSO SEMPIONE 94  ...    (45.48654000000005;9.15850800000004)\n",
              "4              CORSO VENEZIA 42  ...   (45.47186100000005;9.202702500000044)\n",
              "..                          ...  ...                                     ...\n",
              "77              VIALE GORIZIA 6  ...  (45.454518000000064;9.173155500000064)\n",
              "78       VIALE MONTE CENERI SNC  ...   (45.49156751800007;9.153591732000052)\n",
              "79          VIALE SABOTINO 21/A  ...  (45.451017000000036;9.200173500000062)\n",
              "80       VIALE SAN GIMIGNANO 10  ...  (45.455868000000066;9.136525500000062)\n",
              "81               VIALE ZARA 131  ...   (45.50019300000008;9.196686000000057)\n",
              "\n",
              "[82 rows x 10 columns]"
            ]
          },
          "metadata": {},
          "execution_count": 2
        }
      ]
    },
    {
      "cell_type": "markdown",
      "metadata": {
        "id": "FpoNSKN3dQwh"
      },
      "source": [
        "operazioni sulle colonne\n",
        "\n",
        " visualizzare solo la prima colonna"
      ]
    },
    {
      "cell_type": "code",
      "metadata": {
        "colab": {
          "base_uri": "https://localhost:8080/",
          "height": 419
        },
        "id": "lR3-_YLWdRES",
        "outputId": "da99754a-c91a-4cc7-d391-c91bc44f9aa2"
      },
      "source": [
        "df [[\"Indirizzo\"]]"
      ],
      "execution_count": 3,
      "outputs": [
        {
          "output_type": "execute_result",
          "data": {
            "text/html": [
              "<div>\n",
              "<style scoped>\n",
              "    .dataframe tbody tr th:only-of-type {\n",
              "        vertical-align: middle;\n",
              "    }\n",
              "\n",
              "    .dataframe tbody tr th {\n",
              "        vertical-align: top;\n",
              "    }\n",
              "\n",
              "    .dataframe thead th {\n",
              "        text-align: right;\n",
              "    }\n",
              "</style>\n",
              "<table border=\"1\" class=\"dataframe\">\n",
              "  <thead>\n",
              "    <tr style=\"text-align: right;\">\n",
              "      <th></th>\n",
              "      <th>Indirizzo</th>\n",
              "    </tr>\n",
              "  </thead>\n",
              "  <tbody>\n",
              "    <tr>\n",
              "      <th>0</th>\n",
              "      <td>BASTIONI DI PORTA VOLTA 7</td>\n",
              "    </tr>\n",
              "    <tr>\n",
              "      <th>1</th>\n",
              "      <td>CORSO DI PORTA VIGENTINA 35</td>\n",
              "    </tr>\n",
              "    <tr>\n",
              "      <th>2</th>\n",
              "      <td>CORSO ITALI 16</td>\n",
              "    </tr>\n",
              "    <tr>\n",
              "      <th>3</th>\n",
              "      <td>CORSO SEMPIONE 94</td>\n",
              "    </tr>\n",
              "    <tr>\n",
              "      <th>4</th>\n",
              "      <td>CORSO VENEZIA 42</td>\n",
              "    </tr>\n",
              "    <tr>\n",
              "      <th>...</th>\n",
              "      <td>...</td>\n",
              "    </tr>\n",
              "    <tr>\n",
              "      <th>77</th>\n",
              "      <td>VIALE GORIZIA 6</td>\n",
              "    </tr>\n",
              "    <tr>\n",
              "      <th>78</th>\n",
              "      <td>VIALE MONTE CENERI SNC</td>\n",
              "    </tr>\n",
              "    <tr>\n",
              "      <th>79</th>\n",
              "      <td>VIALE SABOTINO 21/A</td>\n",
              "    </tr>\n",
              "    <tr>\n",
              "      <th>80</th>\n",
              "      <td>VIALE SAN GIMIGNANO 10</td>\n",
              "    </tr>\n",
              "    <tr>\n",
              "      <th>81</th>\n",
              "      <td>VIALE ZARA 131</td>\n",
              "    </tr>\n",
              "  </tbody>\n",
              "</table>\n",
              "<p>82 rows × 1 columns</p>\n",
              "</div>"
            ],
            "text/plain": [
              "                      Indirizzo\n",
              "0     BASTIONI DI PORTA VOLTA 7\n",
              "1   CORSO DI PORTA VIGENTINA 35\n",
              "2                CORSO ITALI 16\n",
              "3             CORSO SEMPIONE 94\n",
              "4              CORSO VENEZIA 42\n",
              "..                          ...\n",
              "77              VIALE GORIZIA 6\n",
              "78       VIALE MONTE CENERI SNC\n",
              "79          VIALE SABOTINO 21/A\n",
              "80       VIALE SAN GIMIGNANO 10\n",
              "81               VIALE ZARA 131\n",
              "\n",
              "[82 rows x 1 columns]"
            ]
          },
          "metadata": {},
          "execution_count": 3
        }
      ]
    },
    {
      "cell_type": "markdown",
      "metadata": {
        "id": "_Zn42gePeXf6"
      },
      "source": [
        "3. visualizzare solo l'ultima colonna"
      ]
    },
    {
      "cell_type": "code",
      "metadata": {
        "colab": {
          "base_uri": "https://localhost:8080/",
          "height": 419
        },
        "id": "-iK4uJO5eXv6",
        "outputId": "1440522c-2246-4a9d-c845-32d81069e30f"
      },
      "source": [
        "df [[\"Location\"]]"
      ],
      "execution_count": 4,
      "outputs": [
        {
          "output_type": "execute_result",
          "data": {
            "text/html": [
              "<div>\n",
              "<style scoped>\n",
              "    .dataframe tbody tr th:only-of-type {\n",
              "        vertical-align: middle;\n",
              "    }\n",
              "\n",
              "    .dataframe tbody tr th {\n",
              "        vertical-align: top;\n",
              "    }\n",
              "\n",
              "    .dataframe thead th {\n",
              "        text-align: right;\n",
              "    }\n",
              "</style>\n",
              "<table border=\"1\" class=\"dataframe\">\n",
              "  <thead>\n",
              "    <tr style=\"text-align: right;\">\n",
              "      <th></th>\n",
              "      <th>Location</th>\n",
              "    </tr>\n",
              "  </thead>\n",
              "  <tbody>\n",
              "    <tr>\n",
              "      <th>0</th>\n",
              "      <td>(45.47960100000006;9.182151000000033)</td>\n",
              "    </tr>\n",
              "    <tr>\n",
              "      <th>1</th>\n",
              "      <td>(45.45253800000006;9.196519500000022)</td>\n",
              "    </tr>\n",
              "    <tr>\n",
              "      <th>2</th>\n",
              "      <td>(45.45789300000007;9.187470000000076)</td>\n",
              "    </tr>\n",
              "    <tr>\n",
              "      <th>3</th>\n",
              "      <td>(45.48654000000005;9.15850800000004)</td>\n",
              "    </tr>\n",
              "    <tr>\n",
              "      <th>4</th>\n",
              "      <td>(45.47186100000005;9.202702500000044)</td>\n",
              "    </tr>\n",
              "    <tr>\n",
              "      <th>...</th>\n",
              "      <td>...</td>\n",
              "    </tr>\n",
              "    <tr>\n",
              "      <th>77</th>\n",
              "      <td>(45.454518000000064;9.173155500000064)</td>\n",
              "    </tr>\n",
              "    <tr>\n",
              "      <th>78</th>\n",
              "      <td>(45.49156751800007;9.153591732000052)</td>\n",
              "    </tr>\n",
              "    <tr>\n",
              "      <th>79</th>\n",
              "      <td>(45.451017000000036;9.200173500000062)</td>\n",
              "    </tr>\n",
              "    <tr>\n",
              "      <th>80</th>\n",
              "      <td>(45.455868000000066;9.136525500000062)</td>\n",
              "    </tr>\n",
              "    <tr>\n",
              "      <th>81</th>\n",
              "      <td>(45.50019300000008;9.196686000000057)</td>\n",
              "    </tr>\n",
              "  </tbody>\n",
              "</table>\n",
              "<p>82 rows × 1 columns</p>\n",
              "</div>"
            ],
            "text/plain": [
              "                                  Location\n",
              "0    (45.47960100000006;9.182151000000033)\n",
              "1    (45.45253800000006;9.196519500000022)\n",
              "2    (45.45789300000007;9.187470000000076)\n",
              "3     (45.48654000000005;9.15850800000004)\n",
              "4    (45.47186100000005;9.202702500000044)\n",
              "..                                     ...\n",
              "77  (45.454518000000064;9.173155500000064)\n",
              "78   (45.49156751800007;9.153591732000052)\n",
              "79  (45.451017000000036;9.200173500000062)\n",
              "80  (45.455868000000066;9.136525500000062)\n",
              "81   (45.50019300000008;9.196686000000057)\n",
              "\n",
              "[82 rows x 1 columns]"
            ]
          },
          "metadata": {},
          "execution_count": 4
        }
      ]
    },
    {
      "cell_type": "markdown",
      "metadata": {
        "id": "L1OYTE4mee1D"
      },
      "source": [
        "visualizzare le colonne dalle terza alla quinta"
      ]
    },
    {
      "cell_type": "code",
      "metadata": {
        "colab": {
          "base_uri": "https://localhost:8080/",
          "height": 419
        },
        "id": "KhOGnj4gefHi",
        "outputId": "815ffcb3-b32b-49c7-95e9-8d11e07b1676"
      },
      "source": [
        "df.iloc[:,3:6]"
      ],
      "execution_count": 5,
      "outputs": [
        {
          "output_type": "execute_result",
          "data": {
            "text/html": [
              "<div>\n",
              "<style scoped>\n",
              "    .dataframe tbody tr th:only-of-type {\n",
              "        vertical-align: middle;\n",
              "    }\n",
              "\n",
              "    .dataframe tbody tr th {\n",
              "        vertical-align: top;\n",
              "    }\n",
              "\n",
              "    .dataframe thead th {\n",
              "        text-align: right;\n",
              "    }\n",
              "</style>\n",
              "<table border=\"1\" class=\"dataframe\">\n",
              "  <thead>\n",
              "    <tr style=\"text-align: right;\">\n",
              "      <th></th>\n",
              "      <th>CAP</th>\n",
              "      <th>MUNICIPIO</th>\n",
              "      <th>ID_NIL</th>\n",
              "    </tr>\n",
              "  </thead>\n",
              "  <tbody>\n",
              "    <tr>\n",
              "      <th>0</th>\n",
              "      <td>20121</td>\n",
              "      <td>1</td>\n",
              "      <td>2</td>\n",
              "    </tr>\n",
              "    <tr>\n",
              "      <th>1</th>\n",
              "      <td>20122</td>\n",
              "      <td>1</td>\n",
              "      <td>5</td>\n",
              "    </tr>\n",
              "    <tr>\n",
              "      <th>2</th>\n",
              "      <td>20122</td>\n",
              "      <td>1</td>\n",
              "      <td>1</td>\n",
              "    </tr>\n",
              "    <tr>\n",
              "      <th>3</th>\n",
              "      <td>20154</td>\n",
              "      <td>8</td>\n",
              "      <td>69</td>\n",
              "    </tr>\n",
              "    <tr>\n",
              "      <th>4</th>\n",
              "      <td>20121</td>\n",
              "      <td>1</td>\n",
              "      <td>4</td>\n",
              "    </tr>\n",
              "    <tr>\n",
              "      <th>...</th>\n",
              "      <td>...</td>\n",
              "      <td>...</td>\n",
              "      <td>...</td>\n",
              "    </tr>\n",
              "    <tr>\n",
              "      <th>77</th>\n",
              "      <td>20144</td>\n",
              "      <td>6</td>\n",
              "      <td>44</td>\n",
              "    </tr>\n",
              "    <tr>\n",
              "      <th>78</th>\n",
              "      <td>20155</td>\n",
              "      <td>8</td>\n",
              "      <td>71</td>\n",
              "    </tr>\n",
              "    <tr>\n",
              "      <th>79</th>\n",
              "      <td>20135</td>\n",
              "      <td>5</td>\n",
              "      <td>27</td>\n",
              "    </tr>\n",
              "    <tr>\n",
              "      <th>80</th>\n",
              "      <td>20146</td>\n",
              "      <td>6</td>\n",
              "      <td>52</td>\n",
              "    </tr>\n",
              "    <tr>\n",
              "      <th>81</th>\n",
              "      <td>20159</td>\n",
              "      <td>9</td>\n",
              "      <td>12</td>\n",
              "    </tr>\n",
              "  </tbody>\n",
              "</table>\n",
              "<p>82 rows × 3 columns</p>\n",
              "</div>"
            ],
            "text/plain": [
              "      CAP  MUNICIPIO  ID_NIL\n",
              "0   20121          1       2\n",
              "1   20122          1       5\n",
              "2   20122          1       1\n",
              "3   20154          8      69\n",
              "4   20121          1       4\n",
              "..    ...        ...     ...\n",
              "77  20144          6      44\n",
              "78  20155          8      71\n",
              "79  20135          5      27\n",
              "80  20146          6      52\n",
              "81  20159          9      12\n",
              "\n",
              "[82 rows x 3 columns]"
            ]
          },
          "metadata": {},
          "execution_count": 5
        }
      ]
    },
    {
      "cell_type": "markdown",
      "metadata": {
        "id": "tk8YQTqne7w7"
      },
      "source": [
        "visualizzare la terza e la sesta colonna"
      ]
    },
    {
      "cell_type": "code",
      "metadata": {
        "colab": {
          "base_uri": "https://localhost:8080/",
          "height": 419
        },
        "id": "5b4AmNQoe_Zj",
        "outputId": "06d2900f-78f0-4466-9962-7adb91d6ac90"
      },
      "source": [
        "df.iloc[:,[3,6]]"
      ],
      "execution_count": 6,
      "outputs": [
        {
          "output_type": "execute_result",
          "data": {
            "text/html": [
              "<div>\n",
              "<style scoped>\n",
              "    .dataframe tbody tr th:only-of-type {\n",
              "        vertical-align: middle;\n",
              "    }\n",
              "\n",
              "    .dataframe tbody tr th {\n",
              "        vertical-align: top;\n",
              "    }\n",
              "\n",
              "    .dataframe thead th {\n",
              "        text-align: right;\n",
              "    }\n",
              "</style>\n",
              "<table border=\"1\" class=\"dataframe\">\n",
              "  <thead>\n",
              "    <tr style=\"text-align: right;\">\n",
              "      <th></th>\n",
              "      <th>CAP</th>\n",
              "      <th>NIL</th>\n",
              "    </tr>\n",
              "  </thead>\n",
              "  <tbody>\n",
              "    <tr>\n",
              "      <th>0</th>\n",
              "      <td>20121</td>\n",
              "      <td>BRERA</td>\n",
              "    </tr>\n",
              "    <tr>\n",
              "      <th>1</th>\n",
              "      <td>20122</td>\n",
              "      <td>PORTA VIGENTINA - PORTA LODOVICA</td>\n",
              "    </tr>\n",
              "    <tr>\n",
              "      <th>2</th>\n",
              "      <td>20122</td>\n",
              "      <td>DUOMO</td>\n",
              "    </tr>\n",
              "    <tr>\n",
              "      <th>3</th>\n",
              "      <td>20154</td>\n",
              "      <td>SARPI</td>\n",
              "    </tr>\n",
              "    <tr>\n",
              "      <th>4</th>\n",
              "      <td>20121</td>\n",
              "      <td>GUASTALLA</td>\n",
              "    </tr>\n",
              "    <tr>\n",
              "      <th>...</th>\n",
              "      <td>...</td>\n",
              "      <td>...</td>\n",
              "    </tr>\n",
              "    <tr>\n",
              "      <th>77</th>\n",
              "      <td>20144</td>\n",
              "      <td>PORTA TICINESE - CONCHETTA</td>\n",
              "    </tr>\n",
              "    <tr>\n",
              "      <th>78</th>\n",
              "      <td>20155</td>\n",
              "      <td>VILLAPIZZONE - CAGNOLA - BOLDINASCO</td>\n",
              "    </tr>\n",
              "    <tr>\n",
              "      <th>79</th>\n",
              "      <td>20135</td>\n",
              "      <td>PTA ROMANA</td>\n",
              "    </tr>\n",
              "    <tr>\n",
              "      <th>80</th>\n",
              "      <td>20146</td>\n",
              "      <td>BANDE NERE</td>\n",
              "    </tr>\n",
              "    <tr>\n",
              "      <th>81</th>\n",
              "      <td>20159</td>\n",
              "      <td>MACIACHINI - MAGGIOLINA</td>\n",
              "    </tr>\n",
              "  </tbody>\n",
              "</table>\n",
              "<p>82 rows × 2 columns</p>\n",
              "</div>"
            ],
            "text/plain": [
              "      CAP                                  NIL\n",
              "0   20121                                BRERA\n",
              "1   20122     PORTA VIGENTINA - PORTA LODOVICA\n",
              "2   20122                                DUOMO\n",
              "3   20154                                SARPI\n",
              "4   20121                            GUASTALLA\n",
              "..    ...                                  ...\n",
              "77  20144           PORTA TICINESE - CONCHETTA\n",
              "78  20155  VILLAPIZZONE - CAGNOLA - BOLDINASCO\n",
              "79  20135                           PTA ROMANA\n",
              "80  20146                           BANDE NERE\n",
              "81  20159              MACIACHINI - MAGGIOLINA\n",
              "\n",
              "[82 rows x 2 columns]"
            ]
          },
          "metadata": {},
          "execution_count": 6
        }
      ]
    },
    {
      "cell_type": "markdown",
      "metadata": {
        "id": "Dw-BYMbjfptL"
      },
      "source": [
        " visualizzare la colonna dell'indirizzo e del municipio"
      ]
    },
    {
      "cell_type": "code",
      "metadata": {
        "colab": {
          "base_uri": "https://localhost:8080/",
          "height": 419
        },
        "id": "EULKm5Xyfp6r",
        "outputId": "0432532e-502a-4862-ea1e-b46f3e0817ef"
      },
      "source": [
        "df [[\"Indirizzo\",\"MUNICIPIO\"]]"
      ],
      "execution_count": 7,
      "outputs": [
        {
          "output_type": "execute_result",
          "data": {
            "text/html": [
              "<div>\n",
              "<style scoped>\n",
              "    .dataframe tbody tr th:only-of-type {\n",
              "        vertical-align: middle;\n",
              "    }\n",
              "\n",
              "    .dataframe tbody tr th {\n",
              "        vertical-align: top;\n",
              "    }\n",
              "\n",
              "    .dataframe thead th {\n",
              "        text-align: right;\n",
              "    }\n",
              "</style>\n",
              "<table border=\"1\" class=\"dataframe\">\n",
              "  <thead>\n",
              "    <tr style=\"text-align: right;\">\n",
              "      <th></th>\n",
              "      <th>Indirizzo</th>\n",
              "      <th>MUNICIPIO</th>\n",
              "    </tr>\n",
              "  </thead>\n",
              "  <tbody>\n",
              "    <tr>\n",
              "      <th>0</th>\n",
              "      <td>BASTIONI DI PORTA VOLTA 7</td>\n",
              "      <td>1</td>\n",
              "    </tr>\n",
              "    <tr>\n",
              "      <th>1</th>\n",
              "      <td>CORSO DI PORTA VIGENTINA 35</td>\n",
              "      <td>1</td>\n",
              "    </tr>\n",
              "    <tr>\n",
              "      <th>2</th>\n",
              "      <td>CORSO ITALI 16</td>\n",
              "      <td>1</td>\n",
              "    </tr>\n",
              "    <tr>\n",
              "      <th>3</th>\n",
              "      <td>CORSO SEMPIONE 94</td>\n",
              "      <td>8</td>\n",
              "    </tr>\n",
              "    <tr>\n",
              "      <th>4</th>\n",
              "      <td>CORSO VENEZIA 42</td>\n",
              "      <td>1</td>\n",
              "    </tr>\n",
              "    <tr>\n",
              "      <th>...</th>\n",
              "      <td>...</td>\n",
              "      <td>...</td>\n",
              "    </tr>\n",
              "    <tr>\n",
              "      <th>77</th>\n",
              "      <td>VIALE GORIZIA 6</td>\n",
              "      <td>6</td>\n",
              "    </tr>\n",
              "    <tr>\n",
              "      <th>78</th>\n",
              "      <td>VIALE MONTE CENERI SNC</td>\n",
              "      <td>8</td>\n",
              "    </tr>\n",
              "    <tr>\n",
              "      <th>79</th>\n",
              "      <td>VIALE SABOTINO 21/A</td>\n",
              "      <td>5</td>\n",
              "    </tr>\n",
              "    <tr>\n",
              "      <th>80</th>\n",
              "      <td>VIALE SAN GIMIGNANO 10</td>\n",
              "      <td>6</td>\n",
              "    </tr>\n",
              "    <tr>\n",
              "      <th>81</th>\n",
              "      <td>VIALE ZARA 131</td>\n",
              "      <td>9</td>\n",
              "    </tr>\n",
              "  </tbody>\n",
              "</table>\n",
              "<p>82 rows × 2 columns</p>\n",
              "</div>"
            ],
            "text/plain": [
              "                      Indirizzo  MUNICIPIO\n",
              "0     BASTIONI DI PORTA VOLTA 7          1\n",
              "1   CORSO DI PORTA VIGENTINA 35          1\n",
              "2                CORSO ITALI 16          1\n",
              "3             CORSO SEMPIONE 94          8\n",
              "4              CORSO VENEZIA 42          1\n",
              "..                          ...        ...\n",
              "77              VIALE GORIZIA 6          6\n",
              "78       VIALE MONTE CENERI SNC          8\n",
              "79          VIALE SABOTINO 21/A          5\n",
              "80       VIALE SAN GIMIGNANO 10          6\n",
              "81               VIALE ZARA 131          9\n",
              "\n",
              "[82 rows x 2 columns]"
            ]
          },
          "metadata": {},
          "execution_count": 7
        }
      ]
    },
    {
      "cell_type": "markdown",
      "metadata": {
        "id": "q1p6HlJygtWb"
      },
      "source": [
        "operazioni sulle righe\n",
        "\n",
        "visualizzare la prima riga"
      ]
    },
    {
      "cell_type": "code",
      "metadata": {
        "colab": {
          "base_uri": "https://localhost:8080/",
          "height": 80
        },
        "id": "D4yCZ0BMgtk7",
        "outputId": "36ae8e07-7c1b-412b-95a8-52f904ddae32"
      },
      "source": [
        "df.head(1)"
      ],
      "execution_count": 8,
      "outputs": [
        {
          "output_type": "execute_result",
          "data": {
            "text/html": [
              "<div>\n",
              "<style scoped>\n",
              "    .dataframe tbody tr th:only-of-type {\n",
              "        vertical-align: middle;\n",
              "    }\n",
              "\n",
              "    .dataframe tbody tr th {\n",
              "        vertical-align: top;\n",
              "    }\n",
              "\n",
              "    .dataframe thead th {\n",
              "        text-align: right;\n",
              "    }\n",
              "</style>\n",
              "<table border=\"1\" class=\"dataframe\">\n",
              "  <thead>\n",
              "    <tr style=\"text-align: right;\">\n",
              "      <th></th>\n",
              "      <th>Indirizzo</th>\n",
              "      <th>Telefono</th>\n",
              "      <th>Fax</th>\n",
              "      <th>CAP</th>\n",
              "      <th>MUNICIPIO</th>\n",
              "      <th>ID_NIL</th>\n",
              "      <th>NIL</th>\n",
              "      <th>LONG_X_4326</th>\n",
              "      <th>LAT_Y_4326</th>\n",
              "      <th>Location</th>\n",
              "    </tr>\n",
              "  </thead>\n",
              "  <tbody>\n",
              "    <tr>\n",
              "      <th>0</th>\n",
              "      <td>BASTIONI DI PORTA VOLTA 7</td>\n",
              "      <td>02-6572655</td>\n",
              "      <td>02-29002004</td>\n",
              "      <td>20121</td>\n",
              "      <td>1</td>\n",
              "      <td>2</td>\n",
              "      <td>BRERA</td>\n",
              "      <td>9.182151</td>\n",
              "      <td>45.479601</td>\n",
              "      <td>(45.47960100000006;9.182151000000033)</td>\n",
              "    </tr>\n",
              "  </tbody>\n",
              "</table>\n",
              "</div>"
            ],
            "text/plain": [
              "                   Indirizzo  ...                               Location\n",
              "0  BASTIONI DI PORTA VOLTA 7  ...  (45.47960100000006;9.182151000000033)\n",
              "\n",
              "[1 rows x 10 columns]"
            ]
          },
          "metadata": {},
          "execution_count": 8
        }
      ]
    },
    {
      "cell_type": "markdown",
      "metadata": {
        "id": "37MDnpHDg2s0"
      },
      "source": [
        "visualizzare l'ultima riga"
      ]
    },
    {
      "cell_type": "code",
      "metadata": {
        "colab": {
          "base_uri": "https://localhost:8080/",
          "height": 80
        },
        "id": "ve4lQqI8g8Ob",
        "outputId": "b8664548-5858-4fef-d4c8-63528853a82a"
      },
      "source": [
        "df.tail(1)"
      ],
      "execution_count": 9,
      "outputs": [
        {
          "output_type": "execute_result",
          "data": {
            "text/html": [
              "<div>\n",
              "<style scoped>\n",
              "    .dataframe tbody tr th:only-of-type {\n",
              "        vertical-align: middle;\n",
              "    }\n",
              "\n",
              "    .dataframe tbody tr th {\n",
              "        vertical-align: top;\n",
              "    }\n",
              "\n",
              "    .dataframe thead th {\n",
              "        text-align: right;\n",
              "    }\n",
              "</style>\n",
              "<table border=\"1\" class=\"dataframe\">\n",
              "  <thead>\n",
              "    <tr style=\"text-align: right;\">\n",
              "      <th></th>\n",
              "      <th>Indirizzo</th>\n",
              "      <th>Telefono</th>\n",
              "      <th>Fax</th>\n",
              "      <th>CAP</th>\n",
              "      <th>MUNICIPIO</th>\n",
              "      <th>ID_NIL</th>\n",
              "      <th>NIL</th>\n",
              "      <th>LONG_X_4326</th>\n",
              "      <th>LAT_Y_4326</th>\n",
              "      <th>Location</th>\n",
              "    </tr>\n",
              "  </thead>\n",
              "  <tbody>\n",
              "    <tr>\n",
              "      <th>81</th>\n",
              "      <td>VIALE ZARA 131</td>\n",
              "      <td>02-69911111</td>\n",
              "      <td>02-69911147</td>\n",
              "      <td>20159</td>\n",
              "      <td>9</td>\n",
              "      <td>12</td>\n",
              "      <td>MACIACHINI - MAGGIOLINA</td>\n",
              "      <td>9.196686</td>\n",
              "      <td>45.500193</td>\n",
              "      <td>(45.50019300000008;9.196686000000057)</td>\n",
              "    </tr>\n",
              "  </tbody>\n",
              "</table>\n",
              "</div>"
            ],
            "text/plain": [
              "         Indirizzo  ...                               Location\n",
              "81  VIALE ZARA 131  ...  (45.50019300000008;9.196686000000057)\n",
              "\n",
              "[1 rows x 10 columns]"
            ]
          },
          "metadata": {},
          "execution_count": 9
        }
      ]
    },
    {
      "cell_type": "markdown",
      "metadata": {
        "id": "v-XhTfDKhOkc"
      },
      "source": [
        "visualizzare la riga centrale"
      ]
    },
    {
      "cell_type": "code",
      "metadata": {
        "colab": {
          "base_uri": "https://localhost:8080/"
        },
        "id": "mvHV0uFYhPJ9",
        "outputId": "9ea96c4a-2a18-49cb-9965-263cdf4e87a1"
      },
      "source": [
        "if len(df)%2 == 0:\n",
        "  print(df.loc[[len(df)//2]])\n",
        "  print(df.loc[[len(df)//2 + 1]])\n",
        "else:\n",
        "  print(df.loc[[len(df)//2]])"
      ],
      "execution_count": 10,
      "outputs": [
        {
          "output_type": "stream",
          "name": "stdout",
          "text": [
            "                     Indirizzo  ...                               Location\n",
            "41  VIA GIUSEPPE RIPAMONTI 167  ...  (45.43522200000007;9.201118500000064)\n",
            "\n",
            "[1 rows x 10 columns]\n",
            "                    Indirizzo  ...                               Location\n",
            "42  VIA GIUSEPPE UNGARETTI 12  ...  (45.51535800000005;9.142164000000037)\n",
            "\n",
            "[1 rows x 10 columns]\n"
          ]
        }
      ]
    },
    {
      "cell_type": "markdown",
      "metadata": {
        "id": "V9cEV4MCixx8"
      },
      "source": [
        "visualizzare le righe 3, 4 e 12"
      ]
    },
    {
      "cell_type": "code",
      "metadata": {
        "colab": {
          "base_uri": "https://localhost:8080/",
          "height": 142
        },
        "id": "m3kFVQdciyC8",
        "outputId": "34135251-eef2-41f9-906a-02f31fa31d9a"
      },
      "source": [
        "df.iloc[[3,4,12], :]"
      ],
      "execution_count": 11,
      "outputs": [
        {
          "output_type": "execute_result",
          "data": {
            "text/html": [
              "<div>\n",
              "<style scoped>\n",
              "    .dataframe tbody tr th:only-of-type {\n",
              "        vertical-align: middle;\n",
              "    }\n",
              "\n",
              "    .dataframe tbody tr th {\n",
              "        vertical-align: top;\n",
              "    }\n",
              "\n",
              "    .dataframe thead th {\n",
              "        text-align: right;\n",
              "    }\n",
              "</style>\n",
              "<table border=\"1\" class=\"dataframe\">\n",
              "  <thead>\n",
              "    <tr style=\"text-align: right;\">\n",
              "      <th></th>\n",
              "      <th>Indirizzo</th>\n",
              "      <th>Telefono</th>\n",
              "      <th>Fax</th>\n",
              "      <th>CAP</th>\n",
              "      <th>MUNICIPIO</th>\n",
              "      <th>ID_NIL</th>\n",
              "      <th>NIL</th>\n",
              "      <th>LONG_X_4326</th>\n",
              "      <th>LAT_Y_4326</th>\n",
              "      <th>Location</th>\n",
              "    </tr>\n",
              "  </thead>\n",
              "  <tbody>\n",
              "    <tr>\n",
              "      <th>3</th>\n",
              "      <td>CORSO SEMPIONE 94</td>\n",
              "      <td>NaN</td>\n",
              "      <td>NaN</td>\n",
              "      <td>20154</td>\n",
              "      <td>8</td>\n",
              "      <td>69</td>\n",
              "      <td>SARPI</td>\n",
              "      <td>9.158508</td>\n",
              "      <td>45.486540</td>\n",
              "      <td>(45.48654000000005;9.15850800000004)</td>\n",
              "    </tr>\n",
              "    <tr>\n",
              "      <th>4</th>\n",
              "      <td>CORSO VENEZIA 42</td>\n",
              "      <td>02-76023056</td>\n",
              "      <td>02-7837251</td>\n",
              "      <td>20121</td>\n",
              "      <td>1</td>\n",
              "      <td>4</td>\n",
              "      <td>GUASTALLA</td>\n",
              "      <td>9.202703</td>\n",
              "      <td>45.471861</td>\n",
              "      <td>(45.47186100000005;9.202702500000044)</td>\n",
              "    </tr>\n",
              "    <tr>\n",
              "      <th>12</th>\n",
              "      <td>VIA APPENNINI 77/A</td>\n",
              "      <td>02-3535414</td>\n",
              "      <td>02-3538072</td>\n",
              "      <td>20151</td>\n",
              "      <td>8</td>\n",
              "      <td>65</td>\n",
              "      <td>Q.RE GALLARATESE - Q.RE SAN LEONARDO - LAMPUGNANO</td>\n",
              "      <td>9.104292</td>\n",
              "      <td>45.502074</td>\n",
              "      <td>(45.50207400000005;9.104292000000044)</td>\n",
              "    </tr>\n",
              "  </tbody>\n",
              "</table>\n",
              "</div>"
            ],
            "text/plain": [
              "             Indirizzo  ...                               Location\n",
              "3    CORSO SEMPIONE 94  ...   (45.48654000000005;9.15850800000004)\n",
              "4     CORSO VENEZIA 42  ...  (45.47186100000005;9.202702500000044)\n",
              "12  VIA APPENNINI 77/A  ...  (45.50207400000005;9.104292000000044)\n",
              "\n",
              "[3 rows x 10 columns]"
            ]
          },
          "metadata": {},
          "execution_count": 11
        }
      ]
    },
    {
      "cell_type": "markdown",
      "metadata": {
        "id": "uxXfnRW8i1x0"
      },
      "source": [
        "visualizzare le righe dalla decima alla quindicesima"
      ]
    },
    {
      "cell_type": "code",
      "metadata": {
        "colab": {
          "base_uri": "https://localhost:8080/",
          "height": 235
        },
        "id": "Wh5Steeui2TW",
        "outputId": "555d32b8-b963-492b-8d04-05ec05c11d9c"
      },
      "source": [
        "df.iloc[10:16]"
      ],
      "execution_count": 12,
      "outputs": [
        {
          "output_type": "execute_result",
          "data": {
            "text/html": [
              "<div>\n",
              "<style scoped>\n",
              "    .dataframe tbody tr th:only-of-type {\n",
              "        vertical-align: middle;\n",
              "    }\n",
              "\n",
              "    .dataframe tbody tr th {\n",
              "        vertical-align: top;\n",
              "    }\n",
              "\n",
              "    .dataframe thead th {\n",
              "        text-align: right;\n",
              "    }\n",
              "</style>\n",
              "<table border=\"1\" class=\"dataframe\">\n",
              "  <thead>\n",
              "    <tr style=\"text-align: right;\">\n",
              "      <th></th>\n",
              "      <th>Indirizzo</th>\n",
              "      <th>Telefono</th>\n",
              "      <th>Fax</th>\n",
              "      <th>CAP</th>\n",
              "      <th>MUNICIPIO</th>\n",
              "      <th>ID_NIL</th>\n",
              "      <th>NIL</th>\n",
              "      <th>LONG_X_4326</th>\n",
              "      <th>LAT_Y_4326</th>\n",
              "      <th>Location</th>\n",
              "    </tr>\n",
              "  </thead>\n",
              "  <tbody>\n",
              "    <tr>\n",
              "      <th>10</th>\n",
              "      <td>VIA ALFREDO CAPPELLINI 17/19</td>\n",
              "      <td>02-6773311</td>\n",
              "      <td>02-67733147</td>\n",
              "      <td>20124</td>\n",
              "      <td>2</td>\n",
              "      <td>10</td>\n",
              "      <td>STAZIONE CENTRALE - PONTE SEVESO</td>\n",
              "      <td>9.201735</td>\n",
              "      <td>45.481950</td>\n",
              "      <td>(45.48195000000004;9.201735000000042)</td>\n",
              "    </tr>\n",
              "    <tr>\n",
              "      <th>11</th>\n",
              "      <td>VIA ANDREA VOCHIERI 12</td>\n",
              "      <td>02-66200116</td>\n",
              "      <td>02-66203094</td>\n",
              "      <td>20161</td>\n",
              "      <td>9</td>\n",
              "      <td>80</td>\n",
              "      <td>AFFORI</td>\n",
              "      <td>9.168683</td>\n",
              "      <td>45.514143</td>\n",
              "      <td>(45.51414300000005;9.168682500000045)</td>\n",
              "    </tr>\n",
              "    <tr>\n",
              "      <th>12</th>\n",
              "      <td>VIA APPENNINI 77/A</td>\n",
              "      <td>02-3535414</td>\n",
              "      <td>02-3538072</td>\n",
              "      <td>20151</td>\n",
              "      <td>8</td>\n",
              "      <td>65</td>\n",
              "      <td>Q.RE GALLARATESE - Q.RE SAN LEONARDO - LAMPUGNANO</td>\n",
              "      <td>9.104292</td>\n",
              "      <td>45.502074</td>\n",
              "      <td>(45.50207400000005;9.104292000000044)</td>\n",
              "    </tr>\n",
              "    <tr>\n",
              "      <th>13</th>\n",
              "      <td>VIA ARQUA' 14</td>\n",
              "      <td>02-26141687</td>\n",
              "      <td>02-26825342</td>\n",
              "      <td>20131</td>\n",
              "      <td>2</td>\n",
              "      <td>20</td>\n",
              "      <td>LORETO - CASORETTO - NOLO</td>\n",
              "      <td>9.227714</td>\n",
              "      <td>45.492876</td>\n",
              "      <td>(45.49287600000008;9.22771350000005)</td>\n",
              "    </tr>\n",
              "    <tr>\n",
              "      <th>14</th>\n",
              "      <td>VIA BENOZZO GOZZOLI 51</td>\n",
              "      <td>02-48945239</td>\n",
              "      <td>02-48945202</td>\n",
              "      <td>20152</td>\n",
              "      <td>7</td>\n",
              "      <td>55</td>\n",
              "      <td>BAGGIO - Q.RE DEGLI OLMI - Q.RE VALSESIA</td>\n",
              "      <td>9.090990</td>\n",
              "      <td>45.455607</td>\n",
              "      <td>(45.45560700000004;9.090990000000033)</td>\n",
              "    </tr>\n",
              "    <tr>\n",
              "      <th>15</th>\n",
              "      <td>VIA BOVISASCA 173</td>\n",
              "      <td>02-3573683</td>\n",
              "      <td>02-39000632</td>\n",
              "      <td>20161</td>\n",
              "      <td>9</td>\n",
              "      <td>81</td>\n",
              "      <td>BOVISASCA</td>\n",
              "      <td>9.152855</td>\n",
              "      <td>45.519456</td>\n",
              "      <td>(45.519456269000045;9.152854782000077)</td>\n",
              "    </tr>\n",
              "  </tbody>\n",
              "</table>\n",
              "</div>"
            ],
            "text/plain": [
              "                       Indirizzo  ...                                Location\n",
              "10  VIA ALFREDO CAPPELLINI 17/19  ...   (45.48195000000004;9.201735000000042)\n",
              "11        VIA ANDREA VOCHIERI 12  ...   (45.51414300000005;9.168682500000045)\n",
              "12            VIA APPENNINI 77/A  ...   (45.50207400000005;9.104292000000044)\n",
              "13                 VIA ARQUA' 14  ...    (45.49287600000008;9.22771350000005)\n",
              "14        VIA BENOZZO GOZZOLI 51  ...   (45.45560700000004;9.090990000000033)\n",
              "15             VIA BOVISASCA 173  ...  (45.519456269000045;9.152854782000077)\n",
              "\n",
              "[6 rows x 10 columns]"
            ]
          },
          "metadata": {},
          "execution_count": 12
        }
      ]
    },
    {
      "cell_type": "markdown",
      "metadata": {
        "id": "tqi9Z5I8mfIe"
      },
      "source": [
        "operazioni sulle righe e sulle colonne\n",
        "\n",
        "visualizzare la colonna indirizzo e NIL delle righe dalla decima alla quindicesima"
      ]
    },
    {
      "cell_type": "code",
      "metadata": {
        "colab": {
          "base_uri": "https://localhost:8080/",
          "height": 235
        },
        "id": "sn_8uoy8mfqA",
        "outputId": "6a1c9eac-d4f2-4ba7-fb22-13785b1765d2"
      },
      "source": [
        "df[10:16][[\"Indirizzo\",\"NIL\"]]"
      ],
      "execution_count": 13,
      "outputs": [
        {
          "output_type": "execute_result",
          "data": {
            "text/html": [
              "<div>\n",
              "<style scoped>\n",
              "    .dataframe tbody tr th:only-of-type {\n",
              "        vertical-align: middle;\n",
              "    }\n",
              "\n",
              "    .dataframe tbody tr th {\n",
              "        vertical-align: top;\n",
              "    }\n",
              "\n",
              "    .dataframe thead th {\n",
              "        text-align: right;\n",
              "    }\n",
              "</style>\n",
              "<table border=\"1\" class=\"dataframe\">\n",
              "  <thead>\n",
              "    <tr style=\"text-align: right;\">\n",
              "      <th></th>\n",
              "      <th>Indirizzo</th>\n",
              "      <th>NIL</th>\n",
              "    </tr>\n",
              "  </thead>\n",
              "  <tbody>\n",
              "    <tr>\n",
              "      <th>10</th>\n",
              "      <td>VIA ALFREDO CAPPELLINI 17/19</td>\n",
              "      <td>STAZIONE CENTRALE - PONTE SEVESO</td>\n",
              "    </tr>\n",
              "    <tr>\n",
              "      <th>11</th>\n",
              "      <td>VIA ANDREA VOCHIERI 12</td>\n",
              "      <td>AFFORI</td>\n",
              "    </tr>\n",
              "    <tr>\n",
              "      <th>12</th>\n",
              "      <td>VIA APPENNINI 77/A</td>\n",
              "      <td>Q.RE GALLARATESE - Q.RE SAN LEONARDO - LAMPUGNANO</td>\n",
              "    </tr>\n",
              "    <tr>\n",
              "      <th>13</th>\n",
              "      <td>VIA ARQUA' 14</td>\n",
              "      <td>LORETO - CASORETTO - NOLO</td>\n",
              "    </tr>\n",
              "    <tr>\n",
              "      <th>14</th>\n",
              "      <td>VIA BENOZZO GOZZOLI 51</td>\n",
              "      <td>BAGGIO - Q.RE DEGLI OLMI - Q.RE VALSESIA</td>\n",
              "    </tr>\n",
              "    <tr>\n",
              "      <th>15</th>\n",
              "      <td>VIA BOVISASCA 173</td>\n",
              "      <td>BOVISASCA</td>\n",
              "    </tr>\n",
              "  </tbody>\n",
              "</table>\n",
              "</div>"
            ],
            "text/plain": [
              "                       Indirizzo                                                NIL\n",
              "10  VIA ALFREDO CAPPELLINI 17/19                   STAZIONE CENTRALE - PONTE SEVESO\n",
              "11        VIA ANDREA VOCHIERI 12                                             AFFORI\n",
              "12            VIA APPENNINI 77/A  Q.RE GALLARATESE - Q.RE SAN LEONARDO - LAMPUGNANO\n",
              "13                 VIA ARQUA' 14                          LORETO - CASORETTO - NOLO\n",
              "14        VIA BENOZZO GOZZOLI 51           BAGGIO - Q.RE DEGLI OLMI - Q.RE VALSESIA\n",
              "15             VIA BOVISASCA 173                                          BOVISASCA"
            ]
          },
          "metadata": {},
          "execution_count": 13
        }
      ]
    },
    {
      "cell_type": "markdown",
      "metadata": {
        "id": "u9ArqvihmnaF"
      },
      "source": [
        " visualizzare le colonne telefono e fax delle righe 3, 5 e 12"
      ]
    },
    {
      "cell_type": "code",
      "metadata": {
        "colab": {
          "base_uri": "https://localhost:8080/",
          "height": 142
        },
        "id": "40QblkmVmnx9",
        "outputId": "003f6904-6143-40ea-a0de-b529210b87d7"
      },
      "source": [
        "df.iloc[[3,5,12],:][[\"Telefono\",\"Fax\"]]"
      ],
      "execution_count": 14,
      "outputs": [
        {
          "output_type": "execute_result",
          "data": {
            "text/html": [
              "<div>\n",
              "<style scoped>\n",
              "    .dataframe tbody tr th:only-of-type {\n",
              "        vertical-align: middle;\n",
              "    }\n",
              "\n",
              "    .dataframe tbody tr th {\n",
              "        vertical-align: top;\n",
              "    }\n",
              "\n",
              "    .dataframe thead th {\n",
              "        text-align: right;\n",
              "    }\n",
              "</style>\n",
              "<table border=\"1\" class=\"dataframe\">\n",
              "  <thead>\n",
              "    <tr style=\"text-align: right;\">\n",
              "      <th></th>\n",
              "      <th>Telefono</th>\n",
              "      <th>Fax</th>\n",
              "    </tr>\n",
              "  </thead>\n",
              "  <tbody>\n",
              "    <tr>\n",
              "      <th>3</th>\n",
              "      <td>NaN</td>\n",
              "      <td>NaN</td>\n",
              "    </tr>\n",
              "    <tr>\n",
              "      <th>5</th>\n",
              "      <td>02-47714011</td>\n",
              "      <td>02-47714047</td>\n",
              "    </tr>\n",
              "    <tr>\n",
              "      <th>12</th>\n",
              "      <td>02-3535414</td>\n",
              "      <td>02-3538072</td>\n",
              "    </tr>\n",
              "  </tbody>\n",
              "</table>\n",
              "</div>"
            ],
            "text/plain": [
              "       Telefono          Fax\n",
              "3           NaN          NaN\n",
              "5   02-47714011  02-47714047\n",
              "12   02-3535414   02-3538072"
            ]
          },
          "metadata": {},
          "execution_count": 14
        }
      ]
    },
    {
      "cell_type": "markdown",
      "metadata": {
        "id": "V2Xf9cWRmoJN"
      },
      "source": [
        "visualizzare le colonne dalla 2 alla 6 delle righe dalla 3 alla 10"
      ]
    },
    {
      "cell_type": "code",
      "metadata": {
        "id": "a19k_xM0mp5F",
        "colab": {
          "base_uri": "https://localhost:8080/",
          "height": 297
        },
        "outputId": "2c4feb41-9084-4911-d188-b6448f26e08a"
      },
      "source": [
        "df.iloc[3:11,1:7]"
      ],
      "execution_count": 15,
      "outputs": [
        {
          "output_type": "execute_result",
          "data": {
            "text/html": [
              "<div>\n",
              "<style scoped>\n",
              "    .dataframe tbody tr th:only-of-type {\n",
              "        vertical-align: middle;\n",
              "    }\n",
              "\n",
              "    .dataframe tbody tr th {\n",
              "        vertical-align: top;\n",
              "    }\n",
              "\n",
              "    .dataframe thead th {\n",
              "        text-align: right;\n",
              "    }\n",
              "</style>\n",
              "<table border=\"1\" class=\"dataframe\">\n",
              "  <thead>\n",
              "    <tr style=\"text-align: right;\">\n",
              "      <th></th>\n",
              "      <th>Telefono</th>\n",
              "      <th>Fax</th>\n",
              "      <th>CAP</th>\n",
              "      <th>MUNICIPIO</th>\n",
              "      <th>ID_NIL</th>\n",
              "      <th>NIL</th>\n",
              "    </tr>\n",
              "  </thead>\n",
              "  <tbody>\n",
              "    <tr>\n",
              "      <th>3</th>\n",
              "      <td>NaN</td>\n",
              "      <td>NaN</td>\n",
              "      <td>20154</td>\n",
              "      <td>8</td>\n",
              "      <td>69</td>\n",
              "      <td>SARPI</td>\n",
              "    </tr>\n",
              "    <tr>\n",
              "      <th>4</th>\n",
              "      <td>02-76023056</td>\n",
              "      <td>02-7837251</td>\n",
              "      <td>20121</td>\n",
              "      <td>1</td>\n",
              "      <td>4</td>\n",
              "      <td>GUASTALLA</td>\n",
              "    </tr>\n",
              "    <tr>\n",
              "      <th>5</th>\n",
              "      <td>02-47714011</td>\n",
              "      <td>02-47714047</td>\n",
              "      <td>20146</td>\n",
              "      <td>6</td>\n",
              "      <td>49</td>\n",
              "      <td>GIAMBELLINO</td>\n",
              "    </tr>\n",
              "    <tr>\n",
              "      <th>6</th>\n",
              "      <td>02-42255211</td>\n",
              "      <td>02-42255247</td>\n",
              "      <td>20146</td>\n",
              "      <td>6</td>\n",
              "      <td>49</td>\n",
              "      <td>GIAMBELLINO</td>\n",
              "    </tr>\n",
              "    <tr>\n",
              "      <th>7</th>\n",
              "      <td>02-325774</td>\n",
              "      <td>02-3271232</td>\n",
              "      <td>20148</td>\n",
              "      <td>8</td>\n",
              "      <td>66</td>\n",
              "      <td>QT 8</td>\n",
              "    </tr>\n",
              "    <tr>\n",
              "      <th>8</th>\n",
              "      <td>02-37790911</td>\n",
              "      <td>02-37790947</td>\n",
              "      <td>20158</td>\n",
              "      <td>9</td>\n",
              "      <td>78</td>\n",
              "      <td>FARINI</td>\n",
              "    </tr>\n",
              "    <tr>\n",
              "      <th>9</th>\n",
              "      <td>02-2665192</td>\n",
              "      <td>02-26680123</td>\n",
              "      <td>20131</td>\n",
              "      <td>3</td>\n",
              "      <td>22</td>\n",
              "      <td>CITTA' STUDI</td>\n",
              "    </tr>\n",
              "    <tr>\n",
              "      <th>10</th>\n",
              "      <td>02-6773311</td>\n",
              "      <td>02-67733147</td>\n",
              "      <td>20124</td>\n",
              "      <td>2</td>\n",
              "      <td>10</td>\n",
              "      <td>STAZIONE CENTRALE - PONTE SEVESO</td>\n",
              "    </tr>\n",
              "  </tbody>\n",
              "</table>\n",
              "</div>"
            ],
            "text/plain": [
              "       Telefono          Fax  ...  ID_NIL                               NIL\n",
              "3           NaN          NaN  ...      69                             SARPI\n",
              "4   02-76023056   02-7837251  ...       4                         GUASTALLA\n",
              "5   02-47714011  02-47714047  ...      49                       GIAMBELLINO\n",
              "6   02-42255211  02-42255247  ...      49                       GIAMBELLINO\n",
              "7     02-325774   02-3271232  ...      66                              QT 8\n",
              "8   02-37790911  02-37790947  ...      78                            FARINI\n",
              "9    02-2665192  02-26680123  ...      22                      CITTA' STUDI\n",
              "10   02-6773311  02-67733147  ...      10  STAZIONE CENTRALE - PONTE SEVESO\n",
              "\n",
              "[8 rows x 6 columns]"
            ]
          },
          "metadata": {},
          "execution_count": 15
        }
      ]
    },
    {
      "cell_type": "markdown",
      "metadata": {
        "id": "Ve7ohsiNmqMV"
      },
      "source": [
        "ricerca di informazioni\n",
        "\n",
        "visualizzare il numero di telefono dell'ufficio di piazza Napoli"
      ]
    },
    {
      "cell_type": "code",
      "metadata": {
        "colab": {
          "base_uri": "https://localhost:8080/",
          "height": 80
        },
        "id": "XNk0w1AgbouC",
        "outputId": "19dc754a-e09a-4f85-f3c9-049579afcbef"
      },
      "source": [
        "df[df[\"Indirizzo\"].str.contains(\"PIAZZA NAPOLI\")][[\"Telefono\"]]"
      ],
      "execution_count": 16,
      "outputs": [
        {
          "output_type": "execute_result",
          "data": {
            "text/html": [
              "<div>\n",
              "<style scoped>\n",
              "    .dataframe tbody tr th:only-of-type {\n",
              "        vertical-align: middle;\n",
              "    }\n",
              "\n",
              "    .dataframe tbody tr th {\n",
              "        vertical-align: top;\n",
              "    }\n",
              "\n",
              "    .dataframe thead th {\n",
              "        text-align: right;\n",
              "    }\n",
              "</style>\n",
              "<table border=\"1\" class=\"dataframe\">\n",
              "  <thead>\n",
              "    <tr style=\"text-align: right;\">\n",
              "      <th></th>\n",
              "      <th>Telefono</th>\n",
              "    </tr>\n",
              "  </thead>\n",
              "  <tbody>\n",
              "    <tr>\n",
              "      <th>6</th>\n",
              "      <td>02-42255211</td>\n",
              "    </tr>\n",
              "  </tbody>\n",
              "</table>\n",
              "</div>"
            ],
            "text/plain": [
              "      Telefono\n",
              "6  02-42255211"
            ]
          },
          "metadata": {},
          "execution_count": 16
        }
      ]
    },
    {
      "cell_type": "markdown",
      "metadata": {
        "id": "WAwJ5YCMbpLx"
      },
      "source": [
        "visualizzare l'indirizzo e il numero di telefono degli uffici postali di Niguarda"
      ]
    },
    {
      "cell_type": "code",
      "metadata": {
        "colab": {
          "base_uri": "https://localhost:8080/",
          "height": 111
        },
        "id": "9aJJX0Upbphp",
        "outputId": "f4ba1aba-239f-4f34-ece6-2d1363bdfb0c"
      },
      "source": [
        "df[df[\"NIL\"].str.contains(\"NIGUARDA\")][[\"Telefono\",\"Indirizzo\"]]"
      ],
      "execution_count": 17,
      "outputs": [
        {
          "output_type": "execute_result",
          "data": {
            "text/html": [
              "<div>\n",
              "<style scoped>\n",
              "    .dataframe tbody tr th:only-of-type {\n",
              "        vertical-align: middle;\n",
              "    }\n",
              "\n",
              "    .dataframe tbody tr th {\n",
              "        vertical-align: top;\n",
              "    }\n",
              "\n",
              "    .dataframe thead th {\n",
              "        text-align: right;\n",
              "    }\n",
              "</style>\n",
              "<table border=\"1\" class=\"dataframe\">\n",
              "  <thead>\n",
              "    <tr style=\"text-align: right;\">\n",
              "      <th></th>\n",
              "      <th>Telefono</th>\n",
              "      <th>Indirizzo</th>\n",
              "    </tr>\n",
              "  </thead>\n",
              "  <tbody>\n",
              "    <tr>\n",
              "      <th>60</th>\n",
              "      <td>02-66100185</td>\n",
              "      <td>VIA PONALE 6</td>\n",
              "    </tr>\n",
              "    <tr>\n",
              "      <th>76</th>\n",
              "      <td>02-6470400</td>\n",
              "      <td>VIALE GIOVANNI SUZZANI</td>\n",
              "    </tr>\n",
              "  </tbody>\n",
              "</table>\n",
              "</div>"
            ],
            "text/plain": [
              "       Telefono               Indirizzo\n",
              "60  02-66100185            VIA PONALE 6\n",
              "76   02-6470400  VIALE GIOVANNI SUZZANI"
            ]
          },
          "metadata": {},
          "execution_count": 17
        }
      ]
    },
    {
      "cell_type": "markdown",
      "metadata": {
        "id": "wwUWsVNsbvlA"
      },
      "source": [
        "visualizzare l'indirizzo e il numero di telefono degli uffici postali dei municipi 1, 2 e 3"
      ]
    },
    {
      "cell_type": "code",
      "metadata": {
        "colab": {
          "base_uri": "https://localhost:8080/",
          "height": 266
        },
        "id": "eJNgzQ9Hbv8B",
        "outputId": "f63634d0-3207-4b7f-b898-51b6a775ed08"
      },
      "source": [
        "df[df[\"MUNICIPIO\"]==(1|2|3)][[\"Telefono\",\"Indirizzo\"]]"
      ],
      "execution_count": 18,
      "outputs": [
        {
          "output_type": "execute_result",
          "data": {
            "text/html": [
              "<div>\n",
              "<style scoped>\n",
              "    .dataframe tbody tr th:only-of-type {\n",
              "        vertical-align: middle;\n",
              "    }\n",
              "\n",
              "    .dataframe tbody tr th {\n",
              "        vertical-align: top;\n",
              "    }\n",
              "\n",
              "    .dataframe thead th {\n",
              "        text-align: right;\n",
              "    }\n",
              "</style>\n",
              "<table border=\"1\" class=\"dataframe\">\n",
              "  <thead>\n",
              "    <tr style=\"text-align: right;\">\n",
              "      <th></th>\n",
              "      <th>Telefono</th>\n",
              "      <th>Indirizzo</th>\n",
              "    </tr>\n",
              "  </thead>\n",
              "  <tbody>\n",
              "    <tr>\n",
              "      <th>9</th>\n",
              "      <td>02-2665192</td>\n",
              "      <td>VIA ADELCHI 2</td>\n",
              "    </tr>\n",
              "    <tr>\n",
              "      <th>16</th>\n",
              "      <td>02-29527423</td>\n",
              "      <td>VIA BRONZINO 7</td>\n",
              "    </tr>\n",
              "    <tr>\n",
              "      <th>27</th>\n",
              "      <td>02-21040511</td>\n",
              "      <td>VIA DURAZZO 5</td>\n",
              "    </tr>\n",
              "    <tr>\n",
              "      <th>40</th>\n",
              "      <td>NaN</td>\n",
              "      <td>VIA GIUSEPPE PECCHIO 1</td>\n",
              "    </tr>\n",
              "    <tr>\n",
              "      <th>55</th>\n",
              "      <td>02-70061332</td>\n",
              "      <td>VIA ORTICA 19</td>\n",
              "    </tr>\n",
              "    <tr>\n",
              "      <th>64</th>\n",
              "      <td>02-2046789</td>\n",
              "      <td>VIA ROSOLINO PILO 19/A</td>\n",
              "    </tr>\n",
              "    <tr>\n",
              "      <th>73</th>\n",
              "      <td>02-2047169</td>\n",
              "      <td>VIALE ANDREA DORIA 48</td>\n",
              "    </tr>\n",
              "  </tbody>\n",
              "</table>\n",
              "</div>"
            ],
            "text/plain": [
              "       Telefono               Indirizzo\n",
              "9    02-2665192           VIA ADELCHI 2\n",
              "16  02-29527423          VIA BRONZINO 7\n",
              "27  02-21040511           VIA DURAZZO 5\n",
              "40          NaN  VIA GIUSEPPE PECCHIO 1\n",
              "55  02-70061332           VIA ORTICA 19\n",
              "64   02-2046789  VIA ROSOLINO PILO 19/A\n",
              "73   02-2047169   VIALE ANDREA DORIA 48"
            ]
          },
          "metadata": {},
          "execution_count": 18
        }
      ]
    },
    {
      "cell_type": "markdown",
      "metadata": {
        "id": "XdCxR5izby0g"
      },
      "source": [
        "visualizzare gli uffici di cui non si conosce il numero di telefono o il fax"
      ]
    },
    {
      "cell_type": "code",
      "metadata": {
        "colab": {
          "base_uri": "https://localhost:8080/",
          "height": 204
        },
        "id": "_nh5uanQb0gI",
        "outputId": "1486fa87-c74b-431f-c663-53c73a826eb7"
      },
      "source": [
        "df.loc[(df[\"Telefono\"].isnull()) | (df[\"Fax\"].isnull())]"
      ],
      "execution_count": 19,
      "outputs": [
        {
          "output_type": "execute_result",
          "data": {
            "text/html": [
              "<div>\n",
              "<style scoped>\n",
              "    .dataframe tbody tr th:only-of-type {\n",
              "        vertical-align: middle;\n",
              "    }\n",
              "\n",
              "    .dataframe tbody tr th {\n",
              "        vertical-align: top;\n",
              "    }\n",
              "\n",
              "    .dataframe thead th {\n",
              "        text-align: right;\n",
              "    }\n",
              "</style>\n",
              "<table border=\"1\" class=\"dataframe\">\n",
              "  <thead>\n",
              "    <tr style=\"text-align: right;\">\n",
              "      <th></th>\n",
              "      <th>Indirizzo</th>\n",
              "      <th>Telefono</th>\n",
              "      <th>Fax</th>\n",
              "      <th>CAP</th>\n",
              "      <th>MUNICIPIO</th>\n",
              "      <th>ID_NIL</th>\n",
              "      <th>NIL</th>\n",
              "      <th>LONG_X_4326</th>\n",
              "      <th>LAT_Y_4326</th>\n",
              "      <th>Location</th>\n",
              "    </tr>\n",
              "  </thead>\n",
              "  <tbody>\n",
              "    <tr>\n",
              "      <th>3</th>\n",
              "      <td>CORSO SEMPIONE 94</td>\n",
              "      <td>NaN</td>\n",
              "      <td>NaN</td>\n",
              "      <td>20154</td>\n",
              "      <td>8</td>\n",
              "      <td>69</td>\n",
              "      <td>SARPI</td>\n",
              "      <td>9.158508</td>\n",
              "      <td>45.486540</td>\n",
              "      <td>(45.48654000000005;9.15850800000004)</td>\n",
              "    </tr>\n",
              "    <tr>\n",
              "      <th>26</th>\n",
              "      <td>VIA DELLA MOSCOVA 30</td>\n",
              "      <td>NaN</td>\n",
              "      <td>NaN</td>\n",
              "      <td>20121</td>\n",
              "      <td>1</td>\n",
              "      <td>2</td>\n",
              "      <td>BRERA</td>\n",
              "      <td>9.189608</td>\n",
              "      <td>45.476856</td>\n",
              "      <td>(45.476856000000055;9.189607500000022)</td>\n",
              "    </tr>\n",
              "    <tr>\n",
              "      <th>31</th>\n",
              "      <td>VIA FILIPPO SASSETTI 27</td>\n",
              "      <td>NaN</td>\n",
              "      <td>NaN</td>\n",
              "      <td>20124</td>\n",
              "      <td>9</td>\n",
              "      <td>11</td>\n",
              "      <td>ISOLA</td>\n",
              "      <td>9.193140</td>\n",
              "      <td>45.488259</td>\n",
              "      <td>(45.48825900000003;9.193140000000028)</td>\n",
              "    </tr>\n",
              "    <tr>\n",
              "      <th>40</th>\n",
              "      <td>VIA GIUSEPPE PECCHIO 1</td>\n",
              "      <td>NaN</td>\n",
              "      <td>NaN</td>\n",
              "      <td>20131</td>\n",
              "      <td>3</td>\n",
              "      <td>21</td>\n",
              "      <td>BUENOS AIRES - PORTA VENEZIA - PORTA MONFORTE</td>\n",
              "      <td>9.215861</td>\n",
              "      <td>45.484731</td>\n",
              "      <td>(45.48473100000007;9.215860500000076)</td>\n",
              "    </tr>\n",
              "    <tr>\n",
              "      <th>59</th>\n",
              "      <td>VIA PINDARO 29</td>\n",
              "      <td>NaN</td>\n",
              "      <td>NaN</td>\n",
              "      <td>20128</td>\n",
              "      <td>2</td>\n",
              "      <td>16</td>\n",
              "      <td>GORLA - PRECOTTO</td>\n",
              "      <td>9.229959</td>\n",
              "      <td>45.517005</td>\n",
              "      <td>(45.51700500000004;9.229959000000065)</td>\n",
              "    </tr>\n",
              "  </tbody>\n",
              "</table>\n",
              "</div>"
            ],
            "text/plain": [
              "                  Indirizzo  ...                                Location\n",
              "3         CORSO SEMPIONE 94  ...    (45.48654000000005;9.15850800000004)\n",
              "26     VIA DELLA MOSCOVA 30  ...  (45.476856000000055;9.189607500000022)\n",
              "31  VIA FILIPPO SASSETTI 27  ...   (45.48825900000003;9.193140000000028)\n",
              "40   VIA GIUSEPPE PECCHIO 1  ...   (45.48473100000007;9.215860500000076)\n",
              "59           VIA PINDARO 29  ...   (45.51700500000004;9.229959000000065)\n",
              "\n",
              "[5 rows x 10 columns]"
            ]
          },
          "metadata": {},
          "execution_count": 19
        }
      ]
    },
    {
      "cell_type": "markdown",
      "metadata": {
        "id": "IAe02LVZd7EC"
      },
      "source": [
        "raggruppamento\n",
        "\n",
        "visualizzare il numero di uffici per ogni Nucleo di Identità Locale (NIL)"
      ]
    },
    {
      "cell_type": "code",
      "metadata": {
        "colab": {
          "base_uri": "https://localhost:8080/"
        },
        "id": "xGN7YOuSd7oT",
        "outputId": "d0ca1806-d8df-411a-bb76-03754e5545ec"
      },
      "source": [
        "df.groupby(\"NIL\").size()"
      ],
      "execution_count": 20,
      "outputs": [
        {
          "output_type": "execute_result",
          "data": {
            "text/plain": [
              "NIL\n",
              "ADRIANO                                                        1\n",
              "AFFORI                                                         2\n",
              "BAGGIO - Q.RE DEGLI OLMI - Q.RE VALSESIA                       2\n",
              "BANDE NERE                                                     1\n",
              "BOVISASCA                                                      1\n",
              "BRERA                                                          4\n",
              "BRUZZANO                                                       1\n",
              "BUENOS AIRES - PORTA VENEZIA - PORTA MONFORTE                  4\n",
              "CIMIANO - ROTTOLE - Q.RE FELTRE                                1\n",
              "CITTA' STUDI                                                   1\n",
              "CORSICA                                                        1\n",
              "DE ANGELI - MONTE ROSA                                         1\n",
              "DERGANO                                                        1\n",
              "DUOMO                                                          7\n",
              "FARINI                                                         1\n",
              "FORZE ARMATE                                                   2\n",
              "GIAMBELLINO                                                    3\n",
              "GORLA - PRECOTTO                                               1\n",
              "GRATOSOGLIO - Q.RE MISSAGLIA - Q.RE TERRAZZE                   1\n",
              "GRECO - SEGNANO                                                1\n",
              "GUASTALLA                                                      1\n",
              "ISOLA                                                          3\n",
              "LAMBRATE - ORTICA                                              1\n",
              "LODI - CORVETTO                                                1\n",
              "LORETO - CASORETTO - NOLO                                      2\n",
              "MACIACHINI - MAGGIOLINA                                        2\n",
              "MONCUCCO - SAN CRISTOFORO                                      1\n",
              "MONLUE' - PONTE LAMBRO                                         1\n",
              "NIGUARDA - CA' GRANDA - PRATO CENTENARO - Q.RE FULVIO TESTI    2\n",
              "PADOVA - TURRO - CRESCENZAGO                                   2\n",
              "PAGANO                                                         1\n",
              "PORTA GARIBALDI - PORTA NUOVA                                  1\n",
              "PORTA GENOVA                                                   1\n",
              "PORTA MAGENTA                                                  1\n",
              "PORTA TICINESE - CONCA DEL NAVIGLIO                            1\n",
              "PORTA TICINESE - CONCHETTA                                     1\n",
              "PORTA VIGENTINA - PORTA LODOVICA                               1\n",
              "PTA ROMANA                                                     1\n",
              "Q.RE GALLARATESE - Q.RE SAN LEONARDO - LAMPUGNANO              2\n",
              "QT 8                                                           1\n",
              "QUARTO OGGIARO - VIALBA - MUSOCCO                              2\n",
              "QUINTO ROMANO                                                  1\n",
              "ROGOREDO - SANTA GIULIA                                        1\n",
              "RONCHETTO SUL NAVIGLIO - Q.RE LODOVICO IL MORO                 1\n",
              "SAN SIRO                                                       1\n",
              "SARPI                                                          2\n",
              "SCALO ROMANA                                                   1\n",
              "STADERA - CHIESA ROSSA - Q.RE TORRETTA - CONCA FALLATA         1\n",
              "STAZIONE CENTRALE - PONTE SEVESO                               1\n",
              "TIBALDI                                                        2\n",
              "UMBRIA - MOLISE - CALVAIRATE                                   1\n",
              "VIGENTINO - Q.RE FATIMA                                        1\n",
              "VILLAPIZZONE - CAGNOLA - BOLDINASCO                            1\n",
              "XXII MARZO                                                     2\n",
              "dtype: int64"
            ]
          },
          "metadata": {},
          "execution_count": 20
        }
      ]
    },
    {
      "cell_type": "markdown",
      "metadata": {
        "id": "EBbU_9I1d8B5"
      },
      "source": [
        "visualizzare il numero di uffici per ogni Nucleo di Identità Locale (NIL). Ordinare a partire dal NIL che ha più uffici in giù"
      ]
    },
    {
      "cell_type": "code",
      "metadata": {
        "colab": {
          "base_uri": "https://localhost:8080/",
          "height": 1000
        },
        "id": "s-RSUqWId8XB",
        "outputId": "98a1e1ab-94f6-46ab-ad7e-b772f70cca37"
      },
      "source": [
        "df.groupby(\"NIL\").count().sort_values(\"Indirizzo\",ascending = False)[[\"Indirizzo\"]]"
      ],
      "execution_count": 21,
      "outputs": [
        {
          "output_type": "execute_result",
          "data": {
            "text/html": [
              "<div>\n",
              "<style scoped>\n",
              "    .dataframe tbody tr th:only-of-type {\n",
              "        vertical-align: middle;\n",
              "    }\n",
              "\n",
              "    .dataframe tbody tr th {\n",
              "        vertical-align: top;\n",
              "    }\n",
              "\n",
              "    .dataframe thead th {\n",
              "        text-align: right;\n",
              "    }\n",
              "</style>\n",
              "<table border=\"1\" class=\"dataframe\">\n",
              "  <thead>\n",
              "    <tr style=\"text-align: right;\">\n",
              "      <th></th>\n",
              "      <th>Indirizzo</th>\n",
              "    </tr>\n",
              "    <tr>\n",
              "      <th>NIL</th>\n",
              "      <th></th>\n",
              "    </tr>\n",
              "  </thead>\n",
              "  <tbody>\n",
              "    <tr>\n",
              "      <th>DUOMO</th>\n",
              "      <td>7</td>\n",
              "    </tr>\n",
              "    <tr>\n",
              "      <th>BRERA</th>\n",
              "      <td>4</td>\n",
              "    </tr>\n",
              "    <tr>\n",
              "      <th>BUENOS AIRES - PORTA VENEZIA - PORTA MONFORTE</th>\n",
              "      <td>4</td>\n",
              "    </tr>\n",
              "    <tr>\n",
              "      <th>GIAMBELLINO</th>\n",
              "      <td>3</td>\n",
              "    </tr>\n",
              "    <tr>\n",
              "      <th>ISOLA</th>\n",
              "      <td>3</td>\n",
              "    </tr>\n",
              "    <tr>\n",
              "      <th>PADOVA - TURRO - CRESCENZAGO</th>\n",
              "      <td>2</td>\n",
              "    </tr>\n",
              "    <tr>\n",
              "      <th>NIGUARDA - CA' GRANDA - PRATO CENTENARO - Q.RE FULVIO TESTI</th>\n",
              "      <td>2</td>\n",
              "    </tr>\n",
              "    <tr>\n",
              "      <th>AFFORI</th>\n",
              "      <td>2</td>\n",
              "    </tr>\n",
              "    <tr>\n",
              "      <th>MACIACHINI - MAGGIOLINA</th>\n",
              "      <td>2</td>\n",
              "    </tr>\n",
              "    <tr>\n",
              "      <th>LORETO - CASORETTO - NOLO</th>\n",
              "      <td>2</td>\n",
              "    </tr>\n",
              "    <tr>\n",
              "      <th>Q.RE GALLARATESE - Q.RE SAN LEONARDO - LAMPUGNANO</th>\n",
              "      <td>2</td>\n",
              "    </tr>\n",
              "    <tr>\n",
              "      <th>QUARTO OGGIARO - VIALBA - MUSOCCO</th>\n",
              "      <td>2</td>\n",
              "    </tr>\n",
              "    <tr>\n",
              "      <th>FORZE ARMATE</th>\n",
              "      <td>2</td>\n",
              "    </tr>\n",
              "    <tr>\n",
              "      <th>XXII MARZO</th>\n",
              "      <td>2</td>\n",
              "    </tr>\n",
              "    <tr>\n",
              "      <th>TIBALDI</th>\n",
              "      <td>2</td>\n",
              "    </tr>\n",
              "    <tr>\n",
              "      <th>BAGGIO - Q.RE DEGLI OLMI - Q.RE VALSESIA</th>\n",
              "      <td>2</td>\n",
              "    </tr>\n",
              "    <tr>\n",
              "      <th>SARPI</th>\n",
              "      <td>2</td>\n",
              "    </tr>\n",
              "    <tr>\n",
              "      <th>SAN SIRO</th>\n",
              "      <td>1</td>\n",
              "    </tr>\n",
              "    <tr>\n",
              "      <th>PORTA TICINESE - CONCHETTA</th>\n",
              "      <td>1</td>\n",
              "    </tr>\n",
              "    <tr>\n",
              "      <th>PORTA VIGENTINA - PORTA LODOVICA</th>\n",
              "      <td>1</td>\n",
              "    </tr>\n",
              "    <tr>\n",
              "      <th>VILLAPIZZONE - CAGNOLA - BOLDINASCO</th>\n",
              "      <td>1</td>\n",
              "    </tr>\n",
              "    <tr>\n",
              "      <th>VIGENTINO - Q.RE FATIMA</th>\n",
              "      <td>1</td>\n",
              "    </tr>\n",
              "    <tr>\n",
              "      <th>PTA ROMANA</th>\n",
              "      <td>1</td>\n",
              "    </tr>\n",
              "    <tr>\n",
              "      <th>UMBRIA - MOLISE - CALVAIRATE</th>\n",
              "      <td>1</td>\n",
              "    </tr>\n",
              "    <tr>\n",
              "      <th>STAZIONE CENTRALE - PONTE SEVESO</th>\n",
              "      <td>1</td>\n",
              "    </tr>\n",
              "    <tr>\n",
              "      <th>QT 8</th>\n",
              "      <td>1</td>\n",
              "    </tr>\n",
              "    <tr>\n",
              "      <th>STADERA - CHIESA ROSSA - Q.RE TORRETTA - CONCA FALLATA</th>\n",
              "      <td>1</td>\n",
              "    </tr>\n",
              "    <tr>\n",
              "      <th>SCALO ROMANA</th>\n",
              "      <td>1</td>\n",
              "    </tr>\n",
              "    <tr>\n",
              "      <th>QUINTO ROMANO</th>\n",
              "      <td>1</td>\n",
              "    </tr>\n",
              "    <tr>\n",
              "      <th>ROGOREDO - SANTA GIULIA</th>\n",
              "      <td>1</td>\n",
              "    </tr>\n",
              "    <tr>\n",
              "      <th>RONCHETTO SUL NAVIGLIO - Q.RE LODOVICO IL MORO</th>\n",
              "      <td>1</td>\n",
              "    </tr>\n",
              "    <tr>\n",
              "      <th>PORTA MAGENTA</th>\n",
              "      <td>1</td>\n",
              "    </tr>\n",
              "    <tr>\n",
              "      <th>PORTA TICINESE - CONCA DEL NAVIGLIO</th>\n",
              "      <td>1</td>\n",
              "    </tr>\n",
              "    <tr>\n",
              "      <th>ADRIANO</th>\n",
              "      <td>1</td>\n",
              "    </tr>\n",
              "    <tr>\n",
              "      <th>PORTA GENOVA</th>\n",
              "      <td>1</td>\n",
              "    </tr>\n",
              "    <tr>\n",
              "      <th>PORTA GARIBALDI - PORTA NUOVA</th>\n",
              "      <td>1</td>\n",
              "    </tr>\n",
              "    <tr>\n",
              "      <th>BANDE NERE</th>\n",
              "      <td>1</td>\n",
              "    </tr>\n",
              "    <tr>\n",
              "      <th>BOVISASCA</th>\n",
              "      <td>1</td>\n",
              "    </tr>\n",
              "    <tr>\n",
              "      <th>BRUZZANO</th>\n",
              "      <td>1</td>\n",
              "    </tr>\n",
              "    <tr>\n",
              "      <th>CIMIANO - ROTTOLE - Q.RE FELTRE</th>\n",
              "      <td>1</td>\n",
              "    </tr>\n",
              "    <tr>\n",
              "      <th>CITTA' STUDI</th>\n",
              "      <td>1</td>\n",
              "    </tr>\n",
              "    <tr>\n",
              "      <th>CORSICA</th>\n",
              "      <td>1</td>\n",
              "    </tr>\n",
              "    <tr>\n",
              "      <th>DE ANGELI - MONTE ROSA</th>\n",
              "      <td>1</td>\n",
              "    </tr>\n",
              "    <tr>\n",
              "      <th>DERGANO</th>\n",
              "      <td>1</td>\n",
              "    </tr>\n",
              "    <tr>\n",
              "      <th>FARINI</th>\n",
              "      <td>1</td>\n",
              "    </tr>\n",
              "    <tr>\n",
              "      <th>GORLA - PRECOTTO</th>\n",
              "      <td>1</td>\n",
              "    </tr>\n",
              "    <tr>\n",
              "      <th>GRATOSOGLIO - Q.RE MISSAGLIA - Q.RE TERRAZZE</th>\n",
              "      <td>1</td>\n",
              "    </tr>\n",
              "    <tr>\n",
              "      <th>GRECO - SEGNANO</th>\n",
              "      <td>1</td>\n",
              "    </tr>\n",
              "    <tr>\n",
              "      <th>GUASTALLA</th>\n",
              "      <td>1</td>\n",
              "    </tr>\n",
              "    <tr>\n",
              "      <th>LAMBRATE - ORTICA</th>\n",
              "      <td>1</td>\n",
              "    </tr>\n",
              "    <tr>\n",
              "      <th>LODI - CORVETTO</th>\n",
              "      <td>1</td>\n",
              "    </tr>\n",
              "    <tr>\n",
              "      <th>MONCUCCO - SAN CRISTOFORO</th>\n",
              "      <td>1</td>\n",
              "    </tr>\n",
              "    <tr>\n",
              "      <th>PAGANO</th>\n",
              "      <td>1</td>\n",
              "    </tr>\n",
              "    <tr>\n",
              "      <th>MONLUE' - PONTE LAMBRO</th>\n",
              "      <td>1</td>\n",
              "    </tr>\n",
              "  </tbody>\n",
              "</table>\n",
              "</div>"
            ],
            "text/plain": [
              "                                                    Indirizzo\n",
              "NIL                                                          \n",
              "DUOMO                                                       7\n",
              "BRERA                                                       4\n",
              "BUENOS AIRES - PORTA VENEZIA - PORTA MONFORTE               4\n",
              "GIAMBELLINO                                                 3\n",
              "ISOLA                                                       3\n",
              "PADOVA - TURRO - CRESCENZAGO                                2\n",
              "NIGUARDA - CA' GRANDA - PRATO CENTENARO - Q.RE ...          2\n",
              "AFFORI                                                      2\n",
              "MACIACHINI - MAGGIOLINA                                     2\n",
              "LORETO - CASORETTO - NOLO                                   2\n",
              "Q.RE GALLARATESE - Q.RE SAN LEONARDO - LAMPUGNANO           2\n",
              "QUARTO OGGIARO - VIALBA - MUSOCCO                           2\n",
              "FORZE ARMATE                                                2\n",
              "XXII MARZO                                                  2\n",
              "TIBALDI                                                     2\n",
              "BAGGIO - Q.RE DEGLI OLMI - Q.RE VALSESIA                    2\n",
              "SARPI                                                       2\n",
              "SAN SIRO                                                    1\n",
              "PORTA TICINESE - CONCHETTA                                  1\n",
              "PORTA VIGENTINA - PORTA LODOVICA                            1\n",
              "VILLAPIZZONE - CAGNOLA - BOLDINASCO                         1\n",
              "VIGENTINO - Q.RE FATIMA                                     1\n",
              "PTA ROMANA                                                  1\n",
              "UMBRIA - MOLISE - CALVAIRATE                                1\n",
              "STAZIONE CENTRALE - PONTE SEVESO                            1\n",
              "QT 8                                                        1\n",
              "STADERA - CHIESA ROSSA - Q.RE TORRETTA - CONCA ...          1\n",
              "SCALO ROMANA                                                1\n",
              "QUINTO ROMANO                                               1\n",
              "ROGOREDO - SANTA GIULIA                                     1\n",
              "RONCHETTO SUL NAVIGLIO - Q.RE LODOVICO IL MORO              1\n",
              "PORTA MAGENTA                                               1\n",
              "PORTA TICINESE - CONCA DEL NAVIGLIO                         1\n",
              "ADRIANO                                                     1\n",
              "PORTA GENOVA                                                1\n",
              "PORTA GARIBALDI - PORTA NUOVA                               1\n",
              "BANDE NERE                                                  1\n",
              "BOVISASCA                                                   1\n",
              "BRUZZANO                                                    1\n",
              "CIMIANO - ROTTOLE - Q.RE FELTRE                             1\n",
              "CITTA' STUDI                                                1\n",
              "CORSICA                                                     1\n",
              "DE ANGELI - MONTE ROSA                                      1\n",
              "DERGANO                                                     1\n",
              "FARINI                                                      1\n",
              "GORLA - PRECOTTO                                            1\n",
              "GRATOSOGLIO - Q.RE MISSAGLIA - Q.RE TERRAZZE                1\n",
              "GRECO - SEGNANO                                             1\n",
              "GUASTALLA                                                   1\n",
              "LAMBRATE - ORTICA                                           1\n",
              "LODI - CORVETTO                                             1\n",
              "MONCUCCO - SAN CRISTOFORO                                   1\n",
              "PAGANO                                                      1\n",
              "MONLUE' - PONTE LAMBRO                                      1"
            ]
          },
          "metadata": {},
          "execution_count": 21
        }
      ]
    },
    {
      "cell_type": "markdown",
      "metadata": {
        "id": "QxSX0OJgeBYh"
      },
      "source": [
        "visualizzare i municipi che hanno più di 15 uffici postali"
      ]
    },
    {
      "cell_type": "code",
      "metadata": {
        "colab": {
          "base_uri": "https://localhost:8080/"
        },
        "id": "4heo1Y69eBp7",
        "outputId": "507554c5-52fb-43e9-bacc-603af37a9564"
      },
      "source": [
        "df['MUNICIPIO'].value_counts()[df['MUNICIPIO'].value_counts() > 15]"
      ],
      "execution_count": 22,
      "outputs": [
        {
          "output_type": "execute_result",
          "data": {
            "text/plain": [
              "Series([], Name: MUNICIPIO, dtype: int64)"
            ]
          },
          "metadata": {},
          "execution_count": 22
        }
      ]
    },
    {
      "cell_type": "markdown",
      "metadata": {
        "id": "ddQvPfp4eE2Y"
      },
      "source": [
        "visualizzare il municipio che ha più uffici postali"
      ]
    },
    {
      "cell_type": "code",
      "metadata": {
        "colab": {
          "base_uri": "https://localhost:8080/"
        },
        "id": "Q5ddd-NEeFD5",
        "outputId": "1dfe2e73-e84b-41ed-e332-0337f853ade9"
      },
      "source": [
        "df['MUNICIPIO'].value_counts().max()"
      ],
      "execution_count": 23,
      "outputs": [
        {
          "output_type": "execute_result",
          "data": {
            "text/plain": [
              "14"
            ]
          },
          "metadata": {},
          "execution_count": 23
        }
      ]
    },
    {
      "cell_type": "markdown",
      "metadata": {
        "id": "lx2LZRpheFTx"
      },
      "source": [
        "visualizzare il municipio che ha meno uffici postali"
      ]
    },
    {
      "cell_type": "code",
      "metadata": {
        "colab": {
          "base_uri": "https://localhost:8080/"
        },
        "id": "Y4pNfDEZeFnI",
        "outputId": "dd92fcc9-a574-4eaf-ecc7-fa84bb107c59"
      },
      "source": [
        "df['MUNICIPIO'].value_counts().min()"
      ],
      "execution_count": 24,
      "outputs": [
        {
          "output_type": "execute_result",
          "data": {
            "text/plain": [
              "7"
            ]
          },
          "metadata": {},
          "execution_count": 24
        }
      ]
    },
    {
      "cell_type": "markdown",
      "metadata": {
        "id": "RlFbgUgyeF_p"
      },
      "source": [
        "visualizzare il numero medio di uffici postali in ogni municipio"
      ]
    },
    {
      "cell_type": "code",
      "metadata": {
        "colab": {
          "base_uri": "https://localhost:8080/"
        },
        "id": "5flGd7xdeGUI",
        "outputId": "7b8e2c1a-6a67-4e7f-de45-87d57a590b4c"
      },
      "source": [
        "df['MUNICIPIO'].value_counts().mean()"
      ],
      "execution_count": 25,
      "outputs": [
        {
          "output_type": "execute_result",
          "data": {
            "text/plain": [
              "9.11111111111111"
            ]
          },
          "metadata": {},
          "execution_count": 25
        }
      ]
    },
    {
      "cell_type": "markdown",
      "metadata": {
        "id": "VUgjstaweMRR"
      },
      "source": [
        "visualizzare gli uffici postali che hanno un numero di uffici postali superiore alla media"
      ]
    },
    {
      "cell_type": "code",
      "metadata": {
        "id": "pq48lWgCeMki"
      },
      "source": [
        ""
      ],
      "execution_count": 22,
      "outputs": []
    },
    {
      "cell_type": "markdown",
      "metadata": {
        "id": "3O8orQ0LeROB"
      },
      "source": [
        "eliminazione di righe o colonne\n",
        "\n",
        "eliminare tutti i record relativi al NIL di Niguarda"
      ]
    },
    {
      "cell_type": "code",
      "metadata": {
        "colab": {
          "base_uri": "https://localhost:8080/",
          "height": 419
        },
        "id": "69DLvffaeTrp",
        "outputId": "7b7770a4-c712-4a22-89ad-7801006314c6"
      },
      "source": [
        "df1 = df.drop(df[df['NIL'].str.contains(\"NIGUARDA \")].index)\n",
        "df1"
      ],
      "execution_count": 26,
      "outputs": [
        {
          "output_type": "execute_result",
          "data": {
            "text/html": [
              "<div>\n",
              "<style scoped>\n",
              "    .dataframe tbody tr th:only-of-type {\n",
              "        vertical-align: middle;\n",
              "    }\n",
              "\n",
              "    .dataframe tbody tr th {\n",
              "        vertical-align: top;\n",
              "    }\n",
              "\n",
              "    .dataframe thead th {\n",
              "        text-align: right;\n",
              "    }\n",
              "</style>\n",
              "<table border=\"1\" class=\"dataframe\">\n",
              "  <thead>\n",
              "    <tr style=\"text-align: right;\">\n",
              "      <th></th>\n",
              "      <th>Indirizzo</th>\n",
              "      <th>Telefono</th>\n",
              "      <th>Fax</th>\n",
              "      <th>CAP</th>\n",
              "      <th>MUNICIPIO</th>\n",
              "      <th>ID_NIL</th>\n",
              "      <th>NIL</th>\n",
              "      <th>LONG_X_4326</th>\n",
              "      <th>LAT_Y_4326</th>\n",
              "      <th>Location</th>\n",
              "    </tr>\n",
              "  </thead>\n",
              "  <tbody>\n",
              "    <tr>\n",
              "      <th>0</th>\n",
              "      <td>BASTIONI DI PORTA VOLTA 7</td>\n",
              "      <td>02-6572655</td>\n",
              "      <td>02-29002004</td>\n",
              "      <td>20121</td>\n",
              "      <td>1</td>\n",
              "      <td>2</td>\n",
              "      <td>BRERA</td>\n",
              "      <td>9.182151</td>\n",
              "      <td>45.479601</td>\n",
              "      <td>(45.47960100000006;9.182151000000033)</td>\n",
              "    </tr>\n",
              "    <tr>\n",
              "      <th>1</th>\n",
              "      <td>CORSO DI PORTA VIGENTINA 35</td>\n",
              "      <td>02-58320771</td>\n",
              "      <td>02-58319779</td>\n",
              "      <td>20122</td>\n",
              "      <td>1</td>\n",
              "      <td>5</td>\n",
              "      <td>PORTA VIGENTINA - PORTA LODOVICA</td>\n",
              "      <td>9.196520</td>\n",
              "      <td>45.452538</td>\n",
              "      <td>(45.45253800000006;9.196519500000022)</td>\n",
              "    </tr>\n",
              "    <tr>\n",
              "      <th>2</th>\n",
              "      <td>CORSO ITALI 16</td>\n",
              "      <td>02-804336</td>\n",
              "      <td>02-86454450</td>\n",
              "      <td>20122</td>\n",
              "      <td>1</td>\n",
              "      <td>1</td>\n",
              "      <td>DUOMO</td>\n",
              "      <td>9.187470</td>\n",
              "      <td>45.457893</td>\n",
              "      <td>(45.45789300000007;9.187470000000076)</td>\n",
              "    </tr>\n",
              "    <tr>\n",
              "      <th>3</th>\n",
              "      <td>CORSO SEMPIONE 94</td>\n",
              "      <td>NaN</td>\n",
              "      <td>NaN</td>\n",
              "      <td>20154</td>\n",
              "      <td>8</td>\n",
              "      <td>69</td>\n",
              "      <td>SARPI</td>\n",
              "      <td>9.158508</td>\n",
              "      <td>45.486540</td>\n",
              "      <td>(45.48654000000005;9.15850800000004)</td>\n",
              "    </tr>\n",
              "    <tr>\n",
              "      <th>4</th>\n",
              "      <td>CORSO VENEZIA 42</td>\n",
              "      <td>02-76023056</td>\n",
              "      <td>02-7837251</td>\n",
              "      <td>20121</td>\n",
              "      <td>1</td>\n",
              "      <td>4</td>\n",
              "      <td>GUASTALLA</td>\n",
              "      <td>9.202703</td>\n",
              "      <td>45.471861</td>\n",
              "      <td>(45.47186100000005;9.202702500000044)</td>\n",
              "    </tr>\n",
              "    <tr>\n",
              "      <th>...</th>\n",
              "      <td>...</td>\n",
              "      <td>...</td>\n",
              "      <td>...</td>\n",
              "      <td>...</td>\n",
              "      <td>...</td>\n",
              "      <td>...</td>\n",
              "      <td>...</td>\n",
              "      <td>...</td>\n",
              "      <td>...</td>\n",
              "      <td>...</td>\n",
              "    </tr>\n",
              "    <tr>\n",
              "      <th>77</th>\n",
              "      <td>VIALE GORIZIA 6</td>\n",
              "      <td>02-8358241</td>\n",
              "      <td>02-8373830</td>\n",
              "      <td>20144</td>\n",
              "      <td>6</td>\n",
              "      <td>44</td>\n",
              "      <td>PORTA TICINESE - CONCHETTA</td>\n",
              "      <td>9.173156</td>\n",
              "      <td>45.454518</td>\n",
              "      <td>(45.454518000000064;9.173155500000064)</td>\n",
              "    </tr>\n",
              "    <tr>\n",
              "      <th>78</th>\n",
              "      <td>VIALE MONTE CENERI SNC</td>\n",
              "      <td>02-32671911</td>\n",
              "      <td>02-32671947</td>\n",
              "      <td>20155</td>\n",
              "      <td>8</td>\n",
              "      <td>71</td>\n",
              "      <td>VILLAPIZZONE - CAGNOLA - BOLDINASCO</td>\n",
              "      <td>9.153592</td>\n",
              "      <td>45.491568</td>\n",
              "      <td>(45.49156751800007;9.153591732000052)</td>\n",
              "    </tr>\n",
              "    <tr>\n",
              "      <th>79</th>\n",
              "      <td>VIALE SABOTINO 21/A</td>\n",
              "      <td>02-58457911</td>\n",
              "      <td>02-58457947</td>\n",
              "      <td>20135</td>\n",
              "      <td>5</td>\n",
              "      <td>27</td>\n",
              "      <td>PTA ROMANA</td>\n",
              "      <td>9.200174</td>\n",
              "      <td>45.451017</td>\n",
              "      <td>(45.451017000000036;9.200173500000062)</td>\n",
              "    </tr>\n",
              "    <tr>\n",
              "      <th>80</th>\n",
              "      <td>VIALE SAN GIMIGNANO 10</td>\n",
              "      <td>02-41411311</td>\n",
              "      <td>02-41411347</td>\n",
              "      <td>20146</td>\n",
              "      <td>6</td>\n",
              "      <td>52</td>\n",
              "      <td>BANDE NERE</td>\n",
              "      <td>9.136526</td>\n",
              "      <td>45.455868</td>\n",
              "      <td>(45.455868000000066;9.136525500000062)</td>\n",
              "    </tr>\n",
              "    <tr>\n",
              "      <th>81</th>\n",
              "      <td>VIALE ZARA 131</td>\n",
              "      <td>02-69911111</td>\n",
              "      <td>02-69911147</td>\n",
              "      <td>20159</td>\n",
              "      <td>9</td>\n",
              "      <td>12</td>\n",
              "      <td>MACIACHINI - MAGGIOLINA</td>\n",
              "      <td>9.196686</td>\n",
              "      <td>45.500193</td>\n",
              "      <td>(45.50019300000008;9.196686000000057)</td>\n",
              "    </tr>\n",
              "  </tbody>\n",
              "</table>\n",
              "<p>80 rows × 10 columns</p>\n",
              "</div>"
            ],
            "text/plain": [
              "                      Indirizzo  ...                                Location\n",
              "0     BASTIONI DI PORTA VOLTA 7  ...   (45.47960100000006;9.182151000000033)\n",
              "1   CORSO DI PORTA VIGENTINA 35  ...   (45.45253800000006;9.196519500000022)\n",
              "2                CORSO ITALI 16  ...   (45.45789300000007;9.187470000000076)\n",
              "3             CORSO SEMPIONE 94  ...    (45.48654000000005;9.15850800000004)\n",
              "4              CORSO VENEZIA 42  ...   (45.47186100000005;9.202702500000044)\n",
              "..                          ...  ...                                     ...\n",
              "77              VIALE GORIZIA 6  ...  (45.454518000000064;9.173155500000064)\n",
              "78       VIALE MONTE CENERI SNC  ...   (45.49156751800007;9.153591732000052)\n",
              "79          VIALE SABOTINO 21/A  ...  (45.451017000000036;9.200173500000062)\n",
              "80       VIALE SAN GIMIGNANO 10  ...  (45.455868000000066;9.136525500000062)\n",
              "81               VIALE ZARA 131  ...   (45.50019300000008;9.196686000000057)\n",
              "\n",
              "[80 rows x 10 columns]"
            ]
          },
          "metadata": {},
          "execution_count": 26
        }
      ]
    },
    {
      "cell_type": "markdown",
      "metadata": {
        "id": "EpbGfafreUBK"
      },
      "source": [
        "eliminare le ultime tre colonne"
      ]
    },
    {
      "cell_type": "code",
      "metadata": {
        "colab": {
          "base_uri": "https://localhost:8080/",
          "height": 419
        },
        "id": "TAeLoEafeUYJ",
        "outputId": "a6875cef-7cfc-427f-9bf9-81e4f61993ec"
      },
      "source": [
        "df.drop(columns= df.iloc[:,-3:])"
      ],
      "execution_count": 27,
      "outputs": [
        {
          "output_type": "execute_result",
          "data": {
            "text/html": [
              "<div>\n",
              "<style scoped>\n",
              "    .dataframe tbody tr th:only-of-type {\n",
              "        vertical-align: middle;\n",
              "    }\n",
              "\n",
              "    .dataframe tbody tr th {\n",
              "        vertical-align: top;\n",
              "    }\n",
              "\n",
              "    .dataframe thead th {\n",
              "        text-align: right;\n",
              "    }\n",
              "</style>\n",
              "<table border=\"1\" class=\"dataframe\">\n",
              "  <thead>\n",
              "    <tr style=\"text-align: right;\">\n",
              "      <th></th>\n",
              "      <th>Indirizzo</th>\n",
              "      <th>Telefono</th>\n",
              "      <th>Fax</th>\n",
              "      <th>CAP</th>\n",
              "      <th>MUNICIPIO</th>\n",
              "      <th>ID_NIL</th>\n",
              "      <th>NIL</th>\n",
              "    </tr>\n",
              "  </thead>\n",
              "  <tbody>\n",
              "    <tr>\n",
              "      <th>0</th>\n",
              "      <td>BASTIONI DI PORTA VOLTA 7</td>\n",
              "      <td>02-6572655</td>\n",
              "      <td>02-29002004</td>\n",
              "      <td>20121</td>\n",
              "      <td>1</td>\n",
              "      <td>2</td>\n",
              "      <td>BRERA</td>\n",
              "    </tr>\n",
              "    <tr>\n",
              "      <th>1</th>\n",
              "      <td>CORSO DI PORTA VIGENTINA 35</td>\n",
              "      <td>02-58320771</td>\n",
              "      <td>02-58319779</td>\n",
              "      <td>20122</td>\n",
              "      <td>1</td>\n",
              "      <td>5</td>\n",
              "      <td>PORTA VIGENTINA - PORTA LODOVICA</td>\n",
              "    </tr>\n",
              "    <tr>\n",
              "      <th>2</th>\n",
              "      <td>CORSO ITALI 16</td>\n",
              "      <td>02-804336</td>\n",
              "      <td>02-86454450</td>\n",
              "      <td>20122</td>\n",
              "      <td>1</td>\n",
              "      <td>1</td>\n",
              "      <td>DUOMO</td>\n",
              "    </tr>\n",
              "    <tr>\n",
              "      <th>3</th>\n",
              "      <td>CORSO SEMPIONE 94</td>\n",
              "      <td>NaN</td>\n",
              "      <td>NaN</td>\n",
              "      <td>20154</td>\n",
              "      <td>8</td>\n",
              "      <td>69</td>\n",
              "      <td>SARPI</td>\n",
              "    </tr>\n",
              "    <tr>\n",
              "      <th>4</th>\n",
              "      <td>CORSO VENEZIA 42</td>\n",
              "      <td>02-76023056</td>\n",
              "      <td>02-7837251</td>\n",
              "      <td>20121</td>\n",
              "      <td>1</td>\n",
              "      <td>4</td>\n",
              "      <td>GUASTALLA</td>\n",
              "    </tr>\n",
              "    <tr>\n",
              "      <th>...</th>\n",
              "      <td>...</td>\n",
              "      <td>...</td>\n",
              "      <td>...</td>\n",
              "      <td>...</td>\n",
              "      <td>...</td>\n",
              "      <td>...</td>\n",
              "      <td>...</td>\n",
              "    </tr>\n",
              "    <tr>\n",
              "      <th>77</th>\n",
              "      <td>VIALE GORIZIA 6</td>\n",
              "      <td>02-8358241</td>\n",
              "      <td>02-8373830</td>\n",
              "      <td>20144</td>\n",
              "      <td>6</td>\n",
              "      <td>44</td>\n",
              "      <td>PORTA TICINESE - CONCHETTA</td>\n",
              "    </tr>\n",
              "    <tr>\n",
              "      <th>78</th>\n",
              "      <td>VIALE MONTE CENERI SNC</td>\n",
              "      <td>02-32671911</td>\n",
              "      <td>02-32671947</td>\n",
              "      <td>20155</td>\n",
              "      <td>8</td>\n",
              "      <td>71</td>\n",
              "      <td>VILLAPIZZONE - CAGNOLA - BOLDINASCO</td>\n",
              "    </tr>\n",
              "    <tr>\n",
              "      <th>79</th>\n",
              "      <td>VIALE SABOTINO 21/A</td>\n",
              "      <td>02-58457911</td>\n",
              "      <td>02-58457947</td>\n",
              "      <td>20135</td>\n",
              "      <td>5</td>\n",
              "      <td>27</td>\n",
              "      <td>PTA ROMANA</td>\n",
              "    </tr>\n",
              "    <tr>\n",
              "      <th>80</th>\n",
              "      <td>VIALE SAN GIMIGNANO 10</td>\n",
              "      <td>02-41411311</td>\n",
              "      <td>02-41411347</td>\n",
              "      <td>20146</td>\n",
              "      <td>6</td>\n",
              "      <td>52</td>\n",
              "      <td>BANDE NERE</td>\n",
              "    </tr>\n",
              "    <tr>\n",
              "      <th>81</th>\n",
              "      <td>VIALE ZARA 131</td>\n",
              "      <td>02-69911111</td>\n",
              "      <td>02-69911147</td>\n",
              "      <td>20159</td>\n",
              "      <td>9</td>\n",
              "      <td>12</td>\n",
              "      <td>MACIACHINI - MAGGIOLINA</td>\n",
              "    </tr>\n",
              "  </tbody>\n",
              "</table>\n",
              "<p>82 rows × 7 columns</p>\n",
              "</div>"
            ],
            "text/plain": [
              "                      Indirizzo  ...                                  NIL\n",
              "0     BASTIONI DI PORTA VOLTA 7  ...                                BRERA\n",
              "1   CORSO DI PORTA VIGENTINA 35  ...     PORTA VIGENTINA - PORTA LODOVICA\n",
              "2                CORSO ITALI 16  ...                                DUOMO\n",
              "3             CORSO SEMPIONE 94  ...                                SARPI\n",
              "4              CORSO VENEZIA 42  ...                            GUASTALLA\n",
              "..                          ...  ...                                  ...\n",
              "77              VIALE GORIZIA 6  ...           PORTA TICINESE - CONCHETTA\n",
              "78       VIALE MONTE CENERI SNC  ...  VILLAPIZZONE - CAGNOLA - BOLDINASCO\n",
              "79          VIALE SABOTINO 21/A  ...                           PTA ROMANA\n",
              "80       VIALE SAN GIMIGNANO 10  ...                           BANDE NERE\n",
              "81               VIALE ZARA 131  ...              MACIACHINI - MAGGIOLINA\n",
              "\n",
              "[82 rows x 7 columns]"
            ]
          },
          "metadata": {},
          "execution_count": 27
        }
      ]
    },
    {
      "cell_type": "markdown",
      "metadata": {
        "id": "GIKmW9YGeWdp"
      },
      "source": [
        "eliminare i record di cui non si conosce il numero di telefono o il fax"
      ]
    },
    {
      "cell_type": "code",
      "metadata": {
        "id": "TnxUOaxYeY7x"
      },
      "source": [
        ""
      ],
      "execution_count": 22,
      "outputs": []
    },
    {
      "cell_type": "markdown",
      "metadata": {
        "id": "UIX4eedieZdR"
      },
      "source": [
        "modificare il numero di telefono dell'ufficio di viale Zara in 02-69922222"
      ]
    },
    {
      "cell_type": "code",
      "metadata": {
        "id": "7OW9YT_feboJ"
      },
      "source": [
        ""
      ],
      "execution_count": 22,
      "outputs": []
    },
    {
      "cell_type": "markdown",
      "metadata": {
        "id": "qafJNiATeb_p"
      },
      "source": [
        "sostituire il trattino presente nei numeri di telefono con il carattere /"
      ]
    }
  ]
}