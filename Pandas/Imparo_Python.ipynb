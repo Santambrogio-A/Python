{
  "nbformat": 4,
  "nbformat_minor": 0,
  "metadata": {
    "colab": {
      "name": "Imparo_Python.ipynb",
      "provenance": [],
      "collapsed_sections": []
    },
    "kernelspec": {
      "name": "python3",
      "display_name": "Python 3"
    },
    "language_info": {
      "name": "python"
    }
  },
  "cells": [
    {
      "cell_type": "code",
      "metadata": {
        "id": "wlo8p-UfIw8A"
      },
      "source": [
        "# Differenzazione dei commenti\n",
        "\n",
        "# Assegna 5 a x\n",
        "x = 5\n",
        "x = 3 # Ora x è 3\n",
        "x = \"# Questo non è un commento è considerato come stinga\""
      ],
      "execution_count": null,
      "outputs": []
    },
    {
      "cell_type": "code",
      "metadata": {
        "id": "xjUzoAsQKwT1"
      },
      "source": [
        "# Variabili e assegnamenti\n",
        "\n",
        "x = 5\n",
        "# Abbiamo assegnato alla variabile x il valore 5\n",
        "# Non dobbiamo però pensare che le variabili siano dei contenitori in Python ma dobbiamo pensarle come delle etichette che fanno riferimento a oggetti situati nello spazio dei nomi dell'interprete Python\n",
        "# Per capire userò questo programma\n",
        "\n",
        "a = [1, 2, 3]\n",
        "b = a\n",
        "c = b \n",
        "b[1] = 5\n",
        "print(a, b, c) \n",
        "\n",
        "# Se si pensa alle variabili come contenitori non ha senso questa roba ma se si pensa che siano solo delle eichette che fanno riferimento allo stesso oggetto, ha senso che cambiando l'oggetto si cambino tutte e 3 le etichette\n",
        "# che fanno riferimento a quell'oggetto cambino (altro es pag 40)\n",
        "\n",
        "# In Python le variabili possono contenere un qualsiasi tipo di oggetto ad esempio\n",
        "\n",
        "x = \"Hello\"\n",
        "print(x)\n",
        "x = 5 \n",
        "print(x)\n",
        "\n",
        "# All'inizio la x fa rifermiento all' oggetto stringa \"Hello\" mente subito dopo fa riferimento all'oggetto intero 5\n",
        "# è facile abusare di questa cosa ma rende i codici di difficile comprensione \n",
        "# Si può eliminare la variabile con l'struzione del se si proverà a mostrare il contenuto della variabile dopo l'eliminazione uscirà un errore\n",
        "\n",
        "x = 5\n",
        "print(x)\n",
        "del x\n",
        "print(x)\n",
        "\n",
        "#Traceback compare per la prima volta ed è come indicare un errore cioè una eccezione in Python"
      ],
      "execution_count": null,
      "outputs": []
    },
    {
      "cell_type": "code",
      "metadata": {
        "colab": {
          "base_uri": "https://localhost:8080/"
        },
        "id": "5_Oj4vCLRtQN",
        "outputId": "454134c6-d654-445a-ae96-43e299a8356f"
      },
      "source": [
        "# Espressioni\n",
        "\n",
        "# Python supporta le espressioni di tipo aritmetico o analogico\n",
        "# Questo codice calcola la media fra 3 e 5 mettendo il risultto nella variabile z:\n",
        "\n",
        "x = 3\n",
        "y = 5\n",
        "z = (x + y) / 2\n",
        "print(z)\n",
        "\n",
        "# Se si vue fare la divisione fra interi impedendo così i decimali sii può usare //\n",
        "# Se non avessi messo le parentesi su (x + y) / 2 il calcolo sarebbe stato così x + (y / 2)"
      ],
      "execution_count": null,
      "outputs": [
        {
          "output_type": "stream",
          "text": [
            "4.0\n"
          ],
          "name": "stdout"
        }
      ]
    },
    {
      "cell_type": "code",
      "metadata": {
        "id": "a297GqDwU7Ri"
      },
      "source": [
        "# Stringhe\n",
        "\n",
        "# Come molti atri linguaggi Python indica le stringe con i doppi apici \"\"\n",
        "# La seguente rigal lascia la stringa \"Hello, World\" nella variabile x:\n",
        "\n",
        "x = \"Hello, World\"\n",
        "print(x)\n",
        "\n",
        "# Per dare un significato particolare alle stringhe si usa il simbolo \"\\\"\n",
        "# \\n rappresenta il carattere di fine riga\n",
        "# \\t rappresenta il carattere di tabulazione\n",
        "# \\\\ rappresenta il normale backslash \n",
        "# \\\" serve per poter usare il doppio apice che se no indicherebbe la fine della stringa\n",
        "\n",
        "x = \"\\tQuesta stringa inizia con un \\\"tab\\\".\"\n",
        "print(x)\n",
        "x = \"questa stringa contiene un singolo  backslash(\\\\).\"\n",
        "print(x)\n",
        "\n",
        "# Si possono usare i singoli apici al posto dei doppi non cambia nulla\n",
        "\n",
        "x = \"Hello, World\"\n",
        "print(x)\n",
        "x = 'Hello, World'\n",
        "print(x)\n",
        "\n",
        "# Unica differenza non è necessario esegure l'escape dei doppi apici nelle stringhe racchiuse fra apici semplici o l'escape degli apici semplici nelle stringhe circondate da doppi apici\n",
        "\n",
        "x = \"Non cè bisogno di un backslash\"\n",
        "print(x)\n",
        "x = 'Non \\' posso farlo senza un backslash'\n",
        "print(x)\n",
        "x = \"Backslash serve \\\" questa volta\"\n",
        "print(x)\n",
        "x = 'Posso lasciarle \" da sole'\n",
        "print(x)\n",
        "\n",
        "# Non si può suddividere una stringa normale su più righe \n",
        "\n",
        "#x = \"Non posso suddividere questa\n",
        "#stringa su due linee senza un backslash\"\n",
        "#print(x)\n",
        "\n",
        "# Ma Python offre la possibilità di usare le stringhe fra tripli apici che permette anche di inserire singoli e doppi apici senza backslash\n",
        "\n",
        "x = \"\"\"Se inizio e finisco una stringa con i tripli \" mi\n",
        "permette di andare sulla riga successiva e di usare \" e ' senza \n",
        "backslash \"\"\"\n",
        "print(x)\n",
        "\n",
        "#Volendo si possono usare ''' questi al posto di \"\"\" questi e si otterà lo stesso effetto"
      ],
      "execution_count": null,
      "outputs": []
    },
    {
      "cell_type": "code",
      "metadata": {
        "id": "RnvBEecgb_m0"
      },
      "source": [
        "# Numeri\n",
        "\n",
        "# Python offre 4 tipi di numeri:\n",
        "# Numeri interi: una costante intera viene descritta come un intero(0, -11, 1000) e ha un intervallo illimitato\n",
        "# Numeri in virgola mobile: può essere scritto o con il punto decimale oppure con la notazione scientifica (2.36 , -2E-8, 2.718281) la precisione di questi valori è doppia cioè bouble\n",
        "# Numeri complessi: Trattati più avanti in un altro paragrafo\n",
        "# Valori booleani: Possono essere solo True o False che si comportano in modo identico a 0 e 1 apparte che sono rappresentati sotto forma di stringa\n",
        "# Le operazioni che coinvolgono 2 numeri interi producono un intero, tranne la divisione (/) che produce un numero in virgola mobile.\n",
        "# Usando il doppio simbolo // il risultato sarà un intero, con troncamento.\n",
        "# Le operazioni sui numeri in virgola mobili producono sempre un numero in virgola mobile.\n",
        "# Esempi:\n",
        "\n",
        "5 + 2 - 3 * 2\n",
        "\n",
        "5 / 2 # Divisione normale con risultato virgola mobile\n",
        "\n",
        "5 / 2.0 # Semore una virgola mobile\n",
        "\n",
        "5 // 2 # Risultato intero troncato usando '//'\n",
        "\n",
        "30000000000 #  Questo è troppo grande in molti linguaggi per essere un intero\n",
        "\n",
        "30000000000 * 3\n",
        "\n",
        "30000000000 * 3.0\n",
        "\n",
        "2.0e-8 # Notazione scientifica che da come risultato metodo float\n",
        "\n",
        "3000000 * 3000000 \n",
        "\n",
        "int(200.2) #Conversioni esplicite di tipo in questo caso tronca i valori in virgola moblile\n",
        "\n",
        "int(2e2)\n",
        "\n",
        "float(200)\n",
        "\n",
        "# Funzioni numeriche intrne\n",
        "\n",
        "abs, divmod, float, hex, int, max, min, oct, pow, round # Da approfondire!!!!\n",
        "\n",
        "# Funzioni numeriche avanzate\n",
        "\n",
        "# Per rendere disponibili le funzioni matematiche in Python basta iniziare il programma Python con:\n",
        "\n",
        "from math import*\n",
        "\n",
        "# Che fornisce molte funzioni vedere pag 44 libro\n",
        "\n",
        "# Numeri Complessi\n",
        "\n",
        "# I numeri complessi si creano ogni volta che si scrive un esperessioni in nj cioè n ha il formato numero di Python intero o in virgola mobile\n",
        "# mentre la j è la notazione standard per il numero immaginario equivalente alla radice quadrata di -1 es:\n",
        "\n",
        "(3+2j)\n",
        "\n",
        "# Python mostra il numero complesso risultante fra le parentesi per indicare che ciò che ha prodotto è il valore di un unico oggetto\n",
        "\n",
        "3 + 2j - (4+4j)\n",
        "\n",
        "(1+2j) * (3+4j)\n",
        "\n",
        "1j * 1j\n",
        "\n",
        "# In Python il calcolo j * j fornisce la risposta prevista cioè -1 ma in un numero complesso\n",
        "# I numeri complessi non vengono mai convertiti in valori reali o interi ma è possibile accedere alla loro parte reale e immaginaria con real e imag\n",
        "\n",
        "z = (3+5j)\n",
        "z.real\n",
        "z.imag\n",
        "\n",
        "# Funzioni avanzate su numeri complessi\n",
        "\n",
        "# Per rendere disponibili le funzioni avanzate su numeri complessi basta iniziare il programma Python con:\n",
        "\n",
        "import cmath\n",
        "\n",
        "# Accesso a innumerevoli funzioni pag 45\n",
        "# Meglio specificare nell'uso delle funzioni al package cmath\n",
        "\n",
        "import cmath\n",
        "cmath.sqrt(-1)\n",
        "\n",
        "# Ridurre il più possibile l'utilizzo di from <module> import* per non sovrapporre le funzioni esempio math e cmath e per far capire il codice a chi lo deve leggere"
      ],
      "execution_count": null,
      "outputs": []
    },
    {
      "cell_type": "code",
      "metadata": {
        "id": "o00ZeYcIloS0"
      },
      "source": [
        "# Richiedere input dall'utente \n",
        "\n",
        "# La funzione input() permette di richiedere un input all'utente \n",
        "\n",
        "nome = input(\"Nome ? \")\n",
        "\n",
        "print(nome)\n",
        "\n",
        "eta = int(input(\"Età ? \")) # convertire ' input da una stringa a un int\n",
        "\n",
        "print(eta)\n",
        "\n",
        "# Cosa a cui bisogna stare attenti l'input viene fornito come stringa se si vuole utilizzare come numero si deve utilizzare int() oopure float() per convertirlo"
      ],
      "execution_count": null,
      "outputs": []
    },
    {
      "cell_type": "markdown",
      "metadata": {
        "id": "hwNHFjg87dYp"
      },
      "source": [
        "Capitolo 1\n",
        "\n",
        "Operazioni \n",
        "\n",
        "Operazioni Aritmetiche\n",
        "Solitamente queste operazioni coinvolgono int, float e numeri complessi\n"
      ]
    },
    {
      "cell_type": "code",
      "metadata": {
        "colab": {
          "base_uri": "https://localhost:8080/"
        },
        "id": "3IojbUKB76eS",
        "outputId": "becea18e-f022-472d-88b1-6202a1b74526"
      },
      "source": [
        "2 + 3"
      ],
      "execution_count": null,
      "outputs": [
        {
          "output_type": "execute_result",
          "data": {
            "text/plain": [
              "5"
            ]
          },
          "metadata": {},
          "execution_count": 1
        }
      ]
    },
    {
      "cell_type": "code",
      "metadata": {
        "colab": {
          "base_uri": "https://localhost:8080/"
        },
        "id": "Q9KL6ACC8CXi",
        "outputId": "52c22ab9-65c8-45b3-8258-39374fba3d40"
      },
      "source": [
        "3 - 1"
      ],
      "execution_count": null,
      "outputs": [
        {
          "output_type": "execute_result",
          "data": {
            "text/plain": [
              "2"
            ]
          },
          "metadata": {},
          "execution_count": 2
        }
      ]
    },
    {
      "cell_type": "code",
      "metadata": {
        "colab": {
          "base_uri": "https://localhost:8080/"
        },
        "id": "96o-cy4I8EeD",
        "outputId": "78ec19d7-5936-403f-ce41-1dbb60cccb2e"
      },
      "source": [
        "2 * (3+0j) * 1.0"
      ],
      "execution_count": null,
      "outputs": [
        {
          "output_type": "execute_result",
          "data": {
            "text/plain": [
              "(6+0j)"
            ]
          },
          "metadata": {},
          "execution_count": 3
        }
      ]
    },
    {
      "cell_type": "code",
      "metadata": {
        "colab": {
          "base_uri": "https://localhost:8080/"
        },
        "id": "NOKHD-298Ho6",
        "outputId": "a0857e30-060e-4427-97b8-02d14197ec4f"
      },
      "source": [
        "3/4"
      ],
      "execution_count": null,
      "outputs": [
        {
          "output_type": "execute_result",
          "data": {
            "text/plain": [
              "0.75"
            ]
          },
          "metadata": {},
          "execution_count": 4
        }
      ]
    },
    {
      "cell_type": "markdown",
      "metadata": {
        "id": "LleafoH38QVS"
      },
      "source": [
        "La divisione troncata si effetua con uno / mentre la Divisione intera si effetua usando 2 // "
      ]
    },
    {
      "cell_type": "code",
      "metadata": {
        "colab": {
          "base_uri": "https://localhost:8080/"
        },
        "id": "D4O9hRDZ9KQc",
        "outputId": "58571a71-f4a3-419c-ef82-94f88d6ec6ef"
      },
      "source": [
        "3//4.0"
      ],
      "execution_count": null,
      "outputs": [
        {
          "output_type": "execute_result",
          "data": {
            "text/plain": [
              "0.0"
            ]
          },
          "metadata": {},
          "execution_count": 5
        }
      ]
    },
    {
      "cell_type": "code",
      "metadata": {
        "colab": {
          "base_uri": "https://localhost:8080/"
        },
        "id": "Wy-ia4QY9Pja",
        "outputId": "bff5ad58-eba3-4b59-fa90-e7daef8af127"
      },
      "source": [
        "15%10"
      ],
      "execution_count": null,
      "outputs": [
        {
          "output_type": "execute_result",
          "data": {
            "text/plain": [
              "5"
            ]
          },
          "metadata": {},
          "execution_count": 6
        }
      ]
    },
    {
      "cell_type": "markdown",
      "metadata": {
        "id": "rSKV8b6z9Saj"
      },
      "source": [
        "Il % ti permette di calcolare il resto dell'operazione\n",
        "Python permette una lunghezza quasi infinita sui numeri interi ma quelli con la virgola hanno un limite"
      ]
    },
    {
      "cell_type": "code",
      "metadata": {
        "id": "figTZB1p-2-j",
        "colab": {
          "base_uri": "https://localhost:8080/"
        },
        "outputId": "0d1ca7fe-3561-4636-9f86-55da3c0cec05"
      },
      "source": [
        "11**300"
      ],
      "execution_count": null,
      "outputs": [
        {
          "output_type": "execute_result",
          "data": {
            "text/plain": [
              "2617010996188399907017032528972038342491649416953000260240805955827972056685382434497090341496787032585738884786745286700473999847280664191731008874811751310888591786111994678208920175143911761181424495660877950654145066969036252669735483098936884016471326487403792787648506879212630637101259246005701084327338001"
            ]
          },
          "metadata": {},
          "execution_count": 7
        }
      ]
    },
    {
      "cell_type": "code",
      "metadata": {
        "colab": {
          "base_uri": "https://localhost:8080/",
          "height": 163
        },
        "id": "V5TfNulJ_DZl",
        "outputId": "b0d743d5-f390-40cc-c24c-77c08db12af7"
      },
      "source": [
        "11.0**300"
      ],
      "execution_count": null,
      "outputs": [
        {
          "output_type": "error",
          "ename": "OverflowError",
          "evalue": "ignored",
          "traceback": [
            "\u001b[0;31m---------------------------------------------------------------------------\u001b[0m",
            "\u001b[0;31mOverflowError\u001b[0m                             Traceback (most recent call last)",
            "\u001b[0;32m<ipython-input-8-b61ab01789ad>\u001b[0m in \u001b[0;36m<module>\u001b[0;34m()\u001b[0m\n\u001b[0;32m----> 1\u001b[0;31m \u001b[0;36m11.0\u001b[0m\u001b[0;34m**\u001b[0m\u001b[0;36m300\u001b[0m\u001b[0;34m\u001b[0m\u001b[0;34m\u001b[0m\u001b[0m\n\u001b[0m",
            "\u001b[0;31mOverflowError\u001b[0m: (34, 'Numerical result out of range')"
          ]
        }
      ]
    },
    {
      "cell_type": "markdown",
      "metadata": {
        "id": "yQVDIeJP_MQ7"
      },
      "source": [
        "Operatori logici per confronti"
      ]
    },
    {
      "cell_type": "code",
      "metadata": {
        "colab": {
          "base_uri": "https://localhost:8080/"
        },
        "id": "9fOJCHwO_nBC",
        "outputId": "432abe7e-f5df-43d1-ae12-10f8c00d9b33"
      },
      "source": [
        "z = 2\n",
        "z == 2"
      ],
      "execution_count": null,
      "outputs": [
        {
          "output_type": "execute_result",
          "data": {
            "text/plain": [
              "True"
            ]
          },
          "metadata": {},
          "execution_count": 9
        }
      ]
    },
    {
      "cell_type": "code",
      "metadata": {
        "colab": {
          "base_uri": "https://localhost:8080/"
        },
        "id": "MiIvWlin_uT6",
        "outputId": "17defae4-f72a-4013-87c6-39555bdff6a1"
      },
      "source": [
        "z > 2"
      ],
      "execution_count": null,
      "outputs": [
        {
          "output_type": "execute_result",
          "data": {
            "text/plain": [
              "False"
            ]
          },
          "metadata": {},
          "execution_count": 10
        }
      ]
    },
    {
      "cell_type": "code",
      "metadata": {
        "colab": {
          "base_uri": "https://localhost:8080/"
        },
        "id": "TIg60L06_8Xh",
        "outputId": "61cbdb3c-8a93-47b4-e0de-a55fff3c6682"
      },
      "source": [
        "z != 3 #diverso\n",
        "z == 2 #eguale"
      ],
      "execution_count": null,
      "outputs": [
        {
          "output_type": "execute_result",
          "data": {
            "text/plain": [
              "True"
            ]
          },
          "metadata": {},
          "execution_count": 11
        }
      ]
    },
    {
      "cell_type": "markdown",
      "metadata": {
        "id": "rFfqxIutAG8i"
      },
      "source": [
        "Volendo si posssono anche fare calcoli concatenati seguendo la matematica"
      ]
    },
    {
      "cell_type": "code",
      "metadata": {
        "colab": {
          "base_uri": "https://localhost:8080/"
        },
        "id": "VpHJGz78ANWh",
        "outputId": "3861460d-260a-4c85-a2f6-bcb36486072f"
      },
      "source": [
        "0.5 < z <= 1  # < minore > maggiore <= minore uguale >= maggiore uguale != diverso == eguale"
      ],
      "execution_count": null,
      "outputs": [
        {
          "output_type": "execute_result",
          "data": {
            "text/plain": [
              "False"
            ]
          },
          "metadata": {},
          "execution_count": 12
        }
      ]
    },
    {
      "cell_type": "markdown",
      "metadata": {
        "id": "bqG460LcBUoB"
      },
      "source": [
        "Operatori Booleani e bit a bit\n",
        "\n",
        "Gli operatori bit a bit agiscono sui numeri seguendo una logica binaria e cambiano i singoli bit delle variabili"
      ]
    },
    {
      "cell_type": "code",
      "metadata": {
        "colab": {
          "base_uri": "https://localhost:8080/"
        },
        "id": "6dRVwQp8Bd3Q",
        "outputId": "4f549400-fad7-455e-94cd-bef521c34ac4"
      },
      "source": [
        "a = 2 #binario = 10\n",
        "b = 3 #binario = 11\n",
        "print('a & b =',a & b,\"=\", bin(a&b)) # & or basato sui bit   bin stampa il numero in codice binario\n",
        "print('a | b =',a | b,\"=\", bin(a|b))  # | and basato sui bit\n",
        "print('a ^ b =',a ^ b,\"=\", bin(a^b)) # or esclusivo\n",
        "print('b << a =',b<<a,\"=\", bin(b<<a)) # shift a sinistra "
      ],
      "execution_count": null,
      "outputs": [
        {
          "output_type": "stream",
          "text": [
            "a & b = 2 = 0b10\n",
            "a | b = 3 = 0b11\n",
            "a ^ b = 1 = 0b1\n",
            "b << a = 12 = 0b1100\n"
          ],
          "name": "stdout"
        }
      ]
    },
    {
      "cell_type": "code",
      "metadata": {
        "colab": {
          "base_uri": "https://localhost:8080/"
        },
        "id": "VmKAQtCOFrWg",
        "outputId": "0baf2b0f-e273-4821-841e-063e193eda27"
      },
      "source": [
        "print( not (True and False), \"==\", not True or not False) "
      ],
      "execution_count": null,
      "outputs": [
        {
          "output_type": "stream",
          "text": [
            "True == True\n"
          ],
          "name": "stdout"
        }
      ]
    },
    {
      "cell_type": "markdown",
      "metadata": {
        "id": "m74GxEp1HFwN"
      },
      "source": [
        "Operatori di assegnazione\n",
        "\n",
        "Gli operatori binari possono essere combinati con l'assegnazione per modificare un valore variabile"
      ]
    },
    {
      "cell_type": "code",
      "metadata": {
        "colab": {
          "base_uri": "https://localhost:8080/"
        },
        "id": "dTMWW-YmG6iB",
        "outputId": "809293ce-b570-4d47-85c4-35eda7fff2bc"
      },
      "source": [
        "x = 1 \n",
        "x += 2 #si aggiunge 2 a x\n",
        "print(\"x è\",x)\n",
        "x <<= 2 #shift a sinistra di 2(equivalente di x *= 4)\n",
        "print(\"x è\",x)\n",
        "x **= 2 # x := x^2\n",
        "print(\"x è\",x)"
      ],
      "execution_count": null,
      "outputs": [
        {
          "output_type": "stream",
          "text": [
            "x è 3\n",
            "x è 12\n",
            "x è 144\n"
          ],
          "name": "stdout"
        }
      ]
    },
    {
      "cell_type": "markdown",
      "metadata": {
        "id": "T2wRbAjfKBnK"
      },
      "source": [
        "Conversione dei valori\n",
        "\n",
        "La conversione da esadecimale a decimale si fa aggiungendo 0x davanti al valore esadecimale o viceversa usando la funzione hex() mentre dal valore ottale aggiungendo il prefisso 00 al valore ottale oppure usando la funzione oct()"
      ]
    },
    {
      "cell_type": "code",
      "metadata": {
        "colab": {
          "base_uri": "https://localhost:8080/",
          "height": 35
        },
        "id": "zrqDd8-SK_ZC",
        "outputId": "444e7abc-cb90-4d34-ce65-e204b8339fe5"
      },
      "source": [
        "hex(171) # valore esadecimale come stringa"
      ],
      "execution_count": null,
      "outputs": [
        {
          "output_type": "execute_result",
          "data": {
            "application/vnd.google.colaboratory.intrinsic+json": {
              "type": "string"
            },
            "text/plain": [
              "'0xab'"
            ]
          },
          "metadata": {},
          "execution_count": 19
        }
      ]
    },
    {
      "cell_type": "code",
      "metadata": {
        "colab": {
          "base_uri": "https://localhost:8080/"
        },
        "id": "f0dl60y8L8r3",
        "outputId": "632472e7-ae70-421f-f379-a6a8b00f6a7c"
      },
      "source": [
        "0xAB"
      ],
      "execution_count": null,
      "outputs": [
        {
          "output_type": "execute_result",
          "data": {
            "text/plain": [
              "171"
            ]
          },
          "metadata": {},
          "execution_count": 20
        }
      ]
    },
    {
      "cell_type": "markdown",
      "metadata": {
        "id": "TPmdooItMG2x"
      },
      "source": [
        "int() converte un numero in  un numero intero, si possono covertire i numeri in virgola mobile, un intero, una stringa"
      ]
    },
    {
      "cell_type": "code",
      "metadata": {
        "colab": {
          "base_uri": "https://localhost:8080/"
        },
        "id": "xLzEbBbkMwp4",
        "outputId": "dcb079f9-f41d-4d34-cc60-d980695d89b1"
      },
      "source": [
        "print(int(7.7), int('111',2), int('7'))"
      ],
      "execution_count": null,
      "outputs": [
        {
          "output_type": "stream",
          "text": [
            "7 7 7\n"
          ],
          "name": "stdout"
        }
      ]
    },
    {
      "cell_type": "markdown",
      "metadata": {
        "id": "gQ-o9D7INSke"
      },
      "source": [
        "simile è str() che si usa per convertire quasi tutto in stringa\n"
      ]
    },
    {
      "cell_type": "code",
      "metadata": {
        "colab": {
          "base_uri": "https://localhost:8080/"
        },
        "id": "x0VNvE0DNZ2X",
        "outputId": "1c3e1b62-ed0b-4493-b172-c73ae0838e17"
      },
      "source": [
        "print(str(True),str(1.2345678),str(-2))"
      ],
      "execution_count": null,
      "outputs": [
        {
          "output_type": "stream",
          "text": [
            "True 1.2345678 -2\n"
          ],
          "name": "stdout"
        }
      ]
    },
    {
      "cell_type": "code",
      "metadata": {
        "id": "oHYeK1fnNsuW"
      },
      "source": [
        "Funzioni matematiche\n",
        "\n",
        "Le funzioni matematiche aggiungono i logaritmi, funzioni trigonomiche, la costante pigreco e altro."
      ],
      "execution_count": null,
      "outputs": []
    },
    {
      "cell_type": "code",
      "metadata": {
        "colab": {
          "base_uri": "https://localhost:8080/"
        },
        "id": "u5SxQWACOBqe",
        "outputId": "2798858b-a109-4fc3-e23f-4d46610f731b"
      },
      "source": [
        "import math\n",
        "math.sin(math.pi/2)\n",
        "from math import* # per evitare di dover mettee math a ogni funzione matematica\n",
        "sin(pi/2) # uguale alla dichiarazione fatta sopra"
      ],
      "execution_count": null,
      "outputs": [
        {
          "output_type": "execute_result",
          "data": {
            "text/plain": [
              "1.0"
            ]
          },
          "metadata": {},
          "execution_count": 23
        }
      ]
    },
    {
      "cell_type": "markdown",
      "metadata": {
        "id": "lXwdh64yOq5h"
      },
      "source": [
        "Semplificazioni Operazioni Aritmetiche\n",
        "\n",
        "round() la funzione arrotonda il valore di input a un numero specificato di posizioni o all'intero più vicino"
      ]
    },
    {
      "cell_type": "code",
      "metadata": {
        "colab": {
          "base_uri": "https://localhost:8080/"
        },
        "id": "3K8PaySkPEUC",
        "outputId": "011e74e7-8b45-4ad4-bc2b-2173cf23430f"
      },
      "source": [
        "print(round(5.6231))\n",
        "print(round(4.55892, 2))"
      ],
      "execution_count": null,
      "outputs": [
        {
          "output_type": "stream",
          "text": [
            "6\n",
            "4.56\n"
          ],
          "name": "stdout"
        }
      ]
    },
    {
      "cell_type": "markdown",
      "metadata": {
        "id": "-6ptLvS1PW0G"
      },
      "source": [
        "abs() fornisce il valore assoluto di qualsiasi numero"
      ]
    },
    {
      "cell_type": "code",
      "metadata": {
        "colab": {
          "base_uri": "https://localhost:8080/"
        },
        "id": "2pMmfXWQPlXG",
        "outputId": "cc880dc2-4cde-4344-d3d3-f4fa78a03903"
      },
      "source": [
        "c = complex('5+2j')\n",
        "print(\"|5+2i| =\", abs(c) , \"\\t |-5| =\", abs(-5))"
      ],
      "execution_count": null,
      "outputs": [
        {
          "output_type": "stream",
          "text": [
            "|5+2i| = 5.385164807134504 \t |-5| = 5\n"
          ],
          "name": "stdout"
        }
      ]
    },
    {
      "cell_type": "markdown",
      "metadata": {
        "id": "ogUaQbEAP_Ui"
      },
      "source": [
        "divmod(x,y) emette il quoziente e il resto in una tupla (scoprire cosa è una tupla)"
      ]
    },
    {
      "cell_type": "code",
      "metadata": {
        "colab": {
          "base_uri": "https://localhost:8080/"
        },
        "id": "cV-A-nSmQSUe",
        "outputId": "f34f7c37-416b-4f22-80e0-1fe6ffeb1901"
      },
      "source": [
        "divmod(9,2)"
      ],
      "execution_count": null,
      "outputs": [
        {
          "output_type": "execute_result",
          "data": {
            "text/plain": [
              "(4, 1)"
            ]
          },
          "metadata": {},
          "execution_count": 26
        }
      ]
    },
    {
      "cell_type": "markdown",
      "metadata": {
        "id": "3hrHm3D2QXWU"
      },
      "source": [
        "User Inputs\n",
        "\n",
        "input(prompt), richiede e restituisce l'input come stringa. Una funzione utile da usare insieme a questo è eval() che prende una stringa e la valuta come un'espressione python."
      ]
    },
    {
      "cell_type": "code",
      "metadata": {
        "colab": {
          "base_uri": "https://localhost:8080/"
        },
        "id": "immC0AJGQWc3",
        "outputId": "58942554-1476-4fa0-caf6-87f7dbc88d56"
      },
      "source": [
        "abc = input(\"abc = \")\n",
        "abcValue=eval(abc)\n",
        "print(abc,'=',abcValue)"
      ],
      "execution_count": null,
      "outputs": [
        {
          "output_type": "stream",
          "text": [
            "abc = 3*4 +2\n",
            "3*4 +2 = 14\n"
          ],
          "name": "stdout"
        }
      ]
    },
    {
      "cell_type": "markdown",
      "metadata": {
        "id": "4UQRoQ0ZIQvj"
      },
      "source": [
        "Capitolo 2\n",
        "\n",
        "Stringhe\n",
        "\n",
        "Le stringe possono essere richiamate con singoli, doppi e tripli apici"
      ]
    },
    {
      "cell_type": "code",
      "metadata": {
        "colab": {
          "base_uri": "https://localhost:8080/"
        },
        "id": "0i-iuI-hIYs2",
        "outputId": "8742b820-fa92-4967-bb17-197c64dcb955"
      },
      "source": [
        "'Tutte',\"queste\",'''stringhe''',\"\"\"sono valide\"\"\""
      ],
      "execution_count": null,
      "outputs": [
        {
          "output_type": "execute_result",
          "data": {
            "text/plain": [
              "('Tutte', 'queste', 'stringhe', 'sono valide')"
            ]
          },
          "metadata": {},
          "execution_count": 1
        }
      ]
    },
    {
      "cell_type": "markdown",
      "metadata": {
        "id": "jer7k5WMJOoY"
      },
      "source": [
        "Il sistema di Print\n",
        "\n",
        "la funzione print() stampa tutto quello inserito al suo interno"
      ]
    },
    {
      "cell_type": "code",
      "metadata": {
        "colab": {
          "base_uri": "https://localhost:8080/"
        },
        "id": "WK7UOVf0Jce7",
        "outputId": "7916f21e-5f13-49af-f5e8-208a873873a0"
      },
      "source": [
        "print(\"Hello World\")\n",
        "print(\"Hello\", \"World\")\n",
        "print(\"Hello\", \"Mondo\")"
      ],
      "execution_count": null,
      "outputs": [
        {
          "output_type": "stream",
          "text": [
            "Hello World\n",
            "Hello World\n",
            "Hello Mondo\n"
          ],
          "name": "stdout"
        }
      ]
    },
    {
      "cell_type": "markdown",
      "metadata": {
        "id": "Er-YelbsJ9D1"
      },
      "source": [
        "La funzione print ha delle opzioni per controllare come viene stampato il print come sep che è il classico spazio, end cioè che alla fine dei caratteri li inserisce e file per scrivere su un file, quando scrivi su un file voledo si può usare l'opzione flush= True per forzare a scrivere l'output immediatamente"
      ]
    },
    {
      "cell_type": "code",
      "metadata": {
        "colab": {
          "base_uri": "https://localhost:8080/"
        },
        "id": "oo9DhHHLLAr2",
        "outputId": "95f8cc3e-1308-4a46-a333-9e26c22aded0"
      },
      "source": [
        "print(\"Hello\",\"World\", sep='....',end='!!',flush=True)"
      ],
      "execution_count": null,
      "outputs": [
        {
          "output_type": "stream",
          "text": [
            "Hello....World!!"
          ],
          "name": "stdout"
        }
      ]
    },
    {
      "cell_type": "markdown",
      "metadata": {
        "id": "05H-vTHzLg49"
      },
      "source": [
        "Formattazionee delle Stringhe\n",
        "\n",
        "Ci sono vari metodi per la formattazione di stringhe esempio la concatenazione delle stringhe è l'addizione di 2 stringhe"
      ]
    },
    {
      "cell_type": "code",
      "metadata": {
        "colab": {
          "base_uri": "https://localhost:8080/"
        },
        "id": "LP0I5hy1L70G",
        "outputId": "3148d2bc-cf73-4b32-f23a-ef76b2f288b8"
      },
      "source": [
        "string1 ='World'\n",
        "string2 = '!'\n",
        "print('Hello' + \" \" + string1 + string2)"
      ],
      "execution_count": null,
      "outputs": [
        {
          "output_type": "stream",
          "text": [
            "Hello World!\n"
          ],
          "name": "stdout"
        }
      ]
    },
    {
      "cell_type": "markdown",
      "metadata": {
        "id": "N_9sLOL_MSit"
      },
      "source": [
        "L'operatore % serve per formattare una stringa inserendo un identificatore per segnalare il valore che segue\n"
      ]
    },
    {
      "cell_type": "code",
      "metadata": {
        "colab": {
          "base_uri": "https://localhost:8080/"
        },
        "id": "2J_BP8cKMxSl",
        "outputId": "c2935379-6d16-4ed7-cd41-cb0dd405d70a"
      },
      "source": [
        "print(\"Hello %s\" % string1) # %s indica la stringa\n",
        "print(\"Numero attuale = %d\" %18) # %d inidca un numero Intero\n",
        "print(\"Float del numero = %f\" %18) # %f indica un numero Float\n",
        "print(\"Equivalente ottale del numero = %o\" %18) # %o Indica un numero ottale\n",
        "print(\"Equivalente esadecimale del numero = %x\" %18) # %x indica un numero esadecimale\n",
        "print(\"Equivalente esponenziale del numero = %e\" %18) # &e indica un numero esponenziale"
      ],
      "execution_count": null,
      "outputs": [
        {
          "output_type": "stream",
          "text": [
            "Hello World\n",
            "Numero attuale = 18\n",
            "Float del numero = 18.000000\n",
            "Equivalente ottale del numero = 22\n",
            "Equivalente esadecimale del numero = 12\n",
            "Equivalente esponenziale del numero = 1.800000e+01\n"
          ],
          "name": "stdout"
        }
      ]
    },
    {
      "cell_type": "markdown",
      "metadata": {
        "id": "XbEEbOMOO4rN"
      },
      "source": [
        "Quando si fa riferimento a più variabili si usano le parentesi, i valori sono inseriti nell'ordine in cui appaiono tre parentesi"
      ]
    },
    {
      "cell_type": "code",
      "metadata": {
        "colab": {
          "base_uri": "https://localhost:8080/"
        },
        "id": "qrj1IMI4PM-l",
        "outputId": "9e6a87b1-d8d7-4ec4-ec52-171e7b2bed64"
      },
      "source": [
        "print(\"Hello %s %s. La vita che vivrai ancora è %d\" %(string1,string2,75))"
      ],
      "execution_count": null,
      "outputs": [
        {
          "output_type": "stream",
          "text": [
            "Hello World !. La vita che vivrai ancora è 75\n"
          ],
          "name": "stdout"
        }
      ]
    },
    {
      "cell_type": "markdown",
      "metadata": {
        "id": "0HC8fwuWP3qc"
      },
      "source": [
        "Possiamo anche specificare la larghezza del campo e il numero di cifre decimali da utilizzare"
      ]
    },
    {
      "cell_type": "code",
      "metadata": {
        "colab": {
          "base_uri": "https://localhost:8080/"
        },
        "id": "h-xLzKh8P4RD",
        "outputId": "1fa027f8-dbe0-4fdd-e5c6-8d1b1e67af2e"
      },
      "source": [
        "print('Print width 10: |%10s|'%'x')\n",
        "print('Print width 10: |%-10s|'%'x')\n",
        "print(\"Il numero pi = %.2f a 2 posti decimali\"%3.1415)\n",
        "print(\"Più spazio pi = %10.2f\"%3.1415)\n",
        "print(\"Pad pi con 0 = %010.2f\"%3.1415)"
      ],
      "execution_count": null,
      "outputs": [
        {
          "output_type": "stream",
          "text": [
            "Print width 10: |         x|\n",
            "Print width 10: |x         |\n",
            "Il numero pi = 3.14 a 2 posti decimali\n",
            "Più spazio pi =       3.14\n",
            "Pad pi con 0 = 0000003.14\n"
          ],
          "name": "stdout"
        }
      ]
    },
    {
      "cell_type": "markdown",
      "metadata": {
        "id": "FX49fCjqQ_Vv"
      },
      "source": [
        "Altri metodi per le stringhe\n",
        "\n",
        "Si può moltiplicare una stringa"
      ]
    },
    {
      "cell_type": "code",
      "metadata": {
        "colab": {
          "base_uri": "https://localhost:8080/"
        },
        "id": "DG56IBgSRVYx",
        "outputId": "7c65fbc3-69c7-4ff0-a98e-52af2b57175b"
      },
      "source": [
        "print(\"Hello World \" *5)"
      ],
      "execution_count": null,
      "outputs": [
        {
          "output_type": "stream",
          "text": [
            "Hello World Hello World Hello World Hello World Hello World \n"
          ],
          "name": "stdout"
        }
      ]
    },
    {
      "cell_type": "markdown",
      "metadata": {
        "id": "1kxUXfCWRe1I"
      },
      "source": [
        "Le stringhe possono essere trasformate da una varietà di funzioni che sono tutti metodi su una stringa\n",
        "\n",
        "Upper e lower case:\n",
        "upper(),lower(),captialize(),title() e swapcase() intuibile cosa facciano ma captalize() rende la prima lettera della stringa solo maiuscola, mentre title() seleziona maiuscolo per la prima lettera di ogni parola\n",
        "\n",
        "Stringhe di riempimento:\n",
        "center(n), ljust(n) e rjust(n) posizionano ciascuna la stringa in una stringa più lunga di lunghezza n riempita da spazi, zfill(n) funziona in modo simile ma riempie con zeri iniziali\n",
        "\n",
        "Estrarre le stringhe:\n",
        "spesso vogliamo rimuovere gli spazi, questo si ottiene con le funzioni strip(), lstrip() e rstrip() per rimuovere spazi da entrambe le estremità o solo a sinistra e destra"
      ]
    },
    {
      "cell_type": "code",
      "metadata": {
        "colab": {
          "base_uri": "https://localhost:8080/"
        },
        "id": "oSGEzS8FUAj4",
        "outputId": "93ab8333-b893-425b-8924-90ec8fe14790"
      },
      "source": [
        "s = \"heLLo wORLd!\"\n",
        "print(s.capitalize(),\"vs\",s.title())\n",
        "print(\"upper: '%s'\" %s.upper(),\"lower: '%s'\"%s.lower(),\"and swapped: '%s'\"%s.swapcase())\n",
        "print('|%s|' % \"Hello World\".center(30)) \n",
        "print('|%s|' % \"     molto spazio        \".strip())\n",
        "print('%s senza d,h,L o iniziali/finali ! = |%s|',s.strip(\"dhL!\"))\n",
        "print(\"Hello World\".replace(\"World\",\"Class\"))"
      ],
      "execution_count": null,
      "outputs": [
        {
          "output_type": "stream",
          "text": [
            "Hello world! vs Hello World!\n",
            "upper: 'HELLO WORLD!' lower: 'hello world!' and swapped: 'HEllO WorlD!'\n",
            "|         Hello World          |\n",
            "|molto spazio|\n",
            "%s senza d,h,L o iniziali/finali ! = |%s| eLLo wOR\n",
            "Hello Class\n"
          ],
          "name": "stdout"
        }
      ]
    },
    {
      "cell_type": "markdown",
      "metadata": {
        "id": "XRM5JvALWgXz"
      },
      "source": [
        "Ispezione delle Stringhe\n",
        "\n",
        "Ci sono anche molti modi per ispezionare o controllare le stringhe.\n",
        "\n",
        "Controllo dell'inizio o della fine di una stringa: startswith(\"stringa\") e endwith(\"stringa\") controlla se inizia/finisce con la stringa fornita come argomento\n",
        "\n",
        "Capitalizzazione: esistono controparti booleane per tutte le forme di capitalizzazione, come isupper(), islower() e istitle()\n",
        "\n",
        "Tipo di carattere: la stringa contiene solo i caratteri?\n",
        "\n",
        "0-9: isdecimal(). Nota che ci sono anche isnumeric() e isdigit() che sono effettivamente la stessa funzione tranne che per alcuni caratteri unicode\n",
        "\n",
        "a-zA-Z: isalpha() o combinato con cifre: isalnum()\n",
        "\n",
        "codice non di controllo: isprintable() accetta qualsiasi cosa tranne '\\n' un altro codice di controllo ASCII\n",
        "\n",
        "\\t\\n \\r (caratteri di spazio bianco): isspace()\n",
        "\n",
        "Adatto come nome variabile: isidentifier()\n",
        "\n",
        "Trova elementi di stringa: s.count(w) trova il numero di volte in cui w si verifica in s, mentre s.find(w) e s.rfind(w) trovano la prima e l'ultima posizione della stringa w in s."
      ]
    },
    {
      "cell_type": "code",
      "metadata": {
        "colab": {
          "base_uri": "https://localhost:8080/"
        },
        "id": "aHNbZ5GIXSdB",
        "outputId": "91e0377f-61ff-40b2-9976-9ed5fecb3b97"
      },
      "source": [
        "s = \"Hello World\"\n",
        "print(\"La larghezza  '%s' è di\"%s,len(s),\"caratteri\") # len() da la larghezza\n",
        "s.startswith(\"Hello\") and s.endswith(\"World\")\n",
        "print(\"Ci sono %d 'l' ma solo %d World in %s\" %(s.count('l'),s.count('World'),s))\n",
        "print('\"el\" è all indice',s.find('el'),\"in\",s)"
      ],
      "execution_count": null,
      "outputs": [
        {
          "output_type": "stream",
          "text": [
            "La larghezza  'Hello World' è di 11 caratteri\n",
            "Ci sono 3 'l' ma solo 1 World in Hello World\n",
            "\"el\" è all indice 1 in Hello World\n"
          ],
          "name": "stdout"
        }
      ]
    },
    {
      "cell_type": "markdown",
      "metadata": {
        "id": "3CLvgT9YZkxq"
      },
      "source": [
        "Operazioni di confronto di stringhe \n",
        "\n",
        "Le stringhe possono essere confrontate e l'operatore in controlla le substring "
      ]
    },
    {
      "cell_type": "code",
      "metadata": {
        "colab": {
          "base_uri": "https://localhost:8080/"
        },
        "id": "x4qgR1SaZ__q",
        "outputId": "b47b9be7-2f53-496d-cfcd-fcd48df67844"
      },
      "source": [
        "'abc' < 'bbc' <= 'bbc'"
      ],
      "execution_count": null,
      "outputs": [
        {
          "output_type": "execute_result",
          "data": {
            "text/plain": [
              "True"
            ]
          },
          "metadata": {},
          "execution_count": 14
        }
      ]
    },
    {
      "cell_type": "code",
      "metadata": {
        "colab": {
          "base_uri": "https://localhost:8080/"
        },
        "id": "HvxwcOPPaLSP",
        "outputId": "c21399af-b6e5-49f8-884d-927b34f7c425"
      },
      "source": [
        "\"ABC\" in \"Questo è l ABC di pyton\""
      ],
      "execution_count": null,
      "outputs": [
        {
          "output_type": "execute_result",
          "data": {
            "text/plain": [
              "True"
            ]
          },
          "metadata": {},
          "execution_count": 15
        }
      ]
    },
    {
      "cell_type": "markdown",
      "metadata": {
        "id": "ZHGI_sSyaV_A"
      },
      "source": [
        "Accesso a parti di stringhe\n",
        "\n",
        "Le stringhe possono essere indicizzate con le parentesi quadre "
      ]
    },
    {
      "cell_type": "code",
      "metadata": {
        "colab": {
          "base_uri": "https://localhost:8080/"
        },
        "id": "Z_uIb8qmbGOW",
        "outputId": "347a78e7-2375-4833-b905-ce07153dff1c"
      },
      "source": [
        "s =\"123456789\"\n",
        "print(\"La stringa '%s' è di %d caratteri\" %(s, len(s)))\n",
        "print('Il primo carattere di',s,'è',s[0])\n",
        "print('Iltimo carattere di',s,'è',s[len(s)-1])"
      ],
      "execution_count": null,
      "outputs": [
        {
          "output_type": "stream",
          "text": [
            "La stringa '123456789' è di 9 caratteri\n",
            "Il primo carattere di 123456789 è 1\n",
            "Iltimo carattere di 123456789 è 9\n"
          ],
          "name": "stdout"
        }
      ]
    },
    {
      "cell_type": "markdown",
      "metadata": {
        "id": "pbriyrQvb9X6"
      },
      "source": [
        "Gli indici negativi sono usati per contare all'indietro"
      ]
    },
    {
      "cell_type": "code",
      "metadata": {
        "colab": {
          "base_uri": "https://localhost:8080/"
        },
        "id": "trDskhHLcEMv",
        "outputId": "e86eb03d-536e-411c-f767-88b9be684e59"
      },
      "source": [
        "print('Il primo carattere di',s,'è',s[-len(s)])\n",
        "print('Ultimo carattere di',s,'è',s[-1])"
      ],
      "execution_count": null,
      "outputs": [
        {
          "output_type": "stream",
          "text": [
            "Il primo carattere di 123456789 è 1\n",
            "Ultimo carattere di 123456789 è 9\n"
          ],
          "name": "stdout"
        }
      ]
    },
    {
      "cell_type": "markdown",
      "metadata": {
        "id": "FiAF_L64ckPt"
      },
      "source": [
        "Una substring usi a:b(0:3) per specificare i caratteri "
      ]
    },
    {
      "cell_type": "code",
      "metadata": {
        "colab": {
          "base_uri": "https://localhost:8080/"
        },
        "id": "nT7bIndGcvT2",
        "outputId": "3e0c7d03-9df9-469f-a708-20170f80bcee"
      },
      "source": [
        "print(\"Primi tre caratteri\",s[0:3])\n",
        "print(\"Ultimi tre caratteri\",s[-3:])"
      ],
      "execution_count": null,
      "outputs": [
        {
          "output_type": "stream",
          "text": [
            "Primi tre caratteri 123\n",
            "Ultimi tre caratteri 789\n"
          ],
          "name": "stdout"
        }
      ]
    },
    {
      "cell_type": "markdown",
      "metadata": {
        "id": "ULgkXNQ5dFe-"
      },
      "source": [
        "Un inizio o una fine vuoti inidicano l'inizio o la fine di una stringa"
      ]
    },
    {
      "cell_type": "code",
      "metadata": {
        "colab": {
          "base_uri": "https://localhost:8080/"
        },
        "id": "lLQ-IN3VdEeW",
        "outputId": "b9b29860-8918-493e-fbae-437156430ece"
      },
      "source": [
        "print(\"Primi tre caratteri\",s[:3])\n",
        "print(\"Ultimi tre caratteri\",s[-3:])"
      ],
      "execution_count": null,
      "outputs": [
        {
          "output_type": "stream",
          "text": [
            "Primi tre caratteri 123\n",
            "Ultimi tre caratteri 789\n"
          ],
          "name": "stdout"
        }
      ]
    },
    {
      "cell_type": "markdown",
      "metadata": {
        "id": "8EMmAEt_dUoX"
      },
      "source": [
        "Dividere le stringhe in parti\n",
        "\n",
        "partition(separator):divide la stringa in tre parti in base a un separatore\n",
        "\n",
        "split(): divide la stringa in parole separate da spazi\n",
        "\n",
        "join(): nisce il risultato di una divisione usando la stringa come separatore"
      ]
    },
    {
      "cell_type": "code",
      "metadata": {
        "colab": {
          "base_uri": "https://localhost:8080/"
        },
        "id": "-nrVBlY5d3bu",
        "outputId": "e5c1b3ba-8215-448d-c383-4a5909373e24"
      },
      "source": [
        "s = \"uno -> due -> tre\"\n",
        "print( s.partition(\"->\"))\n",
        "print( s.split())\n",
        "print( s.split(\" -> \"))\n",
        "print( \";\".join( s.split(\" -> \")))"
      ],
      "execution_count": null,
      "outputs": [
        {
          "output_type": "stream",
          "text": [
            "('uno ', '->', ' due -> tre')\n",
            "['uno', '->', 'due', '->', 'tre']\n",
            "['uno', 'due', 'tre']\n",
            "uno;due;tre\n"
          ],
          "name": "stdout"
        }
      ]
    },
    {
      "cell_type": "markdown",
      "metadata": {
        "id": "dghi7nBTfapv"
      },
      "source": [
        "Le stringhe sono immutabili\n",
        "\n",
        "È importante che le stringhe siano valori costanti e immutabili"
      ]
    },
    {
      "cell_type": "code",
      "metadata": {
        "id": "eAjkX6g4gENV"
      },
      "source": [
        "s = '012345'\n",
        "sX=s[:2] +'X'+s[3:]\n",
        "print(\"creando una nuova stringa\",sX,\"OK\")\n",
        "sX=s.repalce('2','X')\n",
        "print(sX,\"Still OK\")\n",
        "s[2] = 'X' # Un ENORME ERRORE!!"
      ],
      "execution_count": null,
      "outputs": []
    },
    {
      "cell_type": "markdown",
      "metadata": {
        "id": "U9s2kEXShPvG"
      },
      "source": [
        "Processo stringhe avanzato\n",
        "\n",
        "Per un'elaborazione delle stringhe più avanzata ci sono molte librerie disponibili in Python, tra cui ad esempio:\n",
        "\n",
        "re per la ricerca e la suddivisione di stringhe basate su espressioni regolari\n",
        "\n",
        "html per manipolare il testo in formato HTML\n",
        "\n",
        "textwrap per riformattare il testo ASCII"
      ]
    },
    {
      "cell_type": "markdown",
      "metadata": {
        "id": "Bxs_feTVhop2"
      },
      "source": [
        "Capitolo 3\n",
        "\n",
        "Strutture Dati\n",
        "\n",
        "In generale, scrivere programmi riguarda la gestione di raccolte più complesse di tali elementi, il che significa pensare a strutture di dati per memorizzare i dati e algoritmi adeeeso esamineremo alcune delle strutture dati integrate che sono incluse in Python, vale a dire list, tuple, dict e set ."
      ]
    },
    {
      "cell_type": "markdown",
      "metadata": {
        "id": "gtNK2H-vR-hL"
      },
      "source": [
        "Liste \n",
        "\n",
        "Gli elenchi o liste sono una sequenza di dati racchiusa tra parentesi quadre e i dati sono separati da una virgola a cui è possibile accedere a ogni singolo elemento.\n",
        "\n",
        "Gli elenchi sono dichiarati con una variabile a + '[]' oppure list"
      ]
    },
    {
      "cell_type": "code",
      "metadata": {
        "id": "R0et8e2KSxNM"
      },
      "source": [
        "a = []"
      ],
      "execution_count": null,
      "outputs": []
    },
    {
      "cell_type": "code",
      "metadata": {
        "colab": {
          "base_uri": "https://localhost:8080/"
        },
        "id": "xuglf51HS2kc",
        "outputId": "ecb8b989-bd04-4779-82b2-995ead88c4ab"
      },
      "source": [
        "type(a)"
      ],
      "execution_count": null,
      "outputs": [
        {
          "output_type": "execute_result",
          "data": {
            "text/plain": [
              "list"
            ]
          },
          "metadata": {},
          "execution_count": 2
        }
      ]
    },
    {
      "cell_type": "markdown",
      "metadata": {
        "id": "bMZ_ElTZS7UW"
      },
      "source": [
        "Si può anche assegnare direttamenre la sequenza di dati della lista"
      ]
    },
    {
      "cell_type": "code",
      "metadata": {
        "id": "UfqjmsIjTKnd"
      },
      "source": [
        "x = ['apple','orange']"
      ],
      "execution_count": null,
      "outputs": []
    },
    {
      "cell_type": "markdown",
      "metadata": {
        "id": "lx0rwvGJTYMK"
      },
      "source": [
        "Indicizzazione\n",
        "\n",
        "'indicizzazione parte da 0 come già visto per le stringhe. Quindi ora la lista x, che ha due elementi, avrà apple all'indice 0 e orange all'indice 1."
      ]
    },
    {
      "cell_type": "code",
      "metadata": {
        "colab": {
          "base_uri": "https://localhost:8080/",
          "height": 35
        },
        "id": "gNuKpZucTuL3",
        "outputId": "11b46115-f189-49fd-ed17-55ec414c4069"
      },
      "source": [
        "x = ['apple','orange']\n",
        "x[0]"
      ],
      "execution_count": null,
      "outputs": [
        {
          "output_type": "execute_result",
          "data": {
            "application/vnd.google.colaboratory.intrinsic+json": {
              "type": "string"
            },
            "text/plain": [
              "'apple'"
            ]
          },
          "metadata": {},
          "execution_count": 5
        }
      ]
    },
    {
      "cell_type": "markdown",
      "metadata": {
        "id": "Gci79I-yUBMl"
      },
      "source": [
        "l'indicizzazione può essere eseguita anche in ordine inverso\n",
        "\n",
        "Qui, l'indicizzazione inizia da -1. Quindi il valore dell'indice -1 sarà orange e l'indice -2 sarà apple."
      ]
    },
    {
      "cell_type": "code",
      "metadata": {
        "colab": {
          "base_uri": "https://localhost:8080/",
          "height": 35
        },
        "id": "YGymv6npUSnm",
        "outputId": "975b16f4-2647-4bd7-d07d-e5c629c3823d"
      },
      "source": [
        "x = ['apple','orange']\n",
        "x[-1]"
      ],
      "execution_count": null,
      "outputs": [
        {
          "output_type": "execute_result",
          "data": {
            "application/vnd.google.colaboratory.intrinsic+json": {
              "type": "string"
            },
            "text/plain": [
              "'orange'"
            ]
          },
          "metadata": {},
          "execution_count": 6
        }
      ]
    },
    {
      "cell_type": "markdown",
      "metadata": {
        "id": "SJ3huJx2Unav"
      },
      "source": [
        "Questo concetto può essere esteso alle liste con più molti elementi"
      ]
    },
    {
      "cell_type": "code",
      "metadata": {
        "id": "UFSy_KFbUn2-"
      },
      "source": [
        "y = ['carrot','potato']"
      ],
      "execution_count": null,
      "outputs": []
    },
    {
      "cell_type": "markdown",
      "metadata": {
        "id": "ahCf5d5PVDf-"
      },
      "source": [
        "Una lista è in grado di contenere a sua volta altre liste"
      ]
    },
    {
      "cell_type": "code",
      "metadata": {
        "colab": {
          "base_uri": "https://localhost:8080/"
        },
        "id": "gLMKtyp7VVa9",
        "outputId": "525b0620-6ade-4878-f650-e22265a0b22b"
      },
      "source": [
        "x = ['apple','orange']\n",
        "y = ['carrot','potato']\n",
        "z =[x,y]\n",
        "print(z)"
      ],
      "execution_count": null,
      "outputs": [
        {
          "output_type": "stream",
          "text": [
            "[['apple', 'orange'], ['carrot', 'potato']]\n"
          ],
          "name": "stdout"
        }
      ]
    },
    {
      "cell_type": "markdown",
      "metadata": {
        "id": "wDHSIDi-VujV"
      },
      "source": [
        "l'indicizzazione negli elenchi nidificati può essere piuttosto confusa quindi scomponiamolo, accediamo ai dati \"apple\" nell'elenco nidificato sopra. Innanzitutto, all'indice 0 c'è una lista ['apple','orange'] e all'indice 1 c'è un'altra lista ['carrot','potato']. Quindi z[0] dovrebbe darci la prima lista che contiene 'apple' e 'orange'. Da questo elenco possiamo prendere il secondo elemento (indice 1) per ottenere 'orange'"
      ]
    },
    {
      "cell_type": "code",
      "metadata": {
        "colab": {
          "base_uri": "https://localhost:8080/"
        },
        "id": "_oikvmU0WDXI",
        "outputId": "e3d7b8e6-7aea-4bff-cf91-4f2537ba54de"
      },
      "source": [
        "print(z[0][1])"
      ],
      "execution_count": null,
      "outputs": [
        {
          "output_type": "stream",
          "text": [
            "orange\n"
          ],
          "name": "stdout"
        }
      ]
    },
    {
      "cell_type": "markdown",
      "metadata": {
        "id": "OguROZ8qWV0u"
      },
      "source": [
        "Gli elenchi possono contenere più elementi dversi"
      ]
    },
    {
      "cell_type": "code",
      "metadata": {
        "colab": {
          "base_uri": "https://localhost:8080/"
        },
        "id": "C0hNOsOjWfFO",
        "outputId": "b2e5d4e8-0c7c-47ef-92e1-fbc2df634a7b"
      },
      "source": [
        "[\"questa è una lista valida\",2,3,6,(1+2j),[\"a\",\"sublist\"]]"
      ],
      "execution_count": null,
      "outputs": [
        {
          "output_type": "execute_result",
          "data": {
            "text/plain": [
              "['questa è una lista valida', 2, 3, 6, (1+2j), ['a', 'sublist']]"
            ]
          },
          "metadata": {},
          "execution_count": 10
        }
      ]
    },
    {
      "cell_type": "markdown",
      "metadata": {
        "id": "uCXw1vioW0So"
      },
      "source": [
        "Slicing\n",
        "\n",
        "lo Slicing è l'accesso a una sequenza di dati all'interno dell'elenco. In altre parole \"tagliare\" la lista.\n",
        "\n",
        "Viene eseguita definendo i valori di indice del primo elemento e dell'ultimo elemento dall'elenco parent richiesto nell'elenco sliced. È scritto come parentlist[ a : b ] dove a, b sono i valori dell'indice della parent list. Se a o b non è definito, il valore dell'indice è considerato il primo valore per a se a non è definito e l'ultimo valore per b quando b non è definito."
      ]
    },
    {
      "cell_type": "code",
      "metadata": {
        "colab": {
          "base_uri": "https://localhost:8080/"
        },
        "id": "u_Q0dAxjXktY",
        "outputId": "3aa3a2ec-8026-479d-8309-2ef709f50312"
      },
      "source": [
        "num = [0,1,2,3,4,5,6,7,8,9]\n",
        "print(num[0:4])\n",
        "print(num[4:])"
      ],
      "execution_count": null,
      "outputs": [
        {
          "output_type": "stream",
          "text": [
            "[0, 1, 2, 3]\n",
            "[4, 5, 6, 7, 8, 9]\n"
          ],
          "name": "stdout"
        }
      ]
    },
    {
      "cell_type": "markdown",
      "metadata": {
        "id": "xfJCJk7yX1LP"
      },
      "source": [
        "\n",
        "Puoi anche suddividere un elenco padre con una lunghezza fissa o una lunghezza del passo.(NON LA HO CAPITA CHIEDERE AL PROF)"
      ]
    },
    {
      "cell_type": "code",
      "metadata": {
        "colab": {
          "base_uri": "https://localhost:8080/"
        },
        "id": "EROwPia1X-4V",
        "outputId": "65e9623c-e17f-4976-c2d8-25c31e4e6587"
      },
      "source": [
        "num[:9:3]"
      ],
      "execution_count": null,
      "outputs": [
        {
          "output_type": "execute_result",
          "data": {
            "text/plain": [
              "[0, 3, 6]"
            ]
          },
          "metadata": {},
          "execution_count": 12
        }
      ]
    },
    {
      "cell_type": "markdown",
      "metadata": {
        "id": "Nl9yhy0FZced"
      },
      "source": [
        "Funzioni elenco integrate\n",
        "\n",
        "Per trovare la lunghezza della lista o il numero di elementi in una lista, si usa len( )"
      ]
    },
    {
      "cell_type": "code",
      "metadata": {
        "colab": {
          "base_uri": "https://localhost:8080/"
        },
        "id": "zd4nCgiyZi60",
        "outputId": "d16587c3-4efa-46a6-a6d3-88bfc808626f"
      },
      "source": [
        "len(num)"
      ],
      "execution_count": null,
      "outputs": [
        {
          "output_type": "execute_result",
          "data": {
            "text/plain": [
              "10"
            ]
          },
          "metadata": {},
          "execution_count": 13
        }
      ]
    },
    {
      "cell_type": "markdown",
      "metadata": {
        "id": "JnkLdsQ1Zrf7"
      },
      "source": [
        "Se l'elenco è composto da tutti gli elementi interi, min() e max() forniscono il valore minimo e massimo nell'elenco, uguale sum è la somma"
      ]
    },
    {
      "cell_type": "code",
      "metadata": {
        "colab": {
          "base_uri": "https://localhost:8080/"
        },
        "id": "L5EZLr3yZt6k",
        "outputId": "e64dd0f2-6437-4181-ec03-99ea75473f0e"
      },
      "source": [
        "print(\"min =\",min(num), \"max = \",max(num), \"total = \",sum(num))"
      ],
      "execution_count": null,
      "outputs": [
        {
          "output_type": "stream",
          "text": [
            "min = 0 max =  9 total =  45\n"
          ],
          "name": "stdout"
        }
      ]
    },
    {
      "cell_type": "markdown",
      "metadata": {
        "id": "RyE4Ys71aOfE"
      },
      "source": [
        "\n",
        "Gli elenchi possono essere concatenati aggiungendoli \"+\". L'elenco risultante conterrà tutti gli elementi degli elenchi che sono stati aggiunti. L'elenco risultante non sarà un elenco nidificato."
      ]
    },
    {
      "cell_type": "code",
      "metadata": {
        "colab": {
          "base_uri": "https://localhost:8080/"
        },
        "id": "pA-iZu7haP-s",
        "outputId": "934cb7c1-177b-418b-a06f-94eba6ecbb90"
      },
      "source": [
        "[1,2,3] + [5,4,7]"
      ],
      "execution_count": null,
      "outputs": [
        {
          "output_type": "execute_result",
          "data": {
            "text/plain": [
              "[1, 2, 3, 5, 4, 7]"
            ]
          },
          "metadata": {},
          "execution_count": 16
        }
      ]
    },
    {
      "cell_type": "markdown",
      "metadata": {
        "id": "yTfuSZtlaWCd"
      },
      "source": [
        "Potrebbe sorgere un requisito in cui potrebbe essere necessario verificare se un particolare elemento è presente in un elenco predefinito. "
      ]
    },
    {
      "cell_type": "code",
      "metadata": {
        "id": "xe8eKHO2ad59"
      },
      "source": [
        "names = ['Earth','Air','Fire','Water']"
      ],
      "execution_count": null,
      "outputs": []
    },
    {
      "cell_type": "markdown",
      "metadata": {
        "id": "jC8hC8SranQc"
      },
      "source": [
        "Per verificare se 'Fire' e 'Metal' sono presenti nei nomi della lista. Uno degli approccii sarebbe quello di utilizzare un ciclo for e scorrere l'elenco e utilizzare la condizione if. Ma in Python puoi usare un concetto in b che restituirebbe 'True' se a è presente in b e 'False' in caso contrario."
      ]
    },
    {
      "cell_type": "code",
      "metadata": {
        "colab": {
          "base_uri": "https://localhost:8080/"
        },
        "id": "Pl62Co0ja-Hi",
        "outputId": "65532904-9f41-4ac7-b84a-465393f2ce6f"
      },
      "source": [
        "names = ['Earth','Air','Fire','Water']\n",
        "'Fire' in names"
      ],
      "execution_count": null,
      "outputs": [
        {
          "output_type": "execute_result",
          "data": {
            "text/plain": [
              "True"
            ]
          },
          "metadata": {},
          "execution_count": 18
        }
      ]
    },
    {
      "cell_type": "code",
      "metadata": {
        "colab": {
          "base_uri": "https://localhost:8080/"
        },
        "id": "qK9Mo4jwbF3G",
        "outputId": "ffb6f755-fab4-40f5-c1cb-6a8fb4f679dd"
      },
      "source": [
        "'Metals' in names"
      ],
      "execution_count": null,
      "outputs": [
        {
          "output_type": "execute_result",
          "data": {
            "text/plain": [
              "False"
            ]
          },
          "metadata": {},
          "execution_count": 19
        }
      ]
    },
    {
      "cell_type": "markdown",
      "metadata": {
        "id": "Fn6jFzxebLkv"
      },
      "source": [
        "In una lista contenete stringhe sono ancora utilizzabili max e min ma restituiscono il primo/ultimo elemento in ordine lessicografico."
      ]
    },
    {
      "cell_type": "code",
      "metadata": {
        "colab": {
          "base_uri": "https://localhost:8080/"
        },
        "id": "BjaSVAkIbcdk",
        "outputId": "043bf44f-5006-4992-9c3a-20445308d1e8"
      },
      "source": [
        "mlist = ['bzaa','bs','nc','az','z','klm']\n",
        "print(\"max =\",max(mlist))\n",
        "print(\"min =\",min(mlist))"
      ],
      "execution_count": null,
      "outputs": [
        {
          "output_type": "stream",
          "text": [
            "max = z\n",
            "min = az\n"
          ],
          "name": "stdout"
        }
      ]
    },
    {
      "cell_type": "markdown",
      "metadata": {
        "id": "8l4dkbO8b630"
      },
      "source": [
        "In questo caso viene considerato il primo indice di ogni elemento e quindi z ha il valore ASCII più elevato, quindi viene restituito e l'ASCII minimo è a."
      ]
    },
    {
      "cell_type": "code",
      "metadata": {
        "colab": {
          "base_uri": "https://localhost:8080/"
        },
        "id": "WVmytDTRcJhc",
        "outputId": "473b905f-62ad-40ec-9205-f5a6f6372503"
      },
      "source": [
        "nlist = ['5','24','93','1000']\n",
        "print(\"max =\",max(nlist))\n",
        "print('min =',min(nlist))"
      ],
      "execution_count": null,
      "outputs": [
        {
          "output_type": "stream",
          "text": [
            "max = 93\n",
            "min = 1000\n"
          ],
          "name": "stdout"
        }
      ]
    },
    {
      "cell_type": "markdown",
      "metadata": {
        "id": "fOt37OfBcnXD"
      },
      "source": [
        "Ma nel caso i numeri fossero stringhe?\n",
        "\n",
        "\n",
        "Anche se i numeri sono dichiarati in una stringa, viene considerato il primo indice di ogni elemento e vengono restituiti di conseguenza i valori massimo e minimo.\n",
        "\n",
        "\n",
        "Ma se si desidera trovare l'elemento stringa max() in base alla lunghezza della stringa, è possibile utilizzare un'altra chiave di parametro per specificare la funzione da utilizzare per generare il valore su cui ordinare si chiama len"
      ]
    },
    {
      "cell_type": "code",
      "metadata": {
        "colab": {
          "base_uri": "https://localhost:8080/"
        },
        "id": "GjGZCp2NdjWT",
        "outputId": "98fb39a2-021d-4372-b9a1-17b5e0cff347"
      },
      "source": [
        "print('longest =',max(mlist, key=len))\n",
        "print('shortest =',min(mlist, key=len))"
      ],
      "execution_count": null,
      "outputs": [
        {
          "output_type": "stream",
          "text": [
            "longest = bzaa\n",
            "shortest = z\n"
          ],
          "name": "stdout"
        }
      ]
    },
    {
      "cell_type": "markdown",
      "metadata": {
        "id": "7Y75VgPaeEFX"
      },
      "source": [
        "Una stringa può essere convertita in una lista usando la funzione list(), o più utilmente usando il metodo split(), che suddivide le stringhe in base agli spazi."
      ]
    },
    {
      "cell_type": "code",
      "metadata": {
        "colab": {
          "base_uri": "https://localhost:8080/"
        },
        "id": "BjzoBCoAeFu0",
        "outputId": "c3894f43-714b-4e5b-831e-d9dd23dea535"
      },
      "source": [
        "print(list('hello world !'),'Hello World !!'.split())"
      ],
      "execution_count": null,
      "outputs": [
        {
          "output_type": "stream",
          "text": [
            "['h', 'e', 'l', 'l', 'o', ' ', 'w', 'o', 'r', 'l', 'd', ' ', '!'] ['Hello', 'World', '!!']\n"
          ],
          "name": "stdout"
        }
      ]
    },
    {
      "cell_type": "markdown",
      "metadata": {
        "id": "b7F1y8aPeUOs"
      },
      "source": [
        "append() si usa per aggiungere un singolo elemento alla fine della lista"
      ]
    },
    {
      "cell_type": "code",
      "metadata": {
        "colab": {
          "base_uri": "https://localhost:8080/"
        },
        "id": "_xBOrAKGeaw0",
        "outputId": "b002b147-ec00-40ca-98f0-a5c57dfccfd8"
      },
      "source": [
        "lst = [1,1,4,8,7]\n",
        "lst.append(1)\n",
        "print(lst)"
      ],
      "execution_count": null,
      "outputs": [
        {
          "output_type": "stream",
          "text": [
            "[1, 1, 4, 8, 7, 1]\n"
          ],
          "name": "stdout"
        }
      ]
    },
    {
      "cell_type": "markdown",
      "metadata": {
        "id": "zj4UVc4LenGL"
      },
      "source": [
        "L'aggiunta di un elenco a un elenco creerebbe un sottoelenco/sublist. Se un elenco annidato non è ciò che si vuole, si può usare la funzione extend()."
      ]
    },
    {
      "cell_type": "code",
      "metadata": {
        "colab": {
          "base_uri": "https://localhost:8080/"
        },
        "id": "lviG0FTve3Q0",
        "outputId": "d3562b74-7dcd-4207-ba06-4e9fd1233220"
      },
      "source": [
        "lst.extend([10,11,12])\n",
        "print(lst)"
      ],
      "execution_count": null,
      "outputs": [
        {
          "output_type": "stream",
          "text": [
            "[1, 1, 4, 8, 7, 1, 10, 11, 12]\n"
          ],
          "name": "stdout"
        }
      ]
    },
    {
      "cell_type": "markdown",
      "metadata": {
        "id": "9TBKzdgKfFTy"
      },
      "source": [
        "count() serve per contare quanti elementi uguali ci sono nella lista"
      ]
    },
    {
      "cell_type": "code",
      "metadata": {
        "colab": {
          "base_uri": "https://localhost:8080/"
        },
        "id": "cOl-QKaNfN4r",
        "outputId": "ecd01368-becb-4415-8e3f-0e834497bf43"
      },
      "source": [
        "lst.count(1)"
      ],
      "execution_count": null,
      "outputs": [
        {
          "output_type": "execute_result",
          "data": {
            "text/plain": [
              "3"
            ]
          },
          "metadata": {},
          "execution_count": 48
        }
      ]
    },
    {
      "cell_type": "markdown",
      "metadata": {
        "id": "cEl4DN70feRb"
      },
      "source": [
        "index() è usato per trovare la posizione di un particolare elemento"
      ]
    },
    {
      "cell_type": "code",
      "metadata": {
        "colab": {
          "base_uri": "https://localhost:8080/"
        },
        "id": "_P6N7bwifk3j",
        "outputId": "10e5f613-a8e1-46ee-a45d-5126d8383b9c"
      },
      "source": [
        "lst.index(1)"
      ],
      "execution_count": null,
      "outputs": [
        {
          "output_type": "execute_result",
          "data": {
            "text/plain": [
              "0"
            ]
          },
          "metadata": {},
          "execution_count": 49
        }
      ]
    },
    {
      "cell_type": "markdown",
      "metadata": {
        "id": "EoLDXedJfxED"
      },
      "source": [
        "insert(x,y) è usato per inserire un elemento y in una specifica posizione"
      ]
    },
    {
      "cell_type": "code",
      "metadata": {
        "colab": {
          "base_uri": "https://localhost:8080/"
        },
        "id": "ar8PnVX5f6ND",
        "outputId": "5a6abdb5-8809-47ed-b855-f4e63e75756c"
      },
      "source": [
        "lst.insert(5, 'name')\n",
        "print(lst)"
      ],
      "execution_count": null,
      "outputs": [
        {
          "output_type": "stream",
          "text": [
            "[1, 1, 4, 8, 7, 'name', 1, 10, 11, 12]\n"
          ],
          "name": "stdout"
        }
      ]
    },
    {
      "cell_type": "markdown",
      "metadata": {
        "id": "hKp90uuWgI7r"
      },
      "source": [
        "insert(x,y) non rimpiazza l'elemento ma se lo vuoi rimpiazzare odvrai fare così"
      ]
    },
    {
      "cell_type": "code",
      "metadata": {
        "colab": {
          "base_uri": "https://localhost:8080/"
        },
        "id": "mrl7O1n1gQVS",
        "outputId": "a9154ff9-3887-4b7b-bb44-e0d87ed5fbee"
      },
      "source": [
        "lst[5] = 'Python'\n",
        "print(lst)"
      ],
      "execution_count": null,
      "outputs": [
        {
          "output_type": "stream",
          "text": [
            "[1, 1, 4, 8, 7, 'Python', 1, 10, 11, 12]\n"
          ],
          "name": "stdout"
        }
      ]
    },
    {
      "cell_type": "markdown",
      "metadata": {
        "id": "Wz1znaNsgdCl"
      },
      "source": [
        "pop() mostra l'ultimo elemento della lista e lo rimuove"
      ]
    },
    {
      "cell_type": "code",
      "metadata": {
        "colab": {
          "base_uri": "https://localhost:8080/"
        },
        "id": "Liu9ZeMnggJz",
        "outputId": "459f34ab-a5c8-4a85-92cd-7dec93b05383"
      },
      "source": [
        "lst.pop()"
      ],
      "execution_count": null,
      "outputs": [
        {
          "output_type": "execute_result",
          "data": {
            "text/plain": [
              "12"
            ]
          },
          "metadata": {},
          "execution_count": 52
        }
      ]
    },
    {
      "cell_type": "markdown",
      "metadata": {
        "id": "cQeOz-sngjUr"
      },
      "source": [
        "si può però far indicare a pop la posizione precisa di un elemento della lista"
      ]
    },
    {
      "cell_type": "code",
      "metadata": {
        "colab": {
          "base_uri": "https://localhost:8080/"
        },
        "id": "E0bmQomyhvrb",
        "outputId": "550040b4-1893-4772-d848-b8cc70fc020e"
      },
      "source": [
        "lst.pop(0)"
      ],
      "execution_count": null,
      "outputs": [
        {
          "output_type": "execute_result",
          "data": {
            "text/plain": [
              "1"
            ]
          },
          "metadata": {},
          "execution_count": 53
        }
      ]
    },
    {
      "cell_type": "markdown",
      "metadata": {
        "id": "v84a06zjh2AS"
      },
      "source": [
        "Si può usare remove() per eliminare uno specifico elemento dalla lista"
      ]
    },
    {
      "cell_type": "code",
      "metadata": {
        "colab": {
          "base_uri": "https://localhost:8080/"
        },
        "id": "ctvEB_10iAf2",
        "outputId": "35253d40-318e-4085-fd76-64a582b95e63"
      },
      "source": [
        "lst.remove('Python')\n",
        "print(lst)"
      ],
      "execution_count": null,
      "outputs": [
        {
          "output_type": "stream",
          "text": [
            "[1, 4, 8, 7, 1, 10, 11]\n"
          ],
          "name": "stdout"
        }
      ]
    },
    {
      "cell_type": "markdown",
      "metadata": {
        "id": "LptPPBUWiMLP"
      },
      "source": [
        "se no si può usare del ma elimina in base alla posizione data"
      ]
    },
    {
      "cell_type": "code",
      "metadata": {
        "colab": {
          "base_uri": "https://localhost:8080/"
        },
        "id": "fc5dHW5biUD9",
        "outputId": "2d923a20-d4a7-40ee-8188-b98aeca4a01c"
      },
      "source": [
        "del lst[1]\n",
        "print(lst)"
      ],
      "execution_count": null,
      "outputs": [
        {
          "output_type": "stream",
          "text": [
            "[1, 8, 7, 1, 10, 11]\n"
          ],
          "name": "stdout"
        }
      ]
    },
    {
      "cell_type": "markdown",
      "metadata": {
        "id": "ZtJfxA-libGC"
      },
      "source": [
        "tutti gli elementi possono essere rigirati con la funzione reverse()"
      ]
    },
    {
      "cell_type": "code",
      "metadata": {
        "colab": {
          "base_uri": "https://localhost:8080/"
        },
        "id": "jQOJJITrigji",
        "outputId": "9af55d70-9938-4a52-fdec-871ec7d41b8e"
      },
      "source": [
        "lst.reverse()\n",
        "print(lst)"
      ],
      "execution_count": null,
      "outputs": [
        {
          "output_type": "stream",
          "text": [
            "[11, 10, 1, 7, 8, 1]\n"
          ],
          "name": "stdout"
        }
      ]
    },
    {
      "cell_type": "markdown",
      "metadata": {
        "id": "yJysHe3ZitE6"
      },
      "source": [
        "Python offre anche la posssibilità con sort() di numerare gli elementi in ordine crescente se no si può usare sorted() che ha lo stesso concetto"
      ]
    },
    {
      "cell_type": "code",
      "metadata": {
        "colab": {
          "base_uri": "https://localhost:8080/"
        },
        "id": "kHiGJ75MjB0I",
        "outputId": "afd0f35f-5c98-4deb-be05-73095a104b51"
      },
      "source": [
        "lst.sort()\n",
        "print(lst)\n",
        "print(sorted([3,2,1]))"
      ],
      "execution_count": null,
      "outputs": [
        {
          "output_type": "stream",
          "text": [
            "[1, 1, 7, 8, 10, 11]\n",
            "[1, 2, 3]\n"
          ],
          "name": "stdout"
        }
      ]
    },
    {
      "cell_type": "markdown",
      "metadata": {
        "id": "zkbo9Sd_jUKs"
      },
      "source": [
        "per farlo in ordine decrescente dovrei usare reverse e dargli il True"
      ]
    },
    {
      "cell_type": "code",
      "metadata": {
        "colab": {
          "base_uri": "https://localhost:8080/"
        },
        "id": "z7xW7Yoijh6y",
        "outputId": "f1e40bba-5e10-42b5-e4b3-901185131a60"
      },
      "source": [
        "print(sorted(lst, reverse=True))\n",
        "print(lst)"
      ],
      "execution_count": null,
      "outputs": [
        {
          "output_type": "stream",
          "text": [
            "[11, 10, 8, 7, 1, 1]\n",
            "[1, 1, 7, 8, 10, 11]\n"
          ],
          "name": "stdout"
        }
      ]
    },
    {
      "cell_type": "markdown",
      "metadata": {
        "id": "YZ6h7ho7jsHa"
      },
      "source": [
        "simile per le liste contenenti stringhe sort() li oridinerà in base al codice ASCII in modo crescente mentre con reverse=True in decrescente"
      ]
    },
    {
      "cell_type": "code",
      "metadata": {
        "colab": {
          "base_uri": "https://localhost:8080/"
        },
        "id": "UQKsPYxLkRQO",
        "outputId": "1c65fcda-ec65-4bac-b195-ae556ede49ba"
      },
      "source": [
        "names.sort()\n",
        "print(names)\n",
        "names.sort(reverse=True)\n",
        "print(names)"
      ],
      "execution_count": null,
      "outputs": [
        {
          "output_type": "stream",
          "text": [
            "['Air', 'Earth', 'Fire', 'Water']\n",
            "['Water', 'Fire', 'Earth', 'Air']\n"
          ],
          "name": "stdout"
        }
      ]
    },
    {
      "cell_type": "markdown",
      "metadata": {
        "id": "yf6YDSg2ktHa"
      },
      "source": [
        "il sort è basato sul key=len dovrebbe essere specificato"
      ]
    },
    {
      "cell_type": "code",
      "metadata": {
        "colab": {
          "base_uri": "https://localhost:8080/"
        },
        "id": "8KnRkzf1k1zS",
        "outputId": "6490ff5a-31aa-4f62-8a66-765564386a1c"
      },
      "source": [
        "names.sort(key=len)\n",
        "print(names)\n",
        "print(sorted(names,key=len,reverse=True))"
      ],
      "execution_count": null,
      "outputs": [
        {
          "output_type": "stream",
          "text": [
            "['Air', 'Fire', 'Water', 'Earth']\n",
            "['Water', 'Earth', 'Fire', 'Air']\n"
          ],
          "name": "stdout"
        }
      ]
    },
    {
      "cell_type": "markdown",
      "metadata": {
        "id": "ZyhIlj30lKvJ"
      },
      "source": [
        "Copiando una lista\n",
        "\n",
        "Basta semplicemente un secondo riferimento allo stesso elenco"
      ]
    },
    {
      "cell_type": "code",
      "metadata": {
        "colab": {
          "base_uri": "https://localhost:8080/"
        },
        "id": "j0vAxidplc91",
        "outputId": "195f2f34-0fc5-420a-cd52-c0133bdbd367"
      },
      "source": [
        "lista= [2,1,4,3]\n",
        "listb= lista\n",
        "print(listb)"
      ],
      "execution_count": null,
      "outputs": [
        {
          "output_type": "stream",
          "text": [
            "[2, 1, 4, 3]\n"
          ],
          "name": "stdout"
        }
      ]
    },
    {
      "cell_type": "markdown",
      "metadata": {
        "id": "r3b8o7ZzlmX5"
      },
      "source": [
        "abbiamo dichiarato una lista, lista = [2,1,4,3]. Questo elenco viene copiato in listb assegnando il suo valore,proviamo a modificare lista"
      ]
    },
    {
      "cell_type": "code",
      "metadata": {
        "colab": {
          "base_uri": "https://localhost:8080/"
        },
        "id": "zBbZ5hVUl2h2",
        "outputId": "165efccb-5bfa-4c6a-c041-e7d3c47a20a4"
      },
      "source": [
        "lista.sort()\n",
        "lista.pop()\n",
        "lista.append(9)\n",
        "print(\"A =\",lista)\n",
        "print(\"B =\",listb)"
      ],
      "execution_count": null,
      "outputs": [
        {
          "output_type": "stream",
          "text": [
            "A = [1, 2, 3, 9]\n",
            "B = [1, 2, 3, 9]\n"
          ],
          "name": "stdout"
        }
      ]
    },
    {
      "cell_type": "markdown",
      "metadata": {
        "id": "_gNmjiZ6mcq6"
      },
      "source": [
        "listb è cambiato anche se non è stata eseguita alcuna operazione su di esso. Questo perché in Python l'assegnazione assegna riferimenti allo stesso oggetto, piuttosto che creare copie. Quindi come risolvere questo problema?\n",
        "\n",
        "Se ricordi, nello slicing abbiamo visto che parentlist[a:b] restituisce un elenco dall'elenco parent con indice di inizio a e indice di fine b e se a e b non sono menzionati, per impostazione predefinita considera il primo e l'ultimo elemento. Usiamo lo stesso concetto qui. Così facendo, assegniamo i dati di lista a listb come variabile."
      ]
    },
    {
      "cell_type": "code",
      "metadata": {
        "colab": {
          "base_uri": "https://localhost:8080/"
        },
        "id": "iSXNajeqmk7Z",
        "outputId": "ff0e48cf-5bf7-4e00-d242-492a0f4a1315"
      },
      "source": [
        "lista = [2,1,4,3]\n",
        "listb = lista[:]\n",
        "print(\"Abbiamo iniziato con:\")\n",
        "print(\"A =\",lista)\n",
        "print(\"B =\",listb)\n",
        "lista.sort()\n",
        "lista.pop()\n",
        "lista.append(9)\n",
        "print(\"Abbiamo finito con:\")\n",
        "print(\"A =\",lista)\n",
        "print(\"B =\",listb)"
      ],
      "execution_count": null,
      "outputs": [
        {
          "output_type": "stream",
          "text": [
            "Abbiamo iniziato con:\n",
            "A = [2, 1, 4, 3]\n",
            "B = [2, 1, 4, 3]\n",
            "Abbiamo finito con:\n",
            "A = [1, 2, 3, 9]\n",
            "B = [2, 1, 4, 3]\n"
          ],
          "name": "stdout"
        }
      ]
    },
    {
      "cell_type": "markdown",
      "metadata": {
        "id": "MpM7Fg-Snm_y"
      },
      "source": [
        "Comprensione delle liste\n",
        "\n",
        "In Python è possibile definire elenchi utilizzando l'espressione di comprensione delle liste (loop)"
      ]
    },
    {
      "cell_type": "code",
      "metadata": {
        "colab": {
          "base_uri": "https://localhost:8080/"
        },
        "id": "jcVl0GkT2SWH",
        "outputId": "db4a9f56-dfe5-4669-8132-43df3de9782e"
      },
      "source": [
        "[i**2 for i in [1,2,3]]"
      ],
      "execution_count": null,
      "outputs": [
        {
          "output_type": "execute_result",
          "data": {
            "text/plain": [
              "[1, 4, 9]"
            ]
          },
          "metadata": {},
          "execution_count": 1
        }
      ]
    },
    {
      "cell_type": "markdown",
      "metadata": {
        "id": "vfCpN8oA3cX_"
      },
      "source": [
        "In generale questo assume la forma di [<espressione> per <variabile> in <Lista>]. Cioè si costruisce una nuova lista prendendo a turno ogni elemento della lista data, assegnandolo alla variabile\n",
        "\n",
        "Qui costruiamo una nuova lista prendendo ogni elemento dell'originale [1,2,3] e elevandolo al quadrato. Possiamo avere più di questi cicli impliciti"
      ]
    },
    {
      "cell_type": "code",
      "metadata": {
        "colab": {
          "base_uri": "https://localhost:8080/"
        },
        "id": "WOZZC90o5EIu",
        "outputId": "97479951-3d27-4790-926b-c1ee2b9d7e1a"
      },
      "source": [
        "[10*i+j for i in [1,2,3] for j in [5,7]]"
      ],
      "execution_count": null,
      "outputs": [
        {
          "output_type": "execute_result",
          "data": {
            "text/plain": [
              "[15, 17, 25, 27, 35, 37]"
            ]
          },
          "metadata": {},
          "execution_count": 2
        }
      ]
    },
    {
      "cell_type": "markdown",
      "metadata": {
        "id": "5KocoFQp5UuY"
      },
      "source": [
        "Infine, il ciclo può essere filtrato utilizzando un'espressione if con il costrutto for - in."
      ]
    },
    {
      "cell_type": "code",
      "metadata": {
        "colab": {
          "base_uri": "https://localhost:8080/"
        },
        "id": "C3h-xRnw5VRx",
        "outputId": "318fd2e0-dbaa-4a29-e53d-bf44fc0194dc"
      },
      "source": [
        "[10*i+j for i in [1,2,3] if i%2==1 for j in [4,5,7] if j >= i+4]"
      ],
      "execution_count": null,
      "outputs": [
        {
          "output_type": "execute_result",
          "data": {
            "text/plain": [
              "[15, 17, 37]"
            ]
          },
          "metadata": {},
          "execution_count": 3
        }
      ]
    },
    {
      "cell_type": "markdown",
      "metadata": {
        "id": "nSDL5mpo5tZe"
      },
      "source": [
        "Tuples\n",
        "\n",
        "Le tuple sono simili alle liste, ma l'unica grande differenza è che gli elementi all'interno di una lista possono essere modificati ma nella tupla non possono essere modificati."
      ]
    },
    {
      "cell_type": "code",
      "metadata": {
        "colab": {
          "base_uri": "https://localhost:8080/"
        },
        "id": "LjA-yVEX55GW",
        "outputId": "8c9e020f-8515-4364-d5b4-c20e3dba448d"
      },
      "source": [
        "origin = (0.0,0.0,0.0)\n",
        "x = origin \n",
        "x = (1,0,0)\n",
        "print(x)\n",
        "print(type(x))"
      ],
      "execution_count": null,
      "outputs": [
        {
          "output_type": "stream",
          "text": [
            "(1, 0, 0)\n",
            "<class 'tuple'>\n"
          ],
          "name": "stdout"
        }
      ]
    },
    {
      "cell_type": "markdown",
      "metadata": {
        "id": "woli2RJQ6So1"
      },
      "source": [
        "Per definire una tupla, una variabile viene assegnata alla parentesi ( ) o alla tuple( )"
      ]
    },
    {
      "cell_type": "code",
      "metadata": {
        "id": "4a4IjESM6ZtO"
      },
      "source": [
        "tup = ()\n",
        "tup2 = tuple()"
      ],
      "execution_count": null,
      "outputs": []
    },
    {
      "cell_type": "markdown",
      "metadata": {
        "id": "qU3IskLD6gwW"
      },
      "source": [
        "Se vuoi dichiarare direttamente una tupla di lunghezza 1, puoi farlo usando una virgola alla fine dei dati."
      ]
    },
    {
      "cell_type": "code",
      "metadata": {
        "colab": {
          "base_uri": "https://localhost:8080/"
        },
        "id": "pgrrJsre6lEn",
        "outputId": "f2eeeca6-b4fa-4ce3-e0e0-925993be791b"
      },
      "source": [
        "27,"
      ],
      "execution_count": null,
      "outputs": [
        {
          "output_type": "execute_result",
          "data": {
            "text/plain": [
              "(27,)"
            ]
          },
          "metadata": {},
          "execution_count": 5
        }
      ]
    },
    {
      "cell_type": "markdown",
      "metadata": {
        "id": "xq5kQSWv6qJ4"
      },
      "source": [
        "27 quando moltiplicato per 2 produce 54, ma quando moltiplicato per una tupla i dati vengono ripetuti due volte."
      ]
    },
    {
      "cell_type": "code",
      "metadata": {
        "colab": {
          "base_uri": "https://localhost:8080/"
        },
        "id": "UxMxruLD6wKP",
        "outputId": "9e1bad18-ccae-4859-814a-0c7cbd26ef65"
      },
      "source": [
        "2*(27,)"
      ],
      "execution_count": null,
      "outputs": [
        {
          "output_type": "execute_result",
          "data": {
            "text/plain": [
              "(27, 27)"
            ]
          },
          "metadata": {},
          "execution_count": 6
        }
      ]
    },
    {
      "cell_type": "markdown",
      "metadata": {
        "id": "IJ9KqD456-DL"
      },
      "source": [
        "I valori possono essere assegnati durante la dichiarazione di una tupla. Prende una lista come input e la converte in una tupla oppure prende una stringa e la converte in una tupla."
      ]
    },
    {
      "cell_type": "code",
      "metadata": {
        "colab": {
          "base_uri": "https://localhost:8080/"
        },
        "id": "QEoG7try6-qt",
        "outputId": "90dcb138-a475-419f-cfda-bb672acd72b1"
      },
      "source": [
        "tup3 = tuple([1,2,3])\n",
        "print(tup3)\n",
        "tup4 = tuple('Hello')\n",
        "print(tup4)"
      ],
      "execution_count": null,
      "outputs": [
        {
          "output_type": "stream",
          "text": [
            "(1, 2, 3)\n",
            "('H', 'e', 'l', 'l', 'o')\n"
          ],
          "name": "stdout"
        }
      ]
    },
    {
      "cell_type": "markdown",
      "metadata": {
        "id": "Na2FPvic7VSM"
      },
      "source": [
        "Segue la stessa indicizzazione e suddivisione delle liste."
      ]
    },
    {
      "cell_type": "code",
      "metadata": {
        "colab": {
          "base_uri": "https://localhost:8080/"
        },
        "id": "GUY3eb3q7Vxe",
        "outputId": "907c3f67-5bb0-41a4-cada-4f693705ce33"
      },
      "source": [
        "print(tup3[1])\n",
        "tup5 = tup4[:3]\n",
        "print(tup5)"
      ],
      "execution_count": null,
      "outputs": [
        {
          "output_type": "stream",
          "text": [
            "2\n",
            "('H', 'e', 'l')\n"
          ],
          "name": "stdout"
        }
      ]
    },
    {
      "cell_type": "markdown",
      "metadata": {
        "id": "MCZEs2ho7lKG"
      },
      "source": [
        "Mappare una tupla su un'altra\n",
        "\n",
        "possono essere usati come il lato sinistro delle assegnazioni e sono abbinati agli elementi del lato destro corretti, supponendo che abbiano la giusta lunghezza"
      ]
    },
    {
      "cell_type": "code",
      "metadata": {
        "colab": {
          "base_uri": "https://localhost:8080/"
        },
        "id": "4H6TE8-n8miV",
        "outputId": "31984adb-2392-4256-dace-698fd8c54b9e"
      },
      "source": [
        "(a,b,c) = ('alpha','beta','gamma') #opzionale\n",
        "a,b,c = 'alpha','beta','gamma' # uguale a quello sopra\n",
        "print(a,b,c)\n",
        "a,b,c = ['Alpha','Beta','Gamma']\n",
        "print(a,b,c)\n",
        "[a,b,c] = ('questo','va','bene')\n",
        "print(a,b,c)"
      ],
      "execution_count": null,
      "outputs": [
        {
          "output_type": "stream",
          "text": [
            "alpha beta gamma\n",
            "Alpha Beta Gamma\n",
            "questo va bene\n"
          ],
          "name": "stdout"
        }
      ]
    },
    {
      "cell_type": "markdown",
      "metadata": {
        "id": "V-MaAXRT9UDP"
      },
      "source": [
        "è possibile farlo in modo più complesso"
      ]
    },
    {
      "cell_type": "code",
      "metadata": {
        "colab": {
          "base_uri": "https://localhost:8080/"
        },
        "id": "5yt5uLWj9XoM",
        "outputId": "e9ca78e7-157c-4b23-8cc4-904ca580b312"
      },
      "source": [
        "(w,(x,y),z) = (1,(2,3),4)\n",
        "print(w,x,y,z)\n",
        "(w,xy,z)=(1,(2,3),4)\n",
        "print(w,xy,z)"
      ],
      "execution_count": null,
      "outputs": [
        {
          "output_type": "stream",
          "text": [
            "1 2 3 4\n",
            "1 (2, 3) 4\n"
          ],
          "name": "stdout"
        }
      ]
    },
    {
      "cell_type": "markdown",
      "metadata": {
        "id": "n0vstoD49_F0"
      },
      "source": [
        "Funzioni Tuple integrate\n",
        "\n",
        "La funzione `count()` conta il numero di elementi specificati presenti nella tupla."
      ]
    },
    {
      "cell_type": "code",
      "metadata": {
        "colab": {
          "base_uri": "https://localhost:8080/"
        },
        "id": "WOQxvfE0-LQU",
        "outputId": "16d999ff-13d1-461c-a381-239dfc409a06"
      },
      "source": [
        "d=tuple('una stringa con molte \"a\"')\n",
        "d.count('a')"
      ],
      "execution_count": null,
      "outputs": [
        {
          "output_type": "execute_result",
          "data": {
            "text/plain": [
              "3"
            ]
          },
          "metadata": {},
          "execution_count": 12
        }
      ]
    },
    {
      "cell_type": "markdown",
      "metadata": {
        "id": "VTMN_R4U-aSU"
      },
      "source": [
        "La funzione index() restituisce l'indice dell'elemento specificato. Se gli elementi sono più di uno, viene restituito l'indice del primo elemento di quell'elemento specificato"
      ]
    },
    {
      "cell_type": "code",
      "metadata": {
        "colab": {
          "base_uri": "https://localhost:8080/"
        },
        "id": "Vm8JAxK8-egM",
        "outputId": "e4f7e5e1-406f-43d3-c904-720f8d2a6782"
      },
      "source": [
        "d.index('a')"
      ],
      "execution_count": null,
      "outputs": [
        {
          "output_type": "execute_result",
          "data": {
            "text/plain": [
              "2"
            ]
          },
          "metadata": {},
          "execution_count": 13
        }
      ]
    },
    {
      "cell_type": "markdown",
      "metadata": {
        "id": "mnRiVOqI-uZc"
      },
      "source": [
        "Nota che molte delle altre funzioni di elenco come min(), max(), sum() e sorted(), così come l'operatore in, funzionano anche per le tuple nel modo previsto."
      ]
    },
    {
      "cell_type": "markdown",
      "metadata": {
        "id": "DTiqUtY9-vNs"
      },
      "source": [
        "Set\n",
        "\n",
        "I set vengono utilizzati principalmente per eliminare i numeri ripetuti in una sequenza/elenco. \n",
        "\n",
        "I set sono dichiarati come set() che inizializzerà un set vuoto. Anche set([sequence]) può essere eseguito per dichiarare un insieme con elementi.\n",
        "\n",
        "A differenza delle liste, gli elementi di un insieme non sono in una sequenza e non sono accessibili da un indice."
      ]
    },
    {
      "cell_type": "code",
      "metadata": {
        "colab": {
          "base_uri": "https://localhost:8080/"
        },
        "id": "1dhLCnA2_Eis",
        "outputId": "0b6bac73-9588-48d4-c290-eac823a5a6a7"
      },
      "source": [
        "set1 = set()\n",
        "print(type(set1))"
      ],
      "execution_count": null,
      "outputs": [
        {
          "output_type": "stream",
          "text": [
            "<class 'set'>\n"
          ],
          "name": "stdout"
        }
      ]
    },
    {
      "cell_type": "code",
      "metadata": {
        "colab": {
          "base_uri": "https://localhost:8080/"
        },
        "id": "2YY8Ct2Q_LLP",
        "outputId": "f52642c4-c78b-4964-9097-e509103857ab"
      },
      "source": [
        "set0 = set([1,2,2,3,3,4])\n",
        "set0 = {3,3,4,1,2,2} #uguale a sopra\n",
        "print(set0)"
      ],
      "execution_count": null,
      "outputs": [
        {
          "output_type": "stream",
          "text": [
            "{1, 2, 3, 4}\n"
          ],
          "name": "stdout"
        }
      ]
    },
    {
      "cell_type": "markdown",
      "metadata": {
        "id": "XDfrmJ7j_kfg"
      },
      "source": [
        "gli elementi 2,3 che si ripetono due volte si vedono una sola volta. Quindi in un insieme ogni elemento è distinto.\n",
        "\n",
        "Tuttavia, tieni presente che {} NON è un insieme, ma un dizionario"
      ]
    },
    {
      "cell_type": "code",
      "metadata": {
        "colab": {
          "base_uri": "https://localhost:8080/"
        },
        "id": "v10eu1bZ_lwE",
        "outputId": "b045a75b-2175-49a0-912a-610a4af116a5"
      },
      "source": [
        "type({})"
      ],
      "execution_count": null,
      "outputs": [
        {
          "output_type": "execute_result",
          "data": {
            "text/plain": [
              "dict"
            ]
          },
          "metadata": {},
          "execution_count": 16
        }
      ]
    },
    {
      "cell_type": "markdown",
      "metadata": {
        "id": "XyE9nyyx_qn9"
      },
      "source": [
        "Funzioni Integrate set"
      ]
    },
    {
      "cell_type": "code",
      "metadata": {
        "id": "Xw84lICU_vac"
      },
      "source": [
        "set1 = set([1,2,3])"
      ],
      "execution_count": null,
      "outputs": []
    },
    {
      "cell_type": "code",
      "metadata": {
        "id": "DT8NxQhW_z-s"
      },
      "source": [
        "set2 = set([2,3,4,5])"
      ],
      "execution_count": null,
      "outputs": []
    },
    {
      "cell_type": "markdown",
      "metadata": {
        "id": "tNEmpYcL_5So"
      },
      "source": [
        "La funzione union() restituisce un insieme che contiene tutti gli elementi di entrambi gli insiemi senza ripetizione."
      ]
    },
    {
      "cell_type": "code",
      "metadata": {
        "colab": {
          "base_uri": "https://localhost:8080/"
        },
        "id": "gw_fkPLr_9vl",
        "outputId": "0690b222-390c-46f3-f593-17ab1971c5fe"
      },
      "source": [
        "set1 = set([1,2,3])\n",
        "set2 = set([2,3,4,5])\n",
        "set1.union(set2)"
      ],
      "execution_count": null,
      "outputs": [
        {
          "output_type": "execute_result",
          "data": {
            "text/plain": [
              "{1, 2, 3, 4, 5}"
            ]
          },
          "metadata": {},
          "execution_count": 18
        }
      ]
    },
    {
      "cell_type": "markdown",
      "metadata": {
        "id": "DnieJUpdAQ3M"
      },
      "source": [
        "add() aggiungerà un particolare elemento all'insieme. Nota che l'indice dell'elemento appena aggiunto è arbitrario e può essere posizionato ovunque non necessariamente alla fine."
      ]
    },
    {
      "cell_type": "code",
      "metadata": {
        "colab": {
          "base_uri": "https://localhost:8080/"
        },
        "id": "NDyIH3fiARUt",
        "outputId": "b636edcb-4744-44ab-cddb-a892d1f0f52f"
      },
      "source": [
        "set1.add(0)\n",
        "set1"
      ],
      "execution_count": null,
      "outputs": [
        {
          "output_type": "execute_result",
          "data": {
            "text/plain": [
              "{0, 1, 2, 3}"
            ]
          },
          "metadata": {},
          "execution_count": 19
        }
      ]
    },
    {
      "cell_type": "markdown",
      "metadata": {
        "id": "6cKyRkYTAXYk"
      },
      "source": [
        "La funzione intersection() restituisce un insieme che contiene tutti gli elementi che sono in entrambi gli insiemi."
      ]
    },
    {
      "cell_type": "code",
      "metadata": {
        "colab": {
          "base_uri": "https://localhost:8080/"
        },
        "id": "AyeLi1xgAf70",
        "outputId": "aefe7def-c90b-4425-afc7-6d52a37b6182"
      },
      "source": [
        "set1.intersection(set2)"
      ],
      "execution_count": null,
      "outputs": [
        {
          "output_type": "execute_result",
          "data": {
            "text/plain": [
              "{2, 3}"
            ]
          },
          "metadata": {},
          "execution_count": 20
        }
      ]
    },
    {
      "cell_type": "markdown",
      "metadata": {
        "id": "J9jSGG9DAkJc"
      },
      "source": [
        "La funzione difference() produce un insieme che contiene elementi che sono in set1 e non in set2."
      ]
    },
    {
      "cell_type": "code",
      "metadata": {
        "colab": {
          "base_uri": "https://localhost:8080/"
        },
        "id": "EfYwxDiLAqLd",
        "outputId": "549c9b5a-8da8-4e65-c6f3-ed246789ce5a"
      },
      "source": [
        "set1.difference(set2)"
      ],
      "execution_count": null,
      "outputs": [
        {
          "output_type": "execute_result",
          "data": {
            "text/plain": [
              "{0, 1}"
            ]
          },
          "metadata": {},
          "execution_count": 21
        }
      ]
    },
    {
      "cell_type": "markdown",
      "metadata": {
        "id": "fQm4N74UA0r0"
      },
      "source": [
        "la funzione symmetric_difference() calcola l'insieme di elementi che si trovano esattamente in uno dei due insiemi dati"
      ]
    },
    {
      "cell_type": "code",
      "metadata": {
        "colab": {
          "base_uri": "https://localhost:8080/"
        },
        "id": "p6G2JkBuA0FU",
        "outputId": "f58f3614-4c0d-494c-83c2-d5445e5324ac"
      },
      "source": [
        "set2.symmetric_difference(set1)"
      ],
      "execution_count": null,
      "outputs": [
        {
          "output_type": "execute_result",
          "data": {
            "text/plain": [
              "{0, 1, 4, 5}"
            ]
          },
          "metadata": {},
          "execution_count": 22
        }
      ]
    },
    {
      "cell_type": "markdown",
      "metadata": {
        "id": "ItS9xa-SA7RU"
      },
      "source": [
        "issubset(), isdisjoint(), issuperset() sono usati per verificare se set1 è rispettivamente un sottoinsieme, disgiunto o un superset di set2."
      ]
    },
    {
      "cell_type": "code",
      "metadata": {
        "colab": {
          "base_uri": "https://localhost:8080/"
        },
        "id": "TshbwSGjA7wO",
        "outputId": "adb5bdb5-2b66-45e5-f969-178f26f6be68"
      },
      "source": [
        "print(set1.issubset(set2))\n",
        "print(set1.isdisjoint(set2))\n",
        "print(set1.issuperset(set2))"
      ],
      "execution_count": null,
      "outputs": [
        {
          "output_type": "stream",
          "text": [
            "False\n",
            "False\n",
            "False\n"
          ],
          "name": "stdout"
        }
      ]
    },
    {
      "cell_type": "markdown",
      "metadata": {
        "id": "sMot3P-XBXwM"
      },
      "source": [
        "pop() è usato per rimuovere un elemento arbitrario nell'insieme"
      ]
    },
    {
      "cell_type": "code",
      "metadata": {
        "colab": {
          "base_uri": "https://localhost:8080/"
        },
        "id": "jHxUt7JvBYD8",
        "outputId": "5c277c3f-3a82-438e-dc77-39b9d8a85e12"
      },
      "source": [
        "set1.pop()\n",
        "print(set1)"
      ],
      "execution_count": null,
      "outputs": [
        {
          "output_type": "stream",
          "text": [
            "{1, 2, 3}\n"
          ],
          "name": "stdout"
        }
      ]
    },
    {
      "cell_type": "markdown",
      "metadata": {
        "id": "6xz3pN5CBgNo"
      },
      "source": [
        "La funzione remove() elimina l'elemento specificato dall'insieme."
      ]
    },
    {
      "cell_type": "code",
      "metadata": {
        "colab": {
          "base_uri": "https://localhost:8080/"
        },
        "id": "Wkr0eh29Bgnc",
        "outputId": "bf105ade-69a9-4cc5-bc88-3099432270aa"
      },
      "source": [
        "set1.remove(2)\n",
        "print(set1)"
      ],
      "execution_count": null,
      "outputs": [
        {
          "output_type": "stream",
          "text": [
            "{1, 3}\n"
          ],
          "name": "stdout"
        }
      ]
    },
    {
      "cell_type": "markdown",
      "metadata": {
        "id": "j_8BuXAlBpoE"
      },
      "source": [
        "clear() è usato per cancellare tutti gli elementi e rendere quell'insieme un insieme vuoto."
      ]
    },
    {
      "cell_type": "code",
      "metadata": {
        "colab": {
          "base_uri": "https://localhost:8080/"
        },
        "id": "NOJeChxBBqHA",
        "outputId": "b6336cad-5329-4b76-c350-576c244417dc"
      },
      "source": [
        "set1.clear()\n",
        "set1"
      ],
      "execution_count": null,
      "outputs": [
        {
          "output_type": "execute_result",
          "data": {
            "text/plain": [
              "set()"
            ]
          },
          "metadata": {},
          "execution_count": 27
        }
      ]
    },
    {
      "cell_type": "markdown",
      "metadata": {
        "id": "IITKCp4-B3L8"
      },
      "source": [
        "Vuoto significa falso\n",
        "\n",
        "In Python una struttura dati vuota è sempre equivalente a False"
      ]
    },
    {
      "cell_type": "code",
      "metadata": {
        "colab": {
          "base_uri": "https://localhost:8080/",
          "height": 35
        },
        "id": "j7uIAwIrB8bD",
        "outputId": "b9a16d49-fe2e-494b-be77-0bd24cd1c533"
      },
      "source": [
        "\"\" and not set() and not [] and not {}"
      ],
      "execution_count": null,
      "outputs": [
        {
          "output_type": "execute_result",
          "data": {
            "application/vnd.google.colaboratory.intrinsic+json": {
              "type": "string"
            },
            "text/plain": [
              "''"
            ]
          },
          "metadata": {},
          "execution_count": 28
        }
      ]
    },
    {
      "cell_type": "code",
      "metadata": {
        "colab": {
          "base_uri": "https://localhost:8080/"
        },
        "id": "YhAWe5N4CCGU",
        "outputId": "5dd0e58d-737e-46f1-ad3e-124040cbe393"
      },
      "source": [
        "\"\" or [] #ti restituisce l'ultimo valore falso"
      ],
      "execution_count": null,
      "outputs": [
        {
          "output_type": "execute_result",
          "data": {
            "text/plain": [
              "[]"
            ]
          },
          "metadata": {},
          "execution_count": 29
        }
      ]
    },
    {
      "cell_type": "code",
      "metadata": {
        "colab": {
          "base_uri": "https://localhost:8080/"
        },
        "id": "pwfLOes1CKiM",
        "outputId": "8bfa2b06-1c25-47fc-9f3b-a2a2091082d0"
      },
      "source": [
        "{1,2} or \"\""
      ],
      "execution_count": null,
      "outputs": [
        {
          "output_type": "execute_result",
          "data": {
            "text/plain": [
              "{1, 2}"
            ]
          },
          "metadata": {},
          "execution_count": 30
        }
      ]
    },
    {
      "cell_type": "code",
      "metadata": {
        "id": "SldW_hqjCPgr"
      },
      "source": [
        ""
      ],
      "execution_count": null,
      "outputs": []
    },
    {
      "cell_type": "markdown",
      "metadata": {
        "id": "N2PIFEwbCTkE"
      },
      "source": [
        "Capitolo 4\n",
        "\n",
        "Stringhe"
      ]
    },
    {
      "cell_type": "markdown",
      "metadata": {
        "id": "lllBbgfeFCAe"
      },
      "source": [
        "Le stringhe possono essere trattate anche come raccolte simili a liste e tuple"
      ]
    },
    {
      "cell_type": "code",
      "metadata": {
        "colab": {
          "base_uri": "https://localhost:8080/",
          "height": 86
        },
        "id": "AZFUaiJY9G5G",
        "outputId": "770bf248-dedb-4585-c548-55405f11617b"
      },
      "source": [
        "S = 'Il Taj Mahal è bellissimo'\n",
        "print([x for x in S if x.islower()]) #lista dei caratteri maggiori e minori\n",
        "words=S.split() #lista delle parole\n",
        "print(\"Le parolo sono:\",words)\n",
        "print(\"--\".join(words)) # sillabato\n",
        "\" \".join(w.capitalize() for w in words) #scrive in maiuscolo"
      ],
      "execution_count": null,
      "outputs": [
        {
          "output_type": "stream",
          "name": "stdout",
          "text": [
            "['l', 'a', 'j', 'a', 'h', 'a', 'l', 'è', 'b', 'e', 'l', 'l', 'i', 's', 's', 'i', 'm', 'o']\n",
            "Le parolo sono: ['Il', 'Taj', 'Mahal', 'è', 'bellissimo']\n",
            "Il--Taj--Mahal--è--bellissimo\n"
          ]
        },
        {
          "output_type": "execute_result",
          "data": {
            "application/vnd.google.colaboratory.intrinsic+json": {
              "type": "string"
            },
            "text/plain": [
              "'Il Taj Mahal È Bellissimo'"
            ]
          },
          "metadata": {},
          "execution_count": 1
        }
      ]
    },
    {
      "cell_type": "markdown",
      "metadata": {
        "id": "1wuXxDJmHBAL"
      },
      "source": [
        "L'indicizzazione e la suddivisione delle stringhe sono simili agli elenchi"
      ]
    },
    {
      "cell_type": "code",
      "metadata": {
        "colab": {
          "base_uri": "https://localhost:8080/"
        },
        "id": "fcM68VHbHFhJ",
        "outputId": "e4a187b9-7895-4e2f-b770-e640403af224"
      },
      "source": [
        "print(S[4])\n",
        "print(S[4:])"
      ],
      "execution_count": null,
      "outputs": [
        {
          "output_type": "stream",
          "name": "stdout",
          "text": [
            "a\n",
            "aj Mahal è bellissimo\n"
          ]
        }
      ]
    },
    {
      "cell_type": "markdown",
      "metadata": {
        "id": "PbZpsDK8HV66"
      },
      "source": [
        "Dizionari\n",
        "\n",
        "I dizionari sono mappature tra chiavi ed elementi archiviati nei dizionari.In alternativa si può pensare ai dizionari come insiemi in cui qualcosa memorizzato contro ogni elemento dell'insieme"
      ]
    },
    {
      "cell_type": "markdown",
      "metadata": {
        "id": "tOo_n-F0HmJh"
      },
      "source": [
        "Per definire un dizionario  usare {} oppure dict()"
      ]
    },
    {
      "cell_type": "code",
      "metadata": {
        "colab": {
          "base_uri": "https://localhost:8080/"
        },
        "id": "aTGwaoEfIMHZ",
        "outputId": "c4a81f5d-0fd6-4d2e-f942-151ca8623f2f"
      },
      "source": [
        "d = dict()\n",
        "print(type(d))\n",
        "d['abc'] = 3\n",
        "d[4]  = \"Una Stringa\"\n",
        "print(d)"
      ],
      "execution_count": null,
      "outputs": [
        {
          "output_type": "stream",
          "name": "stdout",
          "text": [
            "<class 'dict'>\n",
            "{'abc': 3, 4: 'Una Stringa'}\n"
          ]
        }
      ]
    },
    {
      "cell_type": "markdown",
      "metadata": {
        "id": "2ibm-rykIeRx"
      },
      "source": [
        " I dizionari possono essere definiti utilizzando la sintassi { chiave : valore }."
      ]
    },
    {
      "cell_type": "code",
      "metadata": {
        "colab": {
          "base_uri": "https://localhost:8080/"
        },
        "id": "6M2uHBM8IprZ",
        "outputId": "c325cffd-9b65-4681-f9e3-61ea3e394489"
      },
      "source": [
        "d = {1: 'Uno', 2: 'Due', 100 : 'Cento'}\n",
        "len(d)"
      ],
      "execution_count": null,
      "outputs": [
        {
          "output_type": "execute_result",
          "data": {
            "text/plain": [
              "3"
            ]
          },
          "metadata": {},
          "execution_count": 4
        }
      ]
    },
    {
      "cell_type": "markdown",
      "metadata": {
        "id": "SN7Wsq5yI76B"
      },
      "source": [
        "Ora puoi accedere a \"Uno\" dal valore dell'indice impostato su 1"
      ]
    },
    {
      "cell_type": "code",
      "metadata": {
        "colab": {
          "base_uri": "https://localhost:8080/"
        },
        "id": "LK8Ik9tpI9A5",
        "outputId": "df6cfde2-52aa-4285-e702-7eb8550615f9"
      },
      "source": [
        "print(d[1])"
      ],
      "execution_count": null,
      "outputs": [
        {
          "output_type": "stream",
          "name": "stdout",
          "text": [
            "Uno\n"
          ]
        }
      ]
    },
    {
      "cell_type": "markdown",
      "metadata": {
        "id": "aDuq_SWNJQSa"
      },
      "source": [
        "Esistono diversi modi alternativi per specificare un dizionario, incluso un elenco di tuple (chiave, valore). Per illustrare ciò, inizieremo con due elenchi e formeremo un insieme di tuple utilizzando la funzione zip(). Due elenchi correlati possono essere uniti per formare un dizionario."
      ]
    },
    {
      "cell_type": "code",
      "metadata": {
        "colab": {
          "base_uri": "https://localhost:8080/"
        },
        "id": "0OPktRybJRcJ",
        "outputId": "6e2a632d-d5b4-4623-b029-672db2277f51"
      },
      "source": [
        "names = ['Uno','Due','Tre','Quattro','Cinque']\n",
        "numbers = [1,2,3,4,5]\n",
        "[ (name,number) for name,number in zip(names,numbers)]"
      ],
      "execution_count": null,
      "outputs": [
        {
          "output_type": "execute_result",
          "data": {
            "text/plain": [
              "[('Uno', 1), ('Due', 2), ('Tre', 3), ('Quattro', 4), ('Cinque', 5)]"
            ]
          },
          "metadata": {},
          "execution_count": 6
        }
      ]
    },
    {
      "cell_type": "markdown",
      "metadata": {
        "id": "cHrH2ngdJtpZ"
      },
      "source": [
        "Ora possiamo creare un dizionario che associ il nome al numero come segue."
      ]
    },
    {
      "cell_type": "code",
      "metadata": {
        "colab": {
          "base_uri": "https://localhost:8080/"
        },
        "id": "Nh-38jKeJugx",
        "outputId": "7c291d47-c0a6-4fa6-8bde-f81cc4a92f3f"
      },
      "source": [
        "a1 = dict((name,number) for name,number in zip (names,numbers))\n",
        "print(a1)"
      ],
      "execution_count": null,
      "outputs": [
        {
          "output_type": "stream",
          "name": "stdout",
          "text": [
            "{'Uno': 1, 'Due': 2, 'Tre': 3, 'Quattro': 4, 'Cinque': 5}\n"
          ]
        }
      ]
    },
    {
      "cell_type": "markdown",
      "metadata": {
        "id": "KACtZHzJK8bh"
      },
      "source": [
        "Si noti che l'ordinamento per questo dizionario non si basa sull'ordine in cui vengono aggiunti gli elementi ma sul proprio ordinamento (basato sull'ordinamento dell'indice hash). È meglio non assumere mai un ordinamento quando si itera su elementi di un dizionario."
      ]
    },
    {
      "cell_type": "markdown",
      "metadata": {
        "id": "ZWesGbu-K941"
      },
      "source": [
        "L'uso delle tuple come chiavi è molto comune e consente una struttura dati di tipo matrice (sparsa):"
      ]
    },
    {
      "cell_type": "code",
      "metadata": {
        "colab": {
          "base_uri": "https://localhost:8080/"
        },
        "id": "iI6gTgH7K9Dt",
        "outputId": "63fb743f-95b1-4bd4-82e2-6971ba6769dc"
      },
      "source": [
        "matrix = { (0,1): 3.5,(2,17): 0.1}\n",
        "matrix[2,2] = matrix[0,1] + matrix[2,17]\n",
        "print(matrix)"
      ],
      "execution_count": null,
      "outputs": [
        {
          "output_type": "stream",
          "name": "stdout",
          "text": [
            "{(0, 1): 3.5, (2, 17): 0.1, (2, 2): 3.6}\n"
          ]
        }
      ]
    },
    {
      "cell_type": "markdown",
      "metadata": {
        "id": "J8QMPkZ5L3nz"
      },
      "source": [
        "Il dizionario può anche essere costruito utilizzando la definizione dello stile del ciclo."
      ]
    },
    {
      "cell_type": "code",
      "metadata": {
        "colab": {
          "base_uri": "https://localhost:8080/"
        },
        "id": "V3Q7LTPaL47m",
        "outputId": "d602a0c6-6ad6-4806-b536-3f789858b66b"
      },
      "source": [
        "a2 = {name : len(name) for name in names}\n",
        "print(a2)"
      ],
      "execution_count": null,
      "outputs": [
        {
          "output_type": "stream",
          "name": "stdout",
          "text": [
            "{'Uno': 3, 'Due': 3, 'Tre': 3, 'Quattro': 7, 'Cinque': 6}\n"
          ]
        }
      ]
    },
    {
      "cell_type": "markdown",
      "metadata": {
        "id": "mxZ90gaVMC0A"
      },
      "source": [
        "Funzioni integrate\n",
        "\n",
        "La funzione len() e in operator hanno il significato ovvio:"
      ]
    },
    {
      "cell_type": "code",
      "metadata": {
        "colab": {
          "base_uri": "https://localhost:8080/"
        },
        "id": "zJG7B4kOMNND",
        "outputId": "78d08ba0-8432-4b82-e01d-d64bf2d2aac7"
      },
      "source": [
        "print(\"a1 ha\",len(a1),\"elementi\")\n",
        "print(\"Uno è in a1\",'Uno' in a1,\"ma non 2:\",2 in a1)"
      ],
      "execution_count": null,
      "outputs": [
        {
          "output_type": "stream",
          "name": "stdout",
          "text": [
            "a1 ha 5 elementi\n",
            "Uno è in a1 True ma non 2: False\n"
          ]
        }
      ]
    },
    {
      "cell_type": "markdown",
      "metadata": {
        "id": "JF6X4qmtMowH"
      },
      "source": [
        "La funzione clear() è usata per cancellare tutti gli elementi."
      ]
    },
    {
      "cell_type": "code",
      "metadata": {
        "colab": {
          "base_uri": "https://localhost:8080/"
        },
        "id": "04z8DNvdN9ho",
        "outputId": "8918f465-ce51-42ce-eb0f-732c381faf8f"
      },
      "source": [
        "a2.clear()\n",
        "print(a2)"
      ],
      "execution_count": null,
      "outputs": [
        {
          "output_type": "stream",
          "name": "stdout",
          "text": [
            "{}\n"
          ]
        }
      ]
    },
    {
      "cell_type": "markdown",
      "metadata": {
        "id": "iPN0-6s7OFR8"
      },
      "source": [
        "La funzione values() restituisce un elenco con tutti i valori assegnati nel dizionario."
      ]
    },
    {
      "cell_type": "code",
      "metadata": {
        "colab": {
          "base_uri": "https://localhost:8080/"
        },
        "id": "9XHQiPmYOGef",
        "outputId": "090043c5-e075-4fa7-ac8c-281720b37d7f"
      },
      "source": [
        "[v for v in a1.values()]"
      ],
      "execution_count": null,
      "outputs": [
        {
          "output_type": "execute_result",
          "data": {
            "text/plain": [
              "[1, 2, 3, 4, 5]"
            ]
          },
          "metadata": {},
          "execution_count": 13
        }
      ]
    },
    {
      "cell_type": "markdown",
      "metadata": {
        "id": "PbqzOCzlOLi_"
      },
      "source": [
        "La funzione keys() restituisce tutti gli indici o le chiavi a cui contiene i valori a cui è stata assegnata."
      ]
    },
    {
      "cell_type": "code",
      "metadata": {
        "colab": {
          "base_uri": "https://localhost:8080/"
        },
        "id": "8bVx_MvdOOUP",
        "outputId": "eb4f0650-c4ec-4f68-ed99-23c8de9562fb"
      },
      "source": [
        "{k for k in a1.keys()}"
      ],
      "execution_count": null,
      "outputs": [
        {
          "output_type": "execute_result",
          "data": {
            "text/plain": [
              "{'Cinque', 'Due', 'Quattro', 'Tre', 'Uno'}"
            ]
          },
          "metadata": {},
          "execution_count": 14
        }
      ]
    },
    {
      "cell_type": "markdown",
      "metadata": {
        "id": "vfgYSEt2OT_2"
      },
      "source": [
        "items() restituisce una lista che contiene entrambe le liste ma ogni elemento nel dizionario è all'interno di una tupla."
      ]
    },
    {
      "cell_type": "code",
      "metadata": {
        "colab": {
          "base_uri": "https://localhost:8080/",
          "height": 35
        },
        "id": "dKyI6ZbIOe7u",
        "outputId": "1f01fc82-4601-4971-984b-e30841626dfc"
      },
      "source": [
        "\",  \".join(\"%s = %d\" % (name,val) for name,val in a1.items())"
      ],
      "execution_count": null,
      "outputs": [
        {
          "output_type": "execute_result",
          "data": {
            "application/vnd.google.colaboratory.intrinsic+json": {
              "type": "string"
            },
            "text/plain": [
              "'Uno = 1,  Due = 2,  Tre = 3,  Quattro = 4,  Cinque = 5'"
            ]
          },
          "metadata": {},
          "execution_count": 15
        }
      ]
    },
    {
      "cell_type": "markdown",
      "metadata": {
        "id": "hj92aechOxW_"
      },
      "source": [
        "La funzione pop() viene utilizzata per rimuovere quel particolare elemento e questo elemento rimosso può essere assegnato a una nuova variabile. Ma ricorda che viene memorizzato solo il valore e non la chiave. Perché è solo un valore di indice."
      ]
    },
    {
      "cell_type": "code",
      "metadata": {
        "colab": {
          "base_uri": "https://localhost:8080/"
        },
        "id": "Y250JR4tPBxk",
        "outputId": "36265016-e3b3-4c61-c119-39ed1668c334"
      },
      "source": [
        "val = a1.pop('Quattro')\n",
        "print(a1)\n",
        "print(\"Rimosso\",val)"
      ],
      "execution_count": null,
      "outputs": [
        {
          "output_type": "stream",
          "name": "stdout",
          "text": [
            "{'Uno': 1, 'Due': 2, 'Tre': 3, 'Cinque': 5}\n",
            "Rimosso 4\n"
          ]
        }
      ]
    },
    {
      "cell_type": "markdown",
      "metadata": {
        "id": "2XOch9W6Pn2T"
      },
      "source": [
        "Quando usare i dizionari e le liste\n",
        "\n",
        "La scelta se memorizzare i dati in un elenco o dizionario (o set) può sembrare a volte un po' arbitraria. Ecco un breve riassunto di alcuni dei pro e dei contro di questi:\n",
        "\n",
        "Trovare elementi in un insieme rispetto a una lista: x in C è valido sia che la collezione C sia una lista, un insieme o un dizionario. Tuttavia, dal punto di vista computazionale per raccolte di grandi dimensioni, questo è molto più lento con gli elenchi rispetto agli insiemi o ai dizionari. D'altra parte, se tutti gli elementi sono indicizzati da un numero intero di x[45672] è molto più veloce cercare se x è una lista che se è un dizionario.\n",
        "\n",
        "Se tutti i tuoi elementi sono indicizzati da numeri interi ma con alcuni indici inutilizzati, puoi utilizzare le liste e assegnare un valore fittizio (ad es. \"\") ogni volta che non c'è un elemento corrispondente. Per raccolte molto sparse questo potrebbe consumare una notevole quantità di memoria aggiuntiva rispetto a un dizionario. D'altra parte, se la maggior parte dei valori è presente, la memorizzazione esplicita degli indici (come avviene in un dizionario) potrebbe consumare una memoria aggiuntiva significativa rispetto alla rappresentazione dell'elenco."
      ]
    },
    {
      "cell_type": "code",
      "metadata": {
        "colab": {
          "base_uri": "https://localhost:8080/"
        },
        "id": "1vDfjSIMP7h6",
        "outputId": "f6655647-4979-44a9-b36f-6ff6a708e693"
      },
      "source": [
        "import time\n",
        "bigList = [i for i in range(0,100000)]\n",
        "bigSet = set(bigList)\n",
        "start = time.clock()\n",
        "99999 in bigList\n",
        "print(\"Tempo di ricerca nell'elenco: %.6f ms\" % (1000*(time.clock()-start)))\n",
        "start = time.clock()\n",
        "print(\"Tempo di ricerca nel set: %.6f ms\" % (1000*(time.clock()-start)))"
      ],
      "execution_count": null,
      "outputs": [
        {
          "output_type": "stream",
          "name": "stdout",
          "text": [
            "Tempo di ricerca nell'elenco: 1.860000 ms\n",
            "Tempo di ricerca nel set: 0.133000 ms\n"
          ]
        },
        {
          "output_type": "stream",
          "name": "stderr",
          "text": [
            "/usr/local/lib/python3.7/dist-packages/ipykernel_launcher.py:4: DeprecationWarning: time.clock has been deprecated in Python 3.3 and will be removed from Python 3.8: use time.perf_counter or time.process_time instead\n",
            "  after removing the cwd from sys.path.\n",
            "/usr/local/lib/python3.7/dist-packages/ipykernel_launcher.py:6: DeprecationWarning: time.clock has been deprecated in Python 3.3 and will be removed from Python 3.8: use time.perf_counter or time.process_time instead\n",
            "  \n",
            "/usr/local/lib/python3.7/dist-packages/ipykernel_launcher.py:7: DeprecationWarning: time.clock has been deprecated in Python 3.3 and will be removed from Python 3.8: use time.perf_counter or time.process_time instead\n",
            "  import sys\n",
            "/usr/local/lib/python3.7/dist-packages/ipykernel_launcher.py:8: DeprecationWarning: time.clock has been deprecated in Python 3.3 and will be removed from Python 3.8: use time.perf_counter or time.process_time instead\n",
            "  \n"
          ]
        }
      ]
    },
    {
      "cell_type": "markdown",
      "metadata": {
        "id": "UvPNoDaSRHZm"
      },
      "source": [
        "Capitolo 5\n",
        "\n",
        "Dichiarazioni del flusso di controllo\n",
        "\n",
        "La cosa fondamentale da notare sulle istruzioni del flusso di controllo e sulla struttura del programma di Python è che utilizza il rientro per contrassegnare i blocchi. Quindi la quantità di spazio bianco (spazio o caratteri di tabulazione) all'inizio di una riga è molto importante. Questo generalmente aiuta a rendere il codice più leggibile"
      ]
    },
    {
      "cell_type": "markdown",
      "metadata": {
        "id": "TNoeNVTxRis6"
      },
      "source": [
        "Condizionali\n",
        "\n",
        "If\n",
        "\n",
        "python if some_condition: code block Esegue il codice solo se alcune condizioni sono soddisfatte"
      ]
    },
    {
      "cell_type": "code",
      "metadata": {
        "colab": {
          "base_uri": "https://localhost:8080/"
        },
        "id": "ZBV9MUTRRvr0",
        "outputId": "c1a6c396-7741-4416-ce58-873e6ea3bcb5"
      },
      "source": [
        "x = 12\n",
        "if x > 10:\n",
        "  print(\"Hello\")"
      ],
      "execution_count": null,
      "outputs": [
        {
          "output_type": "stream",
          "name": "stdout",
          "text": [
            "Hello\n"
          ]
        }
      ]
    },
    {
      "cell_type": "markdown",
      "metadata": {
        "id": "cTa84VYAR3WU"
      },
      "source": [
        "If-else\n",
        "\n",
        "python if some_condition: algorithm 1 else: algorithm 2\n",
        "\n",
        "Come sopra ma se la condizione è False, eseguire il secondo algoritmo"
      ]
    },
    {
      "cell_type": "code",
      "metadata": {
        "colab": {
          "base_uri": "https://localhost:8080/"
        },
        "id": "BWLP4slLSAeu",
        "outputId": "50c1d0b6-4171-4408-cd92-eda596796299"
      },
      "source": [
        "x = 12 \n",
        "if 10 < x < 11:\n",
        "  print(\"Hello\")\n",
        "else:\n",
        "  print(\"World\")"
      ],
      "execution_count": null,
      "outputs": [
        {
          "output_type": "stream",
          "name": "stdout",
          "text": [
            "World\n"
          ]
        }
      ]
    },
    {
      "cell_type": "markdown",
      "metadata": {
        "id": "SLsKrtdcSko0"
      },
      "source": [
        "Else if\n",
        "\n",
        "python if some_condition: algorithm elif some_condition: algorithm else: algorithm\n",
        "\n",
        "Qualsiasi numero di condizioni può essere concatenato per trovare quale parte vogliamo eseguire."
      ]
    },
    {
      "cell_type": "code",
      "metadata": {
        "colab": {
          "base_uri": "https://localhost:8080/"
        },
        "id": "eI8_lGJeSqpy",
        "outputId": "73d0fcc9-677e-4dea-b914-caeb8411e5d0"
      },
      "source": [
        "x = 10 \n",
        "y = 12\n",
        "if x > y:\n",
        "  print(\"x>y\")\n",
        "elif x < y:\n",
        "    print(\"x<y\")\n",
        "else:\n",
        "    print(\"x=y\")"
      ],
      "execution_count": null,
      "outputs": [
        {
          "output_type": "stream",
          "name": "stdout",
          "text": [
            "x<y\n"
          ]
        }
      ]
    },
    {
      "cell_type": "markdown",
      "metadata": {
        "id": "Z4R9-0FJTerL"
      },
      "source": [
        "if all'interno di un'istruzione if o if-elif o if-else vengono chiamate come istruzioni if ​​nidificate."
      ]
    },
    {
      "cell_type": "code",
      "metadata": {
        "colab": {
          "base_uri": "https://localhost:8080/"
        },
        "id": "Mdkqx-MSTidD",
        "outputId": "22efec4e-47e8-4c58-e5af-3d9d20fb6e13"
      },
      "source": [
        "x = 10\n",
        "y = 12\n",
        "if x > y:\n",
        "  print( \"x>y\" )\n",
        "elif x < y:\n",
        "  print( \"x<y\" )\n",
        "  if x ==10:\n",
        "    print (\"x=10\")\n",
        "  else:\n",
        "      print (\"invalido\")\n",
        "else:\n",
        "  print( \"x=y\")"
      ],
      "execution_count": null,
      "outputs": [
        {
          "output_type": "stream",
          "name": "stdout",
          "text": [
            "x<y\n",
            "x=10\n"
          ]
        }
      ]
    },
    {
      "cell_type": "markdown",
      "metadata": {
        "id": "7OVZtMBQUQs9"
      },
      "source": [
        "Loop\n",
        "\n",
        "For\n",
        "\n",
        "python for variable in something: algorithm\n",
        "\n",
        "Il \"qualcosa\" può essere una qualsiasi delle raccolte discusse in precedenza (liste, insiemi, dizionari). Alla variabile viene assegnato a turno ogni elemento della raccolta e l'algoritmo viene eseguito una volta con quel valore.\n",
        "\n",
        "Quando si esegue il ciclo su interi, è utile la funzione range() che genera un intervallo di interi:\n",
        "\n",
        "range(n) = 0, 1, ..., n-1\n",
        "\n",
        "range(m,n)= m, m+1, ..., n-1\n",
        "\n",
        "range(m,n,s)= m, m+s, m+2s, ..., m + ((n-m-1)//s) * s\n",
        "\n",
        "in termini matematici range(a,b) =[a,b)⊂Z"
      ]
    },
    {
      "cell_type": "code",
      "metadata": {
        "colab": {
          "base_uri": "https://localhost:8080/"
        },
        "id": "Og0yrBdoU1HX",
        "outputId": "7dbaccd4-4bf2-402c-c813-a6b709a5c29e"
      },
      "source": [
        "for ch in 'abc':\n",
        "    print(ch)\n",
        "total = 0\n",
        "for i in range(5):\n",
        "    total += i\n",
        "for i,j in [(1,2),(3,4)]:\n",
        "    total += i**j\n",
        "print(\"Totale :\",total)"
      ],
      "execution_count": null,
      "outputs": [
        {
          "output_type": "stream",
          "name": "stdout",
          "text": [
            "a\n",
            "b\n",
            "c\n",
            "Totale : 92\n"
          ]
        }
      ]
    },
    {
      "cell_type": "markdown",
      "metadata": {
        "id": "-kAut5YVVySq"
      },
      "source": [
        "Nell'esempio sopra, i itera su 0,1,2,3,4. Ogni volta prende ogni valore ed esegue l'algoritmo all'interno del ciclo.\n",
        "\n",
        "È anche possibile scorrere su un elenco nidificato illustrato di seguito."
      ]
    },
    {
      "cell_type": "code",
      "metadata": {
        "colab": {
          "base_uri": "https://localhost:8080/"
        },
        "id": "PHacU6cJXSLX",
        "outputId": "0e921a72-c9b7-4f74-8f2c-d60eb3b803f2"
      },
      "source": [
        "list_of_list = [[1,2,3], [4,5,6], [7,8,9]]\n",
        "for list1 in list_of_list:\n",
        "        print(list1)"
      ],
      "execution_count": null,
      "outputs": [
        {
          "output_type": "stream",
          "name": "stdout",
          "text": [
            "[1, 2, 3]\n",
            "[4, 5, 6]\n",
            "[7, 8, 9]\n"
          ]
        }
      ]
    },
    {
      "cell_type": "markdown",
      "metadata": {
        "id": "LDh4cUQnX4SN"
      },
      "source": [
        "Un caso d'uso di un ciclo for annidato in questo caso sarebbe"
      ]
    },
    {
      "cell_type": "code",
      "metadata": {
        "colab": {
          "base_uri": "https://localhost:8080/"
        },
        "id": "ze35JTQpX6A0",
        "outputId": "6a4adb03-e25f-4a62-bb21-79fdd175e45a"
      },
      "source": [
        "list_of_list = [[1, 2, 3], [4, 5, 6], [7, 8, 9]]\n",
        "total = 0\n",
        "for list1 in list_of_list:\n",
        "    for x in list1:\n",
        "        total = total+x\n",
        "print(total)"
      ],
      "execution_count": null,
      "outputs": [
        {
          "output_type": "stream",
          "name": "stdout",
          "text": [
            "45\n"
          ]
        }
      ]
    },
    {
      "cell_type": "markdown",
      "metadata": {
        "id": "unbKGDvEYZ3a"
      },
      "source": [
        "Ci sono molte funzioni di supporto che rendono i loop ancora più potenti e facili da usare. Ad esempio enumerate(), zip(), sorted(), reversed()"
      ]
    },
    {
      "cell_type": "code",
      "metadata": {
        "colab": {
          "base_uri": "https://localhost:8080/"
        },
        "id": "Pey46mATYaf8",
        "outputId": "e31d5b16-d694-4f85-b1eb-860c009793fe"
      },
      "source": [
        "print(\"reversed: \\t\",end=\"\")\n",
        "for ch in reversed(\"abc\"):\n",
        "    print(ch,end=\";\")\n",
        "print(\"\\nenuemerated:\\t\",end=\"\")\n",
        "for i,ch in enumerate(\"abc\"):\n",
        "    print(i,\"=\",ch,end=\";\")\n",
        "print(\"\\nzip'ed: \")\n",
        "for a,x in zip(\"abc\",\"xyz\"):\n",
        "    print(a,\":\",x)"
      ],
      "execution_count": null,
      "outputs": [
        {
          "output_type": "stream",
          "name": "stdout",
          "text": [
            "reversed: \tc;b;a;\n",
            "enuemerated:\t0 = a;1 = b;2 = c;\n",
            "zip'ed: \n",
            "a : x\n",
            "b : y\n",
            "c : z\n"
          ]
        }
      ]
    },
    {
      "cell_type": "markdown",
      "metadata": {
        "id": "1_e4Z5leZgtj"
      },
      "source": [
        "While\n",
        "\n",
        "python while some_condition: algorithm\n",
        "\n",
        "Esegui ripetutamente l'algoritmo fino a quando la condizione fallisce (o esci tramite un'istruzione break)"
      ]
    },
    {
      "cell_type": "code",
      "metadata": {
        "colab": {
          "base_uri": "https://localhost:8080/"
        },
        "id": "dSBPE7LdIPt0",
        "outputId": "4c65dc81-0fec-4670-8752-41cb899bb1f0"
      },
      "source": [
        "i = 1\n",
        "while i < 3:\n",
        "    print(i**2)\n",
        "    i = i+1\n",
        "print('Ciao')"
      ],
      "execution_count": null,
      "outputs": [
        {
          "output_type": "stream",
          "name": "stdout",
          "text": [
            "1\n",
            "4\n",
            "Ciao\n"
          ]
        }
      ]
    },
    {
      "cell_type": "markdown",
      "metadata": {
        "id": "nf7Vaxo-IwWa"
      },
      "source": [
        "Break\n",
        "\n",
        "La parola chiave break viene utilizzata per abbandonare immediatamente l'esecuzione di un ciclo. Questa istruzione può essere utilizzata solo nei cicli for e while."
      ]
    },
    {
      "cell_type": "code",
      "metadata": {
        "colab": {
          "base_uri": "https://localhost:8080/"
        },
        "id": "fP68Ew3JI5cN",
        "outputId": "dfe65a5f-3d1c-4c87-fb1a-ae8a5f6e406e"
      },
      "source": [
        "for i in range (100):\n",
        "    print(i,end=\"...\")\n",
        "    if i>=7:\n",
        "        break\n",
        "    print(\"completato\")"
      ],
      "execution_count": null,
      "outputs": [
        {
          "output_type": "stream",
          "name": "stdout",
          "text": [
            "0...completato\n",
            "1...completato\n",
            "2...completato\n",
            "3...completato\n",
            "4...completato\n",
            "5...completato\n",
            "6...completato\n",
            "7..."
          ]
        }
      ]
    },
    {
      "cell_type": "markdown",
      "metadata": {
        "id": "I2ZQt2WuJRSx"
      },
      "source": [
        "Continue\n",
        "\n",
        "L'istruzione continue salta il resto di un ciclo e avvia l'iterazione successiva. Anche in questo caso può essere utilizzato solo in while o for.\n",
        "In genere viene utilizzato solo all'interno di un'istruzione if (altrimenti il ​​resto del ciclo non verrebbe mai eseguito)."
      ]
    },
    {
      "cell_type": "code",
      "metadata": {
        "colab": {
          "base_uri": "https://localhost:8080/"
        },
        "id": "lsWWe3-XJpw8",
        "outputId": "065333ef-36af-4456-ab86-3b96fb31a5be"
      },
      "source": [
        "for i in range(10):\n",
        "    if i>4:\n",
        "        print(\"Ignorato\",i)\n",
        "        continue\n",
        "    # questa affermazione non è raggiungibile se i > 4\n",
        "    print(\"Processato\",i)"
      ],
      "execution_count": null,
      "outputs": [
        {
          "output_type": "stream",
          "name": "stdout",
          "text": [
            "Processato 0\n",
            "Processato 1\n",
            "Processato 2\n",
            "Processato 3\n",
            "Processato 4\n",
            "Ignorato 5\n",
            "Ignorato 6\n",
            "Ignorato 7\n",
            "Ignorato 8\n",
            "Ignorato 9\n"
          ]
        }
      ]
    },
    {
      "cell_type": "markdown",
      "metadata": {
        "id": "rTneeMy0KIaC"
      },
      "source": [
        "Altre istruzioni sui loop\n",
        "\n",
        "A volte vogliamo sapere se un ciclo è uscito \"normalmente\" o tramite un'istruzione break. Questo può essere ottenuto con un'istruzione else: in un ciclo che viene eseguito solo se non c'è stata interruzione"
      ]
    },
    {
      "cell_type": "code",
      "metadata": {
        "colab": {
          "base_uri": "https://localhost:8080/"
        },
        "id": "u-ulZcAoKaYN",
        "outputId": "9b762d85-1811-49ef-f473-5b756e9b2d36"
      },
      "source": [
        "count = 0\n",
        "while count < 10:\n",
        "    count +=1\n",
        "    if count % 2==0:\n",
        "        count +=2\n",
        "        continue\n",
        "    elif 5 < count < 9:\n",
        "        break\n",
        "    print(\"count =\",count)\n",
        "else:\n",
        "    print(\"Uscita normale con\",count)"
      ],
      "execution_count": null,
      "outputs": [
        {
          "output_type": "stream",
          "name": "stdout",
          "text": [
            "count = 1\n",
            "count = 5\n",
            "count = 9\n",
            "Uscita normale con 12\n"
          ]
        }
      ]
    },
    {
      "cell_type": "markdown",
      "metadata": {
        "id": "qKauBlMuL17-"
      },
      "source": [
        "Catturare le eccezioni\n",
        "\n",
        "A volte è desiderabile gestire gli errori senza interrompere l'intero programma. Ciò può essere ottenuto utilizzando un'istruzione try. Oltre a gestire gli errori di sistema, consente anche l'interruzione da qualche parte nel profondo dell'esecuzione nidificata. È possibile allegare più gestori di errori a seconda del tipo di eccezione\n",
        "\n",
        "```python try: codice eccetto come:\n",
        "\n",
        "# affrontare errori di questo tipo\n",
        "\n",
        "except:\n",
        "\n",
        "# affronta ogni errore\n",
        "\n",
        "finally:\n",
        "\n",
        "# eseguire indipendentemente dal fatto che si sia verificata o meno un'eccezione"
      ]
    },
    {
      "cell_type": "code",
      "metadata": {
        "colab": {
          "base_uri": "https://localhost:8080/"
        },
        "id": "ooxd4FOxMtOB",
        "outputId": "48ddb643-a8e4-4024-9e8f-d07426eaa4c6"
      },
      "source": [
        "try:\n",
        "    count = 0\n",
        "    while True:\n",
        "        while True:\n",
        "            while True:\n",
        "                print(\"Looping\")\n",
        "                count = count + 1\n",
        "                if count > 3:\n",
        "                    raise Exception(\"abort\") # esci da ogni ciclo o funzione\n",
        "                if count > 4:\n",
        "                    raise StopIntineration(\"Sono annoiato\") # tipo di eccezione incorporato\n",
        "except StopIteration as e:\n",
        "    print(\"Interazione interrotta:\",e)\n",
        "except Exception as e: # qui è dove andiamo quando viene raccolta l'eccezione\n",
        "    print(\"Eccezione catturata:\",e)\n",
        "finally:\n",
        "    print(\"Tutto fatto\")          "
      ],
      "execution_count": null,
      "outputs": [
        {
          "output_type": "stream",
          "name": "stdout",
          "text": [
            "Looping\n",
            "Looping\n",
            "Looping\n",
            "Looping\n",
            "Eccezione catturata: abort\n",
            "Tutto fatto\n"
          ]
        }
      ]
    },
    {
      "cell_type": "markdown",
      "metadata": {
        "id": "7sWtSjjjOtxW"
      },
      "source": [
        "Questo può anche essere utile per gestire gli errori di sistema imprevisti con più grazia:"
      ]
    },
    {
      "cell_type": "code",
      "metadata": {
        "colab": {
          "base_uri": "https://localhost:8080/"
        },
        "id": "YYGfQEvpOywZ",
        "outputId": "beec0eb1-06f2-4202-8a5f-b3bd1d17e21a"
      },
      "source": [
        "try:\n",
        "    for i in [2,1.5,0.0,3]:\n",
        "      inverse = 1.0/i\n",
        "except Exception as e: # non interessa quale eccezione\n",
        "    print(\"Impossibile calcolare l'inverso perché:\", e)"
      ],
      "execution_count": null,
      "outputs": [
        {
          "output_type": "stream",
          "name": "stdout",
          "text": [
            "Impossibile calcolare l'inverso perché: float division by zero\n"
          ]
        }
      ]
    },
    {
      "cell_type": "markdown",
      "metadata": {
        "id": "uKov4UZDPplw"
      },
      "source": [
        "Capitolo 6\n",
        "\n",
        "Fuzioni\n",
        "\n",
        "Le funzioni possono rappresentare funzioni matematiche. Ancora più importante, le funzioni di programmazione sono un meccanismo per consentire il riutilizzo del codice in modo che i programmi complessi possano essere costruiti da parti più semplici.\n",
        "\n",
        "Importante: iniziare a scrivere un programma Python semplicemente scrivendo poche righe di codice e testando mentre procedi è fantastico, ma un errore comune dei principianti è continuare a farlo. Non vuoi avere un programma che consiste di 20.000 righe in un lungo file/taccuino. Pensa a funzioni come i paragrafi nella scrittura in inglese. Ogni volta che inizi una nuova idea, avvia una nuova funzione. Ciò rende il codice molto più leggibile, più facile da eseguire il debug e, infine, da riutilizzare parti del codice in modi che potrebbero non essere stati previsti durante la scrittura iniziale del codice.\n",
        "\n",
        "Questa è la sintassi base di una funzione\n",
        "\n",
        "python def funcname(arg1,arg2,.... argN): '''Document String''' statements return value\n",
        "\n",
        "Leggi la sintassi sopra come, Una funzione per nome \"funcname\" è definita, che accetta argomenti \"arg1,arg2,....argN\". La funzione è documentata ed è '''Document String'''. La funzione dopo aver eseguito le istruzioni restituisce un \"valore\".\n",
        "\n",
        "I valori restituiti sono facoltativi (per impostazione predefinita ogni funzione restituisce None (un oggetto speciale equivalente a False ) se non viene eseguita alcuna istruzione return"
      ]
    },
    {
      "cell_type": "code",
      "metadata": {
        "colab": {
          "base_uri": "https://localhost:8080/"
        },
        "id": "PMXGTKgmQ9lF",
        "outputId": "07284ff6-9195-496d-d159-cab38d78782c"
      },
      "source": [
        "print(\"Ciao Jack.\")\n",
        "print(\"Jack, come stai?\")"
      ],
      "execution_count": null,
      "outputs": [
        {
          "output_type": "stream",
          "name": "stdout",
          "text": [
            "Ciao Jack.\n",
            "Jack, come stai?\n"
          ]
        }
      ]
    },
    {
      "cell_type": "markdown",
      "metadata": {
        "id": "1WYoJzCvRKW7"
      },
      "source": [
        "Invece di scrivere le due istruzioni precedenti ogni singola volta, è possibile sostituirle definendo una funzione che farebbe il lavoro in una sola riga.\n",
        "\n",
        "Definizione di una funzione firstfunc()."
      ]
    },
    {
      "cell_type": "code",
      "metadata": {
        "colab": {
          "base_uri": "https://localhost:8080/"
        },
        "id": "AYBpCUBfRYio",
        "outputId": "2ade3006-7637-4c47-9977-d09b1a0e3565"
      },
      "source": [
        "def firstfunc():\n",
        "    print(\"Ciao Jack.\")\n",
        "    print(\"Jack, come stai?\")\n",
        "firstfunc() # esegue la funzione"
      ],
      "execution_count": null,
      "outputs": [
        {
          "output_type": "stream",
          "name": "stdout",
          "text": [
            "Ciao Jack.\n",
            "Jack, come stai?\n"
          ]
        }
      ]
    },
    {
      "cell_type": "markdown",
      "metadata": {
        "id": "XIgfp_C0R5N-"
      },
      "source": [
        "firstfunc() stampa il messaggio ogni volta a una singola persona. Possiamo fare in modo che la nostra funzione firstfunc() accetti argomenti che memorizzeranno il nome e poi stamperanno il suo messaggio con quel nome. Per fare ciò, aggiungi un argomento all'interno della funzione come mostrato."
      ]
    },
    {
      "cell_type": "code",
      "metadata": {
        "id": "FtrqcxyDR8KX"
      },
      "source": [
        "def firstfunc(username):\n",
        "    print(\"Ciao %s.\" % username)\n",
        "    print(username + ',',\"come stai?\")"
      ],
      "execution_count": null,
      "outputs": []
    },
    {
      "cell_type": "code",
      "metadata": {
        "id": "UoEjnyU7Sk3x"
      },
      "source": [
        "name1 = 'Luca'"
      ],
      "execution_count": null,
      "outputs": []
    },
    {
      "cell_type": "markdown",
      "metadata": {
        "id": "iZLXes5DSudp"
      },
      "source": [
        "Quindi passiamo questa variabile alla funzione firstfunc() come nome utente variabile perché questa è la variabile definita per questa funzione. cioè name1 viene passato come nome utente."
      ]
    },
    {
      "cell_type": "code",
      "metadata": {
        "colab": {
          "base_uri": "https://localhost:8080/"
        },
        "id": "5Mh2kZSuSwla",
        "outputId": "cd1ecc68-eef5-41fb-ec1a-fcd3edb71243"
      },
      "source": [
        "firstfunc(name1)"
      ],
      "execution_count": null,
      "outputs": [
        {
          "output_type": "stream",
          "name": "stdout",
          "text": [
            "Ciao Luca.\n",
            "Luca, come stai?\n"
          ]
        }
      ]
    },
    {
      "cell_type": "markdown",
      "metadata": {
        "id": "6sPiSb8SS9eJ"
      },
      "source": [
        "Dichiarazione di restituzione\n",
        "\n",
        "Dichiarazione di restituzione\n",
        "Quando la funzione restituisce un valore e quel valore deve essere memorizzato in una variabile o deve essere restituito o restituito per ulteriori operazioni all'algoritmo principale, viene utilizzata un'istruzione di ritorno"
      ]
    },
    {
      "cell_type": "code",
      "metadata": {
        "id": "zA2vzQCLTHi2"
      },
      "source": [
        "def times(x,y):\n",
        "    z = x*y\n",
        "    return z\n",
        "    z = 17 # questa istruzione non viene mai eseguita"
      ],
      "execution_count": null,
      "outputs": []
    },
    {
      "cell_type": "markdown",
      "metadata": {
        "id": "dtj-G6dxTuI1"
      },
      "source": [
        "La funzione times( ) sopra definita accetta due argomenti e restituisce la variabile z che contiene il risultato del prodotto dei due argomenti"
      ]
    },
    {
      "cell_type": "code",
      "metadata": {
        "colab": {
          "base_uri": "https://localhost:8080/"
        },
        "id": "7mjkXUnqTuzY",
        "outputId": "49f597ce-f0a1-4ee1-b353-e53b99b5096e"
      },
      "source": [
        "def times(x,y):\n",
        "    z = x*y\n",
        "    return z\n",
        "    z = 17 # questa istruzione non viene mai eseguita\n",
        "c = times(4,5)\n",
        "print(c)"
      ],
      "execution_count": null,
      "outputs": [
        {
          "output_type": "stream",
          "name": "stdout",
          "text": [
            "20\n"
          ]
        }
      ]
    },
    {
      "cell_type": "markdown",
      "metadata": {
        "id": "ldeb5ko1UD6Q"
      },
      "source": [
        "Il valore z è memorizzato nella variabile c e può essere utilizzato per ulteriori operazioni.\n",
        "\n",
        "Invece di dichiarare un'altra variabile, l'intera istruzione può essere utilizzata nell'istruzione return come mostrato."
      ]
    },
    {
      "cell_type": "code",
      "metadata": {
        "id": "l5BgoON7UNwJ"
      },
      "source": [
        "def times(x,y):\n",
        "    '''Questo moltiplica i due argomenti di input'''\n",
        "    return x*y\n"
      ],
      "execution_count": null,
      "outputs": []
    },
    {
      "cell_type": "code",
      "metadata": {
        "colab": {
          "base_uri": "https://localhost:8080/"
        },
        "id": "ZXwGyMfWUry-",
        "outputId": "658552bc-a685-4ca8-972d-deb68d7abf7a"
      },
      "source": [
        "c = times(4,5)\n",
        "print(c)"
      ],
      "execution_count": null,
      "outputs": [
        {
          "output_type": "stream",
          "name": "stdout",
          "text": [
            "20\n"
          ]
        }
      ]
    },
    {
      "cell_type": "markdown",
      "metadata": {
        "id": "r1hDjZc7VNd-"
      },
      "source": [
        "Poiché il times() è ora definito, possiamo documentarlo come mostrato sopra. Questo documento viene restituito ogni volta che la funzione times() viene chiamata nella funzione help()."
      ]
    },
    {
      "cell_type": "code",
      "metadata": {
        "colab": {
          "base_uri": "https://localhost:8080/"
        },
        "id": "Im7bGHAYVUqx",
        "outputId": "a57364f8-7527-4e5e-d65c-7f96b1e670b6"
      },
      "source": [
        "help(times)"
      ],
      "execution_count": null,
      "outputs": [
        {
          "output_type": "stream",
          "name": "stdout",
          "text": [
            "Help on function times in module __main__:\n",
            "\n",
            "times(x, y)\n",
            "    Questo moltiplica i due argomenti di input\n",
            "\n"
          ]
        }
      ]
    },
    {
      "cell_type": "markdown",
      "metadata": {
        "id": "pQhzsYfHVjIh"
      },
      "source": [
        "È possibile restituire più variabili anche come tupla. Tuttavia, questo tende a non essere molto leggibile quando si restituiscono molti valori e può facilmente introdurre errori quando l'ordine dei valori restituiti viene interpretato in modo errato."
      ]
    },
    {
      "cell_type": "code",
      "metadata": {
        "id": "LcpCQjmlVkFk"
      },
      "source": [
        "eglist = [10,50,30,12,6,8,100]"
      ],
      "execution_count": null,
      "outputs": []
    },
    {
      "cell_type": "code",
      "metadata": {
        "id": "evH2L9xxV9vM"
      },
      "source": [
        "def egfunc(eglist):\n",
        "    highest = max(eglist)\n",
        "    lowest = min(eglist)\n",
        "    first = eglist[0]\n",
        "    last = eglist[-1]\n",
        "    return highest,lowest,first,last"
      ],
      "execution_count": null,
      "outputs": []
    },
    {
      "cell_type": "markdown",
      "metadata": {
        "id": "Kuz4BxJEWbID"
      },
      "source": [
        "Se la funzione viene semplicemente chiamata senza alcuna variabile a cui assegnarla, il risultato viene restituito all'interno di una tupla. Ma se le variabili vengono menzionate, il risultato viene assegnato alla variabile in un ordine particolare dichiarato nell'istruzione return."
      ]
    },
    {
      "cell_type": "code",
      "metadata": {
        "colab": {
          "base_uri": "https://localhost:8080/"
        },
        "id": "hVuQOzJoWnfe",
        "outputId": "0372e5d6-e4ad-42be-a81d-65b1507e7c40"
      },
      "source": [
        "egfunc(eglist)"
      ],
      "execution_count": null,
      "outputs": [
        {
          "output_type": "execute_result",
          "data": {
            "text/plain": [
              "(100, 6, 10, 100)"
            ]
          },
          "metadata": {},
          "execution_count": 24
        }
      ]
    },
    {
      "cell_type": "code",
      "metadata": {
        "colab": {
          "base_uri": "https://localhost:8080/"
        },
        "id": "ooAVCvhhW3pd",
        "outputId": "41641587-74a3-407d-f4b6-93a4dd0aafb8"
      },
      "source": [
        "a,b,c,d = egfunc(eglist)\n",
        "print('a =',a,' b =',b,' c =',c,' d =',d)"
      ],
      "execution_count": null,
      "outputs": [
        {
          "output_type": "stream",
          "name": "stdout",
          "text": [
            "a = 100  b = 6  c = 10  d = 100\n"
          ]
        }
      ]
    },
    {
      "cell_type": "markdown",
      "metadata": {
        "id": "PbPUJelqXPgv"
      },
      "source": [
        "Argomenti predefiniti\n",
        "\n",
        "Quando un argomento di una funzione è comune nella maggior parte dei casi, questo può essere specificato con un valore predefinito. Questo è anche chiamato argomento implicito."
      ]
    },
    {
      "cell_type": "code",
      "metadata": {
        "id": "PHH14C7rXbfw"
      },
      "source": [
        "def implicitadd(x,y=3,z=0):\n",
        "    print(\"%d + %d + %d = %d\"%(x,y,z,x+y+z))\n",
        "    return x+y+z "
      ],
      "execution_count": null,
      "outputs": []
    },
    {
      "cell_type": "markdown",
      "metadata": {
        "id": "b-dHvHxLYElc"
      },
      "source": [
        "implicitadd() è una funzione che accetta fino a tre argomenti ma la maggior parte delle volte il primo argomento deve essere aggiunto solo di 3. Quindi al secondo argomento viene assegnato il valore 3 e il terzo argomento è zero. Qui gli ultimi due argomenti sono argomenti predefiniti.\n",
        "\n",
        "Ora, se il secondo argomento non è definito quando si chiama la funzione implicitadd(), allora è considerato come 3."
      ]
    },
    {
      "cell_type": "code",
      "metadata": {
        "colab": {
          "base_uri": "https://localhost:8080/"
        },
        "id": "6an6kYnhYcXs",
        "outputId": "8c7b4f65-aca2-43cb-a83e-d3fcd43a40ff"
      },
      "source": [
        "def implicitadd(x,y=3,z=0):\n",
        "    print(\"%d + %d + %d = %d\"%(x,y,z,x+y+z))\n",
        "    return x+y+z \n",
        "implicitadd(4)"
      ],
      "execution_count": null,
      "outputs": [
        {
          "output_type": "stream",
          "name": "stdout",
          "text": [
            "4 + 3 + 0 = 7\n"
          ]
        },
        {
          "output_type": "execute_result",
          "data": {
            "text/plain": [
              "7"
            ]
          },
          "metadata": {},
          "execution_count": 27
        }
      ]
    },
    {
      "cell_type": "markdown",
      "metadata": {
        "id": "h_dAmWICZyb-"
      },
      "source": [
        "Tuttavia possiamo chiamare la stessa funzione con due o tre argomenti. Una caratteristica utile è nominare in modo esplicito i valori degli argomenti passati alla funzione. Ciò offre una grande flessibilità su come chiamare una funzione con argomenti facoltativi. Sono validi tutti i seguenti:"
      ]
    },
    {
      "cell_type": "code",
      "metadata": {
        "colab": {
          "base_uri": "https://localhost:8080/"
        },
        "id": "gDg-q6K9Zzdd",
        "outputId": "0aa5af51-0eff-4b5f-af84-10c01d31b3c1"
      },
      "source": [
        "implicitadd(4,4)\n",
        "implicitadd(4,5,6)\n",
        "implicitadd(4,z=7)\n",
        "implicitadd(2,y=1,z=9)\n",
        "implicitadd(x=1)"
      ],
      "execution_count": null,
      "outputs": [
        {
          "output_type": "stream",
          "name": "stdout",
          "text": [
            "4 + 4 + 0 = 8\n",
            "4 + 5 + 6 = 15\n",
            "4 + 3 + 7 = 14\n",
            "2 + 1 + 9 = 12\n",
            "1 + 3 + 0 = 4\n"
          ]
        },
        {
          "output_type": "execute_result",
          "data": {
            "text/plain": [
              "4"
            ]
          },
          "metadata": {},
          "execution_count": 28
        }
      ]
    },
    {
      "cell_type": "markdown",
      "metadata": {
        "id": "ePFMiw10aF-Z"
      },
      "source": [
        "Qualsiasi numero di argomenti\n",
        "\n",
        "Se il numero di argomenti che deve essere accettato da una funzione non è noto, viene utilizzato un simbolo asterisco prima del nome dell'argomento per contenere il resto degli argomenti. La seguente funzione richiede almeno un argomento ma può averne molti di più."
      ]
    },
    {
      "cell_type": "code",
      "metadata": {
        "id": "hTIAGZV5aRwW"
      },
      "source": [
        "def add_n(first,*args):\n",
        "    \"restituisce la somma di uno o più numeri\"\n",
        "    reslist = [first] + [value for value in args]\n",
        "    print(reslist)\n",
        "    return sum(reslist)"
      ],
      "execution_count": null,
      "outputs": []
    },
    {
      "cell_type": "markdown",
      "metadata": {
        "id": "ShQwOpu_bOCx"
      },
      "source": [
        "La funzione sopra definisce un elenco di tutti gli argomenti, stampa l'elenco e restituisce la somma di tutti gli argomenti."
      ]
    },
    {
      "cell_type": "code",
      "metadata": {
        "colab": {
          "base_uri": "https://localhost:8080/"
        },
        "id": "Elc-O-NEbQ1I",
        "outputId": "ee53b2eb-c567-4f81-b6e7-3adb1bcbac71"
      },
      "source": [
        "add_n(1,2,3,4,5)"
      ],
      "execution_count": null,
      "outputs": [
        {
          "output_type": "stream",
          "name": "stdout",
          "text": [
            "[1, 2, 3, 4, 5]\n"
          ]
        },
        {
          "output_type": "execute_result",
          "data": {
            "text/plain": [
              "15"
            ]
          },
          "metadata": {},
          "execution_count": 33
        }
      ]
    },
    {
      "cell_type": "code",
      "metadata": {
        "colab": {
          "base_uri": "https://localhost:8080/"
        },
        "id": "P0P2ytyMbiMg",
        "outputId": "f78e0b9f-d60e-4b6d-b146-56f5b80521a5"
      },
      "source": [
        "add_n(6.5)"
      ],
      "execution_count": null,
      "outputs": [
        {
          "output_type": "stream",
          "name": "stdout",
          "text": [
            "[6.5]\n"
          ]
        },
        {
          "output_type": "execute_result",
          "data": {
            "text/plain": [
              "6.5"
            ]
          },
          "metadata": {},
          "execution_count": 34
        }
      ]
    },
    {
      "cell_type": "markdown",
      "metadata": {
        "id": "RBKfb8x-bnMT"
      },
      "source": [
        "È possibile accettare anche numeri arbitrari di argomenti denominati utilizzando **. Quando la funzione viene chiamata, tutti gli argomenti con nome aggiuntivi vengono forniti in un dizionario"
      ]
    },
    {
      "cell_type": "code",
      "metadata": {
        "colab": {
          "base_uri": "https://localhost:8080/"
        },
        "id": "bnqyqKkgbvbA",
        "outputId": "f9800d58-d259-4106-ad63-bc04daef17e8"
      },
      "source": [
        "def namedArgs(**names):\n",
        "    'Stampa gli argomenti nominati'\n",
        "    # nomi è un dizionario di parole chiave: valore\n",
        "    print(\" \".join(name+\"=\"+str(value)\n",
        "                    for name,value in names.items()))\n",
        "    \n",
        "namedArgs(x=3*4,animal='topo',z=(1+2j))"
      ],
      "execution_count": null,
      "outputs": [
        {
          "output_type": "stream",
          "name": "stdout",
          "text": [
            "x=12 animal=topo z=(1+2j)\n"
          ]
        }
      ]
    },
    {
      "cell_type": "markdown",
      "metadata": {
        "id": "KOYpaCeBc0vx"
      },
      "source": [
        "Variabili globali e locali\n",
        "\n",
        "Qualunque variabile sia dichiarata all'interno di una funzione è variabile locale e all'esterno della funzione in variabile globale"
      ]
    },
    {
      "cell_type": "code",
      "metadata": {
        "id": "Hcd-NEg7c43r"
      },
      "source": [
        "eg1 = [1,2,3,4,5]"
      ],
      "execution_count": null,
      "outputs": []
    },
    {
      "cell_type": "markdown",
      "metadata": {
        "id": "Cofnr6Dcc8JA"
      },
      "source": [
        "Nella funzione seguente stiamo aggiungendo un elemento all'elenco dichiarato all'interno della funzione. eg2 la variabile dichiarata all'interno della funzione è una variabile locale."
      ]
    },
    {
      "cell_type": "code",
      "metadata": {
        "id": "GT6GQ8cgdAo5"
      },
      "source": [
        "def egfunc1():\n",
        "    x=1\n",
        "    def thirdfunc():\n",
        "        x=2\n",
        "        print(\"dentro thirdfunc x =\",x)\n",
        "    thirdfunc()\n",
        "    print(\"Fuori dalla x =\",x)"
      ],
      "execution_count": null,
      "outputs": []
    },
    {
      "cell_type": "code",
      "metadata": {
        "colab": {
          "base_uri": "https://localhost:8080/"
        },
        "id": "sdcFQ3_0ddci",
        "outputId": "9c4e438a-8143-4186-a1bf-1277e6371218"
      },
      "source": [
        "def egfunc1():\n",
        "    x=1\n",
        "    def thirdfunc():\n",
        "        x=2\n",
        "        print(\"dentro thirdfunc x =\",x)\n",
        "    thirdfunc()\n",
        "    print(\"Fuori dalla x =\",x)\n",
        "x = 12\n",
        "egfunc1()\n",
        "print(\"Global x =\",x)"
      ],
      "execution_count": null,
      "outputs": [
        {
          "output_type": "stream",
          "name": "stdout",
          "text": [
            "dentro thirdfunc x = 2\n",
            "Fuori dalla x = 1\n",
            "Global x = 12\n"
          ]
        }
      ]
    },
    {
      "cell_type": "markdown",
      "metadata": {
        "id": "WVnfmGYod6ze"
      },
      "source": [
        "Se una variabile globale è definita come mostrato nell'esempio seguente, tale variabile può essere chiamata da qualsiasi luogo. I valori globali dovrebbero essere usati con parsimonia poiché rendono le funzioni più difficili da riutilizzare."
      ]
    },
    {
      "cell_type": "code",
      "metadata": {
        "id": "N7Ub19-fd9kd"
      },
      "source": [
        "eg3 = [1,2,3,4,5]"
      ],
      "execution_count": null,
      "outputs": []
    },
    {
      "cell_type": "code",
      "metadata": {
        "id": "Bt6K_so5eBKn"
      },
      "source": [
        "def egfunc1():\n",
        "    x = 1.0 # variabile locale per egfunc1\n",
        "    def thirdfunc():\n",
        "        global x # variablile definita globalmente\n",
        "        x = 2.0\n",
        "        print(\"All'interno thirdfunc x=\",x)\n",
        "    thirdfunc()\n",
        "    print(\"All'esterno x =\",x)"
      ],
      "execution_count": null,
      "outputs": []
    },
    {
      "cell_type": "code",
      "metadata": {
        "colab": {
          "base_uri": "https://localhost:8080/"
        },
        "id": "-SmZAzWHesqd",
        "outputId": "a0ad290a-2aae-45a6-b5f5-9ee706e3ef29"
      },
      "source": [
        "def egfunc1():\n",
        "    x = 1.0 # variabile locale per egfunc1\n",
        "    def thirdfunc():\n",
        "        global x # variablile definita globalmente\n",
        "        x = 2.0\n",
        "        print(\"All'interno thirdfunc x=\",x)\n",
        "    thirdfunc()\n",
        "    print(\"All'esterno x =\",x)\n",
        "egfunc1()\n",
        "print(\"Globalmente definito x =\",x)"
      ],
      "execution_count": null,
      "outputs": [
        {
          "output_type": "stream",
          "name": "stdout",
          "text": [
            "All'interno thirdfunc x= 2.0\n",
            "All'esterno x = 1.0\n",
            "Globalmente definito x = 2.0\n"
          ]
        }
      ]
    },
    {
      "cell_type": "markdown",
      "metadata": {
        "id": "qAbjLJ4RfOnR"
      },
      "source": [
        "Funzioni Lambda\n",
        "\n",
        "Queste sono piccole funzioni che non sono definite con alcun nome e portano una singola espressione il cui risultato viene restituito. Le funzioni Lambda sono molto utili quando si opera con gli elenchi. Queste funzioni sono definite dalla parola chiave lambda seguita dalle variabili, i due punti e l'espressione"
      ]
    },
    {
      "cell_type": "code",
      "metadata": {
        "id": "RPtE00pzfXNX"
      },
      "source": [
        "z = lambda x: x * x "
      ],
      "execution_count": null,
      "outputs": []
    },
    {
      "cell_type": "code",
      "metadata": {
        "colab": {
          "base_uri": "https://localhost:8080/"
        },
        "id": "m4SfY-16fhnF",
        "outputId": "71138b55-d80b-4887-d062-f0ea430aff99"
      },
      "source": [
        "z = lambda x: x * x \n",
        "z(8)"
      ],
      "execution_count": null,
      "outputs": [
        {
          "output_type": "execute_result",
          "data": {
            "text/plain": [
              "64"
            ]
          },
          "metadata": {},
          "execution_count": 43
        }
      ]
    },
    {
      "cell_type": "markdown",
      "metadata": {
        "id": "vHI4z0lwfq5v"
      },
      "source": [
        "Funzioni di composizione\n",
        "\n",
        "Le funzioni lambda possono essere utilizzate anche per comporre funzioni"
      ]
    },
    {
      "cell_type": "code",
      "metadata": {
        "colab": {
          "base_uri": "https://localhost:8080/"
        },
        "id": "2kR8PRLUf0jH",
        "outputId": "063987a7-0fc6-4ac0-a58f-b84b68b1a1f0"
      },
      "source": [
        "def double(x):\n",
        "    return 2*x\n",
        "def square(x):\n",
        "    return x*x\n",
        "def f_of_g(f,g):\n",
        "    \"Componi due funzioni di una singola variabile\"    \n",
        "    return lambda x: f(g(x))\n",
        "doublesquare= f_of_g(double,square)\n",
        "print(\"doublesquare è un\", type(doublesquare))\n",
        "doublesquare(3)\n"
      ],
      "execution_count": null,
      "outputs": [
        {
          "output_type": "stream",
          "name": "stdout",
          "text": [
            "doublesquare è un <class 'function'>\n"
          ]
        },
        {
          "output_type": "execute_result",
          "data": {
            "text/plain": [
              "18"
            ]
          },
          "metadata": {},
          "execution_count": 44
        }
      ]
    },
    {
      "cell_type": "markdown",
      "metadata": {
        "id": "GbcvvaobhJms"
      },
      "source": [
        "Le funzioni sono oggetti\n",
        "\n",
        "Le funzioni sono un tipo di \"valore\" che può essere assegnato a variabili, memorizzato in elenchi e così via."
      ]
    },
    {
      "cell_type": "code",
      "metadata": {
        "colab": {
          "base_uri": "https://localhost:8080/"
        },
        "id": "cf9KuUqlhLel",
        "outputId": "e7520260-36d8-4748-af84-f3eaf1fa520c"
      },
      "source": [
        "def f(x):\n",
        "    return 2*x**2+3*x-5\n",
        "g = f\n",
        "print(\"g(3.6) =\",g(3.6) )\n",
        "\n",
        "for func in [f,square, double, doublesquare]:\n",
        "    print(\"valutando a 2.0 rendimenti:\", func(2.0))"
      ],
      "execution_count": null,
      "outputs": [
        {
          "output_type": "stream",
          "name": "stdout",
          "text": [
            "g(3.6) = 31.72\n",
            "valutando a 2.0 rendimenti: 9.0\n",
            "valutando a 2.0 rendimenti: 4.0\n",
            "valutando a 2.0 rendimenti: 4.0\n",
            "valutando a 2.0 rendimenti: 8.0\n"
          ]
        }
      ]
    },
    {
      "cell_type": "markdown",
      "metadata": {
        "id": "pKsmcBbLiPXj"
      },
      "source": [
        "Capitolo 7\n",
        "\n",
        "Classi\n",
        "\n",
        "Variabili, elenchi, dizionari ecc. in Python sono oggetti. Senza entrare nella parte teorica della programmazione orientata agli oggetti, la spiegazione dei concetti verrà eseguita lungo questo tutorial.\n",
        "\n",
        "Un classe viene dichiarata così\n",
        "\n",
        "class class_name:\n",
        "    methods(functions)'''"
      ]
    },
    {
      "cell_type": "code",
      "metadata": {
        "id": "Vw6CUmdFital"
      },
      "source": [
        "class FirstClass:\n",
        "    \"Questa è una classe vuota\"\n",
        "    pass"
      ],
      "execution_count": null,
      "outputs": []
    },
    {
      "cell_type": "markdown",
      "metadata": {
        "id": "X05uDJTsjOq1"
      },
      "source": [
        "pass in python significa non fare nulla. La stringa definisce la documentazione della classe, accessibile tramite help(FirstClass)\n",
        "\n",
        "Sopra, viene dichiarato un oggetto classe denominato \"FirstClass\" ora si consideri un \"egclass\" che ha tutte le caratteristiche di \"FirstClass\". Quindi tutto ciò che devi fare è equiparare \"egclass\" a \"FirstClass\". Nel gergo di Python questo viene chiamato come creazione di un'istanza. \"egclass\" è l'istanza di \"FirstClass\""
      ]
    },
    {
      "cell_type": "code",
      "metadata": {
        "colab": {
          "base_uri": "https://localhost:8080/"
        },
        "id": "sUQKfyD4jYd8",
        "outputId": "6e8f47f8-989c-40ac-97e5-bfc2d1c4818d"
      },
      "source": [
        "class FirstClass:\n",
        "    \"Questa è una classe vuota\"\n",
        "    pass\n",
        "\n",
        "egclass = FirstClass()\n",
        "\n",
        "type(egclass)\n",
        "\n",
        "type(FirstClass)"
      ],
      "execution_count": null,
      "outputs": [
        {
          "output_type": "execute_result",
          "data": {
            "text/plain": [
              "type"
            ]
          },
          "metadata": {},
          "execution_count": 49
        }
      ]
    },
    {
      "cell_type": "markdown",
      "metadata": {
        "id": "diMUd9O1j3_l"
      },
      "source": [
        "Gli oggetti (istanze di una classe) possono contenere dati. Una variabile in un oggetto è anche chiamata campo o attributo. Per accedere a un campo utilizzare la notazione object.field. Ad esempio: x"
      ]
    },
    {
      "cell_type": "code",
      "metadata": {
        "colab": {
          "base_uri": "https://localhost:8080/"
        },
        "id": "4L_NxcR9j5h7",
        "outputId": "0d1fdf9e-5adc-40ed-8314-8ace794529b3"
      },
      "source": [
        "obj1 = FirstClass()\n",
        "obj2 = FirstClass()\n",
        "obj1.x = 5\n",
        "obj2.x = 6\n",
        "x = 7\n",
        "print(\"x in object 1 =\",obj1.x,\"x in object 2 =\",obj2.x,\"global x =\",x)"
      ],
      "execution_count": null,
      "outputs": [
        {
          "output_type": "stream",
          "name": "stdout",
          "text": [
            "x in object 1 = 5 x in object 2 = 6 global x = 7\n"
          ]
        }
      ]
    },
    {
      "cell_type": "markdown",
      "metadata": {
        "id": "wbsv5XRYkbCQ"
      },
      "source": [
        "Ora aggiungiamo alcune \"funzionalità\" alla classe. Una funzione all'interno di una classe è chiamata come un \"Metodo\" di quella classe"
      ]
    },
    {
      "cell_type": "code",
      "metadata": {
        "colab": {
          "base_uri": "https://localhost:8080/"
        },
        "id": "Ewn2KhuPkcCg",
        "outputId": "5c695d7d-73d7-4a40-d797-10bdbee73faf"
      },
      "source": [
        "class Counter:\n",
        "    def reset(self,init=0):\n",
        "        self.count = init \n",
        "    def getCount(self):\n",
        "        self.count += 1\n",
        "        return self.count\n",
        "counter = Counter()\n",
        "counter.reset(0)\n",
        "print(\"uno =\",counter.getCount(),\"due =\",counter.getCount(),\"tre =\",counter.getCount())        "
      ],
      "execution_count": null,
      "outputs": [
        {
          "output_type": "stream",
          "name": "stdout",
          "text": [
            "uno = 1 due = 2 tre = 3\n"
          ]
        }
      ]
    },
    {
      "cell_type": "markdown",
      "metadata": {
        "id": "-WnkBbQClqZR"
      },
      "source": [
        "Si noti che reset() e function e il metodo getCount() vengono chiamati con un argomento in meno rispetto a quello con cui sono dichiarati. L'argomento self è impostato da Python sull'oggetto chiamante. Qui counter.reset(0) è equivalente a Counter.reset(counter,0). Usare self come nome del primo argomento di un metodo è semplicemente una convenzione comune. Python consente l'uso di qualsiasi nome.\n",
        "\n",
        "Nota che qui sarebbe meglio se potessimo inizializzare gli oggetti Counter immediatamente con un valore predefinito di conteggio piuttosto che dover chiamare reset(). Un metodo costruttore è dichiarato in Python con il nome speciale __init__:"
      ]
    },
    {
      "cell_type": "code",
      "metadata": {
        "id": "DtLDNvvEltxz"
      },
      "source": [
        "class FirstClass:\n",
        "    def __init__(self,name,symbol):\n",
        "        self.name = name \n",
        "        self.symbol = symbol"
      ],
      "execution_count": null,
      "outputs": []
    },
    {
      "cell_type": "markdown",
      "metadata": {
        "id": "wBsMyR9zmCcF"
      },
      "source": [
        "Ora che abbiamo definito una funzione e aggiunto il metodo __init__. Possiamo creare un'istanza di FirstClass che ora accetta due argomenti."
      ]
    },
    {
      "cell_type": "code",
      "metadata": {
        "id": "1l8whHKjmDSW"
      },
      "source": [
        "eg1 = FirstClass('uno',1)\n",
        "eg2 = FirstClass('due',2)"
      ],
      "execution_count": null,
      "outputs": []
    },
    {
      "cell_type": "code",
      "metadata": {
        "colab": {
          "base_uri": "https://localhost:8080/"
        },
        "id": "G7CaBEVemN4_",
        "outputId": "8ac5c46c-91f4-4a38-812c-1e4018613824"
      },
      "source": [
        "print(eg1.name, eg1.symbol)\n",
        "print(eg2.name, eg2.symbol)"
      ],
      "execution_count": null,
      "outputs": [
        {
          "output_type": "stream",
          "name": "stdout",
          "text": [
            "uno 1\n",
            "due 2\n"
          ]
        }
      ]
    },
    {
      "cell_type": "markdown",
      "metadata": {
        "id": "qu1i5q-_mZ_R"
      },
      "source": [
        "La funzione dir() è molto utile per esaminare cosa contiene la classe e quali metodi offre"
      ]
    },
    {
      "cell_type": "code",
      "metadata": {
        "colab": {
          "base_uri": "https://localhost:8080/"
        },
        "id": "DFWbe-VtmbgW",
        "outputId": "1ab947cc-ac8d-4164-eb37-9b313ff73467"
      },
      "source": [
        "print(\"Contents of Counter class:\",dir(Counter) )\n",
        "print(\"Contents of counter object:\", dir(counter))"
      ],
      "execution_count": null,
      "outputs": [
        {
          "output_type": "stream",
          "name": "stdout",
          "text": [
            "Contents of Counter class: ['__class__', '__delattr__', '__dict__', '__dir__', '__doc__', '__eq__', '__format__', '__ge__', '__getattribute__', '__gt__', '__hash__', '__init__', '__init_subclass__', '__le__', '__lt__', '__module__', '__ne__', '__new__', '__reduce__', '__reduce_ex__', '__repr__', '__setattr__', '__sizeof__', '__str__', '__subclasshook__', '__weakref__', 'getCount', 'reset']\n",
            "Contents of counter object: ['__class__', '__delattr__', '__dict__', '__dir__', '__doc__', '__eq__', '__format__', '__ge__', '__getattribute__', '__gt__', '__hash__', '__init__', '__init_subclass__', '__le__', '__lt__', '__module__', '__ne__', '__new__', '__reduce__', '__reduce_ex__', '__repr__', '__setattr__', '__sizeof__', '__str__', '__subclasshook__', '__weakref__', 'count', 'getCount', 'reset']\n"
          ]
        }
      ]
    },
    {
      "cell_type": "markdown",
      "metadata": {
        "id": "9XzlIBK5mnRK"
      },
      "source": [
        "dir() di un'istanza mostra anche i suoi attributi definiti, quindi l'oggetto ha l'attributo aggiuntivo 'count'. Nota che Python definisce diversi metodi predefiniti per azioni come il confronto (__le__ è l'operatore ≤). Questi e altri metodi speciali possono essere definiti per le classi per implementare significati specifici su come l'oggetto di quella classe dovrebbe essere confrontato, aggiunto, moltiplicato o simili.\n",
        "\n",
        "Cambiando un po' la funzione FirstClass,\n",
        "\n",
        "Proprio come le variabili globali e locali, come abbiamo visto in precedenza, anche le classi hanno i propri tipi di variabili.\n",
        "\n",
        "Attributo di classe: attributi definiti al di fuori del metodo ed è applicabile a tutte le istanze.\n",
        "\n",
        "Instance Attribute : attributi definiti all'interno di un metodo ed è applicabile solo a quel metodo ed è unico per ogni istanza."
      ]
    },
    {
      "cell_type": "code",
      "metadata": {
        "id": "O4xC_ttRmxlI"
      },
      "source": [
        "class FirstClass:\n",
        "    test = 'test'\n",
        "    def __init__(self,n,s):\n",
        "        self.name = n\n",
        "        self.symbol = s"
      ],
      "execution_count": null,
      "outputs": []
    },
    {
      "cell_type": "markdown",
      "metadata": {
        "id": "QNWRHXT5nIEQ"
      },
      "source": [
        "Qui test è un attributo di classe e nome è un attributo di istanza."
      ]
    },
    {
      "cell_type": "code",
      "metadata": {
        "id": "8i79D7sMnLa5"
      },
      "source": [
        "eg3 = FirstClass('Tre',3)"
      ],
      "execution_count": null,
      "outputs": []
    },
    {
      "cell_type": "code",
      "metadata": {
        "colab": {
          "base_uri": "https://localhost:8080/"
        },
        "id": "OJhmNVxynPeW",
        "outputId": "3b25d1ea-8388-44b6-88ea-31db1d265efc"
      },
      "source": [
        "print(eg3.test,eg3.name,eg3.symbol)"
      ],
      "execution_count": null,
      "outputs": [
        {
          "output_type": "stream",
          "name": "stdout",
          "text": [
            "test Tre 3\n"
          ]
        }
      ]
    },
    {
      "cell_type": "markdown",
      "metadata": {
        "id": "HL69o95AnlaM"
      },
      "source": [
        "Eredità\n",
        "\n",
        "Potrebbero esserci casi in cui una nuova classe avrebbe tutte le caratteristiche precedenti di una classe già definita. Quindi la nuova classe può \"ereditare\" la classe precedente e aggiungervi i propri metodi. Questo è chiamato come eredità.\n",
        "\n",
        "Considera la classe SoftwareEngineer che ha uno stipendio di metodo."
      ]
    },
    {
      "cell_type": "code",
      "metadata": {
        "colab": {
          "base_uri": "https://localhost:8080/"
        },
        "id": "uKYNcaaMnsNA",
        "outputId": "a3be72e8-9a30-41a4-ac91-4762bdb0a166"
      },
      "source": [
        "class SoftwareEngineer:\n",
        "    def __init__(self,name,age):\n",
        "        self.name = name1\n",
        "        self.age = age\n",
        "    def salary(self,value):\n",
        "        self.money = value\n",
        "        print(self.name,\"guadagna\",self.money)\n",
        "a = SoftwareEngineer('Kartik',26)\n",
        "a.salary(40000)\n"
      ],
      "execution_count": null,
      "outputs": [
        {
          "output_type": "stream",
          "name": "stdout",
          "text": [
            "Luca guadagna 40000\n"
          ]
        }
      ]
    },
    {
      "cell_type": "code",
      "metadata": {
        "colab": {
          "base_uri": "https://localhost:8080/"
        },
        "id": "_NfsUNjyoIhj",
        "outputId": "84bd0b3b-5324-4110-e92c-b49bf9c5b358"
      },
      "source": [
        "[ name for name in dir(SoftwareEngineer) if not name.startswith(\"_\")]"
      ],
      "execution_count": null,
      "outputs": [
        {
          "output_type": "execute_result",
          "data": {
            "text/plain": [
              "['salary']"
            ]
          },
          "metadata": {},
          "execution_count": 70
        }
      ]
    },
    {
      "cell_type": "markdown",
      "metadata": {
        "id": "gGSJAlE2o4Wh"
      },
      "source": [
        "Consideriamo ora un'altra classe Artista che ci parla della quantità di denaro che un artista guadagna e della sua forma d'arte"
      ]
    },
    {
      "cell_type": "code",
      "metadata": {
        "colab": {
          "base_uri": "https://localhost:8080/"
        },
        "id": "Dw_xtrK_o7uX",
        "outputId": "561dd627-2318-412b-f92e-2a1a1e9e7b51"
      },
      "source": [
        "class Artist:\n",
        "    def __init__(self,name,age):\n",
        "        self.name = name\n",
        "        self.age = age\n",
        "    def money(self,value):\n",
        "        self.money = value\n",
        "        print(self.name,\"guadagna\",self.money)\n",
        "    def artform(self,job):\n",
        "        self.job = job\n",
        "        print(self.name,\"è un\",self.job)\n",
        "b = Artist('Nitin',20)\n",
        "b.money(50000)\n",
        "b.artform('Musicista')"
      ],
      "execution_count": null,
      "outputs": [
        {
          "output_type": "stream",
          "name": "stdout",
          "text": [
            "Nitin guadagna 50000\n",
            "Nitin è un Musicista\n"
          ]
        }
      ]
    },
    {
      "cell_type": "code",
      "metadata": {
        "colab": {
          "base_uri": "https://localhost:8080/"
        },
        "id": "LlEie0rzpuol",
        "outputId": "97cdb010-2f7c-4053-9637-c319ac0f9e75"
      },
      "source": [
        "[ name for name in dir(b) if not name.startswith(\"_\")]"
      ],
      "execution_count": null,
      "outputs": [
        {
          "output_type": "execute_result",
          "data": {
            "text/plain": [
              "['age', 'artform', 'job', 'money', 'name']"
            ]
          },
          "metadata": {},
          "execution_count": 72
        }
      ]
    },
    {
      "cell_type": "markdown",
      "metadata": {
        "id": "v6CMMqKMp64f"
      },
      "source": [
        "il metodo del denaro e il metodo dello stipendio sono gli stessi. Quindi possiamo generalizzare il metodo allo stipendio ed ereditare la classe SoftwareEngineer alla classe Artist. Ora la classe dell'artista diventa,"
      ]
    },
    {
      "cell_type": "code",
      "metadata": {
        "colab": {
          "base_uri": "https://localhost:8080/"
        },
        "id": "QDagK1Mgp7vd",
        "outputId": "8075aa06-3129-4f99-b96a-c8afd3d05d1c"
      },
      "source": [
        "class Artist(SoftwareEngineer):\n",
        "    def artform(self,job):\n",
        "        self.job = job\n",
        "        print(self.name,\"è un\",self.job)\n",
        "c = Artist('Mattia',21)\n",
        "dir(Artist)\n",
        "c.salary(60000)\n",
        "c.artform('ballerino')"
      ],
      "execution_count": null,
      "outputs": [
        {
          "output_type": "stream",
          "name": "stdout",
          "text": [
            "Luca guadagna 60000\n",
            "Luca è un ballerino\n"
          ]
        }
      ]
    },
    {
      "cell_type": "markdown",
      "metadata": {
        "id": "e6k3uB2Tq64e"
      },
      "source": [
        "Supponiamo dire che mentre erediti un metodo particolare non è adatto per la nuova classe. Si può sovrascrivere questo metodo definendo nuovamente quel metodo con lo stesso nome all'interno della nuova classe."
      ]
    },
    {
      "cell_type": "code",
      "metadata": {
        "id": "NQtMQZTBq_bc"
      },
      "source": [
        "class Artist(SoftwareEngineer):\n",
        "    def artform(self, job):\n",
        "        self.job = job\n",
        "        print(self.name,\"is a\", self.job)\n",
        "    def salary(self, value):\n",
        "        self.money = value\n",
        "        print(self.name,\"earns\",self.money)\n",
        "        print(\"I am overriding the SoftwareEngineer class's salary method\")"
      ],
      "execution_count": null,
      "outputs": []
    },
    {
      "cell_type": "code",
      "metadata": {
        "id": "hNSEBIkErDME"
      },
      "source": [
        "c = Artist('Nishanth',21)"
      ],
      "execution_count": null,
      "outputs": []
    },
    {
      "cell_type": "code",
      "metadata": {
        "colab": {
          "base_uri": "https://localhost:8080/"
        },
        "id": "Va2uAmTvrHg0",
        "outputId": "acea889d-362b-4f18-f941-bfc2049f382a"
      },
      "source": [
        "c.salary(60000)\n",
        "c.artform('Dancer')"
      ],
      "execution_count": null,
      "outputs": [
        {
          "output_type": "stream",
          "name": "stdout",
          "text": [
            "Luca earns 60000\n",
            "I am overriding the SoftwareEngineer class's salary method\n",
            "Luca is a Dancer\n"
          ]
        }
      ]
    },
    {
      "cell_type": "markdown",
      "metadata": {
        "id": "HjXL55KErKGk"
      },
      "source": [
        "Se il numero di argomenti di input varia da istanza a istanza, è possibile utilizzare un asterisco come mostrato."
      ]
    },
    {
      "cell_type": "code",
      "metadata": {
        "id": "nIYdSIaQrNSW"
      },
      "source": [
        "class NotSure:\n",
        "    def __init__(self, *args):\n",
        "        self.data = ' '.join(list(args)) "
      ],
      "execution_count": null,
      "outputs": []
    },
    {
      "cell_type": "code",
      "metadata": {
        "id": "rVnMPLz9rPHF"
      },
      "source": [
        "yz = NotSure('I', 'Do' , 'Not', 'Know', 'What', 'To','Type')"
      ],
      "execution_count": null,
      "outputs": []
    },
    {
      "cell_type": "code",
      "metadata": {
        "colab": {
          "base_uri": "https://localhost:8080/",
          "height": 35
        },
        "id": "cvRx0qPvrQ9E",
        "outputId": "fcec3c8e-a40e-4a00-81e2-e659cd671a21"
      },
      "source": [
        "yz.data"
      ],
      "execution_count": null,
      "outputs": [
        {
          "output_type": "execute_result",
          "data": {
            "application/vnd.google.colaboratory.intrinsic+json": {
              "type": "string"
            },
            "text/plain": [
              "'I Do Not Know What To Type'"
            ]
          },
          "metadata": {},
          "execution_count": 80
        }
      ]
    },
    {
      "cell_type": "markdown",
      "metadata": {
        "id": "qaP5GMf7rX_0"
      },
      "source": [
        "Introspezione\n",
        "\n",
        "Abbiamo già visto la funzione dir() per capire cosa c'è in una classe. Python ha molte strutture per rendere facile l'introspezione (cioè capire cosa c'è in un oggetto o modulo Python). Alcune funzioni utili sono hasattr, getattr e setattr:"
      ]
    },
    {
      "cell_type": "code",
      "metadata": {
        "colab": {
          "base_uri": "https://localhost:8080/"
        },
        "id": "AZzN7u_GrZIX",
        "outputId": "8f57fca1-f138-4c74-bbf2-d1a4d1d29354"
      },
      "source": [
        "ns = NotSure('test')\n",
        "if hasattr(ns,'data'): # check if ns.data exists\n",
        "    setattr(ns,'copy', # set ns.copy\n",
        "            getattr(ns,'data')) # get ns.data\n",
        "print('ns.copy =',ns.copy)"
      ],
      "execution_count": null,
      "outputs": [
        {
          "output_type": "stream",
          "name": "stdout",
          "text": [
            "ns.copy = test\n"
          ]
        }
      ]
    },
    {
      "cell_type": "markdown",
      "metadata": {
        "id": "9QRCJSpXrdnU"
      },
      "source": [
        "Capitolo 8\n",
        "\n",
        "Python scientifico\n",
        "\n",
        "Python scientifico si riferisce a una vasta raccolta di librerie che possono essere utilizzate con Python per una serie di attività di calcolo numerico e scientifico. La maggior parte di questi viene già fornita con la distribuzione Anaconda, ma se hai installato solo la distribuzione python di base potresti dover aggiungere le librerie aggiuntive.\n",
        "\n",
        "Qui ci limitiamo a grattare la superficie di ciò che è disponibile. Questo dovrebbe essere sufficiente per iniziare con alcuni dei moduli più comunemente usati, ma per qualsiasi progetto specifico che hai, vale la pena fare qualche ricerca online per vedere cosa è già disponibile come parte di questo ecosistema.\n",
        "\n",
        "\n",
        "Matrici\n",
        "\n",
        "Gestire vettori e matrici in modo efficiente richiede la libreria numpy. Per brevità importeremo questo con un nome più breve:"
      ]
    },
    {
      "cell_type": "code",
      "metadata": {
        "id": "4rMviHZgZchn"
      },
      "source": [
        "import numpy as np"
      ],
      "execution_count": null,
      "outputs": []
    },
    {
      "cell_type": "markdown",
      "metadata": {
        "id": "ZjjJsVn-ZmoR"
      },
      "source": [
        "Il numpy supporta array e matrici con molte delle funzionalità che sarebbero familiari agli utenti di matlab. Vedi qui un breve riepilogo di numpy per gli utenti di matlab.\n",
        "\n",
        "A parte la comodità, i metodi numpy sono anche molto più veloci nell'eseguire operazioni su matrici o array rispetto all'esecuzione di operazioni aritmetiche con i numeri memorizzati nelle liste."
      ]
    },
    {
      "cell_type": "code",
      "metadata": {
        "colab": {
          "base_uri": "https://localhost:8080/"
        },
        "id": "Yfb7v_7DZxs6",
        "outputId": "d0bde6f8-9dc0-4392-bf2c-33b212e651aa"
      },
      "source": [
        "x = np.array([1,2,3,4,5])\n",
        "y = np.array([2*i for i in x])\n",
        "x+y # elementi addizione"
      ],
      "execution_count": null,
      "outputs": [
        {
          "output_type": "execute_result",
          "data": {
            "text/plain": [
              "array([ 3,  6,  9, 12, 15])"
            ]
          },
          "metadata": {},
          "execution_count": 2
        }
      ]
    },
    {
      "cell_type": "code",
      "metadata": {
        "colab": {
          "base_uri": "https://localhost:8080/"
        },
        "id": "3OHf8pAzaJay",
        "outputId": "a3a14b5d-a02c-4494-d44b-7e0921d5008d"
      },
      "source": [
        "X = x[:4].reshape(2,2) #trasformarsi in una matrice/tabella\n",
        "2*X # moltiplicare per uno scalare"
      ],
      "execution_count": null,
      "outputs": [
        {
          "output_type": "execute_result",
          "data": {
            "text/plain": [
              "array([[2, 4],\n",
              "       [6, 8]])"
            ]
          },
          "metadata": {},
          "execution_count": 3
        }
      ]
    },
    {
      "cell_type": "markdown",
      "metadata": {
        "id": "BoCmaUACagTh"
      },
      "source": [
        "Tuttavia, attenzione: l'array non è proprio una matrice. Per le corrette operazioni con la matrice è necessario utilizzare il tipo di matrice. A differenza degli array che possono avere un numero qualsiasi di dimensioni, le matrici sono limitate a 2 dimensioni. Tuttavia la moltiplicazione matriciale fa ciò che ti aspetteresti da un punto di vista dell'algebra lineare, piuttosto che una moltiplicazione per elemento:"
      ]
    },
    {
      "cell_type": "code",
      "metadata": {
        "colab": {
          "base_uri": "https://localhost:8080/"
        },
        "id": "4C3yWxmPah8x",
        "outputId": "f35b71f1-4828-4614-c1f6-883fa76c4370"
      },
      "source": [
        "Y = np.matrix(X)\n",
        "print(\"X=Y\\n\",Y)\n",
        "print(\"Array  X*X=\\n\",X*X,'\\nmatrix Y*Y=\\n',Y*Y)"
      ],
      "execution_count": null,
      "outputs": [
        {
          "output_type": "stream",
          "name": "stdout",
          "text": [
            "X=Y\n",
            " [[1 2]\n",
            " [3 4]]\n",
            "Array  X*X=\n",
            " [[ 1  4]\n",
            " [ 9 16]] \n",
            "matrix Y*Y=\n",
            " [[ 7 10]\n",
            " [15 22]]\n"
          ]
        }
      ]
    },
    {
      "cell_type": "markdown",
      "metadata": {
        "id": "3HdMbIgGbR9E"
      },
      "source": [
        "Plotting \n",
        "\n",
        "Ci sono molte opzioni di configurazione per la libreria matplotlib che stiamo usando qui.\n",
        "\n",
        "Per iniziare abbiamo bisogno dell'importazione delle librerie richieste."
      ]
    },
    {
      "cell_type": "code",
      "metadata": {
        "id": "4ptQZ1_kbefi"
      },
      "source": [
        "import numpy as np\n",
        "import matplotlib.pyplot as plt"
      ],
      "execution_count": null,
      "outputs": []
    },
    {
      "cell_type": "markdown",
      "metadata": {
        "id": "jVLpPn0TbuhC"
      },
      "source": [
        "Il comando plot più semplice richiede semplicemente un elenco di numeri da tracciare in posizioni intere."
      ]
    },
    {
      "cell_type": "code",
      "metadata": {
        "colab": {
          "base_uri": "https://localhost:8080/",
          "height": 265
        },
        "id": "BWFaWgttbwiI",
        "outputId": "3b841fae-332d-43cd-db9d-90649a9ff6ad"
      },
      "source": [
        "plt.plot([1,4,2,3])\n",
        "plt.ylabel('alcuni numeri')\n",
        "plt.show()"
      ],
      "execution_count": null,
      "outputs": [
        {
          "output_type": "display_data",
          "data": {
            "image/png": "[encoded data removed]",
            "text/plain": [
              "<Figure size 432x288 with 1 Axes>"
            ]
          },
          "metadata": {
            "needs_background": "light"
          }
        }
      ]
    },
    {
      "cell_type": "markdown",
      "metadata": {
        "id": "dMxf6HUvUP7m"
      },
      "source": [
        "gli esempi utilizzano il modulo pyplot che per impostazione predefinita ha una singola Figura globale e l'oggetto ad essi associato.\n",
        "\n",
        "se vuoi creare un'intera serie di grafici dovresti fare qualcosa simile a questo \n",
        "\n",
        "fig, ax = plt.subplots(figsize=(8, 8))\n",
        "\n",
        "Quindi sostituisci comandi come plt.plot con fig.plot per creare un grafico per questo oggetto figura specifico. Puoi accedere all'oggetto figura \"globale\" con plt.gcf() (ottieni la funzione figura corrente) e allo stesso modo plt.gca() ottiene l'oggetto assi.\n",
        "\n",
        "Tipi di plot alternativi\n",
        "\n",
        "ecco alcuni dati in formato CSV che analizziamo e tracciamo come punti (grafico a dispersione). In questa versione del comando plot le coordinate x e y sono fornite come elenchi separati seguiti da una stringa di formattazione \"r*\" (simboli asterisco rosso)"
      ]
    },
    {
      "cell_type": "code",
      "metadata": {
        "colab": {
          "base_uri": "https://localhost:8080/",
          "height": 265
        },
        "id": "kLw2KsuGVAsJ",
        "outputId": "71659a5c-5ef5-4ec3-9865-f48fa23493f3"
      },
      "source": [
        "data = \"\"\"\n",
        "4,1\n",
        "2,5\n",
        "9,2\n",
        "6,3\n",
        "6,7\n",
        "8,4\n",
        "\"\"\"\n",
        "# analisi grezza dei dati CSV: utilizzare il modulo CSV per leggere i file CSV\n",
        "xy = [ [float(i) for i in line.strip().split(\",\")]\n",
        "      for line in data.split()]\n",
        "x = [pt[0] for pt in xy]\n",
        "y = [pt[1] for pt in xy]\n",
        "plt.plot(x,y,\"r*\")\n",
        "plt.show()"
      ],
      "execution_count": null,
      "outputs": [
        {
          "output_type": "display_data",
          "data": {
            "image/png": "[encoded data removed]",
            "text/plain": [
              "<Figure size 432x288 with 1 Axes>"
            ]
          },
          "metadata": {
            "needs_background": "light"
          }
        }
      ]
    },
    {
      "cell_type": "code",
      "metadata": {
        "colab": {
          "base_uri": "https://localhost:8080/",
          "height": 265
        },
        "id": "gAGWqW0VWG0T",
        "outputId": "3472ff20-ce7e-4c50-ce3d-764a6c0e0d8a"
      },
      "source": [
        "X = np.linspace(-np.pi, np.pi, 256, endpoint=True)\n",
        "C, S = np.cos(X), np.sin(X) # creare array di valori di funzione per ogni valore X\n",
        "\n",
        "plt.plot(X, C)\n",
        "plt.plot(X, S)\n",
        "\n",
        "plt.show()"
      ],
      "execution_count": null,
      "outputs": [
        {
          "output_type": "display_data",
          "data": {
            "image/png": "[encoded data removed]",
            "text/plain": [
              "<Figure size 432x288 with 1 Axes>"
            ]
          },
          "metadata": {
            "needs_background": "light"
          }
        }
      ]
    },
    {
      "cell_type": "markdown",
      "metadata": {
        "id": "ND4o69fKWx8l"
      },
      "source": [
        "L'annotazione dei grafici può essere eseguita con metodi come text() per posizionare un'etichetta e annotate()."
      ]
    },
    {
      "cell_type": "code",
      "metadata": {
        "colab": {
          "base_uri": "https://localhost:8080/",
          "height": 269
        },
        "id": "JjW2TtBgW428",
        "outputId": "e9cbcc43-8617-4ad3-c46e-1501984797fc"
      },
      "source": [
        "t = np.arange(0.0, 5.0, 0.01)\n",
        "line, = plt.plot(t, np.cos(2*np.pi*t), lw=2)\n",
        "plt.annotate('Local max', xy=(2, 1), xytext=(3, 1.5),\n",
        "             arrowprops=dict(facecolor='black', shrink=0.05),\n",
        "             )\n",
        "#il testo può includere comandi LaTeX di base, ma è necessario contrassegnare\n",
        "# stringa come raw (r\"\") o escape '\\' (usando '\\\\')\n",
        "plt.text(1,-1.5,r\"Graph of $cos(2\\pi x)$\")\n",
        "plt.ylim(-2,2)\n",
        "plt.show()"
      ],
      "execution_count": null,
      "outputs": [
        {
          "output_type": "display_data",
          "data": {
            "image/png": "[encoded data removed]",
            "text/plain": [
              "<Figure size 432x288 with 1 Axes>"
            ]
          },
          "metadata": {
            "needs_background": "light"
          }
        }
      ]
    },
    {
      "cell_type": "markdown",
      "metadata": {
        "id": "f-pdVRQLYxSp"
      },
      "source": [
        "Ecco un esempio di come creare un grafico del contorno di una superficie di base."
      ]
    },
    {
      "cell_type": "code",
      "metadata": {
        "colab": {
          "base_uri": "https://localhost:8080/",
          "height": 281
        },
        "id": "gFWK1i4RZW_j",
        "outputId": "ca2c4b5e-d37c-46e3-90d9-9fafb774379f"
      },
      "source": [
        "from scipy.stats import * # per multivariate_normal per definire la nostra superficie\n",
        "delta = 0.025\n",
        "x = np.arange(-3.0, 3.0, delta)\n",
        "y = np.arange(-2.0, 2.0, delta)\n",
        "X, Y = np.meshgrid(x, y)\n",
        "pos = np.empty(X.shape + (2,))\n",
        "pos[:, :, 0] = X; pos[:, :, 1] = Y\n",
        "rv1 = multivariate_normal([0, 0], [[1.0, 0.0], [0.0, 1.0]])\n",
        "rv2 = multivariate_normal([1, 1], [[1.5, 0.0], [0.0, 0.5]])\n",
        "#Z1 = bivariate_normal(X, Y, 1.0, 1.0, 0.0, 0.0)\n",
        "#Z2 = bivariate_normal(X, Y, 1.5, 0.5, 1, 1)\n",
        "Z1 = rv1.pdf(pos)\n",
        "Z2 = rv2.pdf(pos)\n",
        "Z = 10.0 * (Z2 - Z1) \n",
        "\n",
        "# Crea un semplice diagramma di contorno con etichette utilizzando i colori predefiniti. Il\n",
        "# argomento inline per clabel controllerà se le etichette sono disegnate\n",
        "# sui segmenti di linea del contorno, rimuovendo le linee sotto\n",
        "# l'etichetta\n",
        "plt.figure()\n",
        "CS = plt.contour(X, Y, Z)\n",
        "plt.clabel(CS, inline=1, fontsize=10)\n",
        "plt.title('L impostazione predefinita più semplice con etichette')\n",
        "plt.show()"
      ],
      "execution_count": null,
      "outputs": [
        {
          "output_type": "display_data",
          "data": {
            "image/png": "[encoded data removed]",
            "text/plain": [
              "<Figure size 432x288 with 1 Axes>"
            ]
          },
          "metadata": {
            "needs_background": "light"
          }
        }
      ]
    },
    {
      "cell_type": "markdown",
      "metadata": {
        "id": "I2aTtxdZdTZU"
      },
      "source": [
        "Salvataggio di grafici\n",
        "\n",
        "Se vuoi usare il plot in un documento o simili, ci sono alcune opzioni diverse:\n",
        "\n",
        "Puoi copiare e incollare l'immagine fuori dalla finestra del browser se stai usando i taccuini\n",
        "Puoi salvare specificamente l'immagine in un file in una gamma di formati semplicemente usando il metodo savefig() sui grafici. Il formato viene indovinato in base all'estensione del nome del file"
      ]
    },
    {
      "cell_type": "code",
      "metadata": {
        "colab": {
          "base_uri": "https://localhost:8080/",
          "height": 281
        },
        "id": "zmg6P5dzdXnL",
        "outputId": "bddd6e0d-59ef-4806-c60e-ef432fd6b665"
      },
      "source": [
        "CS = plt.contour(X, Y, Z)\n",
        "plt.clabel(CS, inline=1, fontsize=10)\n",
        "plt.title('L impostazione predefinita più semplice con etichette')\n",
        "plt.savefig(\"surface_ex.png\")\n",
        "plt.savefig(\"surface_ex.pdf\")"
      ],
      "execution_count": null,
      "outputs": [
        {
          "output_type": "display_data",
          "data": {
            "image/png": "[encoded data removed]",
            "text/plain": [
              "<Figure size 432x288 with 1 Axes>"
            ]
          },
          "metadata": {
            "needs_background": "light"
          }
        }
      ]
    },
    {
      "cell_type": "markdown",
      "metadata": {
        "id": "IX_0vkBbeRPo"
      },
      "source": [
        "Cerca nella directory che contiene questo taccuino e dovresti trovare 2 file: surface_ex.png e surface_ex.pdf che puoi scaricare.\n",
        "\n",
        "L'elenco completo dei tipi di file supportati da matplotlib è:"
      ]
    },
    {
      "cell_type": "code",
      "metadata": {
        "colab": {
          "base_uri": "https://localhost:8080/",
          "height": 255
        },
        "id": "PsbmgTlVeSTx",
        "outputId": "8d7e9c45-d876-4dc3-fc82-d3b757828173"
      },
      "source": [
        "for ext,description in plt.gcf().canvas.get_supported_filetypes().items():\n",
        "    print(\"%s: \\t%s\" % (ext,description))"
      ],
      "execution_count": null,
      "outputs": [
        {
          "output_type": "stream",
          "name": "stdout",
          "text": [
            "ps: \tPostscript\n",
            "eps: \tEncapsulated Postscript\n",
            "pdf: \tPortable Document Format\n",
            "pgf: \tPGF code for LaTeX\n",
            "png: \tPortable Network Graphics\n",
            "raw: \tRaw RGBA bitmap\n",
            "rgba: \tRaw RGBA bitmap\n",
            "svg: \tScalable Vector Graphics\n",
            "svgz: \tScalable Vector Graphics\n",
            "jpg: \tJoint Photographic Experts Group\n",
            "jpeg: \tJoint Photographic Experts Group\n",
            "tif: \tTagged Image File Format\n",
            "tiff: \tTagged Image File Format\n"
          ]
        },
        {
          "output_type": "display_data",
          "data": {
            "text/plain": [
              "<Figure size 432x288 with 0 Axes>"
            ]
          },
          "metadata": {}
        }
      ]
    }
  ]
}