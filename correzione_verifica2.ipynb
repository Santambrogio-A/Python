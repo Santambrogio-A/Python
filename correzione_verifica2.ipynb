{
  "nbformat": 4,
  "nbformat_minor": 0,
  "metadata": {
    "colab": {
      "name": "correzione verifica2.ipynb",
      "provenance": [],
      "collapsed_sections": []
    },
    "kernelspec": {
      "name": "python3",
      "display_name": "Python 3"
    },
    "language_info": {
      "name": "python"
    }
  },
  "cells": [
    {
      "cell_type": "markdown",
      "metadata": {
        "id": "kQ0I5xYSFnZC"
      },
      "source": [
        "Caricare una lista di 10 città italiane visualizzandole in ordine decrescente e crescente in base alla lunghezza della parola"
      ]
    },
    {
      "cell_type": "code",
      "metadata": {
        "colab": {
          "base_uri": "https://localhost:8080/"
        },
        "id": "xYWCy2zuFiS3",
        "outputId": "b438c95b-34d3-49c8-9333-3a8a62aa9bca"
      },
      "source": [
        "citta = ['Roma','Como','Bra','Bari','Milano','Pisa','Varese','Lecco']\n",
        "citta_crescente = sorted(citta,key = len)\n",
        "print(citta_crescente)\n",
        "citta_decrescente = sorted(citta, key = len, reverse = True)\n",
        "print(citta_decrescente)\n",
        "citta_decrescente2 = citta_crescente[:]\n",
        "citta_decrescente2.reverse()\n",
        "print(citta_decrescente2)\n",
        "print(citta_crescente)"
      ],
      "execution_count": null,
      "outputs": [
        {
          "output_type": "stream",
          "name": "stdout",
          "text": [
            "['Bra', 'Roma', 'Como', 'Bari', 'Pisa', 'Lecco', 'Milano', 'Varese']\n",
            "['Milano', 'Varese', 'Lecco', 'Roma', 'Como', 'Bari', 'Pisa', 'Bra']\n",
            "['Varese', 'Milano', 'Lecco', 'Pisa', 'Bari', 'Como', 'Roma', 'Bra']\n",
            "['Bra', 'Roma', 'Como', 'Bari', 'Pisa', 'Lecco', 'Milano', 'Varese']\n"
          ]
        }
      ]
    },
    {
      "cell_type": "markdown",
      "metadata": {
        "id": "8yYYEkhRJoHi"
      },
      "source": [
        "Data una lista di città, eliminare doppioni"
      ]
    },
    {
      "cell_type": "code",
      "metadata": {
        "colab": {
          "base_uri": "https://localhost:8080/"
        },
        "id": "Wq_vlAkDJv2c",
        "outputId": "70632606-d57f-460f-c4d6-461b1509c00e"
      },
      "source": [
        "citta.extend(['Lecco','Milano','Milano'])\n",
        "print(citta)\n",
        "cittaFinale = list(dict.fromkeys(citta))\n",
        "print(cittaFinale)\n",
        "cittaFinale2 = list(set(citta))\n",
        "print(cittaFinale2)"
      ],
      "execution_count": null,
      "outputs": [
        {
          "output_type": "stream",
          "name": "stdout",
          "text": [
            "['Roma', 'Como', 'Bra', 'Bari', 'Milano', 'Pisa', 'Varese', 'Lecco', 'Lecco', 'Milano', 'Milano', 'Lecco', 'Milano', 'Milano', 'Lecco', 'Milano', 'Milano', 'Lecco', 'Milano', 'Milano']\n",
            "['Roma', 'Como', 'Bra', 'Bari', 'Milano', 'Pisa', 'Varese', 'Lecco']\n",
            "['Varese', 'Milano', 'Lecco', 'Bari', 'Roma', 'Pisa', 'Como', 'Bra']\n"
          ]
        }
      ]
    },
    {
      "cell_type": "markdown",
      "metadata": {
        "id": "_CGQIWWBNFJT"
      },
      "source": [
        "Date 2 liste visualizzare le città presenti in entrambe"
      ]
    },
    {
      "cell_type": "code",
      "metadata": {
        "colab": {
          "base_uri": "https://localhost:8080/"
        },
        "id": "9gJrgrzeNLVZ",
        "outputId": "56e017ba-aaca-4ac8-bad7-bec3be68e605"
      },
      "source": [
        "citta1 = ['Varese', 'Milano', 'Lecco', 'Bari', 'Roma', 'Pisa', 'Como', 'Bra']\n",
        "citta2 = ['Napoli', 'Palermo', 'Lecco', 'Bari', 'Roma', 'Pisa', 'Como', 'Bra']\n",
        "cittaComuni = list(set(citta1).intersection(set(citta2)))\n",
        "print(cittaComuni)"
      ],
      "execution_count": null,
      "outputs": [
        {
          "output_type": "stream",
          "name": "stdout",
          "text": [
            "['Como', 'Lecco', 'Roma', 'Bari', 'Pisa', 'Bra']\n"
          ]
        }
      ]
    },
    {
      "cell_type": "markdown",
      "metadata": {
        "id": "dNzE53A_O7jV"
      },
      "source": [
        "caricare dizionario cittaRegioni visualizzare dizionario "
      ]
    },
    {
      "cell_type": "code",
      "metadata": {
        "colab": {
          "base_uri": "https://localhost:8080/"
        },
        "id": "Ja1T7NPgPFNm",
        "outputId": "15905899-07b1-49bb-a7fc-75ff0b2bb390"
      },
      "source": [
        "d1 = {'Lecco': 'Lombardia', 'Bari':'Puglia', 'Roma':'Lazio', 'Pisa':'Toscana', 'Como':'Lombardia', 'Bra':'Piemonte'}\n",
        "for i in d1:\n",
        "    print(i,\"si trova in\", d1[i])\n",
        "       "
      ],
      "execution_count": null,
      "outputs": [
        {
          "output_type": "stream",
          "name": "stdout",
          "text": [
            "Lecco si trova in Lombardia\n",
            "Bari si trova in Puglia\n",
            "Roma si trova in Lazio\n",
            "Pisa si trova in Toscana\n",
            "Como si trova in Lombardia\n",
            "Bra si trova in Piemonte\n"
          ]
        }
      ]
    },
    {
      "cell_type": "markdown",
      "metadata": {
        "id": "PmMYLSjVcBHG"
      },
      "source": [
        "Dato il nome di una città e indica in quale regione si trova"
      ]
    },
    {
      "cell_type": "code",
      "metadata": {
        "colab": {
          "base_uri": "https://localhost:8080/"
        },
        "id": "shJ4qDNecAJ1",
        "outputId": "240bd45c-4f6a-44fd-b878-755e3004d3bc"
      },
      "source": [
        "citta = input(\"Inserisci la citta : \")\n",
        "d1  = {'Lecco': 'Lombardia', 'Bari':'Puglia', 'Roma':'Lazio', 'Pisa':'Toscana', 'Como':'Lombardia', 'Bra':'Piemonte'}\n",
        "print(citta + \" si trova in \" + d1.get(citta))"
      ],
      "execution_count": null,
      "outputs": [
        {
          "output_type": "stream",
          "name": "stdout",
          "text": [
            "Inserisci la citta : Lecco\n",
            "Lecco si trova in Lombardia\n"
          ]
        }
      ]
    },
    {
      "cell_type": "markdown",
      "metadata": {
        "id": "dmKn9p-7Wufu"
      },
      "source": [
        "Scrivere un programma che carichi in una lista tutti i numeri pari minori di 100"
      ]
    },
    {
      "cell_type": "code",
      "metadata": {
        "colab": {
          "base_uri": "https://localhost:8080/"
        },
        "id": "mHMrRJ3JWvi3",
        "outputId": "7d42b07d-c0a6-4d90-f02b-428df245c085"
      },
      "source": [
        "p = []\n",
        "for i in range (0,100,2):\n",
        "  p.append(i)\n",
        "print(p)"
      ],
      "execution_count": null,
      "outputs": [
        {
          "output_type": "stream",
          "name": "stdout",
          "text": [
            "[0, 2, 4, 6, 8, 10, 12, 14, 16, 18, 20, 22, 24, 26, 28, 30, 32, 34, 36, 38, 40, 42, 44, 46, 48, 50, 52, 54, 56, 58, 60, 62, 64, 66, 68, 70, 72, 74, 76, 78, 80, 82, 84, 86, 88, 90, 92, 94, 96, 98]\n"
          ]
        }
      ]
    },
    {
      "cell_type": "markdown",
      "metadata": {
        "id": "YK3w6U43bRzH"
      },
      "source": [
        "Scrivere un programma che carichi in una lista tutti i numeri interi compresi tra due estremi inseriti dall’utente. Il programma deve poi caricare in un’altra lista tutti i multipli di tre presenti nella lista di partenza. Visualizzare al termine entrambe le liste."
      ]
    },
    {
      "cell_type": "code",
      "metadata": {
        "colab": {
          "base_uri": "https://localhost:8080/"
        },
        "id": "9fuM4c2KbSYh",
        "outputId": "2ab1ba55-d69e-4d34-a734-c314252657a7"
      },
      "source": [
        "ls = []\n",
        "ls1 = []\n",
        "x = int(input(\"Inserisci il primo estremo :\"))\n",
        "y = int(input(\"Inserisci il secondo estremo :\"))\n",
        "i = range(x, y)\n",
        "for n in i:\n",
        "  ls.append(n)\n",
        "  if n % 3==0:\n",
        "    ls1.append(n)\n",
        "\n",
        "print(ls1)\n",
        "print(ls)"
      ],
      "execution_count": null,
      "outputs": [
        {
          "output_type": "stream",
          "name": "stdout",
          "text": [
            "Inserisci il primo estremo :3\n",
            "Inserisci il secondo estremo :12\n",
            "[3, 6, 9]\n",
            "[3, 4, 5, 6, 7, 8, 9, 10, 11]\n"
          ]
        }
      ]
    },
    {
      "cell_type": "markdown",
      "metadata": {
        "id": "z_AndA2qbDGd"
      },
      "source": [
        "Scrivere un programma che permetta all’utente di caricare in una lista una sequenza di numeri che termina con lo 0. Al termine del caricamento, visualizzare la lista."
      ]
    },
    {
      "cell_type": "code",
      "metadata": {
        "colab": {
          "base_uri": "https://localhost:8080/"
        },
        "id": "YZqBHemZvzdT",
        "outputId": "ba5aad95-7557-48d8-9045-e9e561ed32ce"
      },
      "source": [
        "ls = []\n",
        "for i in range(0, 10):\n",
        "    n = int(input())\n",
        "    if (n % 10 == 0):\n",
        "      ls.append(n)\n",
        "print(ls)"
      ],
      "execution_count": null,
      "outputs": [
        {
          "output_type": "stream",
          "name": "stdout",
          "text": [
            "10\n",
            "20\n",
            "30\n",
            "4\n",
            "50\n",
            "60\n",
            "70\n",
            "90\n",
            "1\n",
            "21\n",
            "[10, 20, 30, 50, 60, 70, 90]\n"
          ]
        }
      ]
    },
    {
      "cell_type": "markdown",
      "metadata": {
        "id": "dyDhw0P4l7k3"
      },
      "source": [
        "Scrivere una funzione lambda chiamata incrementa(x) che incrementa la x di 10 unità. Scrivere poi un programma che carichi una lista di 20 numeri casuali (compresi tra 1 e 100) e applichi la funzione agli elementi della lista appena creata. Visualizzare al termine entrambe le liste."
      ]
    },
    {
      "cell_type": "code",
      "metadata": {
        "colab": {
          "base_uri": "https://localhost:8080/"
        },
        "id": "WdSPCS2RoY4I",
        "outputId": "31329d7a-b625-4c34-f54a-c43f93e2f37c"
      },
      "source": [
        "x = 10\n",
        "def incrementa(x):\n",
        "  x = x + 10\n",
        "  return x\n",
        "incrementa(x)"
      ],
      "execution_count": null,
      "outputs": [
        {
          "output_type": "execute_result",
          "data": {
            "text/plain": [
              "20"
            ]
          },
          "metadata": {},
          "execution_count": 111
        }
      ]
    },
    {
      "cell_type": "code",
      "metadata": {
        "colab": {
          "base_uri": "https://localhost:8080/"
        },
        "id": "4CfrxjWwl7Ko",
        "outputId": "5b865296-6dd4-4827-b884-3ac9ce716e92"
      },
      "source": [
        "import random\n",
        "lsR = []\n",
        "lsRi = []\n",
        "for i in range(0,20):\n",
        "  n = random.randint(1,100) # restituisce dei numeri random tra due estremi \n",
        "  lsR.append(n)\n",
        "  z = incrementa(n)\n",
        "  lsRi.append(z)\n",
        "\n",
        "print(\"lista originale \",lsR)\n",
        "print(\"lista incrementata \",lsRi)"
      ],
      "execution_count": null,
      "outputs": [
        {
          "output_type": "stream",
          "name": "stdout",
          "text": [
            "lista originale  [81, 71, 38, 41, 33, 92, 15, 83, 72, 23, 24, 43, 12, 26, 61, 12, 3, 17, 20, 60]\n",
            "lista incrementata  [91, 81, 48, 51, 43, 102, 25, 93, 82, 33, 34, 53, 22, 36, 71, 22, 13, 27, 30, 70]\n"
          ]
        }
      ]
    }
  ]
}