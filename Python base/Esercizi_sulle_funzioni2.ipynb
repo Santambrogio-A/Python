{
  "nbformat": 4,
  "nbformat_minor": 0,
  "metadata": {
    "colab": {
      "name": "Esercizi sulle funzioni2.ipynb",
      "provenance": [],
      "collapsed_sections": []
    },
    "kernelspec": {
      "name": "python3",
      "display_name": "Python 3"
    },
    "language_info": {
      "name": "python"
    }
  },
  "cells": [
    {
      "cell_type": "markdown",
      "metadata": {
        "id": "rcxEDEOIbv8x"
      },
      "source": [
        "1. scrivere una funzione chiamata max che dati due numeri restituisca il più grande. Scrivere poi un programma che, utilizzando la funzione creata, trovi il massimo tra tre numeri inseriti dall'utente. \n"
      ]
    },
    {
      "cell_type": "code",
      "metadata": {
        "colab": {
          "base_uri": "https://localhost:8080/"
        },
        "id": "50UEGCh_bozT",
        "outputId": "6c9f7da5-bcb5-4da2-c5ac-eca68d72a2fa"
      },
      "source": [
        "def max(n1,n2):\n",
        "    if n1 > n2 :\n",
        "     return n1\n",
        "    else:\n",
        "      return n2\n",
        "\n",
        "n1,n2,n3 = int(input(\"inserisci valore \")), int(input(\"inserisci valore \")),int(input(\"inserisci valore \"))\n",
        "ntot = max(n1,n2)\n",
        "max(ntot, n3)"
      ],
      "execution_count": 2,
      "outputs": [
        {
          "name": "stdout",
          "output_type": "stream",
          "text": [
            "inserisci valore 1\n",
            "inserisci valore 3\n",
            "inserisci valore 6\n"
          ]
        },
        {
          "output_type": "execute_result",
          "data": {
            "text/plain": [
              "6"
            ]
          },
          "metadata": {},
          "execution_count": 2
        }
      ]
    },
    {
      "cell_type": "markdown",
      "metadata": {
        "id": "NeWRoZ2Kbzi1"
      },
      "source": [
        "2. scrivere una funzione chiamata sommaLista che data una lista di interi restituisca la somma di tutti gli elementi della lista. Scrivere poi un programma che, utilizzando la funzione create, trovi la somma degli elementi di una lista inserita dall'utente. "
      ]
    },
    {
      "cell_type": "code",
      "metadata": {
        "colab": {
          "base_uri": "https://localhost:8080/"
        },
        "id": "WZmsa3KBbz2A",
        "outputId": "b144ad93-c13d-425c-f583-3f0a432a33f1"
      },
      "source": [
        "def sommaLista(lista1):\n",
        "  listSom = sum(lista1) # sum()fa la somma \n",
        "  print(listSom)\n",
        "\n",
        "lista1 = list(map(int, input(\"inserisci valori: \").split()))\n",
        "sommaLista(lista1)"
      ],
      "execution_count": 3,
      "outputs": [
        {
          "output_type": "stream",
          "name": "stdout",
          "text": [
            "inserisci valori: 1 3 4 5 7\n",
            "20\n"
          ]
        }
      ]
    },
    {
      "cell_type": "markdown",
      "metadata": {
        "id": "KRvou5_mb2VA"
      },
      "source": [
        "3. utilizzando le funzioni create precedentemente, scrivere un programma che permetta all'utente di inserire tre liste e di avere il valore massimo della somma degli elementi delle tre liste.\n"
      ]
    },
    {
      "cell_type": "code",
      "metadata": {
        "colab": {
          "base_uri": "https://localhost:8080/"
        },
        "id": "LjbyDpCRb2sY",
        "outputId": "0ce01af1-5aa8-42b4-e234-e5bd86594b1c"
      },
      "source": [
        "lista1,lista2,lista3 = list(map(int, input(\"inserisci valori: \").split())),list(map(int, input(\"inserisci valori: \").split())),list(map(int, input(\"inserisci valori: \").split()))\n",
        "SommaLista1 = sommaLista(lista1)\n",
        "SommaLista2 = sommaLista(lista2)\n",
        "SommaLista3 = sommaLista(lista3)\n",
        "Som = max(lista1,lista2)\n",
        "max(Som,lista3)"
      ],
      "execution_count": 4,
      "outputs": [
        {
          "output_type": "stream",
          "name": "stdout",
          "text": [
            "inserisci valori: 2 4 5\n",
            "inserisci valori: 3 7 2\n",
            "inserisci valori: 8 9 5\n",
            "11\n",
            "12\n",
            "22\n"
          ]
        },
        {
          "output_type": "execute_result",
          "data": {
            "text/plain": [
              "[8, 9, 5]"
            ]
          },
          "metadata": {},
          "execution_count": 4
        }
      ]
    },
    {
      "cell_type": "markdown",
      "metadata": {
        "id": "MamATdnfb5MI"
      },
      "source": [
        "4. scrivere una funzione chiamata controlla che dato un numero e due estremi restituisca True se il numero è compreso tra i due estremi, false altrimenti. Utilizzare poi la funzione per trovare il numero di elementi di una lista di numeri interi (inserita dall'utente) compresi tra due estremi (inseriti anch'essi dall'utente)\n",
        "\n"
      ]
    },
    {
      "cell_type": "code",
      "metadata": {
        "colab": {
          "base_uri": "https://localhost:8080/"
        },
        "id": "mYNKRsNFb6k4",
        "outputId": "9c76d220-0b14-4878-a2b0-39c948b11d1a"
      },
      "source": [
        "def Controlla(n1,e1,e2):\n",
        "  return n1 >= e1 and n1 <= e2\n",
        "\n",
        "e1,e2 = int(input(\"inserisci valore: \")), int(input(\"inserisci valore: \"))\n",
        "lista1 = list(map(int, input(\"inserisci valori: \").split()))\n",
        "n1 = 0\n",
        "for i in lista1:\n",
        "  n1 = i\n",
        "  print(Controlla(n1,e1,e2))"
      ],
      "execution_count": 5,
      "outputs": [
        {
          "output_type": "stream",
          "name": "stdout",
          "text": [
            "inserisci valore: 3\n",
            "inserisci valore: 20\n",
            "inserisci valori: 5 3 7 8 12 17 20 24\n",
            "True\n",
            "True\n",
            "True\n",
            "True\n",
            "True\n",
            "True\n",
            "True\n",
            "False\n"
          ]
        }
      ]
    },
    {
      "cell_type": "markdown",
      "metadata": {
        "id": "weGYnfkob7AA"
      },
      "source": [
        "5. utilizzare la funzione controlla creata precedentemente per scrivere un programma che, data una lista di numeri interi inserita  dall'utente, carichi in un'altra lista i numeri compresi tra due estremi inseriti anch'essi dall'utente."
      ]
    },
    {
      "cell_type": "code",
      "metadata": {
        "colab": {
          "base_uri": "https://localhost:8080/"
        },
        "id": "MjCgdHFFb8Qg",
        "outputId": "2e358a37-dda6-4e72-c6de-57859fdccc7c"
      },
      "source": [
        "e1,e2 = int(input(\"inserisci valore: \")), int(input(\"inserisci valore: \"))\n",
        "lista1 = list(map(int, input(\"inserisci valori: \").split()))\n",
        "lista2 = []\n",
        "n1 = 0\n",
        "for i in lista1:\n",
        "  n1 = i\n",
        "  if Controlla(n1,e1,e2) == True:\n",
        "    lista2.append(i)\n",
        "print(lista2)"
      ],
      "execution_count": 6,
      "outputs": [
        {
          "output_type": "stream",
          "name": "stdout",
          "text": [
            "inserisci valore: 3 \n",
            "inserisci valore: 35\n",
            "inserisci valori: 1 7 10 26 30 34 45\n",
            "[7, 10, 26, 30, 34]\n"
          ]
        }
      ]
    },
    {
      "cell_type": "markdown",
      "metadata": {
        "id": "_LF9LEvRb8pQ"
      },
      "source": [
        "6. scrivere una funzione chiamata confrontaListe che date due liste restituisca True se le due liste sono uguali, False altrimenti. Utilizzare poi la funzione in un programma che dica se una lista di interi è palindroma, cioè se può essere letta indifferentemente da sinistra a destra e da destra a sinistra. Ad esempio la lista [1, 2, 3, 4, 3, 2, 1] è palindroma, la lista [1, 2, 3, 4, 3,1, 2] non lo è.\n"
      ]
    },
    {
      "cell_type": "code",
      "metadata": {
        "colab": {
          "base_uri": "https://localhost:8080/"
        },
        "id": "GW-2Zyp2b-hA",
        "outputId": "df5f51e0-4ccc-44ab-b77c-4e5ebd5d39d0"
      },
      "source": [
        "def confrontaListe(lista1,lista2):\n",
        "  return lista1 == lista2\n",
        "\n",
        "lista1 = list(map(int,input(\"inserici numeri \").split()))\n",
        "lista2 = lista1[::-1]\n",
        "confrontaListe(lista1,lista2)"
      ],
      "execution_count": 8,
      "outputs": [
        {
          "name": "stdout",
          "output_type": "stream",
          "text": [
            "inserici numeri 3 4 5 6 5 4 6\n"
          ]
        },
        {
          "output_type": "execute_result",
          "data": {
            "text/plain": [
              "False"
            ]
          },
          "metadata": {},
          "execution_count": 8
        }
      ]
    },
    {
      "cell_type": "markdown",
      "metadata": {
        "id": "1dRAUoc-b-14"
      },
      "source": [
        "7. scrivere una funzione chiamata celsiusToFahrenheit che data una temperatura in gradi Celsius restituisca il valore convertito in gradi Fahrenheit (per ulteriori info, google it). Scrivere poi un programma che data una lista di temperature in gradi Celsius,inserita dall'utente, converta tutte le temperature in gradi Fahrenheit."
      ]
    },
    {
      "cell_type": "code",
      "metadata": {
        "colab": {
          "base_uri": "https://localhost:8080/"
        },
        "id": "SSunopXAcA1I",
        "outputId": "0cff6d6b-5eb4-4b0c-ad23-1d57db9d21b3"
      },
      "source": [
        "def CelsiusToFahrenheit(C):\n",
        "    F = (9/5) * C + 32\n",
        "    return F\n",
        "\n",
        "lista1 = list(map(int, input(\"inserisci valore\").split()))\n",
        "listaFinale = []\n",
        "for i in lista1:\n",
        "  listaFinale.append(CelsiusToFahrenheit(i))\n",
        "print(listaFinale)"
      ],
      "execution_count": 9,
      "outputs": [
        {
          "output_type": "stream",
          "name": "stdout",
          "text": [
            "inserisci valore20 30 35 27\n",
            "[68.0, 86.0, 95.0, 80.6]\n"
          ]
        }
      ]
    },
    {
      "cell_type": "markdown",
      "metadata": {
        "id": "z6jNBVFOcBUI"
      },
      "source": [
        "8. scrivere una funzione chiamata IMC che calcoli l'Indice di Massa Corporea a partire dal peso (in kg) e dall'altezza (in m). Utilizzare poi la funzione per scrivere un programma che date tre liste, contenente la prima una serie di nomi, la seconda una serie di pesi e la terza una serie di altezze, produca una quarta lista contenente i valori di IMC corrispondenti. Visualizzare poi i risultati nel seguente modo: \"<nome> pesa <peso kg, misura <altezza> m ed ha un IMC di <IMC>\" ( i valori nelle parentesi angolari vanno presi ovviamente dalle liste)"
      ]
    },
    {
      "cell_type": "code",
      "metadata": {
        "colab": {
          "base_uri": "https://localhost:8080/"
        },
        "id": "JZkvIjJOcD9I",
        "outputId": "3e9fd045-bfee-4762-b5d6-0f84517bc338"
      },
      "source": [
        "def IMC(kg,m):\n",
        " imc = kg/((m/100)*(m/100)) \n",
        " return imc \n",
        "listaNomi = list(map(str, input(\"inserisci valore \").split()))\n",
        "listaKili = list(map(int, input(\"inserisci valore \").split()))\n",
        "listaAltezze = list(map(int, input(\"inserisci valore \").split()))\n",
        "listaFinale = []\n",
        "\n",
        "for i in listaNomi,listaKili,listaAltezze:\n",
        "  listaFinale = list(map(IMC,listaKili,listaAltezze))\n",
        "print(listaNomi,\" pesa\", listaKili ,\"kg, misura \", listaAltezze ,\" m ed ha un IMC di \",listaFinale)"
      ],
      "execution_count": 10,
      "outputs": [
        {
          "output_type": "stream",
          "name": "stdout",
          "text": [
            "inserisci valorematteo\n",
            "inserisci valore70\n",
            "inserisci valore173\n",
            "['matteo']  pesa [70] kg, misura  [173]  m ed ha un IMC di  [23.38868655818771]\n"
          ]
        }
      ]
    },
    {
      "cell_type": "markdown",
      "metadata": {
        "id": "akKxkK7ocEdY"
      },
      "source": [
        "9: scrivere una lambda function per estrarre da una lista di numeri interi tutti i valori pari."
      ]
    },
    {
      "cell_type": "code",
      "metadata": {
        "colab": {
          "base_uri": "https://localhost:8080/"
        },
        "id": "7srzEZCzcGvA",
        "outputId": "3c033ec9-928e-4699-8fc3-f55ff32d3d60"
      },
      "source": [
        "lista1 = list(map(int, input(\"inserisci valore\").split()))\n",
        "listaFinale = list(filter(lambda x: x % 2 == 0, lista1)) # filter() estrae gli elementi quando sono true\n",
        "print(listaFinale)"
      ],
      "execution_count": 11,
      "outputs": [
        {
          "output_type": "stream",
          "name": "stdout",
          "text": [
            "inserisci valore3 4 5 6 7 8\n",
            "[4, 6, 8]\n"
          ]
        }
      ]
    }
  ]
}