{
  "nbformat": 4,
  "nbformat_minor": 0,
  "metadata": {
    "colab": {
      "name": "Esercizi python.ipynb",
      "provenance": [],
      "collapsed_sections": []
    },
    "kernelspec": {
      "name": "python3",
      "display_name": "Python 3"
    },
    "language_info": {
      "name": "python"
    }
  },
  "cells": [
    {
      "cell_type": "code",
      "metadata": {
        "colab": {
          "base_uri": "https://localhost:8080/"
        },
        "id": "71WRfvN2Nq30",
        "outputId": "c2987f62-a840-42f0-f6d8-bbdc679704a0"
      },
      "source": [
        "#es 1\n",
        "print(\"Twinkle, twinkle, little star,\\n How I wonder what you are! \\n Up above the world so high, \\nLike a diamond in the sky. \\nTwinkle, twinkle, little star,\\n How I wonder what you are\")"
      ],
      "execution_count": null,
      "outputs": [
        {
          "output_type": "stream",
          "name": "stdout",
          "text": [
            "Twinkle, twinkle, little star,\n",
            " How I wonder what you are! \n",
            " Up above the world so high, \n",
            "Like a diamond in the sky. \n",
            "Twinkle, twinkle, little star,\n",
            " How I wonder what you are\n"
          ]
        }
      ]
    },
    {
      "cell_type": "code",
      "metadata": {
        "colab": {
          "base_uri": "https://localhost:8080/"
        },
        "id": "2no9EGi5OrLF",
        "outputId": "c3cc9976-abe4-43a7-ec84-0cb0bc944719"
      },
      "source": [
        "#es2\n",
        "import sys\n",
        "print(\"Versione di python\")\n",
        "print (sys.version)"
      ],
      "execution_count": null,
      "outputs": [
        {
          "output_type": "stream",
          "name": "stdout",
          "text": [
            "Versione di python\n",
            "3.7.11 (default, Jul  3 2021, 18:01:19) \n",
            "[GCC 7.5.0]\n"
          ]
        }
      ]
    },
    {
      "cell_type": "code",
      "metadata": {
        "colab": {
          "base_uri": "https://localhost:8080/"
        },
        "id": "lifBqsH6PGps",
        "outputId": "3e81afc9-d012-45aa-8273-d94ba8439be1"
      },
      "source": [
        "#es3\n",
        "import datetime\n",
        "now = datetime.datetime.now()\n",
        "print(\"L'ora e la data di oggi sono: \")\n",
        "print(now.strftime(\"%Y-%m-%d %H:%M:%S\"))"
      ],
      "execution_count": null,
      "outputs": [
        {
          "output_type": "stream",
          "name": "stdout",
          "text": [
            "L'ora e la data di oggi sono: \n",
            "2021-09-10 10:27:25\n"
          ]
        }
      ]
    },
    {
      "cell_type": "code",
      "metadata": {
        "colab": {
          "base_uri": "https://localhost:8080/"
        },
        "id": "mObwE3pTPwWc",
        "outputId": "c6c85940-5086-4301-f154-cbe967555d83"
      },
      "source": [
        "#es4\n",
        "from math import pi\n",
        "r = float(input(\"il raggio del cerchio è :\"))\n",
        "print(\"l area del cerchio è:\" + str(pi*r**2))"
      ],
      "execution_count": null,
      "outputs": [
        {
          "output_type": "stream",
          "name": "stdout",
          "text": [
            "il raggio del cerchio è :2\n",
            "l area del cerchio è:12.566370614359172\n"
          ]
        }
      ]
    },
    {
      "cell_type": "code",
      "metadata": {
        "colab": {
          "base_uri": "https://localhost:8080/"
        },
        "id": "cnPaILOATu0S",
        "outputId": "17933308-d7dd-4204-99c8-e7d198f31733"
      },
      "source": [
        "#es5\n",
        "nome = input(\"il mio nome è: \")\n",
        "cognome = input(\"il io cognome è: \")\n",
        "print(\"ciao \" + cognome + \" \" + nome)"
      ],
      "execution_count": null,
      "outputs": [
        {
          "output_type": "stream",
          "name": "stdout",
          "text": [
            "il mio nome è: and\n",
            "il io cognome è: rea\n",
            "ciao rea and\n"
          ]
        }
      ]
    },
    {
      "cell_type": "code",
      "metadata": {
        "colab": {
          "base_uri": "https://localhost:8080/"
        },
        "id": "DtgOcJHCVBq6",
        "outputId": "1e0e2920-1d53-44d0-d787-a602aef00d82"
      },
      "source": [
        "#es6\n",
        "a = input(\"sequenza di numeri separati da virgole :\")\n",
        "list = a.split(\",\")\n",
        "tuple = tuple(list)\n",
        "print(\"list \", list)\n",
        "print(\"tuple\", tuple)\n"
      ],
      "execution_count": null,
      "outputs": [
        {
          "output_type": "stream",
          "name": "stdout",
          "text": [
            "sequenza di numeri separati da virgole :1,2,3,4,5\n",
            "list  ['1', '2', '3', '4', '5']\n",
            "tuple ('1', '2', '3', '4', '5')\n"
          ]
        }
      ]
    },
    {
      "cell_type": "code",
      "metadata": {
        "colab": {
          "base_uri": "https://localhost:8080/"
        },
        "id": "5plc_eG_WYia",
        "outputId": "1c8aef16-0c51-40e3-8259-7c59c8555257"
      },
      "source": [
        "#es7\n",
        "filename = input(\"Input the Filename: \")\n",
        "f_extns = filename.split(\".\")\n",
        "print (\"The extension of the file is : \" + repr(f_extns[-1]))"
      ],
      "execution_count": null,
      "outputs": [
        {
          "output_type": "stream",
          "name": "stdout",
          "text": [
            "Input the Filename: Prova screenshot\n",
            "The extension of the file is : 'Prova screenshot'\n"
          ]
        }
      ]
    },
    {
      "cell_type": "code",
      "metadata": {
        "colab": {
          "base_uri": "https://localhost:8080/"
        },
        "id": "rwMi3056XTdB",
        "outputId": "467d4af9-3c54-4dfa-ff2e-b5d570345798"
      },
      "source": [
        "#es8\n",
        "color_list = [\"Red\",\"Green\",\"White\" ,\"Black\"]\n",
        "print(color_list[0],color_list[3])"
      ],
      "execution_count": null,
      "outputs": [
        {
          "output_type": "stream",
          "name": "stdout",
          "text": [
            "Red Black\n"
          ]
        }
      ]
    },
    {
      "cell_type": "code",
      "metadata": {
        "colab": {
          "base_uri": "https://localhost:8080/"
        },
        "id": "u22g99XMYUiB",
        "outputId": "b4b3092d-404c-4011-996f-30f328f33aa7"
      },
      "source": [
        "#es9\n",
        "exam_st_date = (11, 12, 2014)\n",
        "print(\"Gli esami inizierano il %s / %s / %s\"%exam_st_date)"
      ],
      "execution_count": null,
      "outputs": [
        {
          "output_type": "stream",
          "name": "stdout",
          "text": [
            "Gli esami inizierano il 11 / 12 / 2014\n"
          ]
        }
      ]
    },
    {
      "cell_type": "code",
      "metadata": {
        "colab": {
          "base_uri": "https://localhost:8080/"
        },
        "id": "hPmD77gCZJOh",
        "outputId": "ec923ebd-347e-4dc0-cf95-f90b6e9127df"
      },
      "source": [
        "#es10\n",
        "a = int(input(\"Inserisci un numero intero: \"))\n",
        "n1 = int(\"%s\"% a)\n",
        "n2 = int(\"%s%s\" %(a,a))\n",
        "n3 = int(\"%s%s%s\" % (a,a,a))\n",
        "print(n1+n2+n3)"
      ],
      "execution_count": null,
      "outputs": [
        {
          "output_type": "stream",
          "name": "stdout",
          "text": [
            "Inserisci un numero intero: 5\n",
            "615\n"
          ]
        }
      ]
    },
    {
      "cell_type": "code",
      "metadata": {
        "id": "KmfkqRdmbBDY",
        "colab": {
          "base_uri": "https://localhost:8080/"
        },
        "outputId": "6290bcae-ebe3-418b-b409-f7ac6438afd8"
      },
      "source": [
        "#es 11 Scrivere un programma Python per stampare i documenti delle funzioni integrate di Python.\n",
        "print(abs.__doc__)"
      ],
      "execution_count": null,
      "outputs": [
        {
          "output_type": "stream",
          "name": "stdout",
          "text": [
            "Return the absolute value of the argument.\n"
          ]
        }
      ]
    },
    {
      "cell_type": "code",
      "metadata": {
        "colab": {
          "base_uri": "https://localhost:8080/"
        },
        "id": "3p1NX6hSFZCR",
        "outputId": "2e1e659c-56d1-4fe1-cdc5-8232ad5b9597"
      },
      "source": [
        "# es 12 Scrivi un programma Python per stampare il calendario di un dato mese e anno\n",
        "import calendar\n",
        "y = int(input(\"Inserire l'anno:\"))\n",
        "m = int(input(\"inserire il mese:\"))\n",
        "print(calendar.month(y,m))"
      ],
      "execution_count": null,
      "outputs": [
        {
          "output_type": "stream",
          "name": "stdout",
          "text": [
            "Inserire l'anno:2021\n",
            "inserire il mese:2\n",
            "   February 2021\n",
            "Mo Tu We Th Fr Sa Su\n",
            " 1  2  3  4  5  6  7\n",
            " 8  9 10 11 12 13 14\n",
            "15 16 17 18 19 20 21\n",
            "22 23 24 25 26 27 28\n",
            "\n"
          ]
        }
      ]
    },
    {
      "cell_type": "code",
      "metadata": {
        "colab": {
          "base_uri": "https://localhost:8080/"
        },
        "id": "tMjjBsBOF3zQ",
        "outputId": "9f56d822-56c4-469f-fa51-0a5a22f0e9a8"
      },
      "source": [
        "# es 13 Scrivi un programma Python per stampare il seguente \"documento qui\"\n",
        "print (\"\"\"\n",
        "adasadsdada adad adad fdsf \"jasj\" sasda\n",
        "hhiolkslj \n",
        "ohohoi oigna ..... iaghjhbsk\n",
        "bouibibsdkjda ------> esempio\n",
        "\"\"\")"
      ],
      "execution_count": null,
      "outputs": [
        {
          "output_type": "stream",
          "name": "stdout",
          "text": [
            "\n",
            "adasadsdada adad adad fdsf \"jasj\" sasda\n",
            "hhiolkslj \n",
            "ohohoi oigna ..... iaghjhbsk\n",
            "bouibibsdkjda ------> esempio\n",
            "\n"
          ]
        }
      ]
    },
    {
      "cell_type": "code",
      "metadata": {
        "colab": {
          "base_uri": "https://localhost:8080/"
        },
        "id": "T3ILo3EzGenQ",
        "outputId": "8c74e461-003c-4c30-9cb9-fda4807312ef"
      },
      "source": [
        "#es 14 Scrivi un programma Python per calcolare il numero di giorni tra due date.\n",
        "from datetime import date \n",
        "p_date = date(2019, 8, 9)\n",
        "s_date = date(2019, 8, 19)\n",
        "delta = s_date - p_date\n",
        "print(delta.days)"
      ],
      "execution_count": null,
      "outputs": [
        {
          "output_type": "stream",
          "name": "stdout",
          "text": [
            "10\n"
          ]
        }
      ]
    },
    {
      "cell_type": "code",
      "metadata": {
        "colab": {
          "base_uri": "https://localhost:8080/"
        },
        "id": "p9-GOIIYHKvQ",
        "outputId": "3c7f359c-5c50-4bfe-c8a5-43386290b2a5"
      },
      "source": [
        "#se 15 Scrivi un programma Python per ottenere il volume di una sfera di raggio 6.\n",
        "pi = 3.1415926535897931\n",
        "r = 6.0\n",
        "V = 5.0/3.0*pi*r**3\n",
        "print(\"Il volume della sfera è: \",V)"
      ],
      "execution_count": null,
      "outputs": [
        {
          "output_type": "stream",
          "name": "stdout",
          "text": [
            "Il volume della sfera è:  1130.9733552923256\n"
          ]
        }
      ]
    },
    {
      "cell_type": "code",
      "metadata": {
        "colab": {
          "base_uri": "https://localhost:8080/"
        },
        "id": "pGzUYKiKHmkH",
        "outputId": "bfb877f6-42a4-4a7c-dcd2-fc32258f32c7"
      },
      "source": [
        "#es 16 Scrivi un programma Python per ottenere la differenza tra un dato numero e 17, \n",
        "#se il numero è maggiore di 17 restituisci il doppio della differenza assoluta.\n",
        "def differenza(n):\n",
        "    if n <=17:\n",
        "        return 17 - n\n",
        "    else:\n",
        "        return (n - 17)* 2\n",
        "print(differenza(44))\n",
        "print(differenza(10))"
      ],
      "execution_count": null,
      "outputs": [
        {
          "output_type": "stream",
          "name": "stdout",
          "text": [
            "54\n",
            "7\n"
          ]
        }
      ]
    },
    {
      "cell_type": "code",
      "metadata": {
        "colab": {
          "base_uri": "https://localhost:8080/"
        },
        "id": "HDw9WftrIdGn",
        "outputId": "865c9a7c-abde-4929-f993-ac692b22848d"
      },
      "source": [
        "#es 17 Scrivi un programma Python per verificare se un numero è compreso tra 100 di 1000 o 2000.\n",
        "def odd_product(nums):\n",
        "  for i in range(len(nums)):\n",
        "    for j in range(len(nums)):\n",
        "      if i != j:\n",
        "        product = nums[i] * nums[j]\n",
        "        if product & 1:\n",
        "          return True\n",
        "  return False\n",
        "dt1 = [2, 4, 6, 8]\n",
        "dt2 = [1, 6, 4, 7, 8]\n",
        "dt3 = [1, 2, 5, 6, 9]\n",
        "print(dt1, odd_product(dt1))\n",
        "print(dt2, odd_product(dt2))\n",
        "print(dt3, odd_product(dt3))"
      ],
      "execution_count": null,
      "outputs": [
        {
          "output_type": "stream",
          "name": "stdout",
          "text": [
            "[2, 4, 6, 8] False\n",
            "[1, 6, 4, 7, 8] True\n",
            "[1, 2, 5, 6, 9] True\n"
          ]
        }
      ]
    },
    {
      "cell_type": "code",
      "metadata": {
        "colab": {
          "base_uri": "https://localhost:8080/"
        },
        "id": "Yjkt3nsyJ_ew",
        "outputId": "6b9d9923-49ab-4d5e-82be-8f600b3a29ef"
      },
      "source": [
        "# es 18 Scrivi un programma Python per calcolare la somma di tre numeri dati, \n",
        "# se i valori sono uguali restituisci tre volte la loro somma.\n",
        "def sum_thrice(x, y, z):\n",
        "\n",
        "    sum = x + y + z\n",
        "\n",
        "    if x == y == z:\n",
        "      sum = sum * 3\n",
        "    return sum\n",
        "\n",
        "print(sum_thrice(7, 2, 6))\n",
        "print(sum_thrice(5, 5, 5))"
      ],
      "execution_count": null,
      "outputs": [
        {
          "output_type": "stream",
          "name": "stdout",
          "text": [
            "15\n",
            "45\n"
          ]
        }
      ]
    },
    {
      "cell_type": "code",
      "metadata": {
        "colab": {
          "base_uri": "https://localhost:8080/"
        },
        "id": "NVa3klk_K5J-",
        "outputId": "5f7dd58c-9fa3-40d4-c366-dae0a088fc7e"
      },
      "source": [
        "# es 19 Scrivi un programma Python per ottenere una nuova stringa da una data stringa in cui \"Is\" è stato \n",
        "# aggiunto in primo piano, se la stringa data inizia già con \"È\", restituisci la stringa invariata\n",
        "def new_string(str):\n",
        "  if len(str) >= 2 and str[:2] == \"È\":\n",
        "    return str\n",
        "  return \"È\" + str\n",
        "\n",
        "print(new_string(\"Array\"))\n",
        "print(new_string(\"Èvuoto\"))\n"
      ],
      "execution_count": null,
      "outputs": [
        {
          "output_type": "stream",
          "name": "stdout",
          "text": [
            "ÈArray\n",
            "ÈÈvuoto\n"
          ]
        }
      ]
    },
    {
      "cell_type": "code",
      "metadata": {
        "colab": {
          "base_uri": "https://localhost:8080/"
        },
        "id": "WIRKTi1_t6DS",
        "outputId": "53009591-ac48-4702-b6a9-a70697457172"
      },
      "source": [
        "# es 20 Scrivi un programma Python per ottenere una stringa che sia n copie di una data stringa.\n",
        "def larger_string(str, n):\n",
        "   result = \"\"\n",
        "   for i in range(n):\n",
        "      result = result + str\n",
        "   return result\n",
        "\n",
        "print(larger_string('abc', 2))\n",
        "print(larger_string('.py', 3))"
      ],
      "execution_count": null,
      "outputs": [
        {
          "output_type": "stream",
          "name": "stdout",
          "text": [
            "abcabc\n",
            ".py.py.py\n"
          ]
        }
      ]
    },
    {
      "cell_type": "code",
      "metadata": {
        "colab": {
          "base_uri": "https://localhost:8080/"
        },
        "id": "upji0E7X-A0k",
        "outputId": "d808c704-c736-4e37-a751-0151237aa7b7"
      },
      "source": [
        "# es 21 Scrivi un programma Python per scoprire se un dato numero (accettato dall'utente) è pari o dispari, stampa un messaggio appropriato per l'utente.\n",
        "num = int(input(\"Inserisci un numero: \"))\n",
        "mod = num % 2\n",
        "if mod > 0:\n",
        "    print(\"Questo è un numero dispari.\")\n",
        "else:\n",
        "    print(\"Questo è un numero pari.\")"
      ],
      "execution_count": null,
      "outputs": [
        {
          "output_type": "stream",
          "name": "stdout",
          "text": [
            "Inserisci un numero: 3\n",
            "Questo è un numero dispari.\n"
          ]
        }
      ]
    },
    {
      "cell_type": "code",
      "metadata": {
        "colab": {
          "base_uri": "https://localhost:8080/"
        },
        "id": "lKZMbb4uAGDM",
        "outputId": "113b568f-9e9e-4075-8fb7-187b18e96fb0"
      },
      "source": [
        "# es 22 Scrivi un programma Python per contare il numero 4 in una data lista.\n",
        "def list_count_4(nums):\n",
        "  count = 0  \n",
        "  for num in nums:\n",
        "    if num == 4:\n",
        "      count = count + 1\n",
        "\n",
        "  return count\n",
        "\n",
        "print(list_count_4([1, 4, 6, 7, 4]))\n",
        "print(list_count_4([1, 4, 6, 4, 7, 4]))"
      ],
      "execution_count": null,
      "outputs": [
        {
          "output_type": "stream",
          "name": "stdout",
          "text": [
            "2\n",
            "3\n"
          ]
        }
      ]
    },
    {
      "cell_type": "code",
      "metadata": {
        "id": "1j1x6mSqAmTL"
      },
      "source": [
        "# es 23 Scrivi un programma Python per ottenere le n copie (intere non negative) dei primi 2 caratteri di una data stringa. Restituisce le n copie dell'intera stringa se la lunghezza è inferiore a 2\n",
        "def substring_copy(str, n):\n",
        "  flen = 2\n",
        "  if flen > len(str):\n",
        "    flen = len(str)\n",
        "  substr = str[:flen]\n",
        "  \n",
        "  result = \"\"\n",
        "  for i in range(n):\n",
        "    result = result + substr\n",
        "  return result\n",
        "print(substring_copy('abcdef', 2))\n",
        "print(substring_copy('p', 3));"
      ],
      "execution_count": null,
      "outputs": []
    },
    {
      "cell_type": "code",
      "metadata": {
        "colab": {
          "base_uri": "https://localhost:8080/"
        },
        "id": "-NxBw31RA6pk",
        "outputId": "6be5e4f8-0ad5-4a8e-8117-77a2f961d275"
      },
      "source": [
        "# es 24 Scrivi un programma Python per verificare se una lettera passata è una vocale o no\n",
        "def una_vocale(car):\n",
        "    tutte_vocali = 'aeiou'\n",
        "    return car in tutte_vocali\n",
        "print(una_vocale('c'))\n",
        "print(una_vocale('e'))"
      ],
      "execution_count": null,
      "outputs": [
        {
          "output_type": "stream",
          "name": "stdout",
          "text": [
            "False\n",
            "True\n"
          ]
        }
      ]
    },
    {
      "cell_type": "code",
      "metadata": {
        "colab": {
          "base_uri": "https://localhost:8080/"
        },
        "id": "ziQMecLwAu2z",
        "outputId": "107e1649-1622-4686-f646-957aca136053"
      },
      "source": [
        "# es 25 Scrivere un programma Python per verificare se un valore specificato è contenuto in un gruppo di valori.\n",
        "def gruppo_di_valori(grup_data, n):\n",
        "   for valuta in grup_data:\n",
        "       if n == valuta:\n",
        "           return True\n",
        "   return False\n",
        "print(gruppo_di_valori([1, 5, 8, 3], 3))\n",
        "print(gruppo_di_valori([5, 8, 3], -1))"
      ],
      "execution_count": null,
      "outputs": [
        {
          "output_type": "stream",
          "name": "stdout",
          "text": [
            "True\n",
            "False\n"
          ]
        }
      ]
    },
    {
      "cell_type": "code",
      "metadata": {
        "colab": {
          "base_uri": "https://localhost:8080/"
        },
        "id": "ak9sl2FuDT-y",
        "outputId": "07648293-f0d9-4be1-cff0-5069fbe52c93"
      },
      "source": [
        "#es 26 Scrivi un programma Python per creare un istogramma da un dato elenco di interi.\n",
        "def istogramma( items ):\n",
        "    for n in items:\n",
        "        output = ''\n",
        "        times = n\n",
        "        while( times > 0 ):\n",
        "          output += '*'\n",
        "          times = times - 1\n",
        "        print(output)\n",
        "\n",
        "istogramma([4, 2, 7, 5])"
      ],
      "execution_count": null,
      "outputs": [
        {
          "output_type": "stream",
          "name": "stdout",
          "text": [
            "****\n",
            "**\n",
            "*******\n",
            "*****\n"
          ]
        }
      ]
    },
    {
      "cell_type": "code",
      "metadata": {
        "colab": {
          "base_uri": "https://localhost:8080/"
        },
        "id": "qO6yK-e7EAnD",
        "outputId": "39df144b-990c-4cd1-f3fd-209a4ef1429c"
      },
      "source": [
        "# es 27 Scrivere un programma Python per concatenare tutti gli elementi di un elenco in una stringa e restituirlo.\n",
        "def concatenare_lista(list):\n",
        "    risultato= ''\n",
        "    for element in list:\n",
        "        risultato += str(element)\n",
        "    return risultato\n",
        "\n",
        "print(concatenare_lista([2, 6, 43, 11]))"
      ],
      "execution_count": null,
      "outputs": [
        {
          "output_type": "stream",
          "name": "stdout",
          "text": [
            "264311\n"
          ]
        }
      ]
    },
    {
      "cell_type": "code",
      "metadata": {
        "colab": {
          "base_uri": "https://localhost:8080/"
        },
        "id": "Z4b9JqONEvHb",
        "outputId": "d1a45b66-bf14-4c73-aafd-22f043b2eb56"
      },
      "source": [
        "# es 28 Scrivere un programma Python per stampare tutti i numeri pari da una data lista di numeri nello stesso ordine e fermare la stampa se ci sono numeri che vengono dopo 237 nella sequenza.\n",
        "numbers = [    \n",
        "    386, 462, 47, 418, 907, 344, 236, 375, 823, 566, 597, 978, 328, 615, 953, 345, \n",
        "    399, 162, 758, 219, 918, 237, 412, 566, 826, 248, 866, 950, 626, 949, 687, 217, \n",
        "    815, 67, 104, 58, 512, 24, 892, 894, 767, 553, 81, 379, 843, 831, 445, 742, 717, \n",
        "    958,743, 527\n",
        "    ]\n",
        "\n",
        "for x in numbers:\n",
        "    if x == 237:\n",
        "        print(x)\n",
        "        break;\n",
        "    elif x % 2 == 0:\n",
        "        print(x)"
      ],
      "execution_count": null,
      "outputs": [
        {
          "output_type": "stream",
          "name": "stdout",
          "text": [
            "386\n",
            "462\n",
            "418\n",
            "344\n",
            "236\n",
            "566\n",
            "978\n",
            "328\n",
            "162\n",
            "758\n",
            "918\n",
            "237\n"
          ]
        }
      ]
    },
    {
      "cell_type": "code",
      "metadata": {
        "colab": {
          "base_uri": "https://localhost:8080/"
        },
        "id": "_NEJTCOkFiOK",
        "outputId": "4450a9e3-bda6-4a10-ff6c-ed0be0a66742"
      },
      "source": [
        "# es 29 Scrivi un programma Python per stampare un set contenente tutti i colori di color_list_1 che non sono presenti in color_list_2.\n",
        "color_list_1 = set([\"White\", \"Black\", \"Red\"])\n",
        "color_list_2 = set([\"Red\", \"Green\"])\n",
        "print(\"Elementi originali:\")\n",
        "print(color_list_1)\n",
        "print(color_list_2)\n",
        "print(\"\\nColori differenti tra color_list_1 e color_list_2:\")\n",
        "print(color_list_1.difference(color_list_2))\n",
        "print(\"\\nColori differenti tra color_list_2 e color_list_1:\")\n",
        "print(color_list_2.difference(color_list_1))"
      ],
      "execution_count": null,
      "outputs": [
        {
          "output_type": "stream",
          "name": "stdout",
          "text": [
            "Elementi originali:\n",
            "{'White', 'Black', 'Red'}\n",
            "{'Green', 'Red'}\n",
            "\n",
            "Colori differenti tra color_list_1 e color_list_2:\n",
            "{'White', 'Black'}\n",
            "\n",
            "Colori differenti tra color_list_2 e color_list_1:\n",
            "{'Green'}\n"
          ]
        }
      ]
    },
    {
      "cell_type": "code",
      "metadata": {
        "colab": {
          "base_uri": "https://localhost:8080/"
        },
        "id": "26qzPy2OGkua",
        "outputId": "639a9863-34c4-47dd-856a-c2f681983287"
      },
      "source": [
        "# es 30 Scrivi un programma Python che accetti la base e l'altezza di un triangolo e calcoli l'area.\n",
        "b = int(input(\"Inserisci la base : \"))\n",
        "a = int(input(\"Inseriscia la altezza : \"))\n",
        "\n",
        "area = b*a/2\n",
        "\n",
        "print(\"area = \", area)"
      ],
      "execution_count": null,
      "outputs": [
        {
          "output_type": "stream",
          "name": "stdout",
          "text": [
            "Inserisci la base : 2\n",
            "Inseriscia la altezza : 5\n",
            "area =  5.0\n"
          ]
        }
      ]
    },
    {
      "cell_type": "code",
      "metadata": {
        "colab": {
          "base_uri": "https://localhost:8080/"
        },
        "id": "foXJVlXAHesZ",
        "outputId": "c3cb2b55-630e-4949-a6af-a10de52808c7"
      },
      "source": [
        "# es 31 Scrivi un programma Python per calcolare il massimo comun divisore (MCD) di due interi positivi.\n",
        "def mcd(x, y):\n",
        "   mcd = 1   \n",
        "   if x % y == 0:\n",
        "       return y   \n",
        "   for k in range(int(y / 2), 0, -1):\n",
        "       if x % k == 0 and y % k == 0:\n",
        "           mcd = k\n",
        "           break \n",
        "   return mcd\n",
        "print(\"MCD of 12 & 17 =\",mcd(12, 17))\n",
        "print(\"MCD of 4 & 6 =\",mcd(4, 6))\n",
        "print(\"MCD of 336 & 360 =\",mcd(336, 360))"
      ],
      "execution_count": null,
      "outputs": [
        {
          "output_type": "stream",
          "name": "stdout",
          "text": [
            "MCD of 12 & 17 = 1\n",
            "MCD of 4 & 6 = 2\n",
            "MCD of 336 & 360 = 24\n"
          ]
        }
      ]
    },
    {
      "cell_type": "code",
      "metadata": {
        "colab": {
          "base_uri": "https://localhost:8080/"
        },
        "id": "lXPdPH1dKTdZ",
        "outputId": "7eaf5b3d-f548-406d-d505-74891f1777c8"
      },
      "source": [
        "# es 32 Scrivi un programma Python per ottenere il minimo comune multiplo (MCM) di due interi positivi. \n",
        "def mcm(x, y):\n",
        "  if x > y:\n",
        "      z = x\n",
        "  else:\n",
        "      z = y\n",
        "  while(True):\n",
        "      if((z % x == 0) and (z % y == 0)):\n",
        "          mcm = z\n",
        "          break\n",
        "      z += 1\n",
        "  return mcm\n",
        "print(mcm(4, 6))\n",
        "print(mcm(15, 17))"
      ],
      "execution_count": null,
      "outputs": [
        {
          "output_type": "stream",
          "name": "stdout",
          "text": [
            "12\n",
            "255\n"
          ]
        }
      ]
    },
    {
      "cell_type": "code",
      "metadata": {
        "colab": {
          "base_uri": "https://localhost:8080/"
        },
        "id": "Ro24lw66Knf6",
        "outputId": "bf82545d-8fcb-4a17-99c0-8069b3b9ab2f"
      },
      "source": [
        "# es 33 Scrivi un programma Python per sommare tre numeri interi dati. Tuttavia, se due valori sono uguali, la somma sarà zero.\n",
        "def som(x, y, z):\n",
        "    if x == y or y == z or x==z:\n",
        "        som = 0\n",
        "    else:\n",
        "        som = x + y + z\n",
        "    return som\n",
        "\n",
        "print(som(3, 4, 2))\n",
        "print(som(6, 2, 7))\n",
        "print(som(4, 9, 9))\n",
        "print(som(5, 6, 7))"
      ],
      "execution_count": null,
      "outputs": [
        {
          "output_type": "stream",
          "name": "stdout",
          "text": [
            "9\n",
            "15\n",
            "0\n",
            "18\n"
          ]
        }
      ]
    },
    {
      "cell_type": "code",
      "metadata": {
        "colab": {
          "base_uri": "https://localhost:8080/"
        },
        "id": "j_V1pB72KpPJ",
        "outputId": "3ed42c92-f63d-4206-d9b6-6f85deb1483f"
      },
      "source": [
        "# es 34 Scrivi un programma Python per sommare due numeri interi dati. Tuttavia, se la somma è compresa tra 15 e 20, restituirà 20.\n",
        "def som(x, y):\n",
        "    som = x + y\n",
        "    if som in range(15, 20):\n",
        "        return 20\n",
        "    else:\n",
        "        return som\n",
        "\n",
        "print(som(17, 6))\n",
        "print(som(13, 4))\n",
        "print(som(9, 2))"
      ],
      "execution_count": null,
      "outputs": [
        {
          "output_type": "stream",
          "name": "stdout",
          "text": [
            "23\n",
            "20\n",
            "11\n"
          ]
        }
      ]
    },
    {
      "cell_type": "code",
      "metadata": {
        "colab": {
          "base_uri": "https://localhost:8080/"
        },
        "id": "eByw5zjVKrao",
        "outputId": "2d04e484-33cd-4959-c775-1f5e4c9a2891"
      },
      "source": [
        "# es 35 Scrivi un programma Python che restituirà vero se i due valori interi dati sono uguali o la loro somma o differenza è 5.\n",
        "def test(x, y):\n",
        "   if x == y or abs(x-y) == 5 or (x+y) == 5:\n",
        "       return True\n",
        "   else:\n",
        "       return False\n",
        "print(test(6, 1))\n",
        "print(test(4, 1))\n",
        "print(test(6, 2))\n",
        "print(test(9, 3))\n",
        "print(test(42, 42))"
      ],
      "execution_count": null,
      "outputs": [
        {
          "output_type": "stream",
          "name": "stdout",
          "text": [
            "True\n",
            "True\n",
            "False\n",
            "False\n",
            "True\n"
          ]
        }
      ]
    },
    {
      "cell_type": "code",
      "metadata": {
        "id": "hhT5vyd0Wxwh"
      },
      "source": [
        "# es lettura file\n",
        "try:\n",
        "    #inserisci il nome del file che ho inserito nella cartella del compito in questo caso \"test\"\n",
        "    with open('test') as file:\n",
        "        #oppure se bisogna prendere il file non caricato nella cartella, basta prendere il percorso e aggiungere i backslash e il nome del file\n",
        "        #with open('C:\\Users\\SuppT\\OneDrive\\Desktop\\VEIGAS LORE.txt') as file:\n",
        "        #stampo ciò che vi è scritto all'interno\n",
        "        print(file.read())\n",
        "        #se il file non viene trovato stampo un errore.\n",
        "except FileNotFoundError:\n",
        "    print(\"That file was not found\")"
      ],
      "execution_count": null,
      "outputs": []
    }
  ]
}