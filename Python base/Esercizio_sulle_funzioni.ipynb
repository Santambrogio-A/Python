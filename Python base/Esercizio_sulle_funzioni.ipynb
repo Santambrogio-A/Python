{
  "nbformat": 4,
  "nbformat_minor": 0,
  "metadata": {
    "colab": {
      "name": "Esercizio sulle funzioni.ipynb",
      "provenance": [],
      "collapsed_sections": []
    },
    "kernelspec": {
      "name": "python3",
      "display_name": "Python 3"
    },
    "language_info": {
      "name": "python"
    }
  },
  "cells": [
    {
      "cell_type": "markdown",
      "metadata": {
        "id": "KjXQEbHoXmsm"
      },
      "source": [
        "scrivere una funzione chiamata media che dati due numeri restituisca la media. Utilizzare poi la funzione in un programma che acquisisca dall'utente due numeri e calcoli la media"
      ]
    },
    {
      "cell_type": "code",
      "metadata": {
        "id": "uvWTfGvrXh4x"
      },
      "source": [
        "def media(n1,n2):\n",
        "  media = (n1 + n2) / 2\n",
        "  return (media)"
      ],
      "execution_count": null,
      "outputs": []
    },
    {
      "cell_type": "code",
      "metadata": {
        "colab": {
          "base_uri": "https://localhost:8080/"
        },
        "id": "V1kqZG6pjiKB",
        "outputId": "1c22dae5-09ee-4af1-d90c-a0b103c722bc"
      },
      "source": [
        "n1,n2 = int(input(\"inserisci valore \")), int(input(\"inserisci valore \"))\n",
        "media(n1,n2)"
      ],
      "execution_count": null,
      "outputs": [
        {
          "name": "stdout",
          "output_type": "stream",
          "text": [
            "inserisci valore 2\n",
            "inserisci valore 4\n"
          ]
        },
        {
          "output_type": "execute_result",
          "data": {
            "text/plain": [
              "3.0"
            ]
          },
          "metadata": {},
          "execution_count": 5
        }
      ]
    },
    {
      "cell_type": "markdown",
      "metadata": {
        "id": "cUkPGoLpXngF"
      },
      "source": [
        "scrivere una funzione chiamata piuCorta che date due liste restituisca la lista con meno elementi. Utilizzare poi la funzione in un programma che acquisisca dall'utente due liste e visualizzi gli elementi della lista più corta"
      ]
    },
    {
      "cell_type": "code",
      "metadata": {
        "id": "WrgpBgMeXn01",
        "colab": {
          "base_uri": "https://localhost:8080/"
        },
        "outputId": "f09d46b2-d81a-4872-bc33-4f4912702099"
      },
      "source": [
        "def piuCorta(lista1,lista2):\n",
        "  ListaCorta = len(lista1) > len(lista2)\n",
        "  if ListaCorta == True :\n",
        "    return lista2\n",
        "  else:\n",
        "    return lista1\n",
        "\n",
        "lista1 = list(map(int, input(\"inserisci lista: \").split())) #map applica una determinata funzione a ogni elemento\n",
        "lista2 = list(map(int, input(\"inserisci lista: \").split()))\n",
        "\n",
        "piuCorta(lista1,lista2)"
      ],
      "execution_count": null,
      "outputs": [
        {
          "name": "stdout",
          "output_type": "stream",
          "text": [
            "inserisci valori: 1 2 3 4 5 6\n",
            "inserisci valori: 1 2 3 4 \n"
          ]
        },
        {
          "output_type": "execute_result",
          "data": {
            "text/plain": [
              "[1, 2, 3, 4]"
            ]
          },
          "metadata": {},
          "execution_count": 6
        }
      ]
    },
    {
      "cell_type": "markdown",
      "metadata": {
        "id": "ef0lNDgXXqNt"
      },
      "source": [
        "scrivere una funzione chiamata costruisciLista che dati due numeri interi restituisca la lista formata da tutti i numeri interi compresi tra i due numeri dati. Utilizzare poi la funzione in un programma che acquisisca dall'utente due numeri e visualizzi la lista formata da tutti i numeri interi compresi tra i due numeri dati ma a partire dal più grande fino al più piccolo."
      ]
    },
    {
      "cell_type": "code",
      "metadata": {
        "id": "C5T4rHUQXqbF",
        "colab": {
          "base_uri": "https://localhost:8080/"
        },
        "outputId": "cbf2a35e-ac85-4410-90f1-2c3db38306d8"
      },
      "source": [
        "def costruisciLista(n1,n2):\n",
        "  listaFinale = [i for i in range(n1,n2)]\n",
        "  listaFinale.sort(reverse=True)\n",
        "  print(listaFinale)\n",
        "\n",
        "n1,n2 = int(input(\"inserisci il primo valore: \")), int(input(\"inserisci il secondo valore: \"))\n",
        "costruisciLista(n1,n2)"
      ],
      "execution_count": null,
      "outputs": [
        {
          "output_type": "stream",
          "name": "stdout",
          "text": [
            "inserisci valore: 2\n",
            "inserisci valore: 9\n",
            "[8, 7, 6, 5, 4, 3, 2]\n"
          ]
        }
      ]
    },
    {
      "cell_type": "markdown",
      "metadata": {
        "id": "_bEyY3KNXsTV"
      },
      "source": [
        "scrivere una funzione chiamata valoreAssoluto che dato un numero restituisca il suo valore assoluto. Utilizzare poi questa funzione per determinare il valore assoluto degli elementi di una lista inserita dall'utente."
      ]
    },
    {
      "cell_type": "code",
      "metadata": {
        "id": "S1JxrsNnXtyt",
        "colab": {
          "base_uri": "https://localhost:8080/"
        },
        "outputId": "48d87824-3017-4d5a-bb9d-4319e796b28c"
      },
      "source": [
        "def valoreAssoluto(n1):\n",
        "  nAssoluto = abs(n1) #abs restituisce il numero assoluto\n",
        "  return nAssoluto\n",
        "\n",
        "lista1 = list(map(int, input(\"inserisci valori: \").split()))\n",
        "lista2 = list(map(valoreAssoluto,lista1))\n",
        "print(lista2)"
      ],
      "execution_count": null,
      "outputs": [
        {
          "output_type": "stream",
          "name": "stdout",
          "text": [
            "inserisci valori: -1 -7 -5\n",
            "[1, 7, 5]\n"
          ]
        }
      ]
    },
    {
      "cell_type": "markdown",
      "metadata": {
        "id": "ftR1BuWAXvim"
      },
      "source": [
        "scrivere una funzione chiamata scambia che data una lista scambi il primo elemento con l'ultimo, il secondo con il penultimo e così via. Utilizzare poi la funzione in un programma che acquisisca dall'utente una lista di 10 elementi e li visualizzi scambiati."
      ]
    },
    {
      "cell_type": "code",
      "metadata": {
        "id": "tKea5OrnXwE-"
      },
      "source": [
        ""
      ],
      "execution_count": null,
      "outputs": []
    },
    {
      "cell_type": "markdown",
      "metadata": {
        "id": "IewO4-R-XwoO"
      },
      "source": [
        "scrivere una funzione lambda che dati due numeri calcoli la loro somma. Utilizzare la funzione in un programma che chieda all'utente due numeri interi e visualizzi la loro somma."
      ]
    },
    {
      "cell_type": "code",
      "metadata": {
        "id": "8TfcRHStXy9-"
      },
      "source": [
        "n1,n2 = int(input(\"inserisci numero \")), int(input(\"inserisci numero \"))\n",
        "\n",
        "Risultato = lambda n1,n2: n1 + n2\n",
        "print(Risultato(n1,n2))"
      ],
      "execution_count": null,
      "outputs": []
    },
    {
      "cell_type": "markdown",
      "metadata": {
        "id": "Uder5IybXzVO"
      },
      "source": [
        "scrivere un programma che utilizzi una lambda function per aumentare di 10 unità tutti gli elementi di una lista di interi inserita dall'utente."
      ]
    },
    {
      "cell_type": "code",
      "metadata": {
        "id": "N-seBYvZX1R2"
      },
      "source": [
        "lista1 = list(map(int, input(\"inserisci valori: \").split()))\n",
        "lista2 = []\n",
        "for i in lista1 : \n",
        " Risultato = lambda i: i + 10\n",
        " lista2.append(Risultato(i))\n",
        "print(lista2)"
      ],
      "execution_count": null,
      "outputs": []
    },
    {
      "cell_type": "markdown",
      "metadata": {
        "id": "Av0FIcftX1qu"
      },
      "source": [
        "scrivere una funzione lambda che sostituisca il valore 0 se il parametro è negativo, il valore del parametro se è positivo. Utilizzare poi la funzione in un programma che chieda all'utente i 10 elementi di una lista e visualizzi la lista con il valore 0 al posto dei numeri negativi."
      ]
    },
    {
      "cell_type": "code",
      "metadata": {
        "id": "t2Xw0FypX3ne",
        "colab": {
          "base_uri": "https://localhost:8080/"
        },
        "outputId": "1f06676e-ea8d-4465-9cae-af90e0ccabc6"
      },
      "source": [
        "lista1 = list(map(int, input(\"inserisci valori: \").split()))\n",
        "Risultato = list(map(lambda x: x if x > 0 else 0, lista1))\n",
        "print(Risultato)"
      ],
      "execution_count": null,
      "outputs": [
        {
          "output_type": "stream",
          "name": "stdout",
          "text": [
            "inserisci valori: -20 -40 -50 10\n",
            "[0, 0, 0, 10]\n"
          ]
        }
      ]
    },
    {
      "cell_type": "markdown",
      "metadata": {
        "id": "k22_lK4oX39u"
      },
      "source": [
        "scrivere un programma che calcoli il fattoriale di un numero utilizzando una lambda function. Provare a realizzare una lambda function ricorsiva (per la ricorsione, google it...)"
      ]
    },
    {
      "cell_type": "code",
      "metadata": {
        "id": "8Vvvm99RX5du"
      },
      "source": [
        ""
      ],
      "execution_count": null,
      "outputs": []
    }
  ]
}