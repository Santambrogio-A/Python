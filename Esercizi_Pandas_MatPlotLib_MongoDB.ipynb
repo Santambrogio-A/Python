{
  "nbformat": 4,
  "nbformat_minor": 0,
  "metadata": {
    "colab": {
      "name": "Esercizi Pandas/MatPlotLib/MongoDB.ipynb",
      "provenance": [],
      "collapsed_sections": []
    },
    "kernelspec": {
      "name": "python3",
      "display_name": "Python 3"
    },
    "language_info": {
      "name": "python"
    }
  },
  "cells": [
    {
      "cell_type": "code",
      "metadata": {
        "id": "YoKyiOlNwt1D"
      },
      "source": [
        "import pandas as pd\n",
        "import numpy as np\n",
        "import matplotlib.pyplot as plt"
      ],
      "execution_count": 1,
      "outputs": []
    },
    {
      "cell_type": "markdown",
      "metadata": {
        "id": "DpA7QmT5xpo2"
      },
      "source": [
        "1. Si colleghi al proprio database"
      ]
    },
    {
      "cell_type": "code",
      "metadata": {
        "id": "logV0_Lgxp92"
      },
      "source": [
        ""
      ],
      "execution_count": 1,
      "outputs": []
    },
    {
      "cell_type": "markdown",
      "metadata": {
        "id": "VjUXCw-zxov-"
      },
      "source": [
        "2. Crei un dataframe Pandas contenente le informazioni presenti nella collection"
      ]
    },
    {
      "cell_type": "code",
      "metadata": {
        "colab": {
          "base_uri": "https://localhost:8080/",
          "height": 424
        },
        "id": "_qs-3GxQxRKW",
        "outputId": "f8c1362c-6a03-4596-cd4d-fb03be6507f7"
      },
      "source": [
        "df = pd.read_csv(\"https://raw.githubusercontent.com/wtitze/4E/main/ristoranti.csv\")\n",
        "df"
      ],
      "execution_count": 2,
      "outputs": [
        {
          "output_type": "execute_result",
          "data": {
            "text/html": [
              "<div>\n",
              "<style scoped>\n",
              "    .dataframe tbody tr th:only-of-type {\n",
              "        vertical-align: middle;\n",
              "    }\n",
              "\n",
              "    .dataframe tbody tr th {\n",
              "        vertical-align: top;\n",
              "    }\n",
              "\n",
              "    .dataframe thead th {\n",
              "        text-align: right;\n",
              "    }\n",
              "</style>\n",
              "<table border=\"1\" class=\"dataframe\">\n",
              "  <thead>\n",
              "    <tr style=\"text-align: right;\">\n",
              "      <th></th>\n",
              "      <th>N</th>\n",
              "      <th>address</th>\n",
              "      <th>borough</th>\n",
              "      <th>cuisine</th>\n",
              "      <th>grades</th>\n",
              "      <th>name</th>\n",
              "      <th>restaurant_id</th>\n",
              "    </tr>\n",
              "  </thead>\n",
              "  <tbody>\n",
              "    <tr>\n",
              "      <th>0</th>\n",
              "      <td>0</td>\n",
              "      <td>{'building': '8825', 'coord': [-73.8803827, 40...</td>\n",
              "      <td>Queens</td>\n",
              "      <td>American</td>\n",
              "      <td>[{'date': datetime.datetime(2014, 11, 15, 0, 0...</td>\n",
              "      <td>Brunos On The Boulevard</td>\n",
              "      <td>40356151</td>\n",
              "    </tr>\n",
              "    <tr>\n",
              "      <th>1</th>\n",
              "      <td>1</td>\n",
              "      <td>{'building': '156-71', 'coord': [-73.840437, 4...</td>\n",
              "      <td>Queens</td>\n",
              "      <td>Pizza/Italian</td>\n",
              "      <td>[{'date': datetime.datetime(2014, 10, 29, 0, 0...</td>\n",
              "      <td>New Park Pizzeria &amp; Restaurant</td>\n",
              "      <td>40364744</td>\n",
              "    </tr>\n",
              "    <tr>\n",
              "      <th>2</th>\n",
              "      <td>2</td>\n",
              "      <td>{'building': '6409', 'coord': [-74.00528899999...</td>\n",
              "      <td>Brooklyn</td>\n",
              "      <td>American</td>\n",
              "      <td>[{'date': datetime.datetime(2014, 7, 18, 0, 0)...</td>\n",
              "      <td>Regina Caterers</td>\n",
              "      <td>40356649</td>\n",
              "    </tr>\n",
              "    <tr>\n",
              "      <th>3</th>\n",
              "      <td>3</td>\n",
              "      <td>{'building': '2491', 'coord': [-74.1459332, 40...</td>\n",
              "      <td>Staten Island</td>\n",
              "      <td>Delicatessen</td>\n",
              "      <td>[{'date': datetime.datetime(2015, 1, 9, 0, 0),...</td>\n",
              "      <td>Bagels N Buns</td>\n",
              "      <td>40363427</td>\n",
              "    </tr>\n",
              "    <tr>\n",
              "      <th>4</th>\n",
              "      <td>4</td>\n",
              "      <td>{'building': '56', 'coord': [-74.004758, 40.74...</td>\n",
              "      <td>Manhattan</td>\n",
              "      <td>American</td>\n",
              "      <td>[{'date': datetime.datetime(2014, 6, 10, 0, 0)...</td>\n",
              "      <td>Old Homestead</td>\n",
              "      <td>40364715</td>\n",
              "    </tr>\n",
              "    <tr>\n",
              "      <th>...</th>\n",
              "      <td>...</td>\n",
              "      <td>...</td>\n",
              "      <td>...</td>\n",
              "      <td>...</td>\n",
              "      <td>...</td>\n",
              "      <td>...</td>\n",
              "      <td>...</td>\n",
              "    </tr>\n",
              "    <tr>\n",
              "      <th>25354</th>\n",
              "      <td>25354</td>\n",
              "      <td>{'building': 'ONE', 'coord': [-81.664363600000...</td>\n",
              "      <td>Queens</td>\n",
              "      <td>Other</td>\n",
              "      <td>[]</td>\n",
              "      <td>Camden Food Express</td>\n",
              "      <td>50018316</td>\n",
              "    </tr>\n",
              "    <tr>\n",
              "      <th>25355</th>\n",
              "      <td>25355</td>\n",
              "      <td>{'building': '700', 'coord': [-73.988230600000...</td>\n",
              "      <td>Manhattan</td>\n",
              "      <td>Other</td>\n",
              "      <td>[]</td>\n",
              "      <td>Wooly'S Nyc</td>\n",
              "      <td>50018495</td>\n",
              "    </tr>\n",
              "    <tr>\n",
              "      <th>25356</th>\n",
              "      <td>25356</td>\n",
              "      <td>{'building': '2144', 'coord': [-73.9552561, 40...</td>\n",
              "      <td>Manhattan</td>\n",
              "      <td>Other</td>\n",
              "      <td>[]</td>\n",
              "      <td>Rafi 786</td>\n",
              "      <td>50018553</td>\n",
              "    </tr>\n",
              "    <tr>\n",
              "      <th>25357</th>\n",
              "      <td>25357</td>\n",
              "      <td>{'building': '1448', 'coord': [-73.93032629999...</td>\n",
              "      <td>Brooklyn</td>\n",
              "      <td>Other</td>\n",
              "      <td>[]</td>\n",
              "      <td>NaN</td>\n",
              "      <td>50018721</td>\n",
              "    </tr>\n",
              "    <tr>\n",
              "      <th>25358</th>\n",
              "      <td>25358</td>\n",
              "      <td>{'building': '167', 'coord': [-73.9833565, 40....</td>\n",
              "      <td>Manhattan</td>\n",
              "      <td>Other</td>\n",
              "      <td>[]</td>\n",
              "      <td>Buttercup Bake Shop</td>\n",
              "      <td>50018710</td>\n",
              "    </tr>\n",
              "  </tbody>\n",
              "</table>\n",
              "<p>25359 rows × 7 columns</p>\n",
              "</div>"
            ],
            "text/plain": [
              "           N  ... restaurant_id\n",
              "0          0  ...      40356151\n",
              "1          1  ...      40364744\n",
              "2          2  ...      40356649\n",
              "3          3  ...      40363427\n",
              "4          4  ...      40364715\n",
              "...      ...  ...           ...\n",
              "25354  25354  ...      50018316\n",
              "25355  25355  ...      50018495\n",
              "25356  25356  ...      50018553\n",
              "25357  25357  ...      50018721\n",
              "25358  25358  ...      50018710\n",
              "\n",
              "[25359 rows x 7 columns]"
            ]
          },
          "metadata": {},
          "execution_count": 2
        }
      ]
    },
    {
      "cell_type": "markdown",
      "metadata": {
        "id": "J_i9YThWxs3m"
      },
      "source": [
        "3. Elimini tutte le colonne ad esclusione di ‘borough’, ‘cuisine’ e ‘name’"
      ]
    },
    {
      "cell_type": "code",
      "metadata": {
        "colab": {
          "base_uri": "https://localhost:8080/",
          "height": 424
        },
        "id": "xLPxU7BJxxi2",
        "outputId": "ce122a35-e33b-4f49-efea-f3391ac741cb"
      },
      "source": [
        "df.drop(df.columns.difference([\"borough\",\"cuisine\",\"name\"]),1, inplace = True)\n",
        "df"
      ],
      "execution_count": 3,
      "outputs": [
        {
          "output_type": "execute_result",
          "data": {
            "text/html": [
              "<div>\n",
              "<style scoped>\n",
              "    .dataframe tbody tr th:only-of-type {\n",
              "        vertical-align: middle;\n",
              "    }\n",
              "\n",
              "    .dataframe tbody tr th {\n",
              "        vertical-align: top;\n",
              "    }\n",
              "\n",
              "    .dataframe thead th {\n",
              "        text-align: right;\n",
              "    }\n",
              "</style>\n",
              "<table border=\"1\" class=\"dataframe\">\n",
              "  <thead>\n",
              "    <tr style=\"text-align: right;\">\n",
              "      <th></th>\n",
              "      <th>borough</th>\n",
              "      <th>cuisine</th>\n",
              "      <th>name</th>\n",
              "    </tr>\n",
              "  </thead>\n",
              "  <tbody>\n",
              "    <tr>\n",
              "      <th>0</th>\n",
              "      <td>Queens</td>\n",
              "      <td>American</td>\n",
              "      <td>Brunos On The Boulevard</td>\n",
              "    </tr>\n",
              "    <tr>\n",
              "      <th>1</th>\n",
              "      <td>Queens</td>\n",
              "      <td>Pizza/Italian</td>\n",
              "      <td>New Park Pizzeria &amp; Restaurant</td>\n",
              "    </tr>\n",
              "    <tr>\n",
              "      <th>2</th>\n",
              "      <td>Brooklyn</td>\n",
              "      <td>American</td>\n",
              "      <td>Regina Caterers</td>\n",
              "    </tr>\n",
              "    <tr>\n",
              "      <th>3</th>\n",
              "      <td>Staten Island</td>\n",
              "      <td>Delicatessen</td>\n",
              "      <td>Bagels N Buns</td>\n",
              "    </tr>\n",
              "    <tr>\n",
              "      <th>4</th>\n",
              "      <td>Manhattan</td>\n",
              "      <td>American</td>\n",
              "      <td>Old Homestead</td>\n",
              "    </tr>\n",
              "    <tr>\n",
              "      <th>...</th>\n",
              "      <td>...</td>\n",
              "      <td>...</td>\n",
              "      <td>...</td>\n",
              "    </tr>\n",
              "    <tr>\n",
              "      <th>25354</th>\n",
              "      <td>Queens</td>\n",
              "      <td>Other</td>\n",
              "      <td>Camden Food Express</td>\n",
              "    </tr>\n",
              "    <tr>\n",
              "      <th>25355</th>\n",
              "      <td>Manhattan</td>\n",
              "      <td>Other</td>\n",
              "      <td>Wooly'S Nyc</td>\n",
              "    </tr>\n",
              "    <tr>\n",
              "      <th>25356</th>\n",
              "      <td>Manhattan</td>\n",
              "      <td>Other</td>\n",
              "      <td>Rafi 786</td>\n",
              "    </tr>\n",
              "    <tr>\n",
              "      <th>25357</th>\n",
              "      <td>Brooklyn</td>\n",
              "      <td>Other</td>\n",
              "      <td>NaN</td>\n",
              "    </tr>\n",
              "    <tr>\n",
              "      <th>25358</th>\n",
              "      <td>Manhattan</td>\n",
              "      <td>Other</td>\n",
              "      <td>Buttercup Bake Shop</td>\n",
              "    </tr>\n",
              "  </tbody>\n",
              "</table>\n",
              "<p>25359 rows × 3 columns</p>\n",
              "</div>"
            ],
            "text/plain": [
              "             borough        cuisine                            name\n",
              "0             Queens       American         Brunos On The Boulevard\n",
              "1             Queens  Pizza/Italian  New Park Pizzeria & Restaurant\n",
              "2           Brooklyn       American                 Regina Caterers\n",
              "3      Staten Island   Delicatessen                   Bagels N Buns\n",
              "4          Manhattan       American                   Old Homestead\n",
              "...              ...            ...                             ...\n",
              "25354         Queens          Other             Camden Food Express\n",
              "25355      Manhattan          Other                    Wooly'S Nyc \n",
              "25356      Manhattan          Other                        Rafi 786\n",
              "25357       Brooklyn          Other                             NaN\n",
              "25358      Manhattan          Other             Buttercup Bake Shop\n",
              "\n",
              "[25359 rows x 3 columns]"
            ]
          },
          "metadata": {},
          "execution_count": 3
        }
      ]
    },
    {
      "cell_type": "markdown",
      "metadata": {
        "id": "o7q0EgWG1ZF9"
      },
      "source": [
        "4. Conti il numero di ristoranti che hanno ‘Missing’ come quartiere"
      ]
    },
    {
      "cell_type": "code",
      "metadata": {
        "colab": {
          "base_uri": "https://localhost:8080/"
        },
        "id": "OsvjdCPf1Wuu",
        "outputId": "4f00b0a6-4518-4fba-e47c-6a8318f85317"
      },
      "source": [
        "df[df[\"borough\"]== \"Missing\"].count()[\"borough\"]"
      ],
      "execution_count": 4,
      "outputs": [
        {
          "output_type": "execute_result",
          "data": {
            "text/plain": [
              "51"
            ]
          },
          "metadata": {},
          "execution_count": 4
        }
      ]
    },
    {
      "cell_type": "markdown",
      "metadata": {
        "id": "V5DcTn1_2MHG"
      },
      "source": [
        "5. Sostituisca alla parola ‘Missing’ il valore null"
      ]
    },
    {
      "cell_type": "code",
      "metadata": {
        "colab": {
          "base_uri": "https://localhost:8080/",
          "height": 424
        },
        "id": "f6MYaYQX2LsW",
        "outputId": "7ae55359-ddda-4cbc-c942-faf7c93a3377"
      },
      "source": [
        "df.replace(\"Missing\", np.nan, inplace= True)\n",
        "df"
      ],
      "execution_count": 5,
      "outputs": [
        {
          "output_type": "execute_result",
          "data": {
            "text/html": [
              "<div>\n",
              "<style scoped>\n",
              "    .dataframe tbody tr th:only-of-type {\n",
              "        vertical-align: middle;\n",
              "    }\n",
              "\n",
              "    .dataframe tbody tr th {\n",
              "        vertical-align: top;\n",
              "    }\n",
              "\n",
              "    .dataframe thead th {\n",
              "        text-align: right;\n",
              "    }\n",
              "</style>\n",
              "<table border=\"1\" class=\"dataframe\">\n",
              "  <thead>\n",
              "    <tr style=\"text-align: right;\">\n",
              "      <th></th>\n",
              "      <th>borough</th>\n",
              "      <th>cuisine</th>\n",
              "      <th>name</th>\n",
              "    </tr>\n",
              "  </thead>\n",
              "  <tbody>\n",
              "    <tr>\n",
              "      <th>0</th>\n",
              "      <td>Queens</td>\n",
              "      <td>American</td>\n",
              "      <td>Brunos On The Boulevard</td>\n",
              "    </tr>\n",
              "    <tr>\n",
              "      <th>1</th>\n",
              "      <td>Queens</td>\n",
              "      <td>Pizza/Italian</td>\n",
              "      <td>New Park Pizzeria &amp; Restaurant</td>\n",
              "    </tr>\n",
              "    <tr>\n",
              "      <th>2</th>\n",
              "      <td>Brooklyn</td>\n",
              "      <td>American</td>\n",
              "      <td>Regina Caterers</td>\n",
              "    </tr>\n",
              "    <tr>\n",
              "      <th>3</th>\n",
              "      <td>Staten Island</td>\n",
              "      <td>Delicatessen</td>\n",
              "      <td>Bagels N Buns</td>\n",
              "    </tr>\n",
              "    <tr>\n",
              "      <th>4</th>\n",
              "      <td>Manhattan</td>\n",
              "      <td>American</td>\n",
              "      <td>Old Homestead</td>\n",
              "    </tr>\n",
              "    <tr>\n",
              "      <th>...</th>\n",
              "      <td>...</td>\n",
              "      <td>...</td>\n",
              "      <td>...</td>\n",
              "    </tr>\n",
              "    <tr>\n",
              "      <th>25354</th>\n",
              "      <td>Queens</td>\n",
              "      <td>Other</td>\n",
              "      <td>Camden Food Express</td>\n",
              "    </tr>\n",
              "    <tr>\n",
              "      <th>25355</th>\n",
              "      <td>Manhattan</td>\n",
              "      <td>Other</td>\n",
              "      <td>Wooly'S Nyc</td>\n",
              "    </tr>\n",
              "    <tr>\n",
              "      <th>25356</th>\n",
              "      <td>Manhattan</td>\n",
              "      <td>Other</td>\n",
              "      <td>Rafi 786</td>\n",
              "    </tr>\n",
              "    <tr>\n",
              "      <th>25357</th>\n",
              "      <td>Brooklyn</td>\n",
              "      <td>Other</td>\n",
              "      <td>NaN</td>\n",
              "    </tr>\n",
              "    <tr>\n",
              "      <th>25358</th>\n",
              "      <td>Manhattan</td>\n",
              "      <td>Other</td>\n",
              "      <td>Buttercup Bake Shop</td>\n",
              "    </tr>\n",
              "  </tbody>\n",
              "</table>\n",
              "<p>25359 rows × 3 columns</p>\n",
              "</div>"
            ],
            "text/plain": [
              "             borough        cuisine                            name\n",
              "0             Queens       American         Brunos On The Boulevard\n",
              "1             Queens  Pizza/Italian  New Park Pizzeria & Restaurant\n",
              "2           Brooklyn       American                 Regina Caterers\n",
              "3      Staten Island   Delicatessen                   Bagels N Buns\n",
              "4          Manhattan       American                   Old Homestead\n",
              "...              ...            ...                             ...\n",
              "25354         Queens          Other             Camden Food Express\n",
              "25355      Manhattan          Other                    Wooly'S Nyc \n",
              "25356      Manhattan          Other                        Rafi 786\n",
              "25357       Brooklyn          Other                             NaN\n",
              "25358      Manhattan          Other             Buttercup Bake Shop\n",
              "\n",
              "[25359 rows x 3 columns]"
            ]
          },
          "metadata": {},
          "execution_count": 5
        }
      ]
    },
    {
      "cell_type": "markdown",
      "metadata": {
        "id": "yly_V97z4GPm"
      },
      "source": [
        "6. Elimini dal dataframe tutti i ristoranti di cui non si conosce il quartiere"
      ]
    },
    {
      "cell_type": "code",
      "metadata": {
        "id": "VCsa6IJl4Jp9"
      },
      "source": [
        "df.dropna(subset=[\"borough\"], inplace = True)"
      ],
      "execution_count": 6,
      "outputs": []
    },
    {
      "cell_type": "markdown",
      "metadata": {
        "id": "W5KZ6dt86EoO"
      },
      "source": [
        "7. Calcoli il numero di ristoranti per ogni cucina. Ordinare in ordine decrescente a partire dal tipo di cucina\n",
        "che ha più ristoranti"
      ]
    },
    {
      "cell_type": "code",
      "metadata": {
        "colab": {
          "base_uri": "https://localhost:8080/"
        },
        "id": "FxSfjmY76HJt",
        "outputId": "41a50a8c-ada1-4a2e-dd37-4e3a32deec86"
      },
      "source": [
        "df[\"cuisine\"].value_counts()"
      ],
      "execution_count": 7,
      "outputs": [
        {
          "output_type": "execute_result",
          "data": {
            "text/plain": [
              "American           6173\n",
              "Chinese            2412\n",
              "Café/Coffee/Tea    1210\n",
              "Pizza              1162\n",
              "Italian            1069\n",
              "                   ... \n",
              "Iranian               2\n",
              "Californian           1\n",
              "Chilean               1\n",
              "Creole/Cajun          1\n",
              "Polynesian            1\n",
              "Name: cuisine, Length: 85, dtype: int64"
            ]
          },
          "metadata": {},
          "execution_count": 7
        }
      ]
    },
    {
      "cell_type": "markdown",
      "metadata": {
        "id": "jONAJbNN6Hfl"
      },
      "source": [
        "8. Visualizzi il tipo di cucina con più ristoranti"
      ]
    },
    {
      "cell_type": "code",
      "metadata": {
        "colab": {
          "base_uri": "https://localhost:8080/",
          "height": 35
        },
        "id": "DSsjyBMT6KUu",
        "outputId": "e81ed115-6d14-4c95-87b7-5331c5068a7a"
      },
      "source": [
        "df[\"cuisine\"].value_counts().idxmax()"
      ],
      "execution_count": 8,
      "outputs": [
        {
          "output_type": "execute_result",
          "data": {
            "application/vnd.google.colaboratory.intrinsic+json": {
              "type": "string"
            },
            "text/plain": [
              "'American'"
            ]
          },
          "metadata": {},
          "execution_count": 8
        }
      ]
    },
    {
      "cell_type": "markdown",
      "metadata": {
        "id": "ZS_QecMV6KE9"
      },
      "source": [
        "9. Visualizzi un grafico a barre con i primi 10 tipi di cucina"
      ]
    },
    {
      "cell_type": "code",
      "metadata": {
        "id": "WXCyJ69C6Oc9",
        "colab": {
          "base_uri": "https://localhost:8080/",
          "height": 760
        },
        "outputId": "a3478f37-971c-435a-fd54-ed6f1ffd4275"
      },
      "source": [
        "df1 = df[\"cuisine\"].value_counts()\n",
        "df1 = df1.head(10)\n",
        "x = list(df1.index)\n",
        "y = list(df1)\n",
        "fig,ax = plt.subplots()\n",
        "fig.set_figwidth(15)\n",
        "fig.set_figheight(10)\n",
        "ax.set_title(\"PRIMI 10 TIPI DI CUCINA\", fontsize=20)\n",
        "ax.set_xlabel(\"CUCINE\", fontsize=15)\n",
        "ax.set_ylabel(\"RISTORANTI\", fontsize=15)\n",
        "fig.autofmt_xdate()\n",
        "ax.bar(x,y)"
      ],
      "execution_count": 9,
      "outputs": [
        {
          "output_type": "execute_result",
          "data": {
            "text/plain": [
              "<BarContainer object of 10 artists>"
            ]
          },
          "metadata": {},
          "execution_count": 9
        },
        {
          "output_type": "display_data",
          "data": {
            "image/png": "[encoded data removed]",
            "text/plain": [
              "<Figure size 1080x720 with 1 Axes>"
            ]
          },
          "metadata": {
            "needs_background": "light"
          }
        }
      ]
    },
    {
      "cell_type": "markdown",
      "metadata": {
        "id": "-w7RP5wD6OM-"
      },
      "source": [
        "10. Calcoli il numero di ristoranti per ogni quartiere"
      ]
    },
    {
      "cell_type": "code",
      "metadata": {
        "id": "km3twO5S6V1W",
        "colab": {
          "base_uri": "https://localhost:8080/"
        },
        "outputId": "2f0570fa-6d4a-4bb0-9a4c-74a4fe1e4dcd"
      },
      "source": [
        "df2 = df[\"borough\"].value_counts()\n",
        "df2"
      ],
      "execution_count": 10,
      "outputs": [
        {
          "output_type": "execute_result",
          "data": {
            "text/plain": [
              "Manhattan        10259\n",
              "Brooklyn          6086\n",
              "Queens            5656\n",
              "Bronx             2338\n",
              "Staten Island      969\n",
              "Name: borough, dtype: int64"
            ]
          },
          "metadata": {},
          "execution_count": 10
        }
      ]
    },
    {
      "cell_type": "markdown",
      "metadata": {
        "id": "ily-BKoP6WId"
      },
      "source": [
        "11. Visualizzi i dati precedenti in un grafico a torta"
      ]
    },
    {
      "cell_type": "code",
      "metadata": {
        "id": "V2L8p5Tq6WZg",
        "colab": {
          "base_uri": "https://localhost:8080/",
          "height": 594
        },
        "outputId": "c0c22487-6970-4cf6-d24a-44368d8950d6"
      },
      "source": [
        "df2 = df[\"borough\"].value_counts()\n",
        "labels = df2.index.tolist()\n",
        "num = df2.tolist()\n",
        "fig, ax = plt.subplots()\n",
        "fig.set_figwidth(15)\n",
        "fig.set_figheight(10)\n",
        "ax.set_title(\"Ristoranti per ogni quartiere\", fontsize=17)\n",
        "ax.pie(num,autopct=\"%1.2f%%\")\n",
        "ax.legend(labels)\n",
        "plt.show()"
      ],
      "execution_count": 11,
      "outputs": [
        {
          "output_type": "display_data",
          "data": {
            "image/png": "[encoded data removed]",
            "text/plain": [
              "<Figure size 1080x720 with 1 Axes>"
            ]
          },
          "metadata": {}
        }
      ]
    },
    {
      "cell_type": "markdown",
      "metadata": {
        "id": "USaBJ8g96Y-1"
      },
      "source": [
        "12. Visualizzi i due grafici affiancati. Dare titoli appropriati ad entrambi i grafici."
      ]
    },
    {
      "cell_type": "code",
      "metadata": {
        "id": "LUh7Gsao6Yj1",
        "colab": {
          "base_uri": "https://localhost:8080/",
          "height": 945
        },
        "outputId": "5cfdf678-2c7c-459f-edba-d8b1827c1481"
      },
      "source": [
        "fig, ax = plt.subplots(1, 2)\n",
        "fig.set_figwidth(18)\n",
        "fig.set_figheight(13)\n",
        "fig.autofmt_xdate(rotation=90)\n",
        "ax[0].bar(x,y)\n",
        "ax[0].set_title(\"PRIMI 10 TIPI DI CUCINA\", fontsize=17)\n",
        "ax[0].set_xlabel(\"CUCINE\", fontsize=15)\n",
        "ax[0].set_ylabel(\"RISTORANTI\", fontsize=15)\n",
        "ax[1].pie(num)\n",
        "ax[1].set_title(\"RISTORANTI PER OGNI QUARTIERE\", fontsize=17)\n",
        "ax[1].legend(labels)\n",
        "ax[1].pie(num,autopct=\"%1.2f%%\")\n",
        "fig.tight_layout()\n",
        "plt.show()"
      ],
      "execution_count": 12,
      "outputs": [
        {
          "output_type": "display_data",
          "data": {
            "image/png": "[encoded data removed]",
            "text/plain": [
              "<Figure size 1296x936 with 2 Axes>"
            ]
          },
          "metadata": {
            "needs_background": "light"
          }
        }
      ]
    },
    {
      "cell_type": "markdown",
      "metadata": {
        "id": "Ms6KHJn06ayt"
      },
      "source": [
        "13. crei un nuovo dataframe sostituendo la parola &#39;non American&#39; a tutti i tipi di cucina che non sono\n",
        "americani"
      ]
    },
    {
      "cell_type": "code",
      "metadata": {
        "id": "ZT6kQ-gd6cy9",
        "colab": {
          "base_uri": "https://localhost:8080/",
          "height": 287
        },
        "outputId": "c6a27691-05e2-49be-fc9d-d57f68dea616"
      },
      "source": [
        "df3 = df.replace(df.difference(\"American\", \"non American\"))"
      ],
      "execution_count": 13,
      "outputs": [
        {
          "output_type": "error",
          "ename": "AttributeError",
          "evalue": "ignored",
          "traceback": [
            "\u001b[0;31m---------------------------------------------------------------------------\u001b[0m",
            "\u001b[0;31mAttributeError\u001b[0m                            Traceback (most recent call last)",
            "\u001b[0;32m<ipython-input-13-fc3bb28d01be>\u001b[0m in \u001b[0;36m<module>\u001b[0;34m()\u001b[0m\n\u001b[0;32m----> 1\u001b[0;31m \u001b[0mdf3\u001b[0m \u001b[0;34m=\u001b[0m \u001b[0mdf\u001b[0m\u001b[0;34m.\u001b[0m\u001b[0mreplace\u001b[0m\u001b[0;34m(\u001b[0m\u001b[0mdf\u001b[0m\u001b[0;34m.\u001b[0m\u001b[0mdifference\u001b[0m\u001b[0;34m(\u001b[0m\u001b[0;34m\"American\"\u001b[0m\u001b[0;34m,\u001b[0m \u001b[0;34m\"non American\"\u001b[0m\u001b[0;34m)\u001b[0m\u001b[0;34m)\u001b[0m\u001b[0;34m\u001b[0m\u001b[0;34m\u001b[0m\u001b[0m\n\u001b[0m",
            "\u001b[0;32m/usr/local/lib/python3.7/dist-packages/pandas/core/generic.py\u001b[0m in \u001b[0;36m__getattr__\u001b[0;34m(self, name)\u001b[0m\n\u001b[1;32m   5139\u001b[0m             \u001b[0;32mif\u001b[0m \u001b[0mself\u001b[0m\u001b[0;34m.\u001b[0m\u001b[0m_info_axis\u001b[0m\u001b[0;34m.\u001b[0m\u001b[0m_can_hold_identifiers_and_holds_name\u001b[0m\u001b[0;34m(\u001b[0m\u001b[0mname\u001b[0m\u001b[0;34m)\u001b[0m\u001b[0;34m:\u001b[0m\u001b[0;34m\u001b[0m\u001b[0;34m\u001b[0m\u001b[0m\n\u001b[1;32m   5140\u001b[0m                 \u001b[0;32mreturn\u001b[0m \u001b[0mself\u001b[0m\u001b[0;34m[\u001b[0m\u001b[0mname\u001b[0m\u001b[0;34m]\u001b[0m\u001b[0;34m\u001b[0m\u001b[0;34m\u001b[0m\u001b[0m\n\u001b[0;32m-> 5141\u001b[0;31m             \u001b[0;32mreturn\u001b[0m \u001b[0mobject\u001b[0m\u001b[0;34m.\u001b[0m\u001b[0m__getattribute__\u001b[0m\u001b[0;34m(\u001b[0m\u001b[0mself\u001b[0m\u001b[0;34m,\u001b[0m \u001b[0mname\u001b[0m\u001b[0;34m)\u001b[0m\u001b[0;34m\u001b[0m\u001b[0;34m\u001b[0m\u001b[0m\n\u001b[0m\u001b[1;32m   5142\u001b[0m \u001b[0;34m\u001b[0m\u001b[0m\n\u001b[1;32m   5143\u001b[0m     \u001b[0;32mdef\u001b[0m \u001b[0m__setattr__\u001b[0m\u001b[0;34m(\u001b[0m\u001b[0mself\u001b[0m\u001b[0;34m,\u001b[0m \u001b[0mname\u001b[0m\u001b[0;34m:\u001b[0m \u001b[0mstr\u001b[0m\u001b[0;34m,\u001b[0m \u001b[0mvalue\u001b[0m\u001b[0;34m)\u001b[0m \u001b[0;34m->\u001b[0m \u001b[0;32mNone\u001b[0m\u001b[0;34m:\u001b[0m\u001b[0;34m\u001b[0m\u001b[0;34m\u001b[0m\u001b[0m\n",
            "\u001b[0;31mAttributeError\u001b[0m: 'DataFrame' object has no attribute 'difference'"
          ]
        }
      ]
    },
    {
      "cell_type": "markdown",
      "metadata": {
        "id": "kkofe3TB6dD9"
      },
      "source": [
        "14. visualizzi, per ogni quartiere, il numero di ristoranti di cucina americana e non americana. Il risultato\n",
        "deve essere il seguente:"
      ]
    },
    {
      "cell_type": "code",
      "metadata": {
        "id": "4OjU5c0L6gMV"
      },
      "source": [
        ""
      ],
      "execution_count": null,
      "outputs": []
    },
    {
      "cell_type": "markdown",
      "metadata": {
        "id": "yQDe9Aw8ycqU"
      },
      "source": [
        "15. crei un nuovo dataframe che abbia una colonna che contiene i ristoranti di cucina americana e una\n",
        "colonna che contiene il numero di ristoranti che propongono cucine non americane. Il risultato deve\n",
        "essere il seguente:"
      ]
    },
    {
      "cell_type": "code",
      "metadata": {
        "id": "ua3hbYWCyc7E"
      },
      "source": [
        ""
      ],
      "execution_count": null,
      "outputs": []
    },
    {
      "cell_type": "markdown",
      "metadata": {
        "id": "5TGOVdd9ydLj"
      },
      "source": [
        "16. resetti l&#39;indice in modo da avere le tre colonne necessarie per costruire un grafico a barre. Il risultato\n",
        "deve essere il seguente:"
      ]
    },
    {
      "cell_type": "code",
      "metadata": {
        "id": "MTyB5cZmydaT"
      },
      "source": [
        ""
      ],
      "execution_count": null,
      "outputs": []
    },
    {
      "cell_type": "markdown",
      "metadata": {
        "id": "n4zVyEbQyqNz"
      },
      "source": [
        "17. Visualizzi un istogramma in cui per ogni quartiere si visualizzi una barra con il numero dei ristoranti\n",
        "americani ed una per quelli non americani. Il risultato deve essere il seguente:"
      ]
    },
    {
      "cell_type": "code",
      "metadata": {
        "id": "YKy5qTPwypbr"
      },
      "source": [
        ""
      ],
      "execution_count": null,
      "outputs": []
    }
  ]
}